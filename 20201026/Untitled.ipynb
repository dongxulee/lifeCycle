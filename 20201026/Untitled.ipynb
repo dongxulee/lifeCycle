{
 "cells": [
  {
   "cell_type": "code",
   "execution_count": 1,
   "metadata": {},
   "outputs": [],
   "source": [
    "from scipy.interpolate import interpn\n",
    "from multiprocessing import Pool\n",
    "from functools import partial\n",
    "from constant import *\n",
    "import warnings\n",
    "warnings.filterwarnings(\"ignore\")"
   ]
  },
  {
   "cell_type": "code",
   "execution_count": 2,
   "metadata": {},
   "outputs": [
    {
     "data": {
      "text/plain": [
       "array([[0.75221 , 0.063869],\n",
       "       [0.75495 , 0.062828],\n",
       "       [0.7577  , 0.061786],\n",
       "       [0.76349 , 0.070523],\n",
       "       [0.76623 , 0.069481],\n",
       "       [0.76898 , 0.068439],\n",
       "       [0.77477 , 0.077176],\n",
       "       [0.77751 , 0.076134],\n",
       "       [0.78026 , 0.075093],\n",
       "       [0.75267 , 0.063987],\n",
       "       [0.75542 , 0.062945],\n",
       "       [0.75816 , 0.061903],\n",
       "       [0.76395 , 0.07064 ],\n",
       "       [0.7667  , 0.069598],\n",
       "       [0.76944 , 0.068556],\n",
       "       [0.77523 , 0.077293],\n",
       "       [0.77798 , 0.076251],\n",
       "       [0.78072 , 0.07521 ],\n",
       "       [0.75313 , 0.064104],\n",
       "       [0.75588 , 0.063062],\n",
       "       [0.75862 , 0.06202 ],\n",
       "       [0.76442 , 0.070757],\n",
       "       [0.76716 , 0.069715],\n",
       "       [0.76991 , 0.068673],\n",
       "       [0.7757  , 0.07741 ],\n",
       "       [0.77844 , 0.076369],\n",
       "       [0.78119 , 0.075327]])"
      ]
     },
     "execution_count": 2,
     "metadata": {},
     "output_type": "execute_result"
    }
   ],
   "source": [
    "Pe"
   ]
  },
  {
   "cell_type": "code",
   "execution_count": null,
   "metadata": {},
   "outputs": [],
   "source": []
  }
 ],
 "metadata": {
  "kernelspec": {
   "display_name": "Python 3",
   "language": "python",
   "name": "python3"
  },
  "language_info": {
   "codemirror_mode": {
    "name": "ipython",
    "version": 3
   },
   "file_extension": ".py",
   "mimetype": "text/x-python",
   "name": "python",
   "nbconvert_exporter": "python",
   "pygments_lexer": "ipython3",
   "version": "3.8.3"
  }
 },
 "nbformat": 4,
 "nbformat_minor": 4
}
