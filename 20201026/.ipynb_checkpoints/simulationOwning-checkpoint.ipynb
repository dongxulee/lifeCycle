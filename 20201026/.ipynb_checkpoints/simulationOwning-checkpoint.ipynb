{
 "cells": [
  {
   "cell_type": "code",
   "execution_count": 1,
   "metadata": {},
   "outputs": [
    {
     "name": "stdout",
     "output_type": "stream",
     "text": [
      "Populating the interactive namespace from numpy and matplotlib\n"
     ]
    },
    {
     "data": {
      "text/plain": [
       "<contextlib._GeneratorContextManager at 0x7f92e977ec70>"
      ]
     },
     "execution_count": 1,
     "metadata": {},
     "output_type": "execute_result"
    }
   ],
   "source": [
    "%pylab inline\n",
    "from scipy.interpolate import interpn\n",
    "from multiprocessing import Pool\n",
    "from constant import * \n",
    "import warnings\n",
    "import math\n",
    "warnings.filterwarnings(\"ignore\")\n",
    "np.printoptions(precision=2)"
   ]
  },
  {
   "cell_type": "code",
   "execution_count": 2,
   "metadata": {},
   "outputs": [],
   "source": [
    "# wealth discretization \n",
    "ws = np.array([10,25,50,75,100,125,150,175,200,250,500,750,1000,1500,3000])\n",
    "w_grid_size = len(ws)\n",
    "# 401k amount discretization \n",
    "ns = np.array([1, 5, 10, 15, 25, 50, 100, 150, 400, 1000])\n",
    "n_grid_size = len(ns)\n",
    "# Mortgage amount\n",
    "Ms = np.array([0.01*H,0.05*H,0.1*H,0.2*H,0.3*H,0.4*H,0.5*H,0.8*H]) * pt\n",
    "M_grid_size = len(Ms)\n",
    "points = (ws,ns,Ms)"
   ]
  },
  {
   "cell_type": "code",
   "execution_count": 3,
   "metadata": {},
   "outputs": [],
   "source": [
    "import quantecon as qe\n",
    "import timeit\n",
    "mc = qe.MarkovChain(Ps)\n",
    "\n",
    "#Vgrid = np.load(\"Vgrid_i.npy\")\n",
    "cgrid = np.load(\"cgrid\" + str(H)+ \".npy\")\n",
    "bgrid = np.load(\"bgrid\" + str(H)+ \".npy\")\n",
    "kgrid = np.load(\"kgrid\" + str(H)+ \".npy\")\n",
    "qgrid = np.load(\"qgrid\" + str(H)+ \".npy\")\n",
    "\n",
    "def action(t, x):\n",
    "    w, n, M, e, s, z = x\n",
    "    c = interpn(points, cgrid[:,:,:,e,s,z,t], x[:3], method = \"nearest\", bounds_error = False, fill_value = None)[0]\n",
    "    b = interpn(points, bgrid[:,:,:,e,s,z,t], x[:3], method = \"nearest\", bounds_error = False, fill_value = None)[0]\n",
    "    k = interpn(points, kgrid[:,:,:,e,s,z,t], x[:3], method = \"nearest\", bounds_error = False, fill_value = None)[0]\n",
    "    q = interpn(points, qgrid[:,:,:,e,s,z,t], x[:3], method = \"nearest\", bounds_error = False, fill_value = None)[0]\n",
    "    if q <= 0.75:\n",
    "        q = 0.5\n",
    "    else:\n",
    "        q = 1\n",
    "    return (c,b,k,q)\n",
    "\n",
    "\n",
    "def transition(x, a, t, s_next):\n",
    "    '''\n",
    "    Input: state and action and time\n",
    "    Output: possible future states and corresponding probability \n",
    "    '''\n",
    "    w, n, M, e, s, z = x\n",
    "    c,b,k,q = a\n",
    "    # variables used to collect possible states and probabilities\n",
    "    x_next = []\n",
    "    m = M/D[T_max-t]\n",
    "    M_next = M*(1+rh) - m\n",
    "    # transition of z\n",
    "    if z == 1:\n",
    "        z_next = 1\n",
    "    else:\n",
    "        if k == 0:\n",
    "            z_next = 0\n",
    "        else:\n",
    "            z_next = 1 \n",
    "    \n",
    "    n_next = gn(t, n, x, (r_k[s_next]+r_b[int(s)])/2)\n",
    "    w_next =  b*(1+r_b[int(s)]) + k*(1+r_k[s_next])\n",
    "    if t >= T_R:\n",
    "        return [w_next, n_next, M_next, 0, s_next, z_next]\n",
    "    else:\n",
    "        if e == 1:\n",
    "            for e_next in [0,1]:\n",
    "                x_next.append([w_next, n_next, M_next, e_next, s_next, z_next])\n",
    "            prob_next = [Pe[s,e], 1 - Pe[s,e]]\n",
    "        else:\n",
    "            for e_next in [0,1]:\n",
    "                x_next.append([w_next, n_next, M_next, e_next, s_next, z_next])\n",
    "            prob_next = [1-Pe[s,e], Pe[s,e]]\n",
    "        return x_next[np.random.choice(len(prob_next), 1, p = prob_next)[0]]"
   ]
  },
  {
   "cell_type": "code",
   "execution_count": 4,
   "metadata": {},
   "outputs": [],
   "source": [
    "'''\n",
    "    Start with:\n",
    "    Ms = H * 0.8 * 0.25\n",
    "    w = 20\n",
    "    n  = 0\n",
    "    e = 1\n",
    "    s = 1\n",
    "    z = 0 \n",
    "    1000 agents for 1 economy, 100 economies. \n",
    "    \n",
    "    use numpy array to contain the variable change:\n",
    "    \n",
    "    wealth, rFund, Mortgage, employment, sState, participation\n",
    "    salary, consumption, hConsumption, bond, stock, hPercentage, \n",
    "    life. Shape: (T_max-T_min, numAgents*numEcons)\n",
    "'''\n",
    "x0 = [20, 0, H * 0.8 * pt, 1, 1, 0]\n",
    "\n",
    "numAgents = 1000\n",
    "numEcons = 500"
   ]
  },
  {
   "cell_type": "code",
   "execution_count": 5,
   "metadata": {},
   "outputs": [],
   "source": [
    "import random as rd\n",
    "EconStates = [mc.simulate(ts_length=T_max - T_min, init=0) for _ in range(numEcons)]\n",
    "def simulation(i):\n",
    "    track = np.zeros((T_max - T_min,13))\n",
    "    econState = EconStates[i//numAgents]\n",
    "    alive = True\n",
    "    x = x0\n",
    "    for t in range(1,len(econState)-1):\n",
    "        if rd.random() > Pa[t]:\n",
    "            alive = False\n",
    "        if alive:\n",
    "            track[t, 0] = x[0]\n",
    "            track[t, 1] = x[1]\n",
    "            track[t, 2] = x[2]\n",
    "            track[t, 3] = x[3]\n",
    "            track[t, 4] = x[4]\n",
    "            track[t, 5] = x[5]\n",
    "            track[t, 6] = y(t,x)\n",
    "            a = action(t, x)\n",
    "            track[t, 7] = a[0]\n",
    "            track[t, 9] = a[1]\n",
    "            track[t, 10] = a[2]\n",
    "            track[t, 11] = a[3]\n",
    "            track[t, 12] = 1\n",
    "            # calculate housing consumption\n",
    "            if a[3] == 1:\n",
    "                Vh = (1+kappa)*H\n",
    "            else:\n",
    "                Vh = (1-kappa)*(H/2)\n",
    "            track[t, 8] = Vh\n",
    "            s_next = econState[t+1]\n",
    "            x = transition(x, a, t, s_next) \n",
    "    return track"
   ]
  },
  {
   "cell_type": "code",
   "execution_count": null,
   "metadata": {},
   "outputs": [],
   "source": [
    "%%time\n",
    "pool = Pool()\n",
    "agentsHistory = pool.map(simulation, list(range(numAgents*numEcons)))\n",
    "pool.close()"
   ]
  },
  {
   "cell_type": "code",
   "execution_count": null,
   "metadata": {},
   "outputs": [],
   "source": [
    "len(agentsHistory)"
   ]
  },
  {
   "cell_type": "code",
   "execution_count": null,
   "metadata": {},
   "outputs": [],
   "source": [
    "np.save(\"agents\", np.array(agentsHistory))\n",
    "agents = np.load(\"agents.npy\")"
   ]
  },
  {
   "cell_type": "code",
   "execution_count": null,
   "metadata": {},
   "outputs": [],
   "source": [
    "#numpy array used to store \n",
    "attributesNames = ['wealth', 'rFund', 'Mortgage','employment','sState', 'participation',\n",
    "                   'salary', 'consumption', 'hConsumption', 'bond', 'stock','hPer', 'life']\n",
    "attributes = [np.zeros((T_max-T_min, numAgents*numEcons)) for i in range(len(attributesNames))]\n",
    "#shape the collected stats into the right format\n",
    "def separateAttributes(agents):\n",
    "    for i in range(numAgents*numEcons):\n",
    "        for j in range(len(attributesNames)):\n",
    "            attributes[j][:,i] = agents[i][:,j]\n",
    "separateAttributes(agents)\n",
    "#save the data \n",
    "for i in range(len(attributes)):\n",
    "    np.save(attributesNames[i], attributes[i])"
   ]
  },
  {
   "cell_type": "code",
   "execution_count": null,
   "metadata": {},
   "outputs": [],
   "source": [
    "wealth = np.load(\"wealth.npy\")\n",
    "rFund = np.load(\"rFund.npy\")\n",
    "Mortgage = np.load(\"Mortgage.npy\")\n",
    "employment = np.load(\"employment.npy\")\n",
    "sState = np.load(\"sState.npy\")\n",
    "salary = np.load(\"salary.npy\")\n",
    "consumption = np.load(\"consumption.npy\")\n",
    "hConsumption = np.load(\"hConsumption.npy\")\n",
    "bond = np.load(\"bond.npy\")\n",
    "stock = np.load(\"stock.npy\")\n",
    "hPer = np.load(\"hPer.npy\")\n",
    "life = np.load(\"life.npy\")\n",
    "participation = np.load(\"participation.npy\")"
   ]
  },
  {
   "cell_type": "code",
   "execution_count": null,
   "metadata": {
    "scrolled": true
   },
   "outputs": [],
   "source": [
    "# Population during the entire simulation period\n",
    "plt.plot(np.mean(life, axis = 1))"
   ]
  },
  {
   "cell_type": "code",
   "execution_count": null,
   "metadata": {},
   "outputs": [],
   "source": [
    "plt.plot(Pa[:60])"
   ]
  },
  {
   "cell_type": "code",
   "execution_count": null,
   "metadata": {},
   "outputs": [],
   "source": [
    "def quantileForPeopleWholive(attribute, quantiles = [0.25, 0.5, 0.75]):\n",
    "    qList = []\n",
    "    for i in range(T_max):\n",
    "        if len(np.where(life[i,:] == 1)[0]) == 0:\n",
    "            qList.append(np.array([0] * len(quantiles)))\n",
    "        else:\n",
    "            qList.append(np.quantile(attribute[i, np.where(life[i,:] == 1)], q = quantiles))\n",
    "    return np.array(qList)\n",
    "        \n",
    "def meanForPeopleWholive(attribute):\n",
    "    means = []\n",
    "    for i in range(T_max):\n",
    "        if len(np.where(life[i,:] == 1)[0]) == 0:\n",
    "            means.append(np.array([0]))\n",
    "        else:\n",
    "            means.append(np.mean(attribute[i, np.where(life[i,:] == 1)]))\n",
    "    return np.array(means)"
   ]
  },
  {
   "cell_type": "code",
   "execution_count": null,
   "metadata": {},
   "outputs": [],
   "source": [
    "# plot participation ratio\n",
    "plt.plot(meanForPeopleWholive(participation))"
   ]
  },
  {
   "cell_type": "code",
   "execution_count": null,
   "metadata": {},
   "outputs": [],
   "source": [
    "# plot the 0.25, 0.5, 0.75 quantiles of hConsumption\n",
    "plt.plot(quantileForPeopleWholive(hConsumption))"
   ]
  },
  {
   "cell_type": "code",
   "execution_count": null,
   "metadata": {},
   "outputs": [],
   "source": [
    "# plot the 0.25, 0.5, 0.75 quantiles of wealth\n",
    "plt.plot(quantileForPeopleWholive(wealth))"
   ]
  },
  {
   "cell_type": "code",
   "execution_count": null,
   "metadata": {},
   "outputs": [],
   "source": [
    "# plot the 0.25, 0.5, 0.75 quantiles of wealth\n",
    "plt.plot(quantileForPeopleWholive(rFund))"
   ]
  },
  {
   "cell_type": "code",
   "execution_count": null,
   "metadata": {},
   "outputs": [],
   "source": [
    "# plot the 0.25, 0.5, 0.75 quantiles of wealth\n",
    "plt.plot(quantileForPeopleWholive(Mortgage))"
   ]
  },
  {
   "cell_type": "code",
   "execution_count": null,
   "metadata": {},
   "outputs": [],
   "source": [
    "# plot the 0.25, 0.5, 0.75 quantiles of wealth\n",
    "plt.plot(quantileForPeopleWholive(consumption))"
   ]
  },
  {
   "cell_type": "code",
   "execution_count": null,
   "metadata": {},
   "outputs": [],
   "source": [
    "# plot the 0.25, 0.5, 0.75 quantiles of wealth\n",
    "plt.plot(quantileForPeopleWholive(bond))"
   ]
  },
  {
   "cell_type": "code",
   "execution_count": null,
   "metadata": {},
   "outputs": [],
   "source": [
    "# plot the 0.25, 0.5, 0.75 quantiles of wealth\n",
    "plt.plot(quantileForPeopleWholive(stock))"
   ]
  },
  {
   "cell_type": "code",
   "execution_count": null,
   "metadata": {},
   "outputs": [],
   "source": [
    "# plot the 0.25, 0.5, 0.75 quantiles of wealth\n",
    "plt.plot(quantileForPeopleWholive(hPer))"
   ]
  },
  {
   "cell_type": "code",
   "execution_count": null,
   "metadata": {},
   "outputs": [],
   "source": [
    "# plot the 0.25, 0.5, 0.75 quantiles of wealth\n",
    "plt.figure(figsize = [14,8])\n",
    "plt.plot(meanForPeopleWholive(wealth), label = \"wealth\")\n",
    "plt.plot(meanForPeopleWholive(consumption), label = \"Consumption\")\n",
    "plt.plot(meanForPeopleWholive(bond), label = \"Bond\")\n",
    "plt.plot(meanForPeopleWholive(stock), label = \"Stock\")\n",
    "# plt.plot(meanForPeopleWholive(rFund), label = \"401k\")\n",
    "plt.legend()"
   ]
  },
  {
   "cell_type": "code",
   "execution_count": null,
   "metadata": {},
   "outputs": [],
   "source": [
    "plt.plot(meanForPeopleWholive(rFund), label = \"401k\")"
   ]
  },
  {
   "cell_type": "code",
   "execution_count": null,
   "metadata": {},
   "outputs": [],
   "source": []
  }
 ],
 "metadata": {
  "kernelspec": {
   "display_name": "Python 3",
   "language": "python",
   "name": "python3"
  },
  "language_info": {
   "codemirror_mode": {
    "name": "ipython",
    "version": 3
   },
   "file_extension": ".py",
   "mimetype": "text/x-python",
   "name": "python",
   "nbconvert_exporter": "python",
   "pygments_lexer": "ipython3",
   "version": "3.8.3"
  }
 },
 "nbformat": 4,
 "nbformat_minor": 4
}
