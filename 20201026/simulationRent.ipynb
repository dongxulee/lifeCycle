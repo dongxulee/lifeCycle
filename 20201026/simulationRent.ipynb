{
 "cells": [
  {
   "cell_type": "code",
   "execution_count": 1,
   "metadata": {},
   "outputs": [
    {
     "name": "stdout",
     "output_type": "stream",
     "text": [
      "Populating the interactive namespace from numpy and matplotlib\n"
     ]
    },
    {
     "data": {
      "text/plain": [
       "<contextlib._GeneratorContextManager at 0x7f27ac9a9520>"
      ]
     },
     "execution_count": 1,
     "metadata": {},
     "output_type": "execute_result"
    }
   ],
   "source": [
    "%pylab inline\n",
    "from scipy.interpolate import interpn\n",
    "from helpFunctions import surfacePlot\n",
    "from constant import *\n",
    "from multiprocessing import Pool\n",
    "from functools import partial\n",
    "import warnings\n",
    "import math\n",
    "warnings.filterwarnings(\"ignore\")\n",
    "np.printoptions(precision=2)"
   ]
  },
  {
   "cell_type": "code",
   "execution_count": 2,
   "metadata": {},
   "outputs": [],
   "source": [
    "# load the policy funciton \n",
    "Vgrid_renting = np.load(\"Vgrid_renting.npy\") \n",
    "cgrid_renting = np.load(\"cgrid_renting.npy\") \n",
    "bgrid_renting = np.load(\"bgrid_renting.npy\") \n",
    "kgrid_renting = np.load(\"kgrid_renting.npy\") \n",
    "hgrid_renting = np.load(\"hgrid_renting.npy\") \n",
    "Mgrid_renting = np.load(\"Mgrid_renting.npy\") \n",
    "Hgrid_renting = np.load(\"Hgrid_renting.npy\") \n",
    "\n",
    "V1000 = np.load(\"Vgrid1000.npy\") \n",
    "V1500 = np.load(\"Vgrid1500.npy\") \n",
    "V2000 = np.load(\"Vgrid2000.npy\") \n",
    "V750 = np.load(\"Vgrid750.npy\") \n",
    "\n",
    "cgrid1000 = np.load(\"cgrid1000.npy\")\n",
    "bgrid1000 = np.load(\"bgrid1000.npy\")\n",
    "kgrid1000 = np.load(\"kgrid1000.npy\")\n",
    "qgrid1000 = np.load(\"qgrid1000.npy\")\n",
    "\n",
    "cgrid1500 = np.load(\"cgrid1500.npy\")\n",
    "bgrid1500 = np.load(\"bgrid1500.npy\")\n",
    "kgrid1500 = np.load(\"kgrid1500.npy\")\n",
    "qgrid1500 = np.load(\"qgrid1500.npy\")\n",
    "\n",
    "cgrid2000 = np.load(\"cgrid2000.npy\")\n",
    "bgrid2000 = np.load(\"bgrid2000.npy\")\n",
    "kgrid2000 = np.load(\"kgrid2000.npy\")\n",
    "qgrid2000 = np.load(\"qgrid2000.npy\")\n",
    "\n",
    "cgrid750 = np.load(\"cgrid750.npy\")\n",
    "bgrid750 = np.load(\"bgrid750.npy\")\n",
    "kgrid750 = np.load(\"kgrid750.npy\")\n",
    "qgrid750 = np.load(\"qgrid750.npy\")\n",
    "\n",
    "\n",
    "indexH = [750, 1000, 1500, 2000]\n",
    "cgrid = [cgrid750, cgrid1000, cgrid1500, cgrid2000]\n",
    "bgrid = [bgrid750, bgrid1000, bgrid1500, bgrid2000]\n",
    "kgrid = [kgrid750, kgrid1000, kgrid1500, kgrid2000]\n",
    "qgrid = [qgrid750, qgrid1000, qgrid1500, qgrid2000]"
   ]
  },
  {
   "cell_type": "code",
   "execution_count": 3,
   "metadata": {},
   "outputs": [],
   "source": [
    "import quantecon as qe\n",
    "import timeit\n",
    "mc = qe.MarkovChain(Ps)\n",
    "\n",
    "H_options = [0, 750, 1000, 1500, 2000]\n",
    "M_options = [0.2, 0.5, 0.8]\n",
    "# wealth discretization \n",
    "ws = np.array([10,25,50,75,100,125,150,175,200,250,500,750,1000,1500,3000])\n",
    "w_grid_size = len(ws)\n",
    "# 401k amount discretization \n",
    "ns = np.array([1, 5, 10, 15, 25, 50, 100, 150, 400, 1000])\n",
    "n_grid_size = len(ns)\n",
    "\n",
    "def closest(lst, K): \n",
    "    '''\n",
    "        Find the closest value of K in a list lst \n",
    "    '''\n",
    "    lst = np.asarray(lst) \n",
    "    idx = (np.abs(lst - K)).argmin() \n",
    "    return lst[idx] \n",
    "\n",
    "def action_rent(t, x):\n",
    "    w, n, e, s, z = x\n",
    "    points = (ws, ns)\n",
    "    c = interpn(points, cgrid_renting[:,:,e,s,z,t], x[:2], method = \"nearest\", bounds_error = False, fill_value = None)[0]\n",
    "    b = interpn(points, bgrid_renting[:,:,e,s,z,t], x[:2], method = \"nearest\", bounds_error = False, fill_value = None)[0]\n",
    "    k = interpn(points, kgrid_renting[:,:,e,s,z,t], x[:2], method = \"nearest\", bounds_error = False, fill_value = None)[0]\n",
    "    if e == 1:\n",
    "        H = interpn(points, Hgrid_renting[:,:,e,s,z,t], x[:2], method = \"nearest\", bounds_error = False, fill_value = None)[0]\n",
    "        # decide to buy or not to buy a house\n",
    "        H = H_options[np.sum(H>=np.array(H_options))-1] \n",
    "        if H == 0:\n",
    "            h = interpn(points, hgrid_renting[:,:,e,s,z,t], x[:2], method = \"nearest\", bounds_error = False, fill_value = None)[0]\n",
    "            return (c,b,k,h)\n",
    "        else:\n",
    "            M = interpn(points, Mgrid_renting[:,:,e,s,z,t], x[:2], method = \"nearest\", bounds_error = False, fill_value = None)[0]\n",
    "            M = closest(H*M_options, M)\n",
    "            return (c,b,k,M,H)\n",
    "    else:\n",
    "        h = interpn(points, hgrid_renting[:,:,e,s,z,t], x[:2], method = \"nearest\", bounds_error = False, fill_value = None)[0]\n",
    "        return (c,b,k,h)\n",
    "\n",
    "def action_own(t, x):\n",
    "    w, n, M, e, s, z, H = x\n",
    "    # Mortgage amount, * 0.25 is the housing price per unit\n",
    "    Ms = np.array([0.01*H,0.05*H,0.1*H,0.2*H,0.3*H,0.4*H,0.5*H,0.8*H]) * pt\n",
    "    points = (ws,ns,Ms)\n",
    "    c = interpn(points, cgrid[indexH.index(H)][:,:,:,e,s,z,t], x[:3], method = \"nearest\", bounds_error = False, fill_value = None)[0]\n",
    "    b = interpn(points, bgrid[indexH.index(H)][:,:,:,e,s,z,t], x[:3], method = \"nearest\", bounds_error = False, fill_value = None)[0]\n",
    "    k = interpn(points, kgrid[indexH.index(H)][:,:,:,e,s,z,t], x[:3], method = \"nearest\", bounds_error = False, fill_value = None)[0]\n",
    "    q = interpn(points, qgrid[indexH.index(H)][:,:,:,e,s,z,t], x[:3], method = \"nearest\", bounds_error = False, fill_value = None)[0]\n",
    "    if q <= 0.75:\n",
    "        q = 0.5\n",
    "    else:\n",
    "        q = 1\n",
    "    return (c,b,k,q)\n",
    "\n",
    "\n",
    "def transition_to_rent(x,a,t,s_next):\n",
    "    '''\n",
    "        imput a is np array constains all possible actions \n",
    "        from x = [w, n, e, s, z] to x = [w, n, e, s, z]\n",
    "    '''\n",
    "    w, n, e, s, z = x\n",
    "    c, b, k, h = a\n",
    "    s = int(s)\n",
    "    s_next = int(s_next)\n",
    "    # transition of z\n",
    "    if z == 1:\n",
    "        z_next = 1\n",
    "    else:\n",
    "        if k == 0:\n",
    "            z_next = 0\n",
    "        else:\n",
    "            z_next = 1 \n",
    "    # variables used to collect possible states and probabilities\n",
    "    x_next = []\n",
    "    w_next =  b*(1+r_b[s]) + k*(1+r_k[s_next])\n",
    "    n_next = gn(t, n, x, (r_b[s]+r_k[s_next])/2)\n",
    "    if t >= T_R:\n",
    "        return [w_next, n_next, 0, s_next, z_next]\n",
    "    else:\n",
    "        if e == 1:\n",
    "            for e_next in [0,1]:\n",
    "                x_next.append([w_next, n_next, e_next, s_next, z_next])\n",
    "            prob_next = [Pe[s,e], 1 - Pe[s,e]]\n",
    "        else:\n",
    "            for e_next in [0,1]:\n",
    "                x_next.append([w_next, n_next, e_next, s_next, z_next])\n",
    "            prob_next = [1-Pe[s,e], Pe[s,e]]\n",
    "        return x_next[np.random.choice(len(prob_next), 1, p = prob_next)[0]] \n",
    "\n",
    "def transition_to_own(x,a,t,s_next):\n",
    "    '''\n",
    "        imput a is np array constains all possible actions \n",
    "        from x = [w, n, e, s, z] to x = [w, n, M, e, s, z, H]\n",
    "    '''\n",
    "    w, n, e, s, z = x\n",
    "    # variables used to collect possible states and probabilities\n",
    "    x_next = []\n",
    "    c, b, k, M, H = a\n",
    "    s = int(s)\n",
    "    s_next = int(s_next)\n",
    "    # transition of z\n",
    "    if z == 1:\n",
    "        z_next = 1\n",
    "    else:\n",
    "        if k == 0:\n",
    "            z_next = 0\n",
    "        else:\n",
    "            z_next = 1 \n",
    "    M_next = M*(1+rh)\n",
    "    w_next =  b*(1+r_b[s]) + k*(1+r_k[s_next])\n",
    "    n_next = gn(t, n, x, (r_b[s]+r_k[s_next])/2)\n",
    "    if t >= T_R:\n",
    "        return [w_next, n_next, M_next, 0, s_next, z_next, H]\n",
    "    else:\n",
    "        if e == 1:\n",
    "            for e_next in [0,1]:\n",
    "                x_next.append([w_next, n_next, M_next, e_next, s_next, z_next, H])\n",
    "            prob_next = [Pe[s,e], 1 - Pe[s,e]]\n",
    "        else:\n",
    "            for e_next in [0,1]:\n",
    "                x_next.append([w_next, n_next, M_next, e_next, s_next, z_next, H])\n",
    "            prob_next = [1-Pe[s,e], Pe[s,e]]\n",
    "        return x_next[np.random.choice(len(prob_next), 1, p = prob_next)[0]] \n",
    "\n",
    "def transition_after_own(x, a, t, s_next):\n",
    "    '''\n",
    "    Input: state and action and time\n",
    "    Output: possible future states and corresponding probability \n",
    "    '''\n",
    "    w, n, M, e, s, z, H = x\n",
    "    c,b,k,q = a\n",
    "    # variables used to collect possible states and probabilities\n",
    "    x_next = []\n",
    "    m = M/D[T_max-t]\n",
    "    M_next = M*(1+rh) - m\n",
    "    # transition of z\n",
    "    if z == 1:\n",
    "        z_next = 1\n",
    "    else:\n",
    "        if k == 0:\n",
    "            z_next = 0\n",
    "        else:\n",
    "            z_next = 1 \n",
    "    \n",
    "    n_next = gn(t, n, x, (r_b[s]+r_k[s_next])/2)\n",
    "    w_next =  b*(1+r_b[int(s)]) + k*(1+r_k[s_next])\n",
    "    if t >= T_R:\n",
    "        return [w_next, n_next, M_next, 0, s_next, z_next, H]\n",
    "    else:\n",
    "        if e == 1:\n",
    "            for e_next in [0,1]:\n",
    "                x_next.append([w_next, n_next, M_next, e_next, s_next, z_next, H])\n",
    "            prob_next = [Pe[s,e], 1 - Pe[s,e]]\n",
    "        else:\n",
    "            for e_next in [0,1]:\n",
    "                x_next.append([w_next, n_next, M_next, e_next, s_next, z_next, H])\n",
    "            prob_next = [1-Pe[s,e], Pe[s,e]]\n",
    "        return x_next[np.random.choice(len(prob_next), 1, p = prob_next)[0]]"
   ]
  },
  {
   "cell_type": "code",
   "execution_count": 4,
   "metadata": {},
   "outputs": [],
   "source": [
    "'''\n",
    "    Start with renting: \n",
    "    w = 5\n",
    "    n  = 0\n",
    "    e = 1\n",
    "    s = 1\n",
    "    1000 agents for 1 economy, 500 economies. \n",
    "'''\n",
    "names = ['w', 'n', 'M', 'e', 's', 'z', 'H',\n",
    "         'yt', 'c', 'b', 'k', 'q', 'h','live']\n",
    "x0 = [5, 0, 1, 1, 0]\n",
    "numAgents = 1000\n",
    "numEcons = 500"
   ]
  },
  {
   "cell_type": "code",
   "execution_count": 5,
   "metadata": {},
   "outputs": [],
   "source": [
    "import quantecon as qe\n",
    "import random as rd\n",
    "mc = qe.MarkovChain(Ps)\n",
    "EconStates = [mc.simulate(ts_length=T_max - T_min, init=0) for _ in range(numEcons)]\n",
    "\n",
    "def simulation(i):\n",
    "    track = np.zeros((T_max - T_min,len(names)))\n",
    "    econState = EconStates[i//numAgents]\n",
    "    alive = True\n",
    "    x = x0\n",
    "    for t in range(1,len(econState)-1):\n",
    "        if rd.random() > Pa[t]:\n",
    "            alive = False\n",
    "        if alive:\n",
    "            track[t, 13] = 1\n",
    "            s_next = econState[t+1]\n",
    "            # if is still renting\n",
    "            if (len(x) == 5):\n",
    "                a = action_rent(t,x)\n",
    "                # continue to rent \n",
    "                if (len(a) == 4):\n",
    "                    # x = [w,n,e,s,z]\n",
    "                    # a = [c,b,k,h]\n",
    "                    track[t, 0] = x[0]\n",
    "                    track[t, 1] = x[1]\n",
    "                    track[t, 2] = 0\n",
    "                    track[t, 3] = x[2]\n",
    "                    track[t, 4] = x[3]\n",
    "                    track[t, 5] = x[4]\n",
    "                    track[t, 6] = 0\n",
    "                    track[t, 7] = y(t,x)\n",
    "                    track[t, 8] = a[0]\n",
    "                    track[t, 9] = a[1]\n",
    "                    track[t, 10] = a[2]\n",
    "                    track[t, 11] = 0\n",
    "                    track[t, 12] = a[3]\n",
    "                    x = transition_to_rent(x,a,t,s_next) \n",
    "                # switch to own \n",
    "                else:\n",
    "                    # a = [c,b,k,M,H]\n",
    "                    track[t, 0] = x[0]\n",
    "                    track[t, 1] = x[1]\n",
    "                    track[t, 2] = a[3]\n",
    "                    track[t, 3] = x[2]\n",
    "                    track[t, 4] = x[3]\n",
    "                    track[t, 5] = x[4]\n",
    "                    track[t, 6] = a[4]\n",
    "                    track[t, 7] = y(t,x)\n",
    "                    track[t, 8] = a[0]\n",
    "                    track[t, 9] = a[1]\n",
    "                    track[t, 10] = a[2]\n",
    "                    track[t, 11] = 0\n",
    "                    track[t, 12] = a[4]*(1+kappa)\n",
    "                    x = transition_to_own(x,a,t,s_next)\n",
    "                    \n",
    "            # if owning a house already\n",
    "            else:\n",
    "                a = action_own(t, x)\n",
    "                # x = [w,n,M,e,s,z,H]\n",
    "                # a = [c,b,k,q]\n",
    "                track[t, 0] = x[0]\n",
    "                track[t, 1] = x[1]\n",
    "                track[t, 2] = x[2]\n",
    "                track[t, 3] = x[3]\n",
    "                track[t, 4] = x[4]\n",
    "                track[t, 5] = x[5]\n",
    "                track[t, 6] = x[6]\n",
    "                track[t, 7] = y(t,x)\n",
    "                track[t, 8] = a[0]\n",
    "                track[t, 9] = a[1]\n",
    "                track[t, 10] = a[2]\n",
    "                track[t, 11] = a[3]\n",
    "                # calculate housing consumption\n",
    "                if a[3] == 1:\n",
    "                    Vh = (1+kappa)*x[6]\n",
    "                else:\n",
    "                    Vh = (1-kappa)*(x[6]/2)\n",
    "                track[t, 12] = Vh\n",
    "                x = transition_after_own(x, a, t, s_next)\n",
    "    return track"
   ]
  },
  {
   "cell_type": "code",
   "execution_count": null,
   "metadata": {},
   "outputs": [],
   "source": [
    "%%time\n",
    "pool = Pool()\n",
    "agents = pool.map(simulation, list(range(numAgents*numEcons)))\n",
    "pool.close()"
   ]
  },
  {
   "cell_type": "code",
   "execution_count": null,
   "metadata": {},
   "outputs": [],
   "source": [
    "ww = np.zeros((T_max-T_min, numAgents*numEcons))\n",
    "nn = np.zeros((T_max-T_min, numAgents*numEcons))\n",
    "MM = np.zeros((T_max-T_min, numAgents*numEcons))\n",
    "ee = np.zeros((T_max-T_min, numAgents*numEcons))\n",
    "ss = np.zeros((T_max-T_min, numAgents*numEcons))\n",
    "ZZ = np.zeros((T_max-T_min, numAgents*numEcons))\n",
    "HH = np.zeros((T_max-T_min, numAgents*numEcons))\n",
    "ytyt = np.zeros((T_max-T_min, numAgents*numEcons))\n",
    "cc = np.zeros((T_max-T_min, numAgents*numEcons))\n",
    "bb = np.zeros((T_max-T_min, numAgents*numEcons))\n",
    "kk = np.zeros((T_max-T_min, numAgents*numEcons))\n",
    "qq = np.zeros((T_max-T_min, numAgents*numEcons))\n",
    "hh = np.zeros((T_max-T_min, numAgents*numEcons))\n",
    "live = np.zeros((T_max-T_min, numAgents*numEcons))"
   ]
  },
  {
   "cell_type": "code",
   "execution_count": null,
   "metadata": {},
   "outputs": [],
   "source": [
    "def separateAttributes(agents):\n",
    "    for i in range(numAgents*numEcons):\n",
    "        ww[:,i] = agents[i][:,0]\n",
    "        nn[:,i] = agents[i][:,1]\n",
    "        MM[:,i] = agents[i][:,2]\n",
    "        ee[:,i] = agents[i][:,3]\n",
    "        ss[:,i] = agents[i][:,4]\n",
    "        ZZ[:,i] = agents[i][:,5]\n",
    "        HH[:,i] = agents[i][:,6]\n",
    "        ytyt[:,i] = agents[i][:,7]\n",
    "        cc[:,i] = agents[i][:,8]\n",
    "        bb[:,i] = agents[i][:,9]\n",
    "        kk[:,i] = agents[i][:,10]\n",
    "        qq[:,i] = agents[i][:,11]\n",
    "        hh[:,i] = agents[i][:,12]\n",
    "        live[:,i] = agents[i][:,13]\n",
    "separateAttributes(agents)"
   ]
  },
  {
   "cell_type": "code",
   "execution_count": null,
   "metadata": {},
   "outputs": [],
   "source": [
    "def quantileForPeopleWholive(attribute, quantiles = [0.25, 0.5, 0.75]):\n",
    "    qList = []\n",
    "    for i in range(T_max):\n",
    "        if len(np.where(live[i,:] == 1)[0]) == 0:\n",
    "            qList.append(np.array([0] * len(quantiles)))\n",
    "        else:\n",
    "            qList.append(np.quantile(attribute[i, np.where(live[i,:] == 1)], q = quantiles))\n",
    "    return np.array(qList)\n",
    "        \n",
    "def meanForPeopleWholive(attribute):\n",
    "    means = []\n",
    "    for i in range(T_max):\n",
    "        if len(np.where(live[i,:] == 1)[0]) == 0:\n",
    "            means.append(np.array([0]))\n",
    "        else:\n",
    "            means.append(np.mean(attribute[i, np.where(live[i,:] == 1)]))\n",
    "    return np.array(means)"
   ]
  },
  {
   "cell_type": "code",
   "execution_count": null,
   "metadata": {},
   "outputs": [],
   "source": [
    "# Population during the entire simulation period\n",
    "plt.plot(np.mean(live,axis = 1))"
   ]
  },
  {
   "cell_type": "code",
   "execution_count": null,
   "metadata": {},
   "outputs": [],
   "source": [
    "plt.plot(quantileForPeopleWholive(ww))"
   ]
  },
  {
   "cell_type": "code",
   "execution_count": null,
   "metadata": {},
   "outputs": [],
   "source": [
    "plt.plot(quantileForPeopleWholive(nn))"
   ]
  },
  {
   "cell_type": "code",
   "execution_count": null,
   "metadata": {},
   "outputs": [],
   "source": [
    "plt.plot(quantileForPeopleWholive(MM))"
   ]
  },
  {
   "cell_type": "code",
   "execution_count": null,
   "metadata": {},
   "outputs": [],
   "source": [
    "plt.plot(quantileForPeopleWholive(ee))"
   ]
  },
  {
   "cell_type": "code",
   "execution_count": null,
   "metadata": {},
   "outputs": [],
   "source": [
    "plt.plot(quantileForPeopleWholive(ss))"
   ]
  },
  {
   "cell_type": "code",
   "execution_count": null,
   "metadata": {},
   "outputs": [],
   "source": [
    "plt.plot(quantileForPeopleWholive(ZZ))"
   ]
  },
  {
   "cell_type": "code",
   "execution_count": null,
   "metadata": {},
   "outputs": [],
   "source": [
    "plt.plot(quantileForPeopleWholive(HH))"
   ]
  },
  {
   "cell_type": "code",
   "execution_count": null,
   "metadata": {},
   "outputs": [],
   "source": [
    "plt.plot(quantileForPeopleWholive(ytyt))"
   ]
  },
  {
   "cell_type": "code",
   "execution_count": null,
   "metadata": {},
   "outputs": [],
   "source": [
    "plt.plot(quantileForPeopleWholive(cc))"
   ]
  },
  {
   "cell_type": "code",
   "execution_count": null,
   "metadata": {},
   "outputs": [],
   "source": [
    "plt.plot(quantileForPeopleWholive(bb))"
   ]
  },
  {
   "cell_type": "code",
   "execution_count": null,
   "metadata": {},
   "outputs": [],
   "source": [
    "plt.plot(quantileForPeopleWholive(kk))"
   ]
  },
  {
   "cell_type": "code",
   "execution_count": null,
   "metadata": {},
   "outputs": [],
   "source": [
    "plt.plot(quantileForPeopleWholive(qq))"
   ]
  },
  {
   "cell_type": "code",
   "execution_count": null,
   "metadata": {},
   "outputs": [],
   "source": [
    "plt.plot(quantileForPeopleWholive(hh))"
   ]
  },
  {
   "cell_type": "code",
   "execution_count": null,
   "metadata": {},
   "outputs": [],
   "source": [
    "# mean value of the key variables\n",
    "plt.figure(figsize = [14,8])\n",
    "plt.plot(meanForPeopleWholive(ww), label = \"wealth\")\n",
    "plt.plot(meanForPeopleWholive(cc), label = \"Consumption\")\n",
    "plt.plot(meanForPeopleWholive(bb), label = \"Bond\")\n",
    "plt.plot(meanForPeopleWholive(kk), label = \"Stock\")\n",
    "plt.legend()"
   ]
  },
  {
   "cell_type": "code",
   "execution_count": null,
   "metadata": {},
   "outputs": [],
   "source": [
    "plt.plot(meanForPeopleWholive(nn), label = \"401k\")"
   ]
  },
  {
   "cell_type": "code",
   "execution_count": null,
   "metadata": {},
   "outputs": [],
   "source": []
  }
 ],
 "metadata": {
  "kernelspec": {
   "display_name": "Python 3",
   "language": "python",
   "name": "python3"
  },
  "language_info": {
   "codemirror_mode": {
    "name": "ipython",
    "version": 3
   },
   "file_extension": ".py",
   "mimetype": "text/x-python",
   "name": "python",
   "nbconvert_exporter": "python",
   "pygments_lexer": "ipython3",
   "version": "3.8.3"
  }
 },
 "nbformat": 4,
 "nbformat_minor": 4
}
