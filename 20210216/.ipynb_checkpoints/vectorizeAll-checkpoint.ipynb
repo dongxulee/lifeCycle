{
 "cells": [
  {
   "cell_type": "code",
   "execution_count": 2,
   "metadata": {},
   "outputs": [
    {
     "name": "stdout",
     "output_type": "stream",
     "text": [
      "Populating the interactive namespace from numpy and matplotlib\n"
     ]
    },
    {
     "data": {
      "text/plain": [
       "<contextlib._GeneratorContextManager at 0x7fe1b8c31d90>"
      ]
     },
     "execution_count": 2,
     "metadata": {},
     "output_type": "execute_result"
    }
   ],
   "source": [
    "%pylab inline\n",
    "from scipy.interpolate import interpn\n",
    "from constant import * \n",
    "from multiprocessing import Pool\n",
    "from functools import partial\n",
    "import warnings\n",
    "from numba import jit\n",
    "warnings.filterwarnings(\"ignore\")\n",
    "np.printoptions(precision=2)"
   ]
  },
  {
   "cell_type": "markdown",
   "metadata": {},
   "source": [
    "### Value iteration of renting a house\n",
    "\n",
    "$$V_t(w_t, s_t) = max_{\\{c_t, h_t, b_t, k_t\\}}\\{ u(c_t, h_t) + \\beta E[P_t V_{t+1}(w_{t+1}, s_{t+1}) + (1-P_t) u_B(w_{t+1})]\\}$$\n",
    "Subject to:    \n",
    "$$y_t + w_t = c_t + P_t^r h_t + b_t + k_t$$\n",
    "$$ w_{t+1} = (1+r_t^f) b_t + (1+r_{t+1}^m) k_t $$    \n",
    "\n",
    "Shape of the state: $$(100  \\times 27)$$\n",
    "Shape of the actions: $$(20 \\times 20 \\times 20)$$"
   ]
  },
  {
   "cell_type": "code",
   "execution_count": 3,
   "metadata": {},
   "outputs": [
    {
     "data": {
      "text/plain": [
       "(2700, 2)"
      ]
     },
     "execution_count": 3,
     "metadata": {},
     "output_type": "execute_result"
    }
   ],
   "source": [
    "nX = Xs.shape[0]\n",
    "Xs.shape"
   ]
  },
  {
   "cell_type": "code",
   "execution_count": 4,
   "metadata": {},
   "outputs": [
    {
     "data": {
      "text/plain": [
       "(8000, 3)"
      ]
     },
     "execution_count": 4,
     "metadata": {},
     "output_type": "execute_result"
    }
   ],
   "source": [
    "nA = As.shape[0]\n",
    "As.shape"
   ]
  },
  {
   "cell_type": "code",
   "execution_count": 5,
   "metadata": {},
   "outputs": [],
   "source": [
    "X = np.repeat(Xs, nA, axis = 0)\n",
    "A = np.tile(As, (nX,1))"
   ]
  },
  {
   "cell_type": "code",
   "execution_count": 6,
   "metadata": {},
   "outputs": [
    {
     "data": {
      "text/plain": [
       "(21600000, 3)"
      ]
     },
     "execution_count": 6,
     "metadata": {},
     "output_type": "execute_result"
    }
   ],
   "source": [
    "A.shape"
   ]
  },
  {
   "cell_type": "code",
   "execution_count": 7,
   "metadata": {},
   "outputs": [
    {
     "data": {
      "text/plain": [
       "(21600000, 2)"
      ]
     },
     "execution_count": 7,
     "metadata": {},
     "output_type": "execute_result"
    }
   ],
   "source": [
    "X.shape"
   ]
  },
  {
   "cell_type": "code",
   "execution_count": 8,
   "metadata": {},
   "outputs": [],
   "source": [
    "#Define the utility function\n",
    "def u(c):\n",
    "    return (np.float_power(c, 1-gamma) - 1)/(1 - gamma)\n",
    "\n",
    "#Define the bequeath function, which is a function of wealth\n",
    "def uB(tb):\n",
    "    return B*u(tb)\n",
    "\n",
    "#Reward function for renting\n",
    "def u_rent(a):\n",
    "    '''\n",
    "    Input:\n",
    "        action a: c, b, k, h = a\n",
    "    Output:\n",
    "        reward value: the length of return should be equal to the length of a\n",
    "    '''\n",
    "    c = a[:,0]\n",
    "    h = a[:,3]\n",
    "    C = np.float_power(c, alpha) * np.float_power(h, 1-alpha)\n",
    "    return u(C)\n",
    "\n",
    "def transition_to_rent(x,a,t):\n",
    "    '''\n",
    "        imput: a is np array constains all possible actions \n",
    "        output: from x = w_t to x = w_{t+1}\n",
    "    '''\n",
    "    s = x[:,1].astype(int)\n",
    "    # actions taken \n",
    "    b = a[:,1]\n",
    "    k = a[:,2]\n",
    "    x_next = np.zeros((nA*nX*nS, 2))\n",
    "    x_next[:,0] = ((1+r_b[s])*b + np.outer(k,(1+r_k)).T).T.flatten()\n",
    "    x_next[:,1] = np.tile(range(nS),nA*nX)\n",
    "    prob_next = Ps[s].flatten()\n",
    "    return x_next, prob_next\n",
    "\n",
    "class Approxy(object):\n",
    "    def __init__(self, V, pts, t):\n",
    "        self.V = V \n",
    "        self.pts = pts\n",
    "        self.t = t\n",
    "    def predict(self, xx):\n",
    "        # x = [w, s]\n",
    "        pvalues = np.zeros(xx.shape[0])\n",
    "        for s in range(nS): \n",
    "            index = (xx[:,1] == s)\n",
    "            pvalues[index]=interpn(self.pts, self.V[:,s], xx[index][:,0], bounds_error = False, fill_value = None)\n",
    "        return pvalues"
   ]
  },
  {
   "cell_type": "markdown",
   "metadata": {},
   "source": [
    "$$V_t(w_t, s_t) = max_{\\{c_t, h_t, b_t, k_t\\}}\\{ u(c_t, h_t) + \\beta E[P_t V_{t+1}(w_{t+1}, s_{t+1}) + (1-P_t) u_B(w_{t+1})]\\}$$"
   ]
  },
  {
   "cell_type": "code",
   "execution_count": 8,
   "metadata": {},
   "outputs": [],
   "source": [
    "# used to calculate dot product\n",
    "def dotProduct(p_next, uBTB, t):\n",
    "    return (p_next*uBTB).reshape((len(p_next)//(nS), (nS))).sum(axis = 1)"
   ]
  },
  {
   "cell_type": "code",
   "execution_count": 9,
   "metadata": {},
   "outputs": [
    {
     "name": "stdout",
     "output_type": "stream",
     "text": [
      "59\n",
      "58\n",
      "CPU times: user 4min 59s, sys: 1min 5s, total: 6min 5s\n",
      "Wall time: 6min 5s\n"
     ]
    }
   ],
   "source": [
    "%%time\n",
    "for t in range(T_max-1,T_max-3, -1):\n",
    "    print(t)\n",
    "    # x = [w,s], a = [c,b,k,h]\n",
    "    yat = detEarning[t]\n",
    "    budget1 = yat + X[:,0]\n",
    "    h = budget1*A[:,0]/pr\n",
    "    budget2 = budget1*(1-A[:,0])\n",
    "    c = budget2*A[:,1]\n",
    "    budget3 = budget2*(1-A[:,1])\n",
    "    k = budget3*A[:,2]\n",
    "    b = budget3*(1-A[:,2])\n",
    "    actions = np.column_stack((c,b,k,h))\n",
    "    # if right before the terminal state \n",
    "    if t == T_max - 1:\n",
    "        x_next, prob_next = transition_to_rent(X,actions,t)\n",
    "        Q = u_rent(actions) + beta * dotProduct(prob_next, uB(x_next[:,0]),t)\n",
    "        V = Q.reshape(nX,nA).max(axis = 1)\n",
    "        cbkh = actions[:nA][Q.reshape(nX,nA).argmax(axis = 1)]\n",
    "    else:\n",
    "        V_prime = Approxy(Vgrid[:,:,t+1], pointsRent, t)\n",
    "        x_next, prob_next = transition_to_rent(X,actions,t)\n",
    "        Q = u_rent(actions) + beta * dotProduct(prob_next, Pa[t] * V_prime.predict(x_next) + (1-Pa[t]) * uB(x_next[:,0]), t)\n",
    "        V = Q.reshape(nX,nA).max(axis = 1)\n",
    "        cbkh = actions[:nA][Q.reshape(nX,nA).argmax(axis = 1)]\n",
    "        \n",
    "    Vgrid[:,:,t] = V.reshape(dim)\n",
    "    cgrid[:,:,t] = cbkh[:,0].reshape(dim)\n",
    "    bgrid[:,:,t] = cbkh[:,1].reshape(dim)\n",
    "    kgrid[:,:,t] = cbkh[:,2].reshape(dim)\n",
    "    hgrid[:,:,t] = cbkh[:,3].reshape(dim)"
   ]
  },
  {
   "cell_type": "code",
   "execution_count": 11,
   "metadata": {},
   "outputs": [
    {
     "data": {
      "text/plain": [
       "(583200000, 2)"
      ]
     },
     "execution_count": 11,
     "metadata": {},
     "output_type": "execute_result"
    }
   ],
   "source": [
    "x_next.shape"
   ]
  },
  {
   "cell_type": "code",
   "execution_count": null,
   "metadata": {},
   "outputs": [],
   "source": []
  },
  {
   "cell_type": "code",
   "execution_count": null,
   "metadata": {},
   "outputs": [],
   "source": []
  },
  {
   "cell_type": "code",
   "execution_count": 10,
   "metadata": {},
   "outputs": [],
   "source": [
    "V_prime = Approxy(Vgrid[:,:,t+1], pointsRent, t)\n",
    "x_next, prob_next = transition_to_rent(X,actions,t)"
   ]
  },
  {
   "cell_type": "code",
   "execution_count": 11,
   "metadata": {},
   "outputs": [
    {
     "name": "stdout",
     "output_type": "stream",
     "text": [
      "CPU times: user 4.11 s, sys: 124 ms, total: 4.23 s\n",
      "Wall time: 4.23 s\n"
     ]
    },
    {
     "data": {
      "text/plain": [
       "array([-12.80129169,   0.44942923,   0.48058382, ...,   0.46056976,\n",
       "         0.46359892,   0.46624994])"
      ]
     },
     "execution_count": 11,
     "metadata": {},
     "output_type": "execute_result"
    }
   ],
   "source": [
    "%%time\n",
    "u_rent(actions)"
   ]
  },
  {
   "cell_type": "code",
   "execution_count": 12,
   "metadata": {},
   "outputs": [
    {
     "name": "stdout",
     "output_type": "stream",
     "text": [
      "CPU times: user 527 µs, sys: 128 µs, total: 655 µs\n",
      "Wall time: 659 µs\n"
     ]
    }
   ],
   "source": [
    "%%time\n",
    "b = uB(x_next[:100][:,0])"
   ]
  },
  {
   "cell_type": "code",
   "execution_count": 13,
   "metadata": {},
   "outputs": [
    {
     "name": "stdout",
     "output_type": "stream",
     "text": [
      "CPU times: user 1.17 ms, sys: 282 µs, total: 1.45 ms\n",
      "Wall time: 1.24 ms\n"
     ]
    }
   ],
   "source": [
    "%%time\n",
    "b = uB(x_next[:10000][:,0])"
   ]
  },
  {
   "cell_type": "code",
   "execution_count": 14,
   "metadata": {},
   "outputs": [
    {
     "name": "stdout",
     "output_type": "stream",
     "text": [
      "CPU times: user 74 ms, sys: 3.51 ms, total: 77.5 ms\n",
      "Wall time: 76.8 ms\n"
     ]
    }
   ],
   "source": [
    "%%time\n",
    "b = uB(x_next[:1000000][:,0])"
   ]
  },
  {
   "cell_type": "code",
   "execution_count": 15,
   "metadata": {},
   "outputs": [
    {
     "name": "stdout",
     "output_type": "stream",
     "text": [
      "CPU times: user 6.84 s, sys: 176 ms, total: 7.02 s\n",
      "Wall time: 7.02 s\n"
     ]
    }
   ],
   "source": [
    "%%time\n",
    "b = uB(x_next[:100000000][:,0])"
   ]
  },
  {
   "cell_type": "code",
   "execution_count": 16,
   "metadata": {},
   "outputs": [
    {
     "name": "stdout",
     "output_type": "stream",
     "text": [
      "CPU times: user 40.9 s, sys: 1.74 s, total: 42.6 s\n",
      "Wall time: 42.6 s\n"
     ]
    }
   ],
   "source": [
    "%%time\n",
    "b = uB(x_next[:583200000][:,0])"
   ]
  },
  {
   "cell_type": "code",
   "execution_count": null,
   "metadata": {},
   "outputs": [],
   "source": []
  },
  {
   "cell_type": "code",
   "execution_count": null,
   "metadata": {},
   "outputs": [],
   "source": []
  },
  {
   "cell_type": "code",
   "execution_count": 17,
   "metadata": {},
   "outputs": [
    {
     "data": {
      "text/plain": [
       "(583200000, 2)"
      ]
     },
     "execution_count": 17,
     "metadata": {},
     "output_type": "execute_result"
    }
   ],
   "source": [
    "x_next.shape"
   ]
  },
  {
   "cell_type": "code",
   "execution_count": 18,
   "metadata": {},
   "outputs": [
    {
     "name": "stdout",
     "output_type": "stream",
     "text": [
      "CPU times: user 2.6 ms, sys: 3.7 ms, total: 6.3 ms\n",
      "Wall time: 5.74 ms\n"
     ]
    }
   ],
   "source": [
    "%%time\n",
    "a = V_prime.predict(x_next[:100])"
   ]
  },
  {
   "cell_type": "code",
   "execution_count": 19,
   "metadata": {},
   "outputs": [
    {
     "name": "stdout",
     "output_type": "stream",
     "text": [
      "CPU times: user 8.76 ms, sys: 163 µs, total: 8.92 ms\n",
      "Wall time: 8.61 ms\n"
     ]
    }
   ],
   "source": [
    "%%time\n",
    "a = V_prime.predict(x_next[:10000])"
   ]
  },
  {
   "cell_type": "code",
   "execution_count": 20,
   "metadata": {},
   "outputs": [
    {
     "name": "stdout",
     "output_type": "stream",
     "text": [
      "CPU times: user 198 ms, sys: 7.53 ms, total: 205 ms\n",
      "Wall time: 204 ms\n"
     ]
    }
   ],
   "source": [
    "%%time\n",
    "a = V_prime.predict(x_next[:1000000])"
   ]
  },
  {
   "cell_type": "code",
   "execution_count": 21,
   "metadata": {},
   "outputs": [
    {
     "name": "stdout",
     "output_type": "stream",
     "text": [
      "CPU times: user 29.9 s, sys: 3 s, total: 32.9 s\n",
      "Wall time: 32.9 s\n"
     ]
    }
   ],
   "source": [
    "%%time\n",
    "a = V_prime.predict(x_next[:100000000])"
   ]
  },
  {
   "cell_type": "code",
   "execution_count": 22,
   "metadata": {},
   "outputs": [
    {
     "name": "stdout",
     "output_type": "stream",
     "text": [
      "CPU times: user 3min, sys: 37.7 s, total: 3min 38s\n",
      "Wall time: 3min 38s\n"
     ]
    }
   ],
   "source": [
    "%%time\n",
    "a = V_prime.predict(x_next[:583200000])"
   ]
  },
  {
   "cell_type": "code",
   "execution_count": 23,
   "metadata": {},
   "outputs": [
    {
     "data": {
      "text/plain": [
       "<matplotlib.legend.Legend at 0x7fbcf6a0cbd0>"
      ]
     },
     "execution_count": 23,
     "metadata": {},
     "output_type": "execute_result"
    },
    {
     "data": {
      "image/png": "[encoded data removed]",
      "text/plain": [
       "<Figure size 864x432 with 1 Axes>"
      ]
     },
     "metadata": {
      "needs_background": "light"
     },
     "output_type": "display_data"
    }
   ],
   "source": [
    "# plot consumption against time \n",
    "wealthLevel = 50\n",
    "econState = 5\n",
    "plt.figure(figsize = [12,6])\n",
    "plt.plot(cgrid[wealthLevel,econState,:], label = \"consumption\")\n",
    "plt.plot(bgrid[wealthLevel,econState,:], label = \"bond\")\n",
    "plt.plot(kgrid[wealthLevel,econState,:], label = \"stock\")\n",
    "plt.plot(hgrid[wealthLevel,econState,:]*pr, label = \"housing\")\n",
    "legend()"
   ]
  },
  {
   "cell_type": "code",
   "execution_count": null,
   "metadata": {},
   "outputs": [],
   "source": []
  }
 ],
 "metadata": {
  "kernelspec": {
   "display_name": "Python 3",
   "language": "python",
   "name": "python3"
  },
  "language_info": {
   "codemirror_mode": {
    "name": "ipython",
    "version": 3
   },
   "file_extension": ".py",
   "mimetype": "text/x-python",
   "name": "python",
   "nbconvert_exporter": "python",
   "pygments_lexer": "ipython3",
   "version": "3.7.7"
  }
 },
 "nbformat": 4,
 "nbformat_minor": 4
}
