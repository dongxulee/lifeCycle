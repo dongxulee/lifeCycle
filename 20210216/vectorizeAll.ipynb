{
 "cells": [
  {
   "cell_type": "code",
   "execution_count": 1,
   "metadata": {},
   "outputs": [
    {
     "name": "stdout",
     "output_type": "stream",
     "text": [
      "Populating the interactive namespace from numpy and matplotlib\n"
     ]
    },
    {
     "data": {
      "text/plain": [
       "<contextlib._GeneratorContextManager at 0x7fe90493b350>"
      ]
     },
     "execution_count": 1,
     "metadata": {},
     "output_type": "execute_result"
    }
   ],
   "source": [
    "%pylab inline\n",
    "from scipy.interpolate import interpn\n",
    "from constant import * \n",
    "from multiprocessing import Pool\n",
    "from functools import partial\n",
    "import warnings\n",
    "warnings.filterwarnings(\"ignore\")\n",
    "np.printoptions(precision=2)"
   ]
  },
  {
   "cell_type": "markdown",
   "metadata": {},
   "source": [
    "### Value iteration of renting a house\n",
    "\n",
    "$$V_t(w_t, s_t) = max_{\\{c_t, h_t, b_t, k_t\\}}\\{ u(c_t, h_t) + \\beta E[P_t V_{t+1}(w_{t+1}, s_{t+1}) + (1-P_t) u_B(w_{t+1})]\\}$$\n",
    "Subject to:    \n",
    "$$y_t + w_t = c_t + P_t^r h_t + b_t + k_t$$\n",
    "$$ w_{t+1} = (1+r_t^f) b_t + (1+r_{t+1}^m) k_t $$    \n",
    "\n",
    "Shape of the state: $$(100  \\times 27)$$\n",
    "Shape of the actions: $$(20 \\times 20 \\times 20)$$"
   ]
  },
  {
   "cell_type": "code",
   "execution_count": 2,
   "metadata": {},
   "outputs": [
    {
     "data": {
      "text/plain": [
       "(2700, 2)"
      ]
     },
     "execution_count": 2,
     "metadata": {},
     "output_type": "execute_result"
    }
   ],
   "source": [
    "nX = Xs.shape[0]\n",
    "Xs.shape"
   ]
  },
  {
   "cell_type": "code",
   "execution_count": 3,
   "metadata": {},
   "outputs": [
    {
     "data": {
      "text/plain": [
       "(8000, 3)"
      ]
     },
     "execution_count": 3,
     "metadata": {},
     "output_type": "execute_result"
    }
   ],
   "source": [
    "nA = As.shape[0]\n",
    "As.shape"
   ]
  },
  {
   "cell_type": "code",
   "execution_count": 4,
   "metadata": {},
   "outputs": [],
   "source": [
    "X = np.repeat(Xs, nA, axis = 0)\n",
    "A = np.tile(As, (nX,1))"
   ]
  },
  {
   "cell_type": "code",
   "execution_count": 5,
   "metadata": {},
   "outputs": [
    {
     "data": {
      "text/plain": [
       "(21600000, 3)"
      ]
     },
     "execution_count": 5,
     "metadata": {},
     "output_type": "execute_result"
    }
   ],
   "source": [
    "A.shape"
   ]
  },
  {
   "cell_type": "code",
   "execution_count": 6,
   "metadata": {},
   "outputs": [
    {
     "data": {
      "text/plain": [
       "(21600000, 2)"
      ]
     },
     "execution_count": 6,
     "metadata": {},
     "output_type": "execute_result"
    }
   ],
   "source": [
    "X.shape"
   ]
  },
  {
   "cell_type": "code",
   "execution_count": 7,
   "metadata": {},
   "outputs": [],
   "source": [
    "#Define the utility function\n",
    "def u(c):\n",
    "    return (np.float_power(c, 1-gamma) - 1)/(1 - gamma)\n",
    "\n",
    "#Define the bequeath function, which is a function of wealth\n",
    "def uB(tb):\n",
    "    return B*u(tb)\n",
    "\n",
    "#Reward function for renting\n",
    "def u_rent(a):\n",
    "    '''\n",
    "    Input:\n",
    "        action a: c, b, k, h = a\n",
    "    Output:\n",
    "        reward value: the length of return should be equal to the length of a\n",
    "    '''\n",
    "    c = a[:,0]\n",
    "    h = a[:,3]\n",
    "    C = np.float_power(c, alpha) * np.float_power(h, 1-alpha)\n",
    "    return u(C)\n",
    "\n",
    "def transition_to_rent(x,a,t):\n",
    "    '''\n",
    "        imput: a is np array constains all possible actions \n",
    "        output: from x = w_t to x = w_{t+1}\n",
    "    '''\n",
    "    s = x[:,1].astype(int)\n",
    "    # actions taken \n",
    "    b = a[:,1]\n",
    "    k = a[:,2]\n",
    "    w_next = ((1+r_b[s])*b + np.outer(k,(1+r_k)).T).T\n",
    "    w_next = w_next.flatten()\n",
    "    s_next = np.tile(range(nS),nA*nX)\n",
    "    prob = Ps[s].flatten()\n",
    "    return w_next, s_next, prob\n",
    "\n",
    "class Approxy(object):\n",
    "    def __init__(self, V, pts, t):\n",
    "        self.V = V \n",
    "        self.pts = pts\n",
    "        self.t = t\n",
    "    def predict(self, xx):\n",
    "        # x = [w, s]\n",
    "        pvalues = np.zeros(xx.shape[0])\n",
    "        for s in range(nS): \n",
    "            index = (xx[:,1] == s)\n",
    "            pvalues[index]=interpn(self.pts, self.V[:,s], xx[index][:,0], bounds_error = False, fill_value = None)\n",
    "        return pvalues"
   ]
  },
  {
   "cell_type": "code",
   "execution_count": 8,
   "metadata": {},
   "outputs": [],
   "source": [
    "t = 10\n",
    "yat = detEarning[t]\n",
    "budget1 = yat + X[:,0]\n",
    "h = budget1*A[:,0]/pr\n",
    "budget2 = budget1*(1-A[:,0])\n",
    "c = budget2*A[:,1]\n",
    "budget3 = budget2*(1-A[:,1])\n",
    "k = budget3*A[:,2]\n",
    "b = budget3*(1-A[:,2])\n",
    "actions = np.column_stack((c,b,k,h))\n",
    "w_next, s_next, prob = transition_to_rent(X,actions,0)"
   ]
  },
  {
   "cell_type": "code",
   "execution_count": 9,
   "metadata": {},
   "outputs": [
    {
     "data": {
      "text/plain": [
       "(583200000,)"
      ]
     },
     "execution_count": 9,
     "metadata": {},
     "output_type": "execute_result"
    }
   ],
   "source": [
    "w_next.shape"
   ]
  },
  {
   "cell_type": "code",
   "execution_count": 10,
   "metadata": {},
   "outputs": [
    {
     "data": {
      "text/plain": [
       "(583200000,)"
      ]
     },
     "execution_count": 10,
     "metadata": {},
     "output_type": "execute_result"
    }
   ],
   "source": [
    "s_next.shape"
   ]
  },
  {
   "cell_type": "code",
   "execution_count": null,
   "metadata": {},
   "outputs": [],
   "source": [
    "prob.s"
   ]
  },
  {
   "cell_type": "code",
   "execution_count": 15,
   "metadata": {},
   "outputs": [],
   "source": [
    "t = 10\n",
    "yat = detEarning[t]\n",
    "budget1 = yat + X[:,0]\n",
    "h = budget1*A[:,0]/pr\n",
    "budget2 = budget1*(1-A[:,0])\n",
    "c = budget2*A[:,1]\n",
    "budget3 = budget2*(1-A[:,1])\n",
    "k = budget3*A[:,2]\n",
    "b = budget3*(1-A[:,2])\n",
    "actions = np.column_stack((c,b,k,h))\n",
    "x = X\n",
    "a = actions\n",
    "s = x[:,1].astype(int)\n",
    "# actions taken \n",
    "b = a[:,1]\n",
    "k = a[:,2]\n",
    "w_next = ((1+r_b[s])*b + np.outer(k,(1+r_k)).T).T\n",
    "w_next = w_next.flatten()\n",
    "s_next = np.tile(range(nS),nA*nX)\n",
    "prob = Ps[s].flatten()"
   ]
  },
  {
   "cell_type": "code",
   "execution_count": null,
   "metadata": {},
   "outputs": [],
   "source": [
    "%%time\n",
    "for t in range(T_max-1,T_min, -1):\n",
    "    print(t)\n",
    "    # x = [w,s], a = [c,b,k,h]\n",
    "    yat = detEarning[t]\n",
    "    budget1 = yat + X[:,0]\n",
    "    h = budget1*A[:,0]/pr\n",
    "    budget2 = budget1*(1-A[:,0])\n",
    "    c = budget2*A[:,1]\n",
    "    budget3 = budget2*(1-A[:,1])\n",
    "    k = budget3*A[:,2]\n",
    "    b = budget3*(1-A[:,2])\n",
    "    actions = np.column_stack((c,b,k,h))\n",
    "    \n",
    "    u_rent(actions) = \n",
    "    \n",
    "    if t == T_max - 1:\n",
    "        f = partial(V, t = t, NN = None)\n",
    "        results = np.array(pool.map(f, xs))\n",
    "    else:\n",
    "        approx = Approxy(Vgrid[:,:,t+1],pointsRent, t+1)\n",
    "        f = partial(V, t = t, NN = approx)\n",
    "        results = np.array(pool.map(f, xs))\n",
    "    Vgrid[:,:,t] = results[:,0].reshape(dim)\n",
    "    cgrid[:,:,t] = np.array([r[0] for r in results[:,1]]).reshape(dim)\n",
    "    bgrid[:,:,t] = np.array([r[1] for r in results[:,1]]).reshape(dim)\n",
    "    kgrid[:,:,t] = np.array([r[2] for r in results[:,1]]).reshape(dim)\n",
    "    hgrid[:,:,t] = np.array([r[3] for r in results[:,1]]).reshape(dim)"
   ]
  },
  {
   "cell_type": "code",
   "execution_count": null,
   "metadata": {},
   "outputs": [],
   "source": []
  }
 ],
 "metadata": {
  "kernelspec": {
   "display_name": "Python 3",
   "language": "python",
   "name": "python3"
  },
  "language_info": {
   "codemirror_mode": {
    "name": "ipython",
    "version": 3
   },
   "file_extension": ".py",
   "mimetype": "text/x-python",
   "name": "python",
   "nbconvert_exporter": "python",
   "pygments_lexer": "ipython3",
   "version": "3.7.7"
  }
 },
 "nbformat": 4,
 "nbformat_minor": 4
}
