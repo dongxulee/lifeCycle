{
 "cells": [
  {
   "cell_type": "code",
   "execution_count": 1,
   "metadata": {},
   "outputs": [
    {
     "name": "stdout",
     "output_type": "stream",
     "text": [
      "Populating the interactive namespace from numpy and matplotlib\n"
     ]
    },
    {
     "data": {
      "text/plain": [
       "<contextlib._GeneratorContextManager at 0x7fe9dd3dd5d0>"
      ]
     },
     "execution_count": 1,
     "metadata": {},
     "output_type": "execute_result"
    }
   ],
   "source": [
    "%pylab inline\n",
    "from scipy.interpolate import interpn\n",
    "from constant import * \n",
    "from multiprocessing import Pool\n",
    "from functools import partial\n",
    "import warnings\n",
    "warnings.filterwarnings(\"ignore\")\n",
    "np.printoptions(precision=2)"
   ]
  },
  {
   "cell_type": "markdown",
   "metadata": {},
   "source": [
    "### Value iteration of renting a house\n",
    "\n",
    "$$V_t(w_t, s_t) = max_{\\{c_t, h_t, b_t, k_t\\}}\\{ u(c_t, h_t) + \\beta E[P_t V_{t+1}(w_{t+1}, s_{t+1}) + (1-P_t) u_B(w_{t+1})]\\}$$\n",
    "Subject to:    \n",
    "$$y_t + w_t = c_t + P_t^r h_t + b_t + k_t$$\n",
    "$$ w_{t+1} = (1+r_t^f) b_t + (1+r_{t+1}^m) k_t $$    \n",
    "\n",
    "Shape of the state: $$(100  \\times 27)$$\n",
    "Shape of the actions: $$(20 \\times 20 \\times 20)$$"
   ]
  },
  {
   "cell_type": "code",
   "execution_count": 2,
   "metadata": {},
   "outputs": [],
   "source": [
    "#Define the utility function\n",
    "def u(c):\n",
    "    return (np.float_power(c, 1-gamma) - 1)/(1 - gamma)\n",
    "\n",
    "#Define the bequeath function, which is a function of wealth\n",
    "def uB(tb):\n",
    "    return B*u(tb)\n",
    "\n",
    "#Reward function for renting\n",
    "def u_rent(a):\n",
    "    '''\n",
    "    Input:\n",
    "        action a: c, b, k, h = a \n",
    "    Output: \n",
    "        reward value: the length of return should be equal to the length of a\n",
    "    '''\n",
    "    c = a[:,0]\n",
    "    h = a[:,3]\n",
    "    C = np.float_power(c, alpha) * np.float_power(h, 1-alpha)\n",
    "    return u(C)\n",
    "\n",
    "def transition_to_rent(x,a,t):\n",
    "    '''\n",
    "        imput: a is np array constains all possible actions \n",
    "        output: from x = w_t to x = w_{t+1}\n",
    "    '''\n",
    "    w, s = x\n",
    "    s = int(s)\n",
    "    aSize = len(a)\n",
    "    # actions taken \n",
    "    b = a[:,1]\n",
    "    k = a[:,2]\n",
    "    future_states = np.zeros((aSize*nS,2))\n",
    "    future_states[:,0] = np.repeat(b*(1+r_b[s]), nS) + np.repeat(k, nS)*(1+np.tile(r_k, aSize))\n",
    "    future_states[:,1] = np.tile(range(nS),aSize)\n",
    "    future_probs = np.tile(Ps[s],aSize)\n",
    "    return future_states, future_probs\n",
    "\n",
    "class Approxy(object):\n",
    "    def __init__(self, V, pts, t):\n",
    "        self.V = V \n",
    "        self.pts = pts\n",
    "        self.t = t\n",
    "    def predict(self, xx):\n",
    "        # x = [w, s]\n",
    "        pvalues = np.zeros(xx.shape[0])\n",
    "        for s in range(nS): \n",
    "            index = (xx[:,1] == s)\n",
    "            pvalues[index]=interpn(self.pts, self.V[:,s], xx[index][:,0], bounds_error = False, fill_value = None)\n",
    "        return pvalues"
   ]
  },
  {
   "cell_type": "code",
   "execution_count": 3,
   "metadata": {},
   "outputs": [],
   "source": [
    "# used to calculate dot product\n",
    "def dotProduct(p_next, uBTB, t):\n",
    "    return (p_next*uBTB).reshape((len(p_next)//(nS), (nS))).sum(axis = 1)\n",
    "\n",
    "# value function \n",
    "def V(x, t, NN):\n",
    "    w, s = x\n",
    "    yat = detEarning[t]\n",
    "    # first define the objective function solver and then the objective function\n",
    "    def obj_solver_rent(obj_rent):\n",
    "        # a = [c, b, k, h] \n",
    "        budget1 = yat + w\n",
    "        h = budget1*actionsP[:,0]/pr\n",
    "        budget2 = budget1*(1-actionsP[:,0])\n",
    "        c = budget2*actionsP[:,1]\n",
    "        budget3 = budget2*(1-actionsP[:,1])\n",
    "        k = budget3*actionsP[:,2]\n",
    "        b = budget3*(1-actionsP[:,2])\n",
    "        actions = np.column_stack((c,b,k,h))\n",
    "        values = obj_rent(actions)\n",
    "        fun = np.max(values)\n",
    "        ma = actions[np.argmax(values)]\n",
    "        return fun, ma          \n",
    "    \n",
    "    \n",
    "    if t == T_max-1:\n",
    "        # The objective function of renting\n",
    "        def obj_rent(actions): \n",
    "            # a = [c, b, k, h]\n",
    "            x_next, p_next  = transition_to_rent(x, actions, t)\n",
    "            uBTB = uB(x_next[:,0]) \n",
    "            return u_rent(actions) + beta * dotProduct(uBTB, p_next, t) \n",
    "\n",
    "        fun, action = obj_solver_rent(obj_rent)\n",
    "        return np.array([fun, action])\n",
    "    \n",
    "    else:\n",
    "        # The objective function of renting\n",
    "        def obj_rent(actions):\n",
    "            # a = [c, b, k, h]\n",
    "            x_next, p_next  = transition_to_rent(x, actions, t)\n",
    "            V_tilda = NN.predict(x_next) # V_rent_{t+1} used to approximate, shape of x is [w,s]\n",
    "            uBTB = uB(x_next[:,0])\n",
    "            return u_rent(actions) + beta * (Pa[t] * dotProduct(V_tilda, p_next, t) + (1 - Pa[t]) * dotProduct(uBTB, p_next, t))\n",
    "\n",
    "        fun, action = obj_solver_rent(obj_rent)\n",
    "        return np.array([fun, action])"
   ]
  },
  {
   "cell_type": "code",
   "execution_count": 6,
   "metadata": {
    "collapsed": true,
    "jupyter": {
     "outputs_hidden": true
    }
   },
   "outputs": [
    {
     "name": "stdout",
     "output_type": "stream",
     "text": [
      "59\n",
      "58\n",
      "57\n",
      "56\n",
      "55\n",
      "54\n",
      "53\n",
      "52\n",
      "51\n",
      "50\n",
      "49\n",
      "48\n",
      "47\n",
      "46\n",
      "45\n",
      "44\n",
      "43\n",
      "42\n",
      "41\n",
      "40\n",
      "39\n",
      "38\n",
      "37\n",
      "36\n",
      "35\n",
      "34\n",
      "33\n",
      "32\n",
      "31\n",
      "30\n",
      "29\n",
      "28\n",
      "27\n",
      "26\n",
      "25\n",
      "24\n",
      "23\n",
      "22\n",
      "21\n",
      "20\n",
      "19\n",
      "18\n",
      "17\n",
      "16\n",
      "15\n",
      "14\n",
      "13\n",
      "12\n",
      "11\n",
      "10\n",
      "9\n",
      "8\n",
      "7\n",
      "6\n",
      "5\n",
      "4\n",
      "3\n",
      "2\n",
      "1\n",
      "CPU times: user 15.1 s, sys: 3.17 s, total: 18.3 s\n",
      "Wall time: 18min 27s\n"
     ]
    }
   ],
   "source": [
    "%%time\n",
    "# value iteration part \n",
    "pool = Pool()\n",
    "for t in range(T_max-1,T_min, -1):\n",
    "    print(t)\n",
    "    if t == T_max - 1:\n",
    "        f = partial(V, t = t, NN = None)\n",
    "        results = np.array(pool.map(f, xs))\n",
    "    else:\n",
    "        approx = Approxy(Vgrid[:,:,t+1],pointsRent, t+1)\n",
    "        f = partial(V, t = t, NN = approx)\n",
    "        results = np.array(pool.map(f, xs))\n",
    "    Vgrid[:,:,t] = results[:,0].reshape(dim)\n",
    "    cgrid[:,:,t] = np.array([r[0] for r in results[:,1]]).reshape(dim)\n",
    "    bgrid[:,:,t] = np.array([r[1] for r in results[:,1]]).reshape(dim)\n",
    "    kgrid[:,:,t] = np.array([r[2] for r in results[:,1]]).reshape(dim)\n",
    "    hgrid[:,:,t] = np.array([r[3] for r in results[:,1]]).reshape(dim)\n",
    "pool.close()\n",
    "\n",
    "np.save(\"Vgrid_renting\",Vgrid) \n",
    "np.save(\"cgrid_renting\",cgrid) \n",
    "np.save(\"bgrid_renting\",bgrid) \n",
    "np.save(\"kgrid_renting\",kgrid) \n",
    "np.save(\"hgrid_renting\",hgrid) "
   ]
  },
  {
   "cell_type": "code",
   "execution_count": 13,
   "metadata": {},
   "outputs": [
    {
     "data": {
      "text/plain": [
       "<matplotlib.legend.Legend at 0x7fea3d533d10>"
      ]
     },
     "execution_count": 13,
     "metadata": {},
     "output_type": "execute_result"
    },
    {
     "data": {
      "image/png": "[encoded data removed]",
      "text/plain": [
       "<Figure size 864x432 with 1 Axes>"
      ]
     },
     "metadata": {
      "needs_background": "light"
     },
     "output_type": "display_data"
    }
   ],
   "source": [
    "# plot consumption against time \n",
    "wealthLevel = 50\n",
    "econState = 5\n",
    "plt.figure(figsize = [12,6])\n",
    "plt.plot(cgrid[wealthLevel,econState,:], label = \"consumption\")\n",
    "plt.plot(bgrid[wealthLevel,econState,:], label = \"bond\")\n",
    "plt.plot(kgrid[wealthLevel,econState,:], label = \"stock\")\n",
    "plt.plot(hgrid[wealthLevel,econState,:]*pr, label = \"housing\")\n",
    "legend()"
   ]
  },
  {
   "cell_type": "code",
   "execution_count": 24,
   "metadata": {},
   "outputs": [
    {
     "data": {
      "text/plain": [
       "array([[1.73062559, 1.73062847, 1.7306548 , ..., 1.73061689, 1.73063627,\n",
       "        1.73064559],\n",
       "       [1.73064631, 1.73064916, 1.73067491, ..., 1.73063787, 1.73065685,\n",
       "        1.73066598],\n",
       "       [1.73066621, 1.73066902, 1.73069421, ..., 1.730658  , 1.7306766 ,\n",
       "        1.73068553],\n",
       "       ...,\n",
       "       [1.73127139, 1.7312726 , 1.73127975, ..., 1.73126824, 1.73127465,\n",
       "        1.73127724],\n",
       "       [1.73127343, 1.73127465, 1.73128176, ..., 1.73127022, 1.73127666,\n",
       "        1.73127921],\n",
       "       [1.73127545, 1.73127666, 1.73128375, ..., 1.73127218, 1.73127865,\n",
       "        1.73128116]])"
      ]
     },
     "execution_count": 24,
     "metadata": {},
     "output_type": "execute_result"
    }
   ],
   "source": [
    "Vgrid[:,:,58]"
   ]
  },
  {
   "cell_type": "code",
   "execution_count": null,
   "metadata": {},
   "outputs": [],
   "source": []
  }
 ],
 "metadata": {
  "kernelspec": {
   "display_name": "Python 3",
   "language": "python",
   "name": "python3"
  },
  "language_info": {
   "codemirror_mode": {
    "name": "ipython",
    "version": 3
   },
   "file_extension": ".py",
   "mimetype": "text/x-python",
   "name": "python",
   "nbconvert_exporter": "python",
   "pygments_lexer": "ipython3",
   "version": "3.7.7"
  }
 },
 "nbformat": 4,
 "nbformat_minor": 4
}
