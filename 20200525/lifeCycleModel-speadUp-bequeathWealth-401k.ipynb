{
 "cells": [
  {
   "cell_type": "markdown",
   "metadata": {},
   "source": [
    "### Calculate the policy of the agent\n",
    "* State Variable: x = [w , n, s, A], action variable a = [c, b, k, i], both of them are numpy array "
   ]
  },
  {
   "cell_type": "code",
   "execution_count": 1,
   "metadata": {},
   "outputs": [
    {
     "name": "stdout",
     "output_type": "stream",
     "text": [
      "Populating the interactive namespace from numpy and matplotlib\n"
     ]
    }
   ],
   "source": [
    "%pylab inline\n",
    "import numpy as np\n",
    "import pandas as pd\n",
    "from scipy.interpolate import interp1d,interp2d\n",
    "from multiprocessing import Pool\n",
    "from functools import partial \n",
    "from pyswarm import pso\n",
    "import warnings\n",
    "warnings.filterwarnings(\"ignore\")\n",
    "np.printoptions(precision=2)\n",
    "# time line\n",
    "T_min = 0\n",
    "T_max = 70\n",
    "T_R = 45\n",
    "beta = 1/(1+0.02)\n",
    "# States of the economy, GOOD or BAD, {1 : GOOD}, {0 : BAD}\n",
    "S = [0,1]\n",
    "# All the money amount are denoted in thousand dollars\n",
    "earningShock = [0.8,1.2]\n",
    "# Define transition matrix of economical states\n",
    "# GOOD -> GOOD 0.8, BAD -> BAD 0.6 \n",
    "Ps = np.array([[0.6, 0.4],[0.2, 0.8]])\n",
    "# current risk free interest rate \n",
    "r_f = np.array([0.01 ,0.03])\n",
    "# stock return depends on current and future econ states\n",
    "r_m = np.array([[-0.2, 0.15],[-0.15, 0.2]])\n",
    "# probability of survival\n",
    "Pa = np.load(\"prob.npy\")\n",
    "# deterministic income\n",
    "detEarning = np.load(\"detEarning.npy\")\n",
    "# tax rate \n",
    "tau_L = 0.2\n",
    "tau_R = 0.1\n",
    "# minimum consumption\n",
    "c_bar = 3"
   ]
  },
  {
   "cell_type": "code",
   "execution_count": 2,
   "metadata": {},
   "outputs": [],
   "source": [
    "#Define the utility function\n",
    "def u(c):\n",
    "    gamma = 2\n",
    "    if c <= 1:\n",
    "        return 0\n",
    "    return (np.float_power(c,1-gamma) - 1)/(1 - gamma)\n",
    "\n",
    "#Define the bequeath function, which is a function of wealth \n",
    "def uB(w):\n",
    "    B = 2\n",
    "    return B*u(w)\n",
    "\n",
    "#Define the earning function \n",
    "def income(age, s):\n",
    "    if age <= T_R:\n",
    "        return detEarning[age] * earningShock[s]\n",
    "    else:\n",
    "        return detEarning[age]\n",
    "\n",
    "# Define the reward funtion\n",
    "def R(x, a):\n",
    "    c, b, k, i = a\n",
    "    w, n, s, A = x\n",
    "    if A == 0:\n",
    "        if w + n > 0:\n",
    "            return uB(w+n)\n",
    "        else:\n",
    "            return 0\n",
    "    else:\n",
    "        return u(c)\n",
    "\n",
    "# Define the transtiion of state (test)\n",
    "def transition(x, a, t):\n",
    "    '''\n",
    "        Input: x current state: (w, n, s, A) \n",
    "               a action taken: (c, b, k, i)\n",
    "        Output: the next possible states with corresponding probabilities\n",
    "    '''\n",
    "    c, b, k, i = a\n",
    "    w, n, s, A = x\n",
    "    s = int(s)\n",
    "    \n",
    "    x_next = []\n",
    "    prob_next = []\n",
    "    if A == 0:\n",
    "        for s_next in S:\n",
    "            x_next.append([0, 0, s_next, 0])\n",
    "        return np.array(x_next), Ps[s]\n",
    "    else:\n",
    "        # A = 1, agent is still alive and for the next period\n",
    "        for s_next in S:\n",
    "            r_bond = r_f[s]\n",
    "            r_stock = r_m[s, s_next]\n",
    "            w_next =  b*(1+r_bond) + k*(1+r_stock)\n",
    "            n_next =  (n+i)*(1+r_stock)\n",
    "            x_next.append([w_next, n_next, s_next, 1])\n",
    "            prob_next.append(Ps[s][s_next] * Pa[t])\n",
    "            x_next.append([w_next, n_next, s_next, 0])\n",
    "            prob_next.append(Ps[s][s_next] * (1-Pa[t]))\n",
    "        return np.array(x_next), np.array(prob_next) \n",
    "    \n",
    "# Value function is a function of state and time t\n",
    "def V(x, t, Vmodel):\n",
    "    # Define the objective function as a function of action\n",
    "    w, n, s, A = x\n",
    "    s = int(s)\n",
    "    A = int(A)\n",
    "    if A == 0:\n",
    "        return np.array([R(x,[0,0,0,0]),[0,0,0,0]])\n",
    "    else: \n",
    "        if t < T_R:\n",
    "            def obj(bkThetaI_theta):\n",
    "                bk,theta,i_theta = bkThetaI_theta\n",
    "                b = bk * theta\n",
    "                k = bk * (1-theta)\n",
    "                i = y(t,s) * i_theta\n",
    "                c = (1-tau_L)*(income(t,s) - i) + w - bk\n",
    "                if c <= c_bar:\n",
    "                    return 9999999999\n",
    "                a = (c,b,k,i)\n",
    "                x_next , prob_next = transition(x, a, t)\n",
    "                V_next = []\n",
    "                for wVal,nVal in zip(x_next[:,0], x_next[:,1]):\n",
    "                    V_next.append(Vmodel[s][A](wVal,nVal))\n",
    "                return R(x, a) + beta * np.dot(np.array(V_next).flatten(), prob_next)\n",
    "            lb = [0, 0, 0]\n",
    "            ub = [w, 1, 1]\n",
    "            xopt, fopt = pso(obj, lb, ub)\n",
    "            max_val = -fopt\n",
    "            \n",
    "            bk_m,theta_m,i_theta_m = xopt\n",
    "            b_m = bk_m * theta_m\n",
    "            k_m = bk_m * (1-theta_m)\n",
    "            i_m = y(t,s) * i_theta_m\n",
    "            c_m = (1-tau_L)*(income(t,s) - i_m) + w - bk_m\n",
    "        else:\n",
    "            def obj(bkThetaI_theta):\n",
    "                bk,theta,i_theta = bkThetaI_theta\n",
    "                b = bk * theta\n",
    "                k = bk * (1-theta)\n",
    "                i = n * i_theta\n",
    "                c = (1-tau_R)*income(t,s) + w - i - bk\n",
    "                if c <= c_bar:\n",
    "                    return 9999999999\n",
    "                a = (c,b,k,i)\n",
    "                x_next , prob_next = transition(x, a, t)\n",
    "                V_next = []\n",
    "                for wVal,nVal in zip(x_next[:,0], x_next[:,1]):\n",
    "                    V_next.append(Vmodel[s][A](wVal,nVal))\n",
    "                return R(x, a) + beta * np.dot(np.array(V_next).flatten(), prob_next)\n",
    "            lb = [0, 0, -1]\n",
    "            ub = [w, 1, 0]\n",
    "            xopt, fopt = pso(obj, lb, ub)\n",
    "            max_val = -fopt\n",
    "            \n",
    "            bk_m,theta_m,i_theta_m = xopt\n",
    "            b_m = bk_m * theta_m\n",
    "            k_m = bk_m * (1-theta_m)\n",
    "            i_m = n * i_theta_m\n",
    "            c_m = (1-tau_R)*income(t,s) + w - i_m - bk_m\n",
    "        return np.array([max_val, [c_m, b_m, k_m, i_m]])"
   ]
  },
  {
   "cell_type": "code",
   "execution_count": 3,
   "metadata": {},
   "outputs": [],
   "source": [
    "w_grid_size = 10\n",
    "w_lower = 5\n",
    "w_upper = 10\n",
    "\n",
    "n_grid_size = 10\n",
    "n_lower = 5\n",
    "n_upper = 10000\n",
    "\n",
    "def powspace(start, stop, power, num):\n",
    "    start = np.power(start, 1/float(power))\n",
    "    stop = np.power(stop, 1/float(power))\n",
    "    return np.power( np.linspace(start, stop, num=num), power)\n",
    "\n",
    "xgrid = np.array([[w,n,s,A] for w in powspace(w_lower, w_upper, 3, w_grid_size)\n",
    "                            for n in powspace(n_lower, n_upper, 3, n_grid_size)\n",
    "                            for s in [0,1]\n",
    "                            for A in [0,1]]).reshape((w_grid_size, n_grid_size,2,2,4))\n",
    "\n",
    "Vgrid = np.zeros((w_grid_size, n_grid_size, 2, 2, T_max+1))\n",
    "Cgrid = np.zeros((w_grid_size, n_grid_size, 2, 2, T_max+1))\n",
    "bgrid = np.zeros((w_grid_size, n_grid_size, 2, 2, T_max+1))\n",
    "kgrid = np.zeros((w_grid_size, n_grid_size, 2, 2, T_max+1))\n",
    "igrid = np.zeros((w_grid_size, n_grid_size, 2, 2, T_max+1))\n",
    "\n",
    "def V_T(x):\n",
    "    w, n, s, A = x\n",
    "    x = [w, n, s, 0]\n",
    "    return R(x,[0,0,0,0]) \n",
    "\n",
    "# apply function to state space, need to reshape the matrix and shape it back to the size\n",
    "def applyFunToCalculateValue(fun):\n",
    "    return np.array(list(map(fun, xgrid.reshape((w_grid_size * n_grid_size * 2 * 2, 4))))).reshape((w_grid_size, n_grid_size,2,2))\n",
    "\n",
    "Vgrid[:,:,:,:, T_max] = applyFunToCalculateValue(V_T)"
   ]
  },
  {
   "cell_type": "markdown",
   "metadata": {},
   "source": [
    "### Backward Induction Part"
   ]
  },
  {
   "cell_type": "code",
   "execution_count": 4,
   "metadata": {},
   "outputs": [
    {
     "name": "stdout",
     "output_type": "stream",
     "text": [
      "69\n",
      "CPU times: user 320 ms, sys: 269 ms, total: 589 ms\n",
      "Wall time: 23 s\n"
     ]
    }
   ],
   "source": [
    "%%time \n",
    "w = xgrid[:,:,0,0,:].reshape((w_grid_size * n_grid_size, 4))[:,0]\n",
    "n = xgrid[:,:,0,0,:].reshape((w_grid_size * n_grid_size, 4))[:,1]\n",
    "xs = xgrid.reshape((w_grid_size * n_grid_size * 2 * 2, 4))\n",
    "pool = Pool()\n",
    "\n",
    "for t in range(T_max-1, T_max-2, -1):\n",
    "    print(t)\n",
    "    cs = [[interp2d(w,n,Vgrid[:,:,s,A,t+1].flatten(),kind='cubic') for A in [0,1]] for s in [0,1]]\n",
    "    f = partial(V, t = t, Vmodel = cs)\n",
    "    np.array(pool.map(f, xs))"
   ]
  },
  {
   "cell_type": "code",
   "execution_count": null,
   "metadata": {},
   "outputs": [],
   "source": []
  },
  {
   "cell_type": "code",
   "execution_count": 6,
   "metadata": {},
   "outputs": [
    {
     "data": {
      "text/plain": [
       "[<matplotlib.lines.Line2D at 0x7faa9c4bdad0>]"
      ]
     },
     "execution_count": 6,
     "metadata": {},
     "output_type": "execute_result"
    },
    {
     "data": {
      "image/png": "[encoded data removed]",
      "text/plain": [
       "<Figure size 432x288 with 1 Axes>"
      ]
     },
     "metadata": {
      "needs_background": "light"
     },
     "output_type": "display_data"
    }
   ],
   "source": [
    "plt.plot(B_t[10,1,:])\n",
    "plt.plot(B_t[20,1,:])\n",
    "plt.plot(B_t[30,1,:])\n",
    "plt.plot(B_t[40,1,:])\n",
    "plt.plot(B_t[50,1,:])\n",
    "plt.plot(B_t[60,1,:])"
   ]
  },
  {
   "cell_type": "code",
   "execution_count": 7,
   "metadata": {},
   "outputs": [
    {
     "data": {
      "text/plain": [
       "[<matplotlib.lines.Line2D at 0x7faa93fa1850>]"
      ]
     },
     "execution_count": 7,
     "metadata": {},
     "output_type": "execute_result"
    },
    {
     "data": {
      "image/png": "[encoded data removed]",
      "text/plain": [
       "<Figure size 432x288 with 1 Axes>"
      ]
     },
     "metadata": {
      "needs_background": "light"
     },
     "output_type": "display_data"
    }
   ],
   "source": [
    "plt.plot(K_t[10,1,:])\n",
    "plt.plot(K_t[20,1,:])\n",
    "plt.plot(K_t[30,1,:])\n",
    "plt.plot(K_t[40,1,:])\n",
    "plt.plot(K_t[50,1,:])\n",
    "plt.plot(K_t[60,1,:])"
   ]
  },
  {
   "cell_type": "markdown",
   "metadata": {},
   "source": [
    "### Simulation Part"
   ]
  },
  {
   "cell_type": "code",
   "execution_count": 8,
   "metadata": {},
   "outputs": [],
   "source": [
    "import quantecon as qe\n",
    "mc = qe.MarkovChain(P)\n",
    "\n",
    "def action(t, w, s, alive):\n",
    "    c = interp1d(wgrid, C_t[:,s,t], kind = \"linear\", fill_value = \"extrapolate\")(w)\n",
    "    b = interp1d(wgrid, B_t[:,s,t], kind = \"linear\", fill_value = \"extrapolate\")(w)\n",
    "    k = interp1d(wgrid, K_t[:,s,t], kind = \"linear\", fill_value = \"extrapolate\")(w)\n",
    "    if not alive:\n",
    "        c = 0\n",
    "        b = 0\n",
    "        k = 0\n",
    "    return (c,b,k)\n",
    "    \n",
    "# Define the transtiion of state \n",
    "def fixTransition(w, s, s_next, a, alive):\n",
    "    c, b, k = a\n",
    "    # collect possible next state (w_next, s_next) with probability prob\n",
    "    Z_next = []\n",
    "    prob = []\n",
    "    # depend on the current econ state s and future state s_next we have the following return on bond and stock \n",
    "    r_bond = r_f[int(s)]\n",
    "    r_stock = r_m[s,s_next]\n",
    "    w_next = b*(1+r_bond) + k*(1+r_stock)\n",
    "    if not alive:\n",
    "        return 0\n",
    "    return w_next"
   ]
  },
  {
   "cell_type": "code",
   "execution_count": 9,
   "metadata": {},
   "outputs": [],
   "source": [
    "import random as rd\n",
    "def simulation(num):\n",
    "    for sim in range(num):\n",
    "        if sim%100 == 0:\n",
    "            print(sim)\n",
    "        # simulate an agent age 15 starting with wealth of 10\n",
    "        w = 20\n",
    "        wealth = []\n",
    "        Consumption = []\n",
    "        Bond = []\n",
    "        Stock = []\n",
    "        Salary = []\n",
    "        econState = mc.simulate(ts_length=T_max - T_min)\n",
    "        alive = True\n",
    "        for t in range(len(econState)-1):\n",
    "            if rd.random() > prob[t]:\n",
    "                alive = False\n",
    "            wealth.append(w)\n",
    "            s = econState[t]\n",
    "            s_next = econState[t+1]\n",
    "            a = action(t, w, s, alive)\n",
    "            if alive:\n",
    "                Salary.append(y(t+T_min, s))\n",
    "            else:\n",
    "                Salary.append(0)\n",
    "            Consumption.append(a[0])\n",
    "            Bond.append(a[1])\n",
    "            Stock.append(a[2])\n",
    "            w = fixTransition(w,s,s_next, a, alive)\n",
    "        # dictionary of lists  \n",
    "        dictionary = {'wealth': wealth,\n",
    "                      'Consumption': Consumption, \n",
    "                      'Bond': Bond, \n",
    "                      'Stock': Stock,\n",
    "                      'Salary': Salary}\n",
    "        if sim == 0:\n",
    "            df = pd.DataFrame(dictionary) \n",
    "        else:\n",
    "            df = df + pd.DataFrame(dictionary) \n",
    "            \n",
    "    return df/num "
   ]
  },
  {
   "cell_type": "code",
   "execution_count": 10,
   "metadata": {
    "scrolled": true
   },
   "outputs": [
    {
     "name": "stdout",
     "output_type": "stream",
     "text": [
      "0\n",
      "100\n",
      "200\n",
      "300\n",
      "400\n",
      "500\n",
      "600\n",
      "700\n",
      "800\n",
      "900\n",
      "1000\n",
      "1100\n",
      "1200\n",
      "1300\n",
      "1400\n",
      "1500\n",
      "1600\n",
      "1700\n",
      "1800\n",
      "1900\n",
      "2000\n",
      "2100\n",
      "2200\n",
      "2300\n",
      "2400\n",
      "2500\n",
      "2600\n",
      "2700\n",
      "2800\n",
      "2900\n",
      "3000\n",
      "3100\n",
      "3200\n",
      "3300\n",
      "3400\n",
      "3500\n",
      "3600\n",
      "3700\n",
      "3800\n",
      "3900\n",
      "4000\n",
      "4100\n",
      "4200\n",
      "4300\n",
      "4400\n",
      "4500\n",
      "4600\n",
      "4700\n",
      "4800\n",
      "4900\n",
      "5000\n",
      "5100\n",
      "5200\n",
      "5300\n",
      "5400\n",
      "5500\n",
      "5600\n",
      "5700\n",
      "5800\n",
      "5900\n",
      "6000\n",
      "6100\n",
      "6200\n",
      "6300\n",
      "6400\n",
      "6500\n",
      "6600\n",
      "6700\n",
      "6800\n",
      "6900\n",
      "7000\n",
      "7100\n",
      "7200\n",
      "7300\n",
      "7400\n",
      "7500\n",
      "7600\n",
      "7700\n",
      "7800\n",
      "7900\n",
      "8000\n",
      "8100\n",
      "8200\n",
      "8300\n",
      "8400\n",
      "8500\n",
      "8600\n",
      "8700\n",
      "8800\n",
      "8900\n",
      "9000\n",
      "9100\n",
      "9200\n",
      "9300\n",
      "9400\n",
      "9500\n",
      "9600\n",
      "9700\n",
      "9800\n",
      "9900\n"
     ]
    }
   ],
   "source": [
    "df = simulation(10000)"
   ]
  },
  {
   "cell_type": "code",
   "execution_count": 13,
   "metadata": {},
   "outputs": [
    {
     "data": {
      "text/plain": [
       "<matplotlib.axes._subplots.AxesSubplot at 0x7faa715e1450>"
      ]
     },
     "execution_count": 13,
     "metadata": {},
     "output_type": "execute_result"
    },
    {
     "data": {
      "image/png": "[encoded data removed]",
      "text/plain": [
       "<Figure size 432x288 with 1 Axes>"
      ]
     },
     "metadata": {
      "needs_background": "light"
     },
     "output_type": "display_data"
    }
   ],
   "source": [
    "df.plot()"
   ]
  },
  {
   "cell_type": "code",
   "execution_count": 15,
   "metadata": {},
   "outputs": [
    {
     "data": {
      "text/plain": [
       "<matplotlib.axes._subplots.AxesSubplot at 0x7faa70b00650>"
      ]
     },
     "execution_count": 15,
     "metadata": {},
     "output_type": "execute_result"
    },
    {
     "data": {
      "image/png": "[encoded data removed]",
      "text/plain": [
       "<Figure size 432x288 with 1 Axes>"
      ]
     },
     "metadata": {
      "needs_background": "light"
     },
     "output_type": "display_data"
    }
   ],
   "source": [
    "df.Consumption.plot()"
   ]
  },
  {
   "cell_type": "code",
   "execution_count": 17,
   "metadata": {},
   "outputs": [
    {
     "data": {
      "text/plain": [
       "<matplotlib.axes._subplots.AxesSubplot at 0x7faa709b1ad0>"
      ]
     },
     "execution_count": 17,
     "metadata": {},
     "output_type": "execute_result"
    },
    {
     "data": {
      "image/png": "[encoded data removed]",
      "text/plain": [
       "<Figure size 432x288 with 1 Axes>"
      ]
     },
     "metadata": {
      "needs_background": "light"
     },
     "output_type": "display_data"
    }
   ],
   "source": [
    "df.wealth.plot()"
   ]
  },
  {
   "cell_type": "code",
   "execution_count": null,
   "metadata": {},
   "outputs": [],
   "source": []
  }
 ],
 "metadata": {
  "kernelspec": {
   "display_name": "Python 3",
   "language": "python",
   "name": "python3"
  },
  "language_info": {
   "codemirror_mode": {
    "name": "ipython",
    "version": 3
   },
   "file_extension": ".py",
   "mimetype": "text/x-python",
   "name": "python",
   "nbconvert_exporter": "python",
   "pygments_lexer": "ipython3",
   "version": "3.7.4"
  }
 },
 "nbformat": 4,
 "nbformat_minor": 4
}
