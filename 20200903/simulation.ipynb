{
 "cells": [
  {
   "cell_type": "code",
   "execution_count": null,
   "metadata": {},
   "outputs": [],
   "source": [
    "%pylab inline\n",
    "from scipy.interpolate import interpn\n",
    "from helpFunctions import surfacePlot\n",
    "import numpy as np\n",
    "from multiprocessing import Pool\n",
    "from functools import partial\n",
    "import warnings\n",
    "import math\n",
    "warnings.filterwarnings(\"ignore\")\n",
    "np.printoptions(precision=2)"
   ]
  },
  {
   "cell_type": "code",
   "execution_count": null,
   "metadata": {},
   "outputs": [],
   "source": [
    "# time line\n",
    "T_min = 0\n",
    "T_max = 70\n",
    "T_R = 45\n",
    "# discounting factor\n",
    "beta = 1/(1+0.02)\n",
    "# utility function parameter \n",
    "gamma = 2\n",
    "# relative importance of housing consumption and non durable consumption \n",
    "alpha = 0.8\n",
    "# parameter used to calculate the housing consumption \n",
    "kappa = 0.3\n",
    "# depreciation parameter \n",
    "delta = 0.025\n",
    "# housing parameter \n",
    "chi = 0.3\n",
    "# uB associated parameter\n",
    "B = 2\n",
    "# # minimum consumption \n",
    "# c_bar = 3\n",
    "# constant cost \n",
    "c_h = 0.5\n",
    "# All the money amount are denoted in thousand dollars\n",
    "earningShock = [0.8,1.2]\n",
    "# Define transition matrix of economical states\n",
    "# GOOD -> GOOD 0.8, BAD -> BAD 0.6\n",
    "Ps = np.array([[0.6, 0.4],[0.2, 0.8]])\n",
    "# current risk free interest rate\n",
    "# r_b = np.array([0.01 ,0.03]) modify the risk free return \n",
    "r_b = np.array([0.03, 0.05])\n",
    "# stock return depends on current and future econ states\n",
    "# r_k = np.array([[-0.2, 0.15],[-0.15, 0.2]])\n",
    "r_k = np.array([[-0.15, 0.20],[-0.15, 0.20]])\n",
    "# expected return on stock market\n",
    "# r_bar = 0.0667\n",
    "r_bar = 0.02\n",
    "# probability of survival\n",
    "Pa = np.load(\"prob.npy\")\n",
    "# deterministic income\n",
    "detEarning = np.load(\"detEarning.npy\")\n",
    "# probability of employment transition Pe[s, s_next, e, e_next]\n",
    "Pe = np.array([[[[0.3, 0.7], [0.1, 0.9]], [[0.25, 0.75], [0.05, 0.95]]],\n",
    "               [[[0.25, 0.75], [0.05, 0.95]], [[0.2, 0.8], [0.01, 0.99]]]])\n",
    "# tax rate before and after retirement\n",
    "tau_L = 0.2\n",
    "tau_R = 0.1\n",
    "# constant state variables: Purchase value 250k, down payment 50k, mortgage 200k, interest rate 3.6%,\n",
    "# 55 payment period, 8.4k per period. One housing unit is roughly 1 square feet. Housing price 0.25k/sf \n",
    "\n",
    "# some variables associate with 401k amount\n",
    "Nt = [np.sum(Pa[t:]) for t in range(T_max-T_min)]\n",
    "Dt = [np.ceil(((1+r_bar)**N - 1)/(r_bar*(1+r_bar)**N)) for N in Nt]\n",
    "# mortgate rate \n",
    "rh = 0.036\n",
    "D = [((1+rh)**N - 1)/(rh*(1+rh)**N) for N in range(T_max-T_min)]\n",
    "# income fraction goes into 401k \n",
    "yi = 0.005\n",
    "# housing unit\n",
    "H = 750\n",
    "# housing price constant \n",
    "pt = 250/1000\n",
    "# 30k rent 1000 sf\n",
    "pr = 30/1000\n",
    "\n",
    "# wealth discretization \n",
    "ws = np.array([10,25,50,75,100,125,150,175,200,250,500,750,1000,1500,3000])\n",
    "w_grid_size = len(ws)\n",
    "# 401k amount discretization \n",
    "ns = np.array([1, 5, 10, 15, 25, 40, 65, 100, 150, 300, 400,1000])\n",
    "n_grid_size = len(ns)\n",
    "# Mortgage amount, * 0.25 is the housing price per unit\n",
    "Ms = np.array([0.01*H,0.05*H,0.1*H,0.2*H,0.3*H,0.4*H,0.5*H,0.6*H,0.7*H,0.8*H]) * pt\n",
    "M_grid_size = len(Ms)\n",
    "# Improvement amount \n",
    "gs = np.array([0,25,50,75,100])\n",
    "g_grid_size = len(gs)\n",
    "\n",
    "points = (ws,ns,Ms,gs)"
   ]
  },
  {
   "cell_type": "code",
   "execution_count": null,
   "metadata": {},
   "outputs": [],
   "source": [
    "import quantecon as qe\n",
    "import timeit\n",
    "mc = qe.MarkovChain(Ps)\n",
    "\n",
    "#Vgrid = np.load(\"Vgrid_i.npy\")\n",
    "cgrid = np.load(\"cgrid\" + str(H)+ \".npy\")\n",
    "bgrid = np.load(\"bgrid\" + str(H)+ \".npy\")\n",
    "kgrid = np.load(\"kgrid\" + str(H)+ \".npy\")\n",
    "igrid = np.load(\"igrid\" + str(H)+ \".npy\")\n",
    "qgrid = np.load(\"qgrid\" + str(H)+ \".npy\")\n",
    "\n",
    "def action(t, x):\n",
    "    w, n, M, g_lag, e, s = x\n",
    "    c = interpn(points, cgrid[:,:,:,:,e,s,t], x[:4], method = \"nearest\", bounds_error = False, fill_value = None)[0]\n",
    "    b = interpn(points, bgrid[:,:,:,:,e,s,t], x[:4], method = \"nearest\", bounds_error = False, fill_value = None)[0]\n",
    "    k = interpn(points, kgrid[:,:,:,:,e,s,t], x[:4], method = \"nearest\", bounds_error = False, fill_value = None)[0]\n",
    "    i = interpn(points, igrid[:,:,:,:,e,s,t], x[:4], method = \"nearest\", bounds_error = False, fill_value = None)[0]\n",
    "    q = interpn(points, qgrid[:,:,:,:,e,s,t], x[:4], method = \"nearest\", bounds_error = False, fill_value = None)[0]\n",
    "    return (c,b,k,i,q)\n",
    "\n",
    "#Define the earning function, which applies for both employment and unemployment, good econ state and bad econ state \n",
    "def y(t, x):\n",
    "    w, n, M, g_lag, e, s = x\n",
    "    if t <= T_R:\n",
    "        welfare = 5\n",
    "        return detEarning[t] * earningShock[int(s)] * e + (1-e) * welfare\n",
    "    else:\n",
    "        return detEarning[t]\n",
    "\n",
    "#Define the evolution of the amount in 401k account \n",
    "def gn(t, n, x, s_next):\n",
    "    w, n, M, g_lag, e, s = x\n",
    "    if t <= T_R and e == 1:\n",
    "        # if the person is employed, then 5 percent of his income goes into 401k \n",
    "        # i = 0.05\n",
    "        n_cur = n + y(t, x) * yi\n",
    "    elif t <= T_R and e == 0:\n",
    "        # if the perons is unemployed, then n does not change \n",
    "        n_cur = n\n",
    "    else:\n",
    "        # t > T_R, n/discounting amount will be withdraw from the 401k \n",
    "        n_cur = n - n/Dt[t]\n",
    "    return (1+r_k[int(s), s_next])*n_cur "
   ]
  },
  {
   "cell_type": "code",
   "execution_count": null,
   "metadata": {},
   "outputs": [],
   "source": [
    "Vgrid = np.load(\"Vgrid_renting.npy\") \n",
    "cgrid = np.load(\"cgrid_renting.npy\") \n",
    "bgrid = np.load(\"bgrid_renting.npy\") \n",
    "kgrid = np.load(\"kgrid_renting.npy\") \n",
    "hgrid = np.load(\"hgrid_renting.npy\") \n",
    "Mgrid = np.load(\"Mgrid_renting.npy\")"
   ]
  },
  {
   "cell_type": "code",
   "execution_count": null,
   "metadata": {},
   "outputs": [],
   "source": []
  },
  {
   "cell_type": "code",
   "execution_count": null,
   "metadata": {},
   "outputs": [],
   "source": []
  },
  {
   "cell_type": "code",
   "execution_count": null,
   "metadata": {},
   "outputs": [],
   "source": []
  },
  {
   "cell_type": "code",
   "execution_count": null,
   "metadata": {},
   "outputs": [],
   "source": []
  },
  {
   "cell_type": "code",
   "execution_count": null,
   "metadata": {},
   "outputs": [],
   "source": []
  },
  {
   "cell_type": "code",
   "execution_count": null,
   "metadata": {},
   "outputs": [],
   "source": []
  },
  {
   "cell_type": "code",
   "execution_count": null,
   "metadata": {},
   "outputs": [],
   "source": []
  },
  {
   "cell_type": "code",
   "execution_count": null,
   "metadata": {},
   "outputs": [],
   "source": []
  },
  {
   "cell_type": "code",
   "execution_count": null,
   "metadata": {},
   "outputs": [],
   "source": []
  },
  {
   "cell_type": "code",
   "execution_count": null,
   "metadata": {},
   "outputs": [],
   "source": []
  },
  {
   "cell_type": "code",
   "execution_count": null,
   "metadata": {},
   "outputs": [],
   "source": []
  },
  {
   "cell_type": "code",
   "execution_count": null,
   "metadata": {},
   "outputs": [],
   "source": []
  },
  {
   "cell_type": "code",
   "execution_count": null,
   "metadata": {},
   "outputs": [],
   "source": []
  },
  {
   "cell_type": "code",
   "execution_count": null,
   "metadata": {},
   "outputs": [],
   "source": []
  },
  {
   "cell_type": "code",
   "execution_count": null,
   "metadata": {},
   "outputs": [],
   "source": []
  },
  {
   "cell_type": "code",
   "execution_count": null,
   "metadata": {},
   "outputs": [],
   "source": []
  },
  {
   "cell_type": "code",
   "execution_count": null,
   "metadata": {},
   "outputs": [],
   "source": []
  },
  {
   "cell_type": "code",
   "execution_count": null,
   "metadata": {},
   "outputs": [],
   "source": []
  },
  {
   "cell_type": "code",
   "execution_count": null,
   "metadata": {},
   "outputs": [],
   "source": []
  },
  {
   "cell_type": "code",
   "execution_count": null,
   "metadata": {},
   "outputs": [],
   "source": []
  },
  {
   "cell_type": "code",
   "execution_count": null,
   "metadata": {},
   "outputs": [],
   "source": []
  },
  {
   "cell_type": "code",
   "execution_count": null,
   "metadata": {},
   "outputs": [],
   "source": []
  },
  {
   "cell_type": "code",
   "execution_count": null,
   "metadata": {},
   "outputs": [],
   "source": []
  },
  {
   "cell_type": "code",
   "execution_count": null,
   "metadata": {},
   "outputs": [],
   "source": []
  },
  {
   "cell_type": "code",
   "execution_count": null,
   "metadata": {},
   "outputs": [],
   "source": []
  },
  {
   "cell_type": "code",
   "execution_count": null,
   "metadata": {},
   "outputs": [],
   "source": []
  },
  {
   "cell_type": "code",
   "execution_count": null,
   "metadata": {},
   "outputs": [],
   "source": []
  }
 ],
 "metadata": {
  "kernelspec": {
   "display_name": "Python 3",
   "language": "python",
   "name": "python3"
  },
  "language_info": {
   "codemirror_mode": {
    "name": "ipython",
    "version": 3
   },
   "file_extension": ".py",
   "mimetype": "text/x-python",
   "name": "python",
   "nbconvert_exporter": "python",
   "pygments_lexer": "ipython3",
   "version": "3.7.4"
  }
 },
 "nbformat": 4,
 "nbformat_minor": 4
}
