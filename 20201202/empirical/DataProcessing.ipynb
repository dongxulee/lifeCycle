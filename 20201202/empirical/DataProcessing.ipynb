{
 "cells": [
  {
   "cell_type": "markdown",
   "metadata": {},
   "source": [
    "# Data Processing "
   ]
  },
  {
   "cell_type": "code",
   "execution_count": 8,
   "metadata": {},
   "outputs": [
    {
     "name": "stdout",
     "output_type": "stream",
     "text": [
      "Populating the interactive namespace from numpy and matplotlib\n"
     ]
    }
   ],
   "source": [
    "%pylab inline\n",
    "matplotlib.rcParams['figure.figsize'] = [16, 8]\n",
    "import pandas as pd\n",
    "import numpy as np\n",
    "import warnings\n",
    "warnings.filterwarnings(\"ignore\")"
   ]
  },
  {
   "cell_type": "code",
   "execution_count": 9,
   "metadata": {},
   "outputs": [],
   "source": [
    "# All variables we concern about\n",
    "columnNames1 = [\"releaseNum\", \"1968ID\", \"personNumber\", \"gender\", \"marriage\", \"familyNumber\", \"sequenceNum\", \n",
    "               \"relationToHead\", \"age\", 'employmentStatus', \"education\", \"nonHeadlaborIncome\"]\n",
    "\n",
    "columnNames2 = [\"releaseNum\", \"1968ID\", \"personNumber\", \"gender\", \"marriage\", \"familyNumber\", \"sequenceNum\", \n",
    "               \"relationToHead\", \"age\", 'employmentStatus', \"education\"]\n",
    "\n",
    "FcolumnNames1999_2001 = ['releaseNum', 'familyID', 'composition', 'headCount', 'ageHead', 'maritalStatus', 'employmentStatus', \n",
    "               'liquidWealth', 'race', 'industry' ,'geoCode','incomeHead', \"incomeWife\", \n",
    "               'foodCost', 'houseCost', 'transCost', 'educationCost', 'childCost', 'healthCost', 'education', \n",
    "               'participation', 'investmentAmount', 'annuityIRA', 'wealthWithoutHomeEquity', \"wealthWithHomeEquity\"]\n",
    "\n",
    "FcolumnNames2003_2007 = ['releaseNum', 'familyID', 'composition', 'headCount', 'ageHead', 'maritalStatus', 'employmentStatus', \n",
    "               'liquidWealth', 'race', 'industry', 'incomeHead', \"incomeWife\", \n",
    "               'foodCost', 'houseCost', 'transCost', 'educationCost', 'childCost', 'healthCost', 'geoCode', 'education', \n",
    "               'participation', 'investmentAmount', 'annuityIRA', 'wealthWithoutHomeEquity', \"wealthWithHomeEquity\"]\n",
    "\n",
    "FcolumnNames2019 = ['releaseNum', 'familyID', 'composition', 'headCount', 'ageHead', 'maritalStatus', 'employmentStatus', \n",
    "               'liquidWealth', 'race', 'industry' ,'incomeHead', 'incomeWife', \n",
    "               'participation', 'investmentAmount', 'annuityIRA', 'wealthWithoutHomeEquity', 'wealthWithHomeEquity',\n",
    "               'foodCost', 'houseCost', 'transCost', 'educationCost', 'childCost', 'healthCost', 'geoCode', 'education']\n",
    "# The timeline we care about\n",
    "years = [1999, 2001, 2003, 2005, 2007, 2009, 2011, 2013, 2015, 2017]\n",
    "\n",
    "# The function used to complile all years data into one dataFrame, \n",
    "# the input \"features\" is a list of features.\n",
    "def compile_data_with_features(features, years):\n",
    "    df = pd.DataFrame()\n",
    "    # Loading the data through years\n",
    "    for year in years:\n",
    "        df_sub = pd.read_excel(\"individual/\" + str(year) + \".xlsx\")\n",
    "        if year >= 2005:\n",
    "            df_sub.columns = columnNames1\n",
    "            df_sub['year'] = year\n",
    "            df = pd.concat([df, df_sub[['year'] + features + [\"nonHeadlaborIncome\"]]])\n",
    "        else:\n",
    "            df_sub.columns = columnNames2\n",
    "            df_sub['year'] = year\n",
    "            df = pd.concat([df, df_sub[['year'] + features]])\n",
    "    df = df.reset_index(drop = True)\n",
    "    return df\n",
    "\n",
    "def Fcompile_data_with_features(features, years):\n",
    "    df = pd.DataFrame()\n",
    "    # Loading the data through years\n",
    "    for year in years:\n",
    "        df_sub = pd.read_excel(\"family/\" + str(year) + \".xlsx\")\n",
    "        if year >= 1999 and year <= 2001:\n",
    "            df_sub.columns = FcolumnNames1999_2001\n",
    "        elif year >= 2003 and year <= 2007:\n",
    "            df_sub.columns = FcolumnNames2003_2007\n",
    "        else:\n",
    "            df_sub.columns = FcolumnNames2019\n",
    "        df_sub['year'] = year\n",
    "        df = pd.concat([df, df_sub[['familyID','year'] + features]])\n",
    "    df = df.reset_index(drop = True)\n",
    "    return df\n",
    "\n",
    "# The function is used to drop the values we do not like in the dataFrame, \n",
    "# the input \"features\" and \"values\" are both list\n",
    "def drop_values(features, values, df): \n",
    "    for feature in features:\n",
    "        for value in values:\n",
    "            df = df[df[feature] != value]\n",
    "    df = df.reset_index(drop = True)\n",
    "    return df"
   ]
  },
  {
   "cell_type": "markdown",
   "metadata": {},
   "source": [
    "### Individual Data"
   ]
  },
  {
   "cell_type": "code",
   "execution_count": 10,
   "metadata": {},
   "outputs": [
    {
     "name": "stdout",
     "output_type": "stream",
     "text": [
      "Number of heads with complete data:  3074\n"
     ]
    }
   ],
   "source": [
    "Idf = compile_data_with_features([\"1968ID\", \"personNumber\", \"familyNumber\",\"gender\", \"marriage\", \n",
    "                                  \"age\", 'employmentStatus', \"education\", \"relationToHead\"], years)\n",
    "Idf[\"ID\"] = Idf[\"1968ID\"]* 1000 + Idf[\"personNumber\"]\n",
    "# pick out the head in the individual\n",
    "df_head = Idf[Idf[\"relationToHead\"] == 10]\n",
    "df_head = df_head.reset_index(drop = True)\n",
    "# compile individuals with all 10 years data.\n",
    "completeIndividualData = []\n",
    "for ID, value in df_head.groupby(\"ID\"):\n",
    "    if len(value) == len(years):\n",
    "        completeIndividualData.append(value)\n",
    "print(\"Number of heads with complete data: \", len(completeIndividualData))"
   ]
  },
  {
   "cell_type": "markdown",
   "metadata": {},
   "source": [
    "### Family Data"
   ]
  },
  {
   "cell_type": "code",
   "execution_count": 11,
   "metadata": {},
   "outputs": [],
   "source": [
    "# prepare the combined dataset and set up dummy variables for qualitative data\n",
    "df = Fcompile_data_with_features(['composition', 'headCount', 'ageHead', 'maritalStatus', 'employmentStatus', \n",
    "                                   'liquidWealth', 'race', 'industry' ,'geoCode','incomeHead', \"incomeWife\", \n",
    "                                   'foodCost', 'houseCost', 'transCost', 'educationCost', 'childCost', \n",
    "                                 'healthCost', 'education', 'participation', 'investmentAmount', 'annuityIRA', \n",
    "                                 'wealthWithoutHomeEquity', \"wealthWithHomeEquity\"], years)"
   ]
  },
  {
   "cell_type": "code",
   "execution_count": 12,
   "metadata": {},
   "outputs": [
    {
     "data": {
      "text/plain": [
       "(83831, 25)"
      ]
     },
     "execution_count": 12,
     "metadata": {},
     "output_type": "execute_result"
    }
   ],
   "source": [
    "df.shape"
   ]
  },
  {
   "cell_type": "code",
   "execution_count": 13,
   "metadata": {},
   "outputs": [],
   "source": [
    "df = drop_values([\"ageHead\"],[999], df)\n",
    "df = drop_values([\"maritalStatus\"],[8,9], df)\n",
    "df = drop_values([\"employmentStatus\"],[0, 22, 98, 99], df)\n",
    "df = drop_values([\"liquidWealth\"],[999999998,999999999], df)\n",
    "df = drop_values([\"race\"],[0,8,9], df)\n",
    "df = drop_values([\"industry\"],[999,0], df)\n",
    "df = drop_values([\"education\"],[99,0], df)\n",
    "df[\"totalExpense\"] = df[['foodCost', 'houseCost', 'transCost', \n",
    "                                      'educationCost', 'childCost', 'healthCost']].sum(axis = 1)\n",
    "df[\"laborIncome\"] = df[\"incomeHead\"] + df[\"incomeWife\"]\n",
    "df[\"costPerPerson\"] = df[\"totalExpense\"]/df[\"headCount\"]\n",
    "\n",
    "\n",
    "\n",
    "maritalStatus = [\"Married\", \"neverMarried\", \"Widowed\", \"Divorced\", \"Separated\"]\n",
    "employmentStatus = [\"Working\", \"temporalLeave\", \"unemployed\", \"retired\", \"disabled\", \"keepHouse\", \"student\", \"other\"]\n",
    "race = [\"White\", \"Black\",\"AmericanIndian\",\"Asian\",\"Latino\",\"otherBW\",\"otherRace\"]\n",
    "# Education\n",
    "# < 8th grade: middle school\n",
    "# >= 8 and < 12: high scho0l\n",
    "# >=12 and < 15: college\n",
    "# >= 15 post graduate\n",
    "education = [\"middleSchool\", \"highSchool\", \"college\", \"postGraduate\"]\n",
    "# Industry\n",
    "# < 400 manufacturing\n",
    "# >= 400 and < 500 publicUtility\n",
    "# >= 500 and < 680 retail \n",
    "# >= 680 and < 720 finance\n",
    "# >= 720 and < 900 service\n",
    "# >= 900 otherIndustry\n",
    "industry = [\"manufacturing\", \"publicUtility\", \"retail\", \"finance\", \"service\", \"otherIndustry\"]\n",
    "data = []\n",
    "for i in range(len(df)):\n",
    "    dataCollect = []\n",
    "    # marital status\n",
    "    dataCollect.append(maritalStatus[int(df.iloc[i][\"maritalStatus\"]-1)])\n",
    "    # employment\n",
    "    dataCollect.append(employmentStatus[int(df.iloc[i][\"employmentStatus\"]-1)])\n",
    "    # race\n",
    "    dataCollect.append(race[int(df.iloc[i][\"race\"] - 1)])\n",
    "    # Education variable \n",
    "    if df.iloc[i][\"education\"] < 8:\n",
    "        dataCollect.append(education[0])\n",
    "    elif df.iloc[i][\"education\"] >= 8 and df.iloc[i][\"education\"] < 12:\n",
    "        dataCollect.append(education[1])\n",
    "    elif df.iloc[i][\"education\"] >= 12 and df.iloc[i][\"education\"] < 15:\n",
    "        dataCollect.append(education[2])\n",
    "    else:\n",
    "        dataCollect.append(education[3])\n",
    "    # industry variable \n",
    "    if df.iloc[i][\"industry\"] < 400:\n",
    "        dataCollect.append(industry[0])\n",
    "    elif df.iloc[i][\"industry\"] >= 400 and df.iloc[i][\"industry\"] < 500:\n",
    "        dataCollect.append(industry[1])\n",
    "    elif df.iloc[i][\"industry\"] >= 500 and df.iloc[i][\"industry\"] < 680:\n",
    "        dataCollect.append(industry[2])\n",
    "    elif df.iloc[i][\"industry\"] >= 680 and df.iloc[i][\"industry\"] < 720:\n",
    "        dataCollect.append(industry[3])\n",
    "    elif df.iloc[i][\"industry\"] >= 720 and df.iloc[i][\"industry\"] < 900:\n",
    "        dataCollect.append(industry[4])\n",
    "    else:\n",
    "        dataCollect.append(industry[5])\n",
    "    data.append(dataCollect)\n",
    "# Categorical dataFrame\n",
    "df_cat = pd.DataFrame(data, columns = [\"maritalStatus\", \"employmentStatus\", \"race\", \"education\", \"industry\"])"
   ]
  },
  {
   "cell_type": "code",
   "execution_count": 14,
   "metadata": {},
   "outputs": [],
   "source": [
    "Fdf = pd.concat([df[[\"familyID\", \"year\",'composition', 'headCount', 'ageHead', 'liquidWealth', 'laborIncome', \n",
    "                     \"costPerPerson\",\"totalExpense\", 'participation', 'investmentAmount', 'annuityIRA', \n",
    "                                 'wealthWithoutHomeEquity', \"wealthWithHomeEquity\"]], \n",
    "                          df_cat[[\"maritalStatus\", \"employmentStatus\", \"education\",\"race\", \"industry\"]]], axis=1)\n",
    "# Adjust for inflation. \n",
    "years = [1999, 2001, 2003, 2005, 2007, 2009, 2011, 2013, 2015, 2017]\n",
    "values_at2020 = np.array([1.55, 1.46, 1.40, 1.32, 1.24, 1.20, 1.15, 1.11, 1.09, 1.05])\n",
    "values_at2005 = values_at2020/1.32\n",
    "quantVariables = ['annuityIRA', 'investmentAmount', 'liquidWealth', 'laborIncome', 'costPerPerson','costPerPerson',\n",
    "                 'totalExpense', 'wealthWithoutHomeEquity', 'wealthWithHomeEquity']\n",
    "for i in range(len(Fdf)):\n",
    "    for variable in quantVariables:\n",
    "        Fdf.at[i, variable] = round(Fdf.at[i, variable] * values_at2005[years.index(Fdf.at[i,\"year\"])], 2)"
   ]
  },
  {
   "cell_type": "code",
   "execution_count": 15,
   "metadata": {},
   "outputs": [],
   "source": [
    "Fdf_20_80 = Fdf[(Fdf[\"ageHead\"] >= 20) & (Fdf[\"ageHead\"] <= 80)]"
   ]
  },
  {
   "cell_type": "code",
   "execution_count": 16,
   "metadata": {},
   "outputs": [
    {
     "data": {
      "image/png": "[encoded data removed]",
      "text/plain": [
       "<Figure size 1152x576 with 1 Axes>"
      ]
     },
     "metadata": {
      "needs_background": "light"
     },
     "output_type": "display_data"
    }
   ],
   "source": [
    "plt.title(\"Participation ratio over different age groups\")\n",
    "Fdf_20_80.groupby(\"ageHead\").participation.mean().plot.bar(color = \"blue\")\n",
    "savefig('ageParticipation.jpg')"
   ]
  },
  {
   "cell_type": "code",
   "execution_count": 28,
   "metadata": {},
   "outputs": [
    {
     "data": {
      "image/png": "[encoded data removed]",
      "text/plain": [
       "<Figure size 1152x576 with 1 Axes>"
      ]
     },
     "metadata": {
      "needs_background": "light"
     },
     "output_type": "display_data"
    }
   ],
   "source": [
    "plt.title(\"Participation ratio over different edcucation backgrounds\")\n",
    "Fdf_20_80.groupby(\"education\").participation.mean().reindex([\"middleSchool\", \"highSchool\", \"college\", \"postGraduate\"]).plot.bar(color = \"blue\",rot=0)\n",
    "savefig('educationParticipation.jpg')"
   ]
  },
  {
   "cell_type": "code",
   "execution_count": 18,
   "metadata": {},
   "outputs": [
    {
     "data": {
      "image/png": "[encoded data removed]",
      "text/plain": [
       "<Figure size 1152x576 with 1 Axes>"
      ]
     },
     "metadata": {
      "needs_background": "light"
     },
     "output_type": "display_data"
    }
   ],
   "source": [
    "plt.title(\"Participation ratio over different employment status\")\n",
    "Fdf_20_80.groupby(\"employmentStatus\").participation.mean().plot.bar(color = \"blue\",rot=0)\n",
    "savefig('employmentParticipation.jpg')"
   ]
  },
  {
   "cell_type": "code",
   "execution_count": 19,
   "metadata": {},
   "outputs": [
    {
     "data": {
      "image/png": "[encoded data removed]",
      "text/plain": [
       "<Figure size 1152x576 with 1 Axes>"
      ]
     },
     "metadata": {
      "needs_background": "light"
     },
     "output_type": "display_data"
    }
   ],
   "source": [
    "plt.title(\"Participation ratio over different employment industry\")\n",
    "Fdf_20_80.groupby(\"industry\").participation.mean().plot.bar(color = \"blue\",rot=0)\n",
    "savefig('industryParticipation.jpg')"
   ]
  },
  {
   "cell_type": "code",
   "execution_count": 20,
   "metadata": {},
   "outputs": [],
   "source": [
    "Fdf_p = Fdf_20_80[Fdf_20_80.participation == 1]"
   ]
  },
  {
   "cell_type": "code",
   "execution_count": 21,
   "metadata": {},
   "outputs": [],
   "source": [
    "Fdf_np = Fdf_20_80[Fdf_20_80.participation == 0]"
   ]
  },
  {
   "cell_type": "code",
   "execution_count": 22,
   "metadata": {},
   "outputs": [
    {
     "data": {
      "image/png": "[encoded data removed]",
      "text/plain": [
       "<Figure size 1152x576 with 1 Axes>"
      ]
     },
     "metadata": {
      "needs_background": "light"
     },
     "output_type": "display_data"
    }
   ],
   "source": [
    "plt.title(\"Mean wealth level over different age groups with active and inactive stock market participation\")\n",
    "Fdf_p.groupby(\"ageHead\").wealthWithHomeEquity.mean().plot(label = \"active stock market participant\")\n",
    "Fdf_np.groupby(\"ageHead\").wealthWithHomeEquity.mean().plot(label = \"inactive stock market participant\")\n",
    "plt.legend()\n",
    "savefig('wealthAccumulation.jpg')"
   ]
  },
  {
   "cell_type": "markdown",
   "metadata": {},
   "source": [
    "### Link Family Data with Individual Head Data"
   ]
  },
  {
   "cell_type": "code",
   "execution_count": null,
   "metadata": {},
   "outputs": [],
   "source": [
    "completeFamilyData = []\n",
    "for individual in completeIndividualData:\n",
    "    idf = pd.DataFrame()\n",
    "    for i in range(len(individual)): \n",
    "        idf = pd.concat([idf, Fdf[(Fdf.year == individual.iloc[i].year)&\n",
    "                                (Fdf.familyID == individual.iloc[i].familyNumber)]])\n",
    "    completeFamilyData.append(idf.set_index(\"year\", drop = True))"
   ]
  },
  {
   "cell_type": "code",
   "execution_count": null,
   "metadata": {},
   "outputs": [],
   "source": [
    "FamilyData = [f for f in completeFamilyData if len(f) == len(years)]\n",
    "len(FamilyData)"
   ]
  },
  {
   "cell_type": "code",
   "execution_count": null,
   "metadata": {},
   "outputs": [],
   "source": [
    "# skilled definition with college and postGraduate\n",
    "skilled_index = []\n",
    "for i in range(1973):\n",
    "    if \"postGraduate\" in FamilyData[i].education.values or \"college\" in FamilyData[i].education.values:\n",
    "        skilled_index.append(i)\n",
    "len(skilled_index)"
   ]
  },
  {
   "cell_type": "code",
   "execution_count": null,
   "metadata": {},
   "outputs": [],
   "source": [
    "# skilled definition with postGraduate\n",
    "skilled_index = []\n",
    "for i in range(1973):\n",
    "    if \"postGraduate\" in FamilyData[i].education.values:\n",
    "        skilled_index.append(i)\n",
    "len(skilled_index)"
   ]
  },
  {
   "cell_type": "code",
   "execution_count": null,
   "metadata": {},
   "outputs": [],
   "source": [
    "# working in the finance industry\n",
    "finance_index = []\n",
    "for i in range(1973):\n",
    "    if \"finance\" in FamilyData[i].industry.values:\n",
    "        finance_index.append(i)\n",
    "len(finance_index)"
   ]
  },
  {
   "cell_type": "code",
   "execution_count": null,
   "metadata": {},
   "outputs": [],
   "source": [
    "a = FamilyData[randint(0, 1973)]\n",
    "a"
   ]
  },
  {
   "cell_type": "markdown",
   "metadata": {},
   "source": [
    "# Individual plot"
   ]
  },
  {
   "cell_type": "code",
   "execution_count": null,
   "metadata": {},
   "outputs": [],
   "source": [
    "def inFeaturePlot(FamilyData, feature, n):\n",
    "    plt.figure()\n",
    "    for i in range(n[0],n[1]):\n",
    "        FamilyData[i][feature].plot(marker='o')\n",
    "    plt.show()\n",
    "\n",
    "def plotFeatureVsAge(FamilyData, feature, n):\n",
    "    plt.figure()\n",
    "    for i in range(n[0],n[1]):\n",
    "        plt.plot(FamilyData[i].ageHead, FamilyData[i][feature], marker = 'o')\n",
    "    plt.show()"
   ]
  },
  {
   "cell_type": "code",
   "execution_count": null,
   "metadata": {},
   "outputs": [],
   "source": [
    "inFeaturePlot(FamilyData,\"laborIncome\" , [1,100])"
   ]
  },
  {
   "cell_type": "markdown",
   "metadata": {},
   "source": [
    "# Average variable plot"
   ]
  },
  {
   "cell_type": "code",
   "execution_count": null,
   "metadata": {},
   "outputs": [],
   "source": [
    "def plotFeature(FamilyData, feature):\n",
    "    df = FamilyData[0][feature] * 0\n",
    "    for i in range(len(FamilyData)):\n",
    "        df = df + FamilyData[i][feature]\n",
    "    df = df/len(FamilyData)\n",
    "    df.plot(marker='o')\n",
    "    print(df)"
   ]
  },
  {
   "cell_type": "code",
   "execution_count": null,
   "metadata": {},
   "outputs": [],
   "source": [
    "# laborIncome\n",
    "plotFeature(FamilyData, \"laborIncome\")"
   ]
  },
  {
   "cell_type": "code",
   "execution_count": null,
   "metadata": {},
   "outputs": [],
   "source": [
    "# laborIncome\n",
    "plotFeature(FamilyData, \"investmentAmount\")"
   ]
  },
  {
   "cell_type": "code",
   "execution_count": null,
   "metadata": {},
   "outputs": [],
   "source": [
    "# Expenditure\n",
    "plotFeature(FamilyData, \"totalExpense\")"
   ]
  },
  {
   "cell_type": "code",
   "execution_count": null,
   "metadata": {},
   "outputs": [],
   "source": [
    "# wealthWithoutHomeEquity\n",
    "plotFeature(FamilyData, \"wealthWithoutHomeEquity\")"
   ]
  },
  {
   "cell_type": "code",
   "execution_count": null,
   "metadata": {},
   "outputs": [],
   "source": [
    "# wealthWithHomeEquity\n",
    "plotFeature(FamilyData, \"wealthWithHomeEquity\")"
   ]
  },
  {
   "cell_type": "code",
   "execution_count": null,
   "metadata": {},
   "outputs": [],
   "source": [
    "plotFeature(FamilyData, \"annuityIRA\")"
   ]
  },
  {
   "cell_type": "markdown",
   "metadata": {},
   "source": [
    "## Compare The Distribution Over Age"
   ]
  },
  {
   "cell_type": "code",
   "execution_count": null,
   "metadata": {},
   "outputs": [],
   "source": [
    "df = Fdf[(Fdf[\"ageHead\"]>=20) & (Fdf[\"ageHead\"]<=80)]\n",
    "df[['liquidWealth', 'laborIncome', 'costPerPerson', 'totalExpense','investmentAmount', 'annuityIRA',\n",
    "       'wealthWithoutHomeEquity', 'wealthWithHomeEquity']] = df[['liquidWealth', 'laborIncome', 'costPerPerson', 'totalExpense','investmentAmount', 'annuityIRA',\n",
    "       'wealthWithoutHomeEquity', 'wealthWithHomeEquity']]/1000\n",
    "df.shape"
   ]
  },
  {
   "cell_type": "code",
   "execution_count": null,
   "metadata": {
    "scrolled": true
   },
   "outputs": [],
   "source": [
    "df.columns"
   ]
  },
  {
   "cell_type": "code",
   "execution_count": null,
   "metadata": {},
   "outputs": [],
   "source": [
    "ww = df.groupby(\"ageHead\")[\"liquidWealth\"].mean()\n",
    "nn = df.groupby(\"ageHead\")[\"annuityIRA\"].mean()\n",
    "cc = df.groupby(\"ageHead\")[\"totalExpense\"].mean()\n",
    "kk = df.groupby(\"ageHead\")[\"investmentAmount\"].mean()\n",
    "ytyt = df.groupby(\"ageHead\")[\"laborIncome\"].mean()"
   ]
  },
  {
   "cell_type": "code",
   "execution_count": null,
   "metadata": {},
   "outputs": [],
   "source": [
    "plt.figure(figsize = [14,8])\n",
    "plt.plot(ww, label = \"liquidWealth\")\n",
    "plt.plot(cc, label = \"Consumption\")\n",
    "plt.plot(kk, label = \"Stock\")\n",
    "plt.plot(nn, label = \"IRA\")\n",
    "plt.legend()"
   ]
  },
  {
   "cell_type": "code",
   "execution_count": null,
   "metadata": {},
   "outputs": [],
   "source": [
    "plt.plot(nn, label = \"IRA\")"
   ]
  },
  {
   "cell_type": "code",
   "execution_count": null,
   "metadata": {},
   "outputs": [],
   "source": [
    "np.save('nn',nn)"
   ]
  },
  {
   "cell_type": "code",
   "execution_count": null,
   "metadata": {},
   "outputs": [],
   "source": [
    "plt.style.use('ggplot')"
   ]
  },
  {
   "cell_type": "code",
   "execution_count": null,
   "metadata": {},
   "outputs": [],
   "source": [
    "Fdf.head(10)"
   ]
  },
  {
   "cell_type": "code",
   "execution_count": null,
   "metadata": {},
   "outputs": [],
   "source": [
    "Fdf.groupby(\"ageHead\").totalExpense.mean()[2:62].plot()\n",
    "Fdf.groupby(\"ageHead\").wealthWithoutHomeEquity.mean()[2:62].plot()"
   ]
  },
  {
   "cell_type": "code",
   "execution_count": null,
   "metadata": {},
   "outputs": [],
   "source": [
    "Fdf.groupby(\"ageHead\").wealthWithHomeEquity.quantile(0.25)[2:62].plot()\n",
    "Fdf.groupby(\"ageHead\").wealthWithHomeEquity.quantile(0.5)[2:62].plot()\n",
    "Fdf.groupby(\"ageHead\").wealthWithHomeEquity.quantile(0.75)[2:62].plot()"
   ]
  },
  {
   "cell_type": "code",
   "execution_count": null,
   "metadata": {},
   "outputs": [],
   "source": [
    "# Fdf.groupby(\"ageHead\").annuityIRA.quantile(0.25)[2:62].plot()\n",
    "# Fdf.groupby(\"ageHead\").annuityIRA.quantile(0.5)[2:62].plot()\n",
    "Fdf.groupby(\"ageHead\").annuityIRA.quantile(0.50)[2:62].plot()\n",
    "Fdf.groupby(\"ageHead\").annuityIRA.quantile(0.55)[2:62].plot()\n",
    "Fdf.groupby(\"ageHead\").annuityIRA.quantile(0.60)[2:62].plot()\n",
    "Fdf.groupby(\"ageHead\").annuityIRA.quantile(0.65)[2:62].plot()\n",
    "Fdf.groupby(\"ageHead\").annuityIRA.quantile(0.70)[2:62].plot()\n",
    "Fdf.groupby(\"ageHead\").annuityIRA.quantile(0.75)[2:62].plot()"
   ]
  },
  {
   "cell_type": "code",
   "execution_count": null,
   "metadata": {},
   "outputs": [],
   "source": []
  },
  {
   "cell_type": "code",
   "execution_count": null,
   "metadata": {},
   "outputs": [],
   "source": []
  },
  {
   "cell_type": "code",
   "execution_count": null,
   "metadata": {},
   "outputs": [],
   "source": []
  },
  {
   "cell_type": "code",
   "execution_count": null,
   "metadata": {},
   "outputs": [],
   "source": []
  },
  {
   "cell_type": "code",
   "execution_count": null,
   "metadata": {},
   "outputs": [],
   "source": []
  },
  {
   "cell_type": "code",
   "execution_count": null,
   "metadata": {},
   "outputs": [],
   "source": []
  },
  {
   "cell_type": "code",
   "execution_count": null,
   "metadata": {},
   "outputs": [],
   "source": []
  },
  {
   "cell_type": "code",
   "execution_count": null,
   "metadata": {},
   "outputs": [],
   "source": []
  },
  {
   "cell_type": "code",
   "execution_count": null,
   "metadata": {},
   "outputs": [],
   "source": []
  },
  {
   "cell_type": "code",
   "execution_count": null,
   "metadata": {},
   "outputs": [],
   "source": []
  },
  {
   "cell_type": "code",
   "execution_count": null,
   "metadata": {},
   "outputs": [],
   "source": []
  },
  {
   "cell_type": "code",
   "execution_count": null,
   "metadata": {},
   "outputs": [],
   "source": []
  },
  {
   "cell_type": "code",
   "execution_count": null,
   "metadata": {},
   "outputs": [],
   "source": []
  },
  {
   "cell_type": "code",
   "execution_count": null,
   "metadata": {},
   "outputs": [],
   "source": []
  },
  {
   "cell_type": "code",
   "execution_count": null,
   "metadata": {},
   "outputs": [],
   "source": []
  }
 ],
 "metadata": {
  "kernelspec": {
   "display_name": "Python 3",
   "language": "python",
   "name": "python3"
  },
  "language_info": {
   "codemirror_mode": {
    "name": "ipython",
    "version": 3
   },
   "file_extension": ".py",
   "mimetype": "text/x-python",
   "name": "python",
   "nbconvert_exporter": "python",
   "pygments_lexer": "ipython3",
   "version": "3.7.7"
  }
 },
 "nbformat": 4,
 "nbformat_minor": 4
}
