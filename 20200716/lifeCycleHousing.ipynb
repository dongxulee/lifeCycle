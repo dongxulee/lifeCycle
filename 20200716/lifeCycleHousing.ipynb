{
 "cells": [
  {
   "cell_type": "code",
   "execution_count": 10,
   "metadata": {},
   "outputs": [
    {
     "name": "stdout",
     "output_type": "stream",
     "text": [
      "Populating the interactive namespace from numpy and matplotlib\n"
     ]
    }
   ],
   "source": [
    "%pylab inline\n",
    "from scipy.interpolate import interpn\n",
    "from helpFunctions import surfacePlot\n",
    "import numpy as np\n",
    "from scipy import optimize\n",
    "from multiprocessing import Pool\n",
    "from functools import partial\n",
    "import warnings\n",
    "warnings.filterwarnings(\"ignore\")\n",
    "np.printoptions(precision=2)\n",
    "\n",
    "\n",
    "# time line\n",
    "T_min = 0\n",
    "T_max = 70\n",
    "T_R = 45\n",
    "# discounting factor\n",
    "beta = 1/(1+0.02)\n",
    "# utility function parameter \n",
    "gamma = 2\n",
    "# relative importance of housing consumption and non durable consumption \n",
    "alpha = 0.8\n",
    "# parameter used to calculate the housing consumption \n",
    "kappa = 0.3\n",
    "# depreciation parameter \n",
    "delta = 0.05\n",
    "# housing parameter \n",
    "chi = 0.3\n",
    "# uB associated parameter\n",
    "B = 2\n",
    "# minimum consumption \n",
    "c_bar = 3\n",
    "# All the money amount are denoted in thousand dollars\n",
    "earningShock = [0.8,1.2]\n",
    "# Define transition matrix of economical states\n",
    "# GOOD -> GOOD 0.8, BAD -> BAD 0.6\n",
    "Ps = np.array([[0.6, 0.4],[0.2, 0.8]])\n",
    "# current risk free interest rate\n",
    "r_f = np.array([0.01 ,0.03])\n",
    "# stock return depends on current and future econ states\n",
    "# r_m = np.array([[-0.2, 0.15],[-0.15, 0.2]])\n",
    "r_m = np.array([[-0.15, 0.20],[-0.15, 0.20]])\n",
    "# expected return on stock market\n",
    "# r_bar = 0.0667\n",
    "r_n = 0.02\n",
    "# probability of survival\n",
    "Pa = np.load(\"prob.npy\")\n",
    "# deterministic income\n",
    "detEarning = np.load(\"detEarning.npy\")\n",
    "# probability of employment transition Pe[s, s_next, e, e_next]\n",
    "Pe = np.array([[[[0.3, 0.7], [0.1, 0.9]], [[0.25, 0.75], [0.05, 0.95]]],\n",
    "               [[[0.25, 0.75], [0.05, 0.95]], [[0.2, 0.8], [0.01, 0.99]]]])\n",
    "# tax rate before and after retirement\n",
    "tau_L = 0.2\n",
    "tau_R = 0.1\n",
    "\n",
    "# constant state variables: Purchase value 250k, down payment 50k, mortgage 200k, interest rate 3.6%,\n",
    "# 55 payment period, 8.4k per period. One housing unit is roughly 1 square feet. Housing price 0.25k/sf \n",
    "\n",
    "# owning a house \n",
    "O_lag = 1\n",
    "# housing unit\n",
    "H = 1000\n",
    "# mortgate rate \n",
    "r = 0.036\n",
    "# mortgate payment \n",
    "m = 8.4\n",
    "# housing price constant \n",
    "pt = 250/1000\n",
    "# 30k rent 1000 sf\n",
    "pr = 30/1000"
   ]
  },
  {
   "cell_type": "code",
   "execution_count": null,
   "metadata": {},
   "outputs": [],
   "source": []
  },
  {
   "cell_type": "code",
   "execution_count": null,
   "metadata": {},
   "outputs": [],
   "source": []
  },
  {
   "cell_type": "code",
   "execution_count": null,
   "metadata": {},
   "outputs": [],
   "source": []
  },
  {
   "cell_type": "code",
   "execution_count": null,
   "metadata": {},
   "outputs": [],
   "source": []
  },
  {
   "cell_type": "code",
   "execution_count": null,
   "metadata": {},
   "outputs": [],
   "source": []
  },
  {
   "cell_type": "code",
   "execution_count": null,
   "metadata": {},
   "outputs": [],
   "source": []
  },
  {
   "cell_type": "code",
   "execution_count": null,
   "metadata": {},
   "outputs": [],
   "source": []
  },
  {
   "cell_type": "code",
   "execution_count": null,
   "metadata": {},
   "outputs": [],
   "source": []
  },
  {
   "cell_type": "code",
   "execution_count": null,
   "metadata": {},
   "outputs": [],
   "source": []
  }
 ],
 "metadata": {
  "kernelspec": {
   "display_name": "Python 3",
   "language": "python",
   "name": "python3"
  },
  "language_info": {
   "codemirror_mode": {
    "name": "ipython",
    "version": 3
   },
   "file_extension": ".py",
   "mimetype": "text/x-python",
   "name": "python",
   "nbconvert_exporter": "python",
   "pygments_lexer": "ipython3",
   "version": "3.7.4"
  }
 },
 "nbformat": 4,
 "nbformat_minor": 4
}
