{
 "cells": [
  {
   "cell_type": "code",
   "execution_count": 13,
   "metadata": {},
   "outputs": [
    {
     "name": "stdout",
     "output_type": "stream",
     "text": [
      "Populating the interactive namespace from numpy and matplotlib\n"
     ]
    }
   ],
   "source": [
    "# infinite horizon MDP problem\n",
    "%pylab inline\n",
    "import numpy as np\n",
    "from scipy.optimize import minimize\n",
    "import warnings\n",
    "warnings.filterwarnings(\"ignore\")\n",
    "\n",
    "# discounting factor \n",
    "beta = 0.95\n",
    "alpha = 0.7\n",
    "# wealth level\n",
    "eps = 0.001\n",
    "k_low = eps\n",
    "k_high = 10\n",
    "# interest rate\n",
    "r = 0.05\n",
    "# depreciation\n",
    "delta = 0.05\n",
    "# good state and bad state economy with equal probability 0.5\n",
    "# with good investment return 0.02 or bad investment return -0.01\n",
    "ks = np.linspace(k_low, k_high**(0.5),100)**2\n",
    "Vs = np.zeros(100)\n",
    "Cs = np.zeros(100)\n",
    "\n",
    "def u(c):\n",
    "    return np.log(c)"
   ]
  },
  {
   "cell_type": "code",
   "execution_count": 19,
   "metadata": {},
   "outputs": [
    {
     "name": "stdout",
     "output_type": "stream",
     "text": [
      "0\n",
      "10\n",
      "20\n",
      "30\n",
      "40\n",
      "50\n",
      "60\n",
      "70\n",
      "80\n",
      "90\n",
      "converge! \n"
     ]
    }
   ],
   "source": [
    "Vs_new = np.copy(Vs) + 1\n",
    "# Value iteration\n",
    "for j in range(100):\n",
    "    if j % 10 == 0:\n",
    "        print(j)\n",
    "    if max(abs(Vs_new - Vs)) < eps:\n",
    "        print(\"converge! \")\n",
    "        break \n",
    "    else:\n",
    "        Vs = np.copy(Vs_new)\n",
    "    for i in range(len(ks)):\n",
    "        k = ks[i]\n",
    "        def obj(c):\n",
    "            return -(u(c) + beta*(np.interp((1-delta)*k + (1+r)*(k**alpha - c), ks, Vs) + \n",
    "                     np.interp((1-delta)*k + (1-r)*(k**alpha - c), ks, Vs))/2)\n",
    "        bounds = [(0, k**alpha)]\n",
    "        res = minimize(obj, eps, method='SLSQP', bounds=bounds)\n",
    "        Cs[i] = res.x[0]\n",
    "        Vs_new[i] = -res.fun"
   ]
  },
  {
   "cell_type": "code",
   "execution_count": 20,
   "metadata": {},
   "outputs": [
    {
     "data": {
      "text/plain": [
       "[<matplotlib.lines.Line2D at 0x7fad644db4d0>]"
      ]
     },
     "execution_count": 20,
     "metadata": {},
     "output_type": "execute_result"
    },
    {
     "data": {
      "image/png": "[encoded data removed]",
      "text/plain": [
       "<Figure size 432x288 with 1 Axes>"
      ]
     },
     "metadata": {
      "needs_background": "light"
     },
     "output_type": "display_data"
    }
   ],
   "source": [
    "plt.plot(ks,Vs)"
   ]
  },
  {
   "cell_type": "code",
   "execution_count": 27,
   "metadata": {},
   "outputs": [
    {
     "data": {
      "text/plain": [
       "[<matplotlib.lines.Line2D at 0x7fad6430b1d0>]"
      ]
     },
     "execution_count": 27,
     "metadata": {},
     "output_type": "execute_result"
    },
    {
     "data": {
      "image/png": "[encoded data removed]",
      "text/plain": [
       "<Figure size 432x288 with 1 Axes>"
      ]
     },
     "metadata": {
      "needs_background": "light"
     },
     "output_type": "display_data"
    }
   ],
   "source": [
    "plt.plot(ks, Cs/ks**alpha)"
   ]
  },
  {
   "cell_type": "code",
   "execution_count": 28,
   "metadata": {},
   "outputs": [
    {
     "data": {
      "text/plain": [
       "[<matplotlib.lines.Line2D at 0x7fad64277c10>]"
      ]
     },
     "execution_count": 28,
     "metadata": {},
     "output_type": "execute_result"
    },
    {
     "data": {
      "image/png": "[encoded data removed]",
      "text/plain": [
       "<Figure size 432x288 with 1 Axes>"
      ]
     },
     "metadata": {
      "needs_background": "light"
     },
     "output_type": "display_data"
    }
   ],
   "source": [
    "plt.plot(ks,Cs)"
   ]
  },
  {
   "cell_type": "code",
   "execution_count": null,
   "metadata": {},
   "outputs": [],
   "source": []
  }
 ],
 "metadata": {
  "kernelspec": {
   "display_name": "Python 3",
   "language": "python",
   "name": "python3"
  },
  "language_info": {
   "codemirror_mode": {
    "name": "ipython",
    "version": 3
   },
   "file_extension": ".py",
   "mimetype": "text/x-python",
   "name": "python",
   "nbconvert_exporter": "python",
   "pygments_lexer": "ipython3",
   "version": "3.7.7"
  }
 },
 "nbformat": 4,
 "nbformat_minor": 4
}
