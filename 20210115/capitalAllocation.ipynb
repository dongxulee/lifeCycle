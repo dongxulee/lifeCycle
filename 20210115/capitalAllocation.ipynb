{
 "cells": [
  {
   "cell_type": "code",
   "execution_count": 35,
   "metadata": {},
   "outputs": [
    {
     "name": "stdout",
     "output_type": "stream",
     "text": [
      "Populating the interactive namespace from numpy and matplotlib\n"
     ]
    }
   ],
   "source": [
    "# infinite horizon MDP problem\n",
    "%pylab inline\n",
    "import numpy as np\n",
    "from scipy.optimize import minimize\n",
    "import warnings\n",
    "warnings.filterwarnings(\"ignore\")\n",
    "\n",
    "# discounting factor \n",
    "beta = 0.95\n",
    "gamma = 0.8\n",
    "# wealth level\n",
    "eps = 0.00001\n",
    "k_low = 0.01\n",
    "k_high = 10\n",
    "# grid size \n",
    "grid = 100\n",
    "ks = np.linspace(k_low, k_high**(0.5),grid)**2\n",
    "\n",
    "def u(c):\n",
    "    return np.log(c)"
   ]
  },
  {
   "cell_type": "code",
   "execution_count": 36,
   "metadata": {},
   "outputs": [
    {
     "name": "stdout",
     "output_type": "stream",
     "text": [
      "0\n",
      "100\n",
      "converge! \n"
     ]
    }
   ],
   "source": [
    "# depreciation\n",
    "delta = 0.5\n",
    "\n",
    "Vs = np.zeros(grid)\n",
    "Cs = np.zeros(grid)\n",
    "Vs_new = np.copy(Vs)+1\n",
    "# Value iteration\n",
    "for j in range(1000):\n",
    "    if j % 100 == 0:\n",
    "        print(j)\n",
    "    if max(abs(Vs_new - Vs)) < 0.01:\n",
    "        print(\"converge! \")\n",
    "        break\n",
    "    else:\n",
    "        Vs = np.copy(Vs_new)\n",
    "    for i in range(len(ks)):\n",
    "        k = ks[i]\n",
    "        def obj(c):\n",
    "            return -(u(c) + beta*(np.interp((1-delta)*k + (k**gamma - c), ks, Vs)))\n",
    "        bounds = [(0, k**gamma)]\n",
    "        res = minimize(obj, 0.01, method='SLSQP', bounds=bounds)\n",
    "        Cs[i] = res.x[0]\n",
    "        Vs_new[i] = -res.fun"
   ]
  },
  {
   "cell_type": "code",
   "execution_count": 37,
   "metadata": {},
   "outputs": [
    {
     "data": {
      "text/plain": [
       "[<matplotlib.lines.Line2D at 0x7fcc562364d0>]"
      ]
     },
     "execution_count": 37,
     "metadata": {},
     "output_type": "execute_result"
    },
    {
     "data": {
      "image/png": "[encoded data removed]",
      "text/plain": [
       "<Figure size 432x288 with 1 Axes>"
      ]
     },
     "metadata": {
      "needs_background": "light"
     },
     "output_type": "display_data"
    }
   ],
   "source": [
    "# plot (k vs k_prime)\n",
    "plt.plot(ks, (1-delta)*ks + (ks**gamma - Cs))\n",
    "plt.plot([0,k_high],[0,k_high] , \"r\")"
   ]
  },
  {
   "cell_type": "code",
   "execution_count": 38,
   "metadata": {},
   "outputs": [
    {
     "data": {
      "text/plain": [
       "[<matplotlib.lines.Line2D at 0x7fcc56365a10>]"
      ]
     },
     "execution_count": 38,
     "metadata": {},
     "output_type": "execute_result"
    },
    {
     "data": {
      "image/png": "[encoded data removed]",
      "text/plain": [
       "<Figure size 432x288 with 1 Axes>"
      ]
     },
     "metadata": {
      "needs_background": "light"
     },
     "output_type": "display_data"
    }
   ],
   "source": [
    "plt.plot(ks, Cs/(ks**gamma))"
   ]
  },
  {
   "cell_type": "code",
   "execution_count": null,
   "metadata": {},
   "outputs": [],
   "source": []
  },
  {
   "cell_type": "code",
   "execution_count": null,
   "metadata": {},
   "outputs": [],
   "source": []
  },
  {
   "cell_type": "markdown",
   "metadata": {},
   "source": [
    "### policy gradient\n",
    "Assume the policy form $\\theta = (a,b, \\sigma = 0.1)$, then $\\pi_\\theta$ ~ Beta($\\alpha$, $\\beta$)\n",
    "\n",
    "\n",
    "Assume the initial value $a_1 = 0$, $b_1 = 0$, $c_1 = 0$, $d_1 = 0$, $a_2 = 0$, $b_2 = 0$, $c_2 = 0$, $d_2 = 0$:\n",
    "$$\\alpha = log(1+ e^{a_1 x^3 + b_1 x^2 + c_1 x + d_1}) + 1 $$\n",
    "$$\\beta = log(1+ e^{a_2 x^3 + b_2 x^2 + c_2 x + d_2}) + 1 $$\n",
    "\n",
    "\n",
    "$$\\theta_{k+1} = \\theta_{k} + \\alpha  \\nabla_\\theta V(\\pi_\\theta)|\\theta_k$$"
   ]
  },
  {
   "cell_type": "code",
   "execution_count": 68,
   "metadata": {},
   "outputs": [],
   "source": [
    "T = 100\n",
    "def poly(the, w):\n",
    "    value = the[0]*(w**3) + the[1]*(w**2) +the[2]*w + the[3]\n",
    "    if isscalar(value):\n",
    "        return max(min(value, 2**32),0)\n",
    "    else:\n",
    "        np.clip(value, 0, 2**32, out=value)\n",
    "        return value\n",
    "\n",
    "# simulation step T = 100\n",
    "def a(theta, w):\n",
    "    value = np.log(1+np.exp(poly(theta[:4],w))) + 1\n",
    "    if isscalar(value):\n",
    "        return max(min(value, 100),1)\n",
    "    else:\n",
    "        np.clip(value, 1, 100, out=value)\n",
    "        return value\n",
    "\n",
    "def b(theta, w):\n",
    "    value = np.log(1+np.exp(poly(theta[4:],w))) + 1\n",
    "    if isscalar(value):\n",
    "        return max(min(value, 100),1)\n",
    "    else:\n",
    "        np.clip(value, 1, 100, out=value)\n",
    "        return value\n",
    "\n",
    "\n",
    "def simSinglePath(theta):\n",
    "    kPath = np.zeros(T)\n",
    "    aPath = np.zeros(T)\n",
    "    rPath = np.zeros(T)\n",
    "    k = np.random.choice(ks)\n",
    "    for t in range(T):\n",
    "        n = np.random.beta(a(theta, k), b(theta, k))\n",
    "        n = max(min(n,1-eps),eps)\n",
    "        c = n*(k**gamma)\n",
    "        kPath[t] = k\n",
    "        aPath[t] = n\n",
    "        rPath[t] = u(c)*(beta**t)\n",
    "        k = (1-delta)*k + (k**gamma-c)\n",
    "    return kPath, aPath, rPath\n",
    "\n",
    "def gradientV(theta, D = 10000):\n",
    "    '''\n",
    "        D is the sample size\n",
    "    '''\n",
    "    notValid = True\n",
    "    while notValid:\n",
    "        grad = np.zeros(len(theta))\n",
    "        newGrad = np.zeros(len(theta))\n",
    "        for d in range(D):\n",
    "            wp, ap, rp = simSinglePath(theta)\n",
    "            togoR = np.cumsum(rp[::-1])[::-1]\n",
    "            newGrad[0] = np.dot(np.log(ap)*(wp**3)/(1+np.exp(-poly(theta[:4],wp))), togoR)\n",
    "            newGrad[1] = np.dot(np.log(ap)*(wp**2)/(1+np.exp(-poly(theta[:4],wp))), togoR)\n",
    "            newGrad[2] = np.dot(np.log(ap)*(wp)/(1+np.exp(-poly(theta[:4],wp))), togoR)\n",
    "            newGrad[3] = np.dot(np.log(ap)*(1)/(1+np.exp(-poly(theta[:4],wp))), togoR)            \n",
    "            \n",
    "            newGrad[4] = np.dot(np.log(1-ap)*(wp**3)/(1+np.exp(-poly(theta[4:],wp))), togoR)\n",
    "            newGrad[5] = np.dot(np.log(1-ap)*(wp**2)/(1+np.exp(-poly(theta[4:],wp))), togoR)\n",
    "            newGrad[6] = np.dot(np.log(1-ap)*(wp)/(1+np.exp(-poly(theta[4:],wp))), togoR)\n",
    "            newGrad[7] = np.dot(np.log(1-ap)*(1)/(1+np.exp(-poly(theta[4:],wp))), togoR)\n",
    "                  \n",
    "            grad += newGrad\n",
    "        grad /= D\n",
    "        if numpy.isnan(grad).any() == False:\n",
    "            notValid = False\n",
    "    return grad\n",
    "\n",
    "def updateTheta(theta):\n",
    "    theta = theta + alpha * gradientV(theta)\n",
    "    return theta\n",
    "\n",
    "def plot(theta):\n",
    "    plt.plot(ks, Cs, 'b')\n",
    "    plt.plot(ks, a(theta,ks)/(a(theta,ks) + b(theta,ks))*(ks**gamma), 'r')"
   ]
  },
  {
   "cell_type": "code",
   "execution_count": 69,
   "metadata": {},
   "outputs": [
    {
     "name": "stdout",
     "output_type": "stream",
     "text": [
      "0\n",
      "[0.5, 0.5, 0.5, 0.5, 0.5, 0.5, 0.5, 0.5]\n"
     ]
    },
    {
     "data": {
      "image/png": "[encoded data removed]",
      "text/plain": [
       "<Figure size 432x288 with 1 Axes>"
      ]
     },
     "metadata": {
      "needs_background": "light"
     },
     "output_type": "display_data"
    }
   ],
   "source": [
    "# initial theta \n",
    "N = 10\n",
    "theta = [0.5]*8\n",
    "# gradient ascend step size \n",
    "alpha = 0.001\n",
    "# store theta\n",
    "THETA = np.zeros((len(theta),N))\n",
    "for i in range(N):\n",
    "    if i%10 ==0:\n",
    "        print(i)\n",
    "        print(theta)\n",
    "    theta = updateTheta(theta)\n",
    "    THETA[:,i] = theta\n",
    "    plot(theta)"
   ]
  },
  {
   "cell_type": "code",
   "execution_count": 70,
   "metadata": {},
   "outputs": [],
   "source": [
    "def V(theta,w):\n",
    "    value = 0\n",
    "    D = 1000\n",
    "    for d in range(D):\n",
    "        _, _, rp = simSinglePath(theta)\n",
    "        value += np.sum(rp)\n",
    "    value /= D\n",
    "    return value"
   ]
  },
  {
   "cell_type": "code",
   "execution_count": 71,
   "metadata": {},
   "outputs": [
    {
     "data": {
      "text/plain": [
       "-13.369404587004551"
      ]
     },
     "execution_count": 71,
     "metadata": {},
     "output_type": "execute_result"
    }
   ],
   "source": [
    "V(THETA[:,0], 5)"
   ]
  },
  {
   "cell_type": "code",
   "execution_count": 73,
   "metadata": {},
   "outputs": [
    {
     "data": {
      "text/plain": [
       "-13.009274271364507"
      ]
     },
     "execution_count": 73,
     "metadata": {},
     "output_type": "execute_result"
    }
   ],
   "source": [
    "V(THETA[:,9], 5)"
   ]
  },
  {
   "cell_type": "code",
   "execution_count": null,
   "metadata": {},
   "outputs": [],
   "source": []
  },
  {
   "cell_type": "code",
   "execution_count": null,
   "metadata": {},
   "outputs": [],
   "source": []
  },
  {
   "cell_type": "code",
   "execution_count": null,
   "metadata": {},
   "outputs": [],
   "source": []
  },
  {
   "cell_type": "code",
   "execution_count": null,
   "metadata": {},
   "outputs": [],
   "source": []
  },
  {
   "cell_type": "code",
   "execution_count": null,
   "metadata": {},
   "outputs": [],
   "source": []
  },
  {
   "cell_type": "code",
   "execution_count": null,
   "metadata": {},
   "outputs": [],
   "source": []
  },
  {
   "cell_type": "code",
   "execution_count": null,
   "metadata": {},
   "outputs": [],
   "source": []
  },
  {
   "cell_type": "code",
   "execution_count": null,
   "metadata": {},
   "outputs": [],
   "source": []
  },
  {
   "cell_type": "code",
   "execution_count": null,
   "metadata": {},
   "outputs": [],
   "source": []
  },
  {
   "cell_type": "code",
   "execution_count": null,
   "metadata": {},
   "outputs": [],
   "source": []
  },
  {
   "cell_type": "code",
   "execution_count": null,
   "metadata": {},
   "outputs": [],
   "source": []
  },
  {
   "cell_type": "code",
   "execution_count": null,
   "metadata": {},
   "outputs": [],
   "source": []
  },
  {
   "cell_type": "code",
   "execution_count": null,
   "metadata": {},
   "outputs": [],
   "source": []
  },
  {
   "cell_type": "code",
   "execution_count": null,
   "metadata": {},
   "outputs": [],
   "source": []
  },
  {
   "cell_type": "code",
   "execution_count": null,
   "metadata": {},
   "outputs": [],
   "source": []
  },
  {
   "cell_type": "code",
   "execution_count": null,
   "metadata": {},
   "outputs": [],
   "source": []
  },
  {
   "cell_type": "code",
   "execution_count": null,
   "metadata": {},
   "outputs": [],
   "source": []
  },
  {
   "cell_type": "code",
   "execution_count": null,
   "metadata": {},
   "outputs": [],
   "source": []
  },
  {
   "cell_type": "code",
   "execution_count": null,
   "metadata": {},
   "outputs": [],
   "source": []
  },
  {
   "cell_type": "code",
   "execution_count": null,
   "metadata": {},
   "outputs": [],
   "source": []
  },
  {
   "cell_type": "code",
   "execution_count": null,
   "metadata": {},
   "outputs": [],
   "source": []
  },
  {
   "cell_type": "code",
   "execution_count": null,
   "metadata": {},
   "outputs": [],
   "source": []
  },
  {
   "cell_type": "code",
   "execution_count": null,
   "metadata": {},
   "outputs": [],
   "source": []
  },
  {
   "cell_type": "code",
   "execution_count": null,
   "metadata": {},
   "outputs": [],
   "source": []
  },
  {
   "cell_type": "code",
   "execution_count": 6,
   "metadata": {},
   "outputs": [
    {
     "name": "stdout",
     "output_type": "stream",
     "text": [
      "approximate theta:  [ 3.30142149e-06 -7.16824121e-04  1.68536248e-01  1.12765628e-01]\n"
     ]
    },
    {
     "data": {
      "image/png": "[encoded data removed]",
      "text/plain": [
       "<Figure size 432x288 with 1 Axes>"
      ]
     },
     "metadata": {
      "needs_background": "light"
     },
     "output_type": "display_data"
    }
   ],
   "source": [
    "import scipy.optimize as optimization\n",
    "def func(x, a, b, c, d):\n",
    "    return a * (x**3) + b*(x**2) + c*(x) + d\n",
    "\n",
    "theta, cov = optimization.curve_fit(func, ks, Cs)\n",
    "\n",
    "def fun(x, theta):\n",
    "    a,b,c,d = theta\n",
    "    return func(x,a,b,c,d)\n",
    "plt.plot(ks, Cs, 'b')\n",
    "plt.plot(ks, fun(ks,theta), 'r')\n",
    "\n",
    "print(\"approximate theta: \", theta)"
   ]
  },
  {
   "cell_type": "code",
   "execution_count": 9,
   "metadata": {},
   "outputs": [],
   "source": [
    "T = 100\n",
    "sigma = 1\n",
    "\n",
    "def mu(x, theta):\n",
    "    return theta[0] * (x**3) + theta[1]*(x**2) + theta[2]*(x) + theta[3]\n",
    "\n",
    "\n",
    "def simSinglePath(theta):\n",
    "    kPath = np.zeros(T)\n",
    "    aPath = np.zeros(T)\n",
    "    rPath = np.zeros(T)\n",
    "    k = np.random.choice(ks)\n",
    "    for t in range(T):\n",
    "        c = np.random.normal(mu(k, theta), sigma)\n",
    "        c = max(min(c,k**gamma),eps)\n",
    "        if k**gamma < c:\n",
    "            c = k**gamma/2\n",
    "        kPath[t] = k\n",
    "        aPath[t] = c\n",
    "        rPath[t] = u(c)*(beta**t)\n",
    "        k = (1-delta)*k + (k**gamma-c)\n",
    "    return kPath, aPath, rPath\n",
    "\n",
    "def gradientV(theta, D = 1000):\n",
    "    '''\n",
    "        D is the sample size\n",
    "    '''\n",
    "    notValid = True\n",
    "    while notValid:\n",
    "        grad = np.zeros(len(theta))\n",
    "        newGrad = np.zeros(len(theta))\n",
    "        for d in range(D):\n",
    "            wp, ap, rp = simSinglePath(theta)\n",
    "            togoR = np.cumsum(rp[::-1])[::-1]\n",
    "            newGrad[0] = np.dot((ap-mu(wp,theta))*(wp**3), togoR)\n",
    "            newGrad[1] = np.dot((ap-mu(wp,theta))*(wp**2), togoR)\n",
    "            newGrad[2] = np.dot((ap-mu(wp,theta))*(wp), togoR)\n",
    "            newGrad[3] = np.dot((ap-mu(wp,theta))*1, togoR)\n",
    "            grad += newGrad\n",
    "        grad /= D\n",
    "        if numpy.isnan(grad).any() == False:\n",
    "            notValid = False\n",
    "    return grad\n",
    "\n",
    "def updateTheta(theta):\n",
    "    theta = theta + alpha * gradientV(theta)\n",
    "    return theta\n",
    "\n",
    "def plot(theta):\n",
    "    plt.plot(ks, Cs, 'b')\n",
    "    plt.plot(ks, mu(ks,theta), 'r')"
   ]
  },
  {
   "cell_type": "code",
   "execution_count": 12,
   "metadata": {
    "collapsed": true,
    "jupyter": {
     "outputs_hidden": true
    }
   },
   "outputs": [
    {
     "name": "stdout",
     "output_type": "stream",
     "text": [
      "0\n",
      "[0, 0, 0, 0]\n",
      "1\n",
      "[-3.68714322e+00 -8.36146332e-02 -2.32705178e-03 -8.41832651e-05]\n",
      "2\n",
      "[-1.52301635e+07 -2.29689627e+05 -3.92551688e+03 -7.79017416e+01]\n",
      "3\n",
      "[-7.15052912e+13 -1.05156236e+12 -1.74466378e+10 -3.36267948e+08]\n",
      "4\n",
      "[-3.36965291e+20 -4.93800566e+18 -8.16788860e+16 -1.57156613e+15]\n",
      "5\n",
      "[-1.66450426e+27 -2.41562231e+25 -3.96814003e+23 -7.60909833e+21]\n"
     ]
    },
    {
     "ename": "KeyboardInterrupt",
     "evalue": "",
     "output_type": "error",
     "traceback": [
      "\u001b[0;31m---------------------------------------------------------------------------\u001b[0m",
      "\u001b[0;31mKeyboardInterrupt\u001b[0m                         Traceback (most recent call last)",
      "\u001b[0;32m<ipython-input-12-3d915d889a01>\u001b[0m in \u001b[0;36m<module>\u001b[0;34m\u001b[0m\n\u001b[1;32m     10\u001b[0m         \u001b[0mprint\u001b[0m\u001b[0;34m(\u001b[0m\u001b[0mi\u001b[0m\u001b[0;34m)\u001b[0m\u001b[0;34m\u001b[0m\u001b[0;34m\u001b[0m\u001b[0m\n\u001b[1;32m     11\u001b[0m         \u001b[0mprint\u001b[0m\u001b[0;34m(\u001b[0m\u001b[0mtheta\u001b[0m\u001b[0;34m)\u001b[0m\u001b[0;34m\u001b[0m\u001b[0;34m\u001b[0m\u001b[0m\n\u001b[0;32m---> 12\u001b[0;31m     \u001b[0mtheta\u001b[0m \u001b[0;34m=\u001b[0m \u001b[0mupdateTheta\u001b[0m\u001b[0;34m(\u001b[0m\u001b[0mtheta\u001b[0m\u001b[0;34m)\u001b[0m\u001b[0;34m\u001b[0m\u001b[0;34m\u001b[0m\u001b[0m\n\u001b[0m\u001b[1;32m     13\u001b[0m     \u001b[0mTHETA\u001b[0m\u001b[0;34m[\u001b[0m\u001b[0;34m:\u001b[0m\u001b[0;34m,\u001b[0m\u001b[0mi\u001b[0m\u001b[0;34m]\u001b[0m \u001b[0;34m=\u001b[0m \u001b[0mtheta\u001b[0m\u001b[0;34m\u001b[0m\u001b[0;34m\u001b[0m\u001b[0m\n\u001b[1;32m     14\u001b[0m     \u001b[0mplot\u001b[0m\u001b[0;34m(\u001b[0m\u001b[0mtheta\u001b[0m\u001b[0;34m)\u001b[0m\u001b[0;34m\u001b[0m\u001b[0;34m\u001b[0m\u001b[0m\n",
      "\u001b[0;32m<ipython-input-9-135f24e7ccc1>\u001b[0m in \u001b[0;36mupdateTheta\u001b[0;34m(theta)\u001b[0m\n\u001b[1;32m     44\u001b[0m \u001b[0;34m\u001b[0m\u001b[0m\n\u001b[1;32m     45\u001b[0m \u001b[0;32mdef\u001b[0m \u001b[0mupdateTheta\u001b[0m\u001b[0;34m(\u001b[0m\u001b[0mtheta\u001b[0m\u001b[0;34m)\u001b[0m\u001b[0;34m:\u001b[0m\u001b[0;34m\u001b[0m\u001b[0;34m\u001b[0m\u001b[0m\n\u001b[0;32m---> 46\u001b[0;31m     \u001b[0mtheta\u001b[0m \u001b[0;34m=\u001b[0m \u001b[0mtheta\u001b[0m \u001b[0;34m+\u001b[0m \u001b[0malpha\u001b[0m \u001b[0;34m*\u001b[0m \u001b[0mgradientV\u001b[0m\u001b[0;34m(\u001b[0m\u001b[0mtheta\u001b[0m\u001b[0;34m)\u001b[0m\u001b[0;34m\u001b[0m\u001b[0;34m\u001b[0m\u001b[0m\n\u001b[0m\u001b[1;32m     47\u001b[0m     \u001b[0;32mreturn\u001b[0m \u001b[0mtheta\u001b[0m\u001b[0;34m\u001b[0m\u001b[0;34m\u001b[0m\u001b[0m\n\u001b[1;32m     48\u001b[0m \u001b[0;34m\u001b[0m\u001b[0m\n",
      "\u001b[0;32m<ipython-input-9-135f24e7ccc1>\u001b[0m in \u001b[0;36mgradientV\u001b[0;34m(theta, D)\u001b[0m\n\u001b[1;32m     31\u001b[0m         \u001b[0mnewGrad\u001b[0m \u001b[0;34m=\u001b[0m \u001b[0mnp\u001b[0m\u001b[0;34m.\u001b[0m\u001b[0mzeros\u001b[0m\u001b[0;34m(\u001b[0m\u001b[0mlen\u001b[0m\u001b[0;34m(\u001b[0m\u001b[0mtheta\u001b[0m\u001b[0;34m)\u001b[0m\u001b[0;34m)\u001b[0m\u001b[0;34m\u001b[0m\u001b[0;34m\u001b[0m\u001b[0m\n\u001b[1;32m     32\u001b[0m         \u001b[0;32mfor\u001b[0m \u001b[0md\u001b[0m \u001b[0;32min\u001b[0m \u001b[0mrange\u001b[0m\u001b[0;34m(\u001b[0m\u001b[0mD\u001b[0m\u001b[0;34m)\u001b[0m\u001b[0;34m:\u001b[0m\u001b[0;34m\u001b[0m\u001b[0;34m\u001b[0m\u001b[0m\n\u001b[0;32m---> 33\u001b[0;31m             \u001b[0mwp\u001b[0m\u001b[0;34m,\u001b[0m \u001b[0map\u001b[0m\u001b[0;34m,\u001b[0m \u001b[0mrp\u001b[0m \u001b[0;34m=\u001b[0m \u001b[0msimSinglePath\u001b[0m\u001b[0;34m(\u001b[0m\u001b[0mtheta\u001b[0m\u001b[0;34m)\u001b[0m\u001b[0;34m\u001b[0m\u001b[0;34m\u001b[0m\u001b[0m\n\u001b[0m\u001b[1;32m     34\u001b[0m             \u001b[0mtogoR\u001b[0m \u001b[0;34m=\u001b[0m \u001b[0mnp\u001b[0m\u001b[0;34m.\u001b[0m\u001b[0mcumsum\u001b[0m\u001b[0;34m(\u001b[0m\u001b[0mrp\u001b[0m\u001b[0;34m[\u001b[0m\u001b[0;34m:\u001b[0m\u001b[0;34m:\u001b[0m\u001b[0;34m-\u001b[0m\u001b[0;36m1\u001b[0m\u001b[0;34m]\u001b[0m\u001b[0;34m)\u001b[0m\u001b[0;34m[\u001b[0m\u001b[0;34m:\u001b[0m\u001b[0;34m:\u001b[0m\u001b[0;34m-\u001b[0m\u001b[0;36m1\u001b[0m\u001b[0;34m]\u001b[0m\u001b[0;34m\u001b[0m\u001b[0;34m\u001b[0m\u001b[0m\n\u001b[1;32m     35\u001b[0m             \u001b[0mnewGrad\u001b[0m\u001b[0;34m[\u001b[0m\u001b[0;36m0\u001b[0m\u001b[0;34m]\u001b[0m \u001b[0;34m=\u001b[0m \u001b[0mnp\u001b[0m\u001b[0;34m.\u001b[0m\u001b[0mdot\u001b[0m\u001b[0;34m(\u001b[0m\u001b[0;34m(\u001b[0m\u001b[0map\u001b[0m\u001b[0;34m-\u001b[0m\u001b[0mmu\u001b[0m\u001b[0;34m(\u001b[0m\u001b[0mwp\u001b[0m\u001b[0;34m,\u001b[0m\u001b[0mtheta\u001b[0m\u001b[0;34m)\u001b[0m\u001b[0;34m)\u001b[0m\u001b[0;34m*\u001b[0m\u001b[0;34m(\u001b[0m\u001b[0mwp\u001b[0m\u001b[0;34m**\u001b[0m\u001b[0;36m3\u001b[0m\u001b[0;34m)\u001b[0m\u001b[0;34m,\u001b[0m \u001b[0mtogoR\u001b[0m\u001b[0;34m)\u001b[0m\u001b[0;34m\u001b[0m\u001b[0;34m\u001b[0m\u001b[0m\n",
      "\u001b[0;32m<ipython-input-9-135f24e7ccc1>\u001b[0m in \u001b[0;36msimSinglePath\u001b[0;34m(theta)\u001b[0m\n\u001b[1;32m     12\u001b[0m     \u001b[0mk\u001b[0m \u001b[0;34m=\u001b[0m \u001b[0mnp\u001b[0m\u001b[0;34m.\u001b[0m\u001b[0mrandom\u001b[0m\u001b[0;34m.\u001b[0m\u001b[0mchoice\u001b[0m\u001b[0;34m(\u001b[0m\u001b[0mks\u001b[0m\u001b[0;34m)\u001b[0m\u001b[0;34m\u001b[0m\u001b[0;34m\u001b[0m\u001b[0m\n\u001b[1;32m     13\u001b[0m     \u001b[0;32mfor\u001b[0m \u001b[0mt\u001b[0m \u001b[0;32min\u001b[0m \u001b[0mrange\u001b[0m\u001b[0;34m(\u001b[0m\u001b[0mT\u001b[0m\u001b[0;34m)\u001b[0m\u001b[0;34m:\u001b[0m\u001b[0;34m\u001b[0m\u001b[0;34m\u001b[0m\u001b[0m\n\u001b[0;32m---> 14\u001b[0;31m         \u001b[0mc\u001b[0m \u001b[0;34m=\u001b[0m \u001b[0mnp\u001b[0m\u001b[0;34m.\u001b[0m\u001b[0mrandom\u001b[0m\u001b[0;34m.\u001b[0m\u001b[0mnormal\u001b[0m\u001b[0;34m(\u001b[0m\u001b[0mmu\u001b[0m\u001b[0;34m(\u001b[0m\u001b[0mk\u001b[0m\u001b[0;34m,\u001b[0m \u001b[0mtheta\u001b[0m\u001b[0;34m)\u001b[0m\u001b[0;34m,\u001b[0m \u001b[0msigma\u001b[0m\u001b[0;34m)\u001b[0m\u001b[0;34m\u001b[0m\u001b[0;34m\u001b[0m\u001b[0m\n\u001b[0m\u001b[1;32m     15\u001b[0m         \u001b[0mc\u001b[0m \u001b[0;34m=\u001b[0m \u001b[0mmax\u001b[0m\u001b[0;34m(\u001b[0m\u001b[0mmin\u001b[0m\u001b[0;34m(\u001b[0m\u001b[0mc\u001b[0m\u001b[0;34m,\u001b[0m\u001b[0mk\u001b[0m\u001b[0;34m**\u001b[0m\u001b[0mgamma\u001b[0m\u001b[0;34m)\u001b[0m\u001b[0;34m,\u001b[0m\u001b[0meps\u001b[0m\u001b[0;34m)\u001b[0m\u001b[0;34m\u001b[0m\u001b[0;34m\u001b[0m\u001b[0m\n\u001b[1;32m     16\u001b[0m         \u001b[0;32mif\u001b[0m \u001b[0mk\u001b[0m\u001b[0;34m**\u001b[0m\u001b[0mgamma\u001b[0m \u001b[0;34m<\u001b[0m \u001b[0mc\u001b[0m\u001b[0;34m:\u001b[0m\u001b[0;34m\u001b[0m\u001b[0;34m\u001b[0m\u001b[0m\n",
      "\u001b[0;32m<ipython-input-9-135f24e7ccc1>\u001b[0m in \u001b[0;36mmu\u001b[0;34m(x, theta)\u001b[0m\n\u001b[1;32m      3\u001b[0m \u001b[0;34m\u001b[0m\u001b[0m\n\u001b[1;32m      4\u001b[0m \u001b[0;32mdef\u001b[0m \u001b[0mmu\u001b[0m\u001b[0;34m(\u001b[0m\u001b[0mx\u001b[0m\u001b[0;34m,\u001b[0m \u001b[0mtheta\u001b[0m\u001b[0;34m)\u001b[0m\u001b[0;34m:\u001b[0m\u001b[0;34m\u001b[0m\u001b[0;34m\u001b[0m\u001b[0m\n\u001b[0;32m----> 5\u001b[0;31m     \u001b[0;32mreturn\u001b[0m \u001b[0mtheta\u001b[0m\u001b[0;34m[\u001b[0m\u001b[0;36m0\u001b[0m\u001b[0;34m]\u001b[0m \u001b[0;34m*\u001b[0m \u001b[0;34m(\u001b[0m\u001b[0mx\u001b[0m\u001b[0;34m**\u001b[0m\u001b[0;36m3\u001b[0m\u001b[0;34m)\u001b[0m \u001b[0;34m+\u001b[0m \u001b[0mtheta\u001b[0m\u001b[0;34m[\u001b[0m\u001b[0;36m1\u001b[0m\u001b[0;34m]\u001b[0m\u001b[0;34m*\u001b[0m\u001b[0;34m(\u001b[0m\u001b[0mx\u001b[0m\u001b[0;34m**\u001b[0m\u001b[0;36m2\u001b[0m\u001b[0;34m)\u001b[0m \u001b[0;34m+\u001b[0m \u001b[0mtheta\u001b[0m\u001b[0;34m[\u001b[0m\u001b[0;36m2\u001b[0m\u001b[0;34m]\u001b[0m\u001b[0;34m*\u001b[0m\u001b[0;34m(\u001b[0m\u001b[0mx\u001b[0m\u001b[0;34m)\u001b[0m \u001b[0;34m+\u001b[0m \u001b[0mtheta\u001b[0m\u001b[0;34m[\u001b[0m\u001b[0;36m3\u001b[0m\u001b[0;34m]\u001b[0m\u001b[0;34m\u001b[0m\u001b[0;34m\u001b[0m\u001b[0m\n\u001b[0m\u001b[1;32m      6\u001b[0m \u001b[0;34m\u001b[0m\u001b[0m\n\u001b[1;32m      7\u001b[0m \u001b[0;34m\u001b[0m\u001b[0m\n",
      "\u001b[0;31mKeyboardInterrupt\u001b[0m: "
     ]
    },
    {
     "data": {
      "image/png": "[encoded data removed]",
      "text/plain": [
       "<Figure size 432x288 with 1 Axes>"
      ]
     },
     "metadata": {
      "needs_background": "light"
     },
     "output_type": "display_data"
    }
   ],
   "source": [
    "# initial theta \n",
    "N = 10\n",
    "theta = [0] * 4\n",
    "# gradient ascend step size \n",
    "alpha = 0.0000001\n",
    "# store theta\n",
    "THETA = np.zeros((len(theta),N))\n",
    "for i in range(N):\n",
    "    if i%1 ==0:\n",
    "        print(i)\n",
    "        print(theta)\n",
    "    theta = updateTheta(theta)\n",
    "    THETA[:,i] = theta\n",
    "    plot(theta)"
   ]
  },
  {
   "cell_type": "code",
   "execution_count": null,
   "metadata": {},
   "outputs": [],
   "source": []
  },
  {
   "cell_type": "code",
   "execution_count": null,
   "metadata": {},
   "outputs": [],
   "source": []
  },
  {
   "cell_type": "code",
   "execution_count": null,
   "metadata": {},
   "outputs": [],
   "source": []
  },
  {
   "cell_type": "code",
   "execution_count": null,
   "metadata": {},
   "outputs": [],
   "source": []
  },
  {
   "cell_type": "code",
   "execution_count": 13,
   "metadata": {},
   "outputs": [
    {
     "name": "stdout",
     "output_type": "stream",
     "text": [
      "approximate theta:  [ 3.06163233e+01  6.30012338e-03  1.21955988e+00 -5.91808413e+00]\n"
     ]
    },
    {
     "data": {
      "image/png": "[encoded data removed]",
      "text/plain": [
       "<Figure size 432x288 with 1 Axes>"
      ]
     },
     "metadata": {
      "needs_background": "light"
     },
     "output_type": "display_data"
    }
   ],
   "source": [
    "def func(x, a, b, c, d):\n",
    "    return a * np.log(b*x+c) + d\n",
    "\n",
    "theta, cov = optimization.curve_fit(func, ks, Cs)\n",
    "\n",
    "def fun(x, theta):\n",
    "    a,b,c,d = theta\n",
    "    return func(x,a,b,c,d)\n",
    "plt.plot(ks, Cs, 'b')\n",
    "plt.plot(ks, fun(ks,theta), 'r')\n",
    "\n",
    "print(\"approximate theta: \", theta)"
   ]
  },
  {
   "cell_type": "code",
   "execution_count": 17,
   "metadata": {},
   "outputs": [],
   "source": [
    "T = 100\n",
    "sigma = 0.1\n",
    "\n",
    "def mu(w, theta):\n",
    "    a,b,c,d = theta\n",
    "    return  a * np.log(b*w+c) + d\n",
    "\n",
    "def simSinglePath(theta):\n",
    "    kPath = np.zeros(T)\n",
    "    aPath = np.zeros(T)\n",
    "    rPath = np.zeros(T)\n",
    "    k = np.random.choice(ks)\n",
    "    for t in range(T):\n",
    "        c = np.random.normal(mu(k, theta), sigma)\n",
    "        c = max(min(c,k**gamma),eps)\n",
    "        if k**gamma < c:\n",
    "            c = k**gamma/2\n",
    "        kPath[t] = k\n",
    "        aPath[t] = c\n",
    "        rPath[t] = u(c)*(beta**t)\n",
    "        k = (1-delta)*k + (k**gamma-c)\n",
    "    return kPath, aPath, rPath\n",
    "\n",
    "def gradientV(theta, D = 10000):\n",
    "    '''\n",
    "        D is the sample size\n",
    "    '''\n",
    "    notValid = True\n",
    "    while notValid:\n",
    "        grad = np.zeros(len(theta))\n",
    "        newGrad = np.zeros(len(theta))\n",
    "        w = np.random.uniform(k_low, k_high)\n",
    "        for d in range(D):\n",
    "            wp, ap, rp = simSinglePath(theta)\n",
    "            togoR = np.cumsum(rp[::-1])[::-1]\n",
    "            newGrad[0] = np.dot((ap-mu(wp,theta))*np.log(theta[1]*wp+theta[2]), togoR)\n",
    "            newGrad[1] = np.dot((ap-mu(wp,theta))*(theta[0]*wp)/(theta[1]*wp+theta[2]), togoR)\n",
    "            newGrad[2] = np.dot((ap-mu(wp,theta))*theta[0]/(theta[1]*wp+theta[2]), togoR)\n",
    "            newGrad[3] = np.dot((ap-mu(wp,theta))*1, togoR)            \n",
    "            grad += newGrad\n",
    "        grad /= D\n",
    "        if numpy.isnan(grad).any() == False:\n",
    "            notValid = False\n",
    "    return grad\n",
    "\n",
    "def updateTheta(theta):\n",
    "    theta = theta + alpha * gradientV(theta)\n",
    "    return theta\n",
    "\n",
    "def plot(theta):\n",
    "    plt.plot(ks, Cs, 'b')\n",
    "    plt.plot(ks, mu(ks,theta), 'r')"
   ]
  },
  {
   "cell_type": "code",
   "execution_count": 27,
   "metadata": {},
   "outputs": [
    {
     "name": "stdout",
     "output_type": "stream",
     "text": [
      "0\n",
      "[0.1, 0.1, 0.1, 0.1]\n",
      "1\n",
      "[0.11155471 0.09859976 0.0962106  0.09481036]\n",
      "2\n",
      "[0.12796093 0.09595021 0.0898742  0.08700367]\n",
      "3\n",
      "[0.14907268 0.09083789 0.07999695 0.07623289]\n",
      "4\n",
      "[0.18108849 0.07966018 0.06157821 0.05953766]\n",
      "5\n",
      "[0.24702481 0.0423269  0.00954374 0.02542083]\n",
      "6\n",
      "[ 0.64348725 -0.80769645 -0.95187008 -0.15737187]\n"
     ]
    },
    {
     "ename": "KeyboardInterrupt",
     "evalue": "",
     "output_type": "error",
     "traceback": [
      "\u001b[0;31m---------------------------------------------------------------------------\u001b[0m",
      "\u001b[0;31mKeyboardInterrupt\u001b[0m                         Traceback (most recent call last)",
      "\u001b[0;32m<ipython-input-27-a94aa8b8c972>\u001b[0m in \u001b[0;36m<module>\u001b[0;34m\u001b[0m\n\u001b[1;32m     10\u001b[0m         \u001b[0mprint\u001b[0m\u001b[0;34m(\u001b[0m\u001b[0mi\u001b[0m\u001b[0;34m)\u001b[0m\u001b[0;34m\u001b[0m\u001b[0;34m\u001b[0m\u001b[0m\n\u001b[1;32m     11\u001b[0m         \u001b[0mprint\u001b[0m\u001b[0;34m(\u001b[0m\u001b[0mtheta\u001b[0m\u001b[0;34m)\u001b[0m\u001b[0;34m\u001b[0m\u001b[0;34m\u001b[0m\u001b[0m\n\u001b[0;32m---> 12\u001b[0;31m     \u001b[0mtheta\u001b[0m \u001b[0;34m=\u001b[0m \u001b[0mupdateTheta\u001b[0m\u001b[0;34m(\u001b[0m\u001b[0mtheta\u001b[0m\u001b[0;34m)\u001b[0m\u001b[0;34m\u001b[0m\u001b[0;34m\u001b[0m\u001b[0m\n\u001b[0m\u001b[1;32m     13\u001b[0m     \u001b[0mTHETA\u001b[0m\u001b[0;34m[\u001b[0m\u001b[0;34m:\u001b[0m\u001b[0;34m,\u001b[0m\u001b[0mi\u001b[0m\u001b[0;34m]\u001b[0m \u001b[0;34m=\u001b[0m \u001b[0mtheta\u001b[0m\u001b[0;34m\u001b[0m\u001b[0;34m\u001b[0m\u001b[0m\n\u001b[1;32m     14\u001b[0m     \u001b[0mplot\u001b[0m\u001b[0;34m(\u001b[0m\u001b[0mtheta\u001b[0m\u001b[0;34m)\u001b[0m\u001b[0;34m\u001b[0m\u001b[0;34m\u001b[0m\u001b[0m\n",
      "\u001b[0;32m<ipython-input-17-e6baf08c8433>\u001b[0m in \u001b[0;36mupdateTheta\u001b[0;34m(theta)\u001b[0m\n\u001b[1;32m     45\u001b[0m \u001b[0;34m\u001b[0m\u001b[0m\n\u001b[1;32m     46\u001b[0m \u001b[0;32mdef\u001b[0m \u001b[0mupdateTheta\u001b[0m\u001b[0;34m(\u001b[0m\u001b[0mtheta\u001b[0m\u001b[0;34m)\u001b[0m\u001b[0;34m:\u001b[0m\u001b[0;34m\u001b[0m\u001b[0;34m\u001b[0m\u001b[0m\n\u001b[0;32m---> 47\u001b[0;31m     \u001b[0mtheta\u001b[0m \u001b[0;34m=\u001b[0m \u001b[0mtheta\u001b[0m \u001b[0;34m+\u001b[0m \u001b[0malpha\u001b[0m \u001b[0;34m*\u001b[0m \u001b[0mgradientV\u001b[0m\u001b[0;34m(\u001b[0m\u001b[0mtheta\u001b[0m\u001b[0;34m)\u001b[0m\u001b[0;34m\u001b[0m\u001b[0;34m\u001b[0m\u001b[0m\n\u001b[0m\u001b[1;32m     48\u001b[0m     \u001b[0;32mreturn\u001b[0m \u001b[0mtheta\u001b[0m\u001b[0;34m\u001b[0m\u001b[0;34m\u001b[0m\u001b[0m\n\u001b[1;32m     49\u001b[0m \u001b[0;34m\u001b[0m\u001b[0m\n",
      "\u001b[0;32m<ipython-input-17-e6baf08c8433>\u001b[0m in \u001b[0;36mgradientV\u001b[0;34m(theta, D)\u001b[0m\n\u001b[1;32m     32\u001b[0m         \u001b[0mw\u001b[0m \u001b[0;34m=\u001b[0m \u001b[0mnp\u001b[0m\u001b[0;34m.\u001b[0m\u001b[0mrandom\u001b[0m\u001b[0;34m.\u001b[0m\u001b[0muniform\u001b[0m\u001b[0;34m(\u001b[0m\u001b[0mk_low\u001b[0m\u001b[0;34m,\u001b[0m \u001b[0mk_high\u001b[0m\u001b[0;34m)\u001b[0m\u001b[0;34m\u001b[0m\u001b[0;34m\u001b[0m\u001b[0m\n\u001b[1;32m     33\u001b[0m         \u001b[0;32mfor\u001b[0m \u001b[0md\u001b[0m \u001b[0;32min\u001b[0m \u001b[0mrange\u001b[0m\u001b[0;34m(\u001b[0m\u001b[0mD\u001b[0m\u001b[0;34m)\u001b[0m\u001b[0;34m:\u001b[0m\u001b[0;34m\u001b[0m\u001b[0;34m\u001b[0m\u001b[0m\n\u001b[0;32m---> 34\u001b[0;31m             \u001b[0mwp\u001b[0m\u001b[0;34m,\u001b[0m \u001b[0map\u001b[0m\u001b[0;34m,\u001b[0m \u001b[0mrp\u001b[0m \u001b[0;34m=\u001b[0m \u001b[0msimSinglePath\u001b[0m\u001b[0;34m(\u001b[0m\u001b[0mtheta\u001b[0m\u001b[0;34m)\u001b[0m\u001b[0;34m\u001b[0m\u001b[0;34m\u001b[0m\u001b[0m\n\u001b[0m\u001b[1;32m     35\u001b[0m             \u001b[0mtogoR\u001b[0m \u001b[0;34m=\u001b[0m \u001b[0mnp\u001b[0m\u001b[0;34m.\u001b[0m\u001b[0mcumsum\u001b[0m\u001b[0;34m(\u001b[0m\u001b[0mrp\u001b[0m\u001b[0;34m[\u001b[0m\u001b[0;34m:\u001b[0m\u001b[0;34m:\u001b[0m\u001b[0;34m-\u001b[0m\u001b[0;36m1\u001b[0m\u001b[0;34m]\u001b[0m\u001b[0;34m)\u001b[0m\u001b[0;34m[\u001b[0m\u001b[0;34m:\u001b[0m\u001b[0;34m:\u001b[0m\u001b[0;34m-\u001b[0m\u001b[0;36m1\u001b[0m\u001b[0;34m]\u001b[0m\u001b[0;34m\u001b[0m\u001b[0;34m\u001b[0m\u001b[0m\n\u001b[1;32m     36\u001b[0m             \u001b[0mnewGrad\u001b[0m\u001b[0;34m[\u001b[0m\u001b[0;36m0\u001b[0m\u001b[0;34m]\u001b[0m \u001b[0;34m=\u001b[0m \u001b[0mnp\u001b[0m\u001b[0;34m.\u001b[0m\u001b[0mdot\u001b[0m\u001b[0;34m(\u001b[0m\u001b[0;34m(\u001b[0m\u001b[0map\u001b[0m\u001b[0;34m-\u001b[0m\u001b[0mmu\u001b[0m\u001b[0;34m(\u001b[0m\u001b[0mwp\u001b[0m\u001b[0;34m,\u001b[0m\u001b[0mtheta\u001b[0m\u001b[0;34m)\u001b[0m\u001b[0;34m)\u001b[0m\u001b[0;34m*\u001b[0m\u001b[0mnp\u001b[0m\u001b[0;34m.\u001b[0m\u001b[0mlog\u001b[0m\u001b[0;34m(\u001b[0m\u001b[0mtheta\u001b[0m\u001b[0;34m[\u001b[0m\u001b[0;36m1\u001b[0m\u001b[0;34m]\u001b[0m\u001b[0;34m*\u001b[0m\u001b[0mwp\u001b[0m\u001b[0;34m+\u001b[0m\u001b[0mtheta\u001b[0m\u001b[0;34m[\u001b[0m\u001b[0;36m2\u001b[0m\u001b[0;34m]\u001b[0m\u001b[0;34m)\u001b[0m\u001b[0;34m,\u001b[0m \u001b[0mtogoR\u001b[0m\u001b[0;34m)\u001b[0m\u001b[0;34m\u001b[0m\u001b[0;34m\u001b[0m\u001b[0m\n",
      "\u001b[0;32m<ipython-input-17-e6baf08c8433>\u001b[0m in \u001b[0;36msimSinglePath\u001b[0;34m(theta)\u001b[0m\n\u001b[1;32m     12\u001b[0m     \u001b[0mk\u001b[0m \u001b[0;34m=\u001b[0m \u001b[0mnp\u001b[0m\u001b[0;34m.\u001b[0m\u001b[0mrandom\u001b[0m\u001b[0;34m.\u001b[0m\u001b[0mchoice\u001b[0m\u001b[0;34m(\u001b[0m\u001b[0mks\u001b[0m\u001b[0;34m)\u001b[0m\u001b[0;34m\u001b[0m\u001b[0;34m\u001b[0m\u001b[0m\n\u001b[1;32m     13\u001b[0m     \u001b[0;32mfor\u001b[0m \u001b[0mt\u001b[0m \u001b[0;32min\u001b[0m \u001b[0mrange\u001b[0m\u001b[0;34m(\u001b[0m\u001b[0mT\u001b[0m\u001b[0;34m)\u001b[0m\u001b[0;34m:\u001b[0m\u001b[0;34m\u001b[0m\u001b[0;34m\u001b[0m\u001b[0m\n\u001b[0;32m---> 14\u001b[0;31m         \u001b[0mc\u001b[0m \u001b[0;34m=\u001b[0m \u001b[0mnp\u001b[0m\u001b[0;34m.\u001b[0m\u001b[0mrandom\u001b[0m\u001b[0;34m.\u001b[0m\u001b[0mnormal\u001b[0m\u001b[0;34m(\u001b[0m\u001b[0mmu\u001b[0m\u001b[0;34m(\u001b[0m\u001b[0mk\u001b[0m\u001b[0;34m,\u001b[0m \u001b[0mtheta\u001b[0m\u001b[0;34m)\u001b[0m\u001b[0;34m,\u001b[0m \u001b[0msigma\u001b[0m\u001b[0;34m)\u001b[0m\u001b[0;34m\u001b[0m\u001b[0;34m\u001b[0m\u001b[0m\n\u001b[0m\u001b[1;32m     15\u001b[0m         \u001b[0mc\u001b[0m \u001b[0;34m=\u001b[0m \u001b[0mmax\u001b[0m\u001b[0;34m(\u001b[0m\u001b[0mmin\u001b[0m\u001b[0;34m(\u001b[0m\u001b[0mc\u001b[0m\u001b[0;34m,\u001b[0m\u001b[0mk\u001b[0m\u001b[0;34m**\u001b[0m\u001b[0mgamma\u001b[0m\u001b[0;34m)\u001b[0m\u001b[0;34m,\u001b[0m\u001b[0meps\u001b[0m\u001b[0;34m)\u001b[0m\u001b[0;34m\u001b[0m\u001b[0;34m\u001b[0m\u001b[0m\n\u001b[1;32m     16\u001b[0m         \u001b[0;32mif\u001b[0m \u001b[0mk\u001b[0m\u001b[0;34m**\u001b[0m\u001b[0mgamma\u001b[0m \u001b[0;34m<\u001b[0m \u001b[0mc\u001b[0m\u001b[0;34m:\u001b[0m\u001b[0;34m\u001b[0m\u001b[0;34m\u001b[0m\u001b[0m\n",
      "\u001b[0;32m<ipython-input-17-e6baf08c8433>\u001b[0m in \u001b[0;36mmu\u001b[0;34m(w, theta)\u001b[0m\n\u001b[1;32m      4\u001b[0m \u001b[0;32mdef\u001b[0m \u001b[0mmu\u001b[0m\u001b[0;34m(\u001b[0m\u001b[0mw\u001b[0m\u001b[0;34m,\u001b[0m \u001b[0mtheta\u001b[0m\u001b[0;34m)\u001b[0m\u001b[0;34m:\u001b[0m\u001b[0;34m\u001b[0m\u001b[0;34m\u001b[0m\u001b[0m\n\u001b[1;32m      5\u001b[0m     \u001b[0ma\u001b[0m\u001b[0;34m,\u001b[0m\u001b[0mb\u001b[0m\u001b[0;34m,\u001b[0m\u001b[0mc\u001b[0m\u001b[0;34m,\u001b[0m\u001b[0md\u001b[0m \u001b[0;34m=\u001b[0m \u001b[0mtheta\u001b[0m\u001b[0;34m\u001b[0m\u001b[0;34m\u001b[0m\u001b[0m\n\u001b[0;32m----> 6\u001b[0;31m     \u001b[0;32mreturn\u001b[0m  \u001b[0ma\u001b[0m \u001b[0;34m*\u001b[0m \u001b[0mnp\u001b[0m\u001b[0;34m.\u001b[0m\u001b[0mlog\u001b[0m\u001b[0;34m(\u001b[0m\u001b[0mb\u001b[0m\u001b[0;34m*\u001b[0m\u001b[0mw\u001b[0m\u001b[0;34m+\u001b[0m\u001b[0mc\u001b[0m\u001b[0;34m)\u001b[0m \u001b[0;34m+\u001b[0m \u001b[0md\u001b[0m\u001b[0;34m\u001b[0m\u001b[0;34m\u001b[0m\u001b[0m\n\u001b[0m\u001b[1;32m      7\u001b[0m \u001b[0;34m\u001b[0m\u001b[0m\n\u001b[1;32m      8\u001b[0m \u001b[0;32mdef\u001b[0m \u001b[0msimSinglePath\u001b[0m\u001b[0;34m(\u001b[0m\u001b[0mtheta\u001b[0m\u001b[0;34m)\u001b[0m\u001b[0;34m:\u001b[0m\u001b[0;34m\u001b[0m\u001b[0;34m\u001b[0m\u001b[0m\n",
      "\u001b[0;31mKeyboardInterrupt\u001b[0m: "
     ]
    },
    {
     "data": {
      "image/png": "[encoded data removed]",
      "text/plain": [
       "<Figure size 432x288 with 1 Axes>"
      ]
     },
     "metadata": {
      "needs_background": "light"
     },
     "output_type": "display_data"
    }
   ],
   "source": [
    "# initial theta \n",
    "N = 10\n",
    "theta = [0.1] * 4\n",
    "# gradient ascend step size \n",
    "alpha = 0.001\n",
    "# store theta\n",
    "THETA = np.zeros((len(theta),N))\n",
    "for i in range(N):\n",
    "    if i%1 ==0:\n",
    "        print(i)\n",
    "        print(theta)\n",
    "    theta = updateTheta(theta)\n",
    "    THETA[:,i] = theta\n",
    "    plot(theta)"
   ]
  },
  {
   "cell_type": "code",
   "execution_count": null,
   "metadata": {},
   "outputs": [],
   "source": [
    "def V(theta,w):\n",
    "    value = 0\n",
    "    D = 1000\n",
    "    for d in range(D):\n",
    "        _, _, rp = simSinglePath(theta)\n",
    "        value += np.sum(rp)\n",
    "    value /= D\n",
    "    return value"
   ]
  },
  {
   "cell_type": "code",
   "execution_count": null,
   "metadata": {},
   "outputs": [],
   "source": [
    "V(THETA[:,0],5)"
   ]
  },
  {
   "cell_type": "code",
   "execution_count": null,
   "metadata": {},
   "outputs": [],
   "source": [
    "V(THETA[:,9],5)"
   ]
  },
  {
   "cell_type": "code",
   "execution_count": null,
   "metadata": {},
   "outputs": [],
   "source": []
  }
 ],
 "metadata": {
  "kernelspec": {
   "display_name": "Python 3",
   "language": "python",
   "name": "python3"
  },
  "language_info": {
   "codemirror_mode": {
    "name": "ipython",
    "version": 3
   },
   "file_extension": ".py",
   "mimetype": "text/x-python",
   "name": "python",
   "nbconvert_exporter": "python",
   "pygments_lexer": "ipython3",
   "version": "3.7.7"
  }
 },
 "nbformat": 4,
 "nbformat_minor": 4
}
