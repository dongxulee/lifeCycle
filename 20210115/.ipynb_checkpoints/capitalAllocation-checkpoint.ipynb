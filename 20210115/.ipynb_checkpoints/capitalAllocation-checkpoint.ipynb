{
 "cells": [
  {
   "cell_type": "code",
   "execution_count": 1,
   "metadata": {},
   "outputs": [
    {
     "name": "stdout",
     "output_type": "stream",
     "text": [
      "Populating the interactive namespace from numpy and matplotlib\n"
     ]
    }
   ],
   "source": [
    "# infinite horizon MDP problem\n",
    "%pylab inline\n",
    "import numpy as np\n",
    "from scipy.optimize import minimize\n",
    "import warnings\n",
    "warnings.filterwarnings(\"ignore\")\n",
    "\n",
    "# discounting factor \n",
    "beta = 0.95\n",
    "gamma = 0.7\n",
    "# wealth level\n",
    "eps = 0.01\n",
    "k_low = 1\n",
    "k_high = 10\n",
    "# interest rate\n",
    "r = 0.05\n",
    "# depreciation\n",
    "delta = 0.05\n",
    "# good state and bad state economy with equal probability 0.5\n",
    "# with good investment return 0.02 or bad investment return -0.01\n",
    "ks = np.linspace(k_low, k_high**(0.5),100)**2\n",
    "Vs = np.zeros(100)\n",
    "Cs = np.zeros(100)\n",
    "\n",
    "def u(c):\n",
    "    return np.log(c)"
   ]
  },
  {
   "cell_type": "code",
   "execution_count": 2,
   "metadata": {},
   "outputs": [
    {
     "name": "stdout",
     "output_type": "stream",
     "text": [
      "0\n",
      "10\n",
      "20\n",
      "30\n",
      "40\n",
      "50\n",
      "60\n",
      "70\n",
      "80\n",
      "90\n",
      "converge! \n"
     ]
    }
   ],
   "source": [
    "Vs_new = np.copy(Vs) + 1\n",
    "# Value iteration\n",
    "for j in range(1000):\n",
    "    if j % 10 == 0:\n",
    "        print(j)\n",
    "    if max(abs(Vs_new - Vs)) < eps:\n",
    "        print(\"converge! \")\n",
    "        break \n",
    "    else:\n",
    "        Vs = np.copy(Vs_new)\n",
    "    for i in range(len(ks)):\n",
    "        k = ks[i]\n",
    "        def obj(c):\n",
    "            return -(u(c) + beta*(np.interp((1-delta)*k + (1+r)*(k**gamma - c), ks, Vs) + \n",
    "                     np.interp((1-delta)*k + (1-r)*(k**gamma - c), ks, Vs))/2)\n",
    "        bounds = [(0, k**gamma)]\n",
    "        res = minimize(obj, eps, method='SLSQP', bounds=bounds)\n",
    "        Cs[i] = res.x[0]\n",
    "        Vs_new[i] = -res.fun"
   ]
  },
  {
   "cell_type": "code",
   "execution_count": 3,
   "metadata": {},
   "outputs": [
    {
     "data": {
      "text/plain": [
       "[<matplotlib.lines.Line2D at 0x7f1ac2917490>]"
      ]
     },
     "execution_count": 3,
     "metadata": {},
     "output_type": "execute_result"
    },
    {
     "data": {
      "image/png": "[encoded data removed]",
      "text/plain": [
       "<Figure size 432x288 with 1 Axes>"
      ]
     },
     "metadata": {
      "needs_background": "light"
     },
     "output_type": "display_data"
    }
   ],
   "source": [
    "plt.plot(ks,Vs)"
   ]
  },
  {
   "cell_type": "code",
   "execution_count": 4,
   "metadata": {},
   "outputs": [
    {
     "data": {
      "text/plain": [
       "[<matplotlib.lines.Line2D at 0x7f1ab73894d0>]"
      ]
     },
     "execution_count": 4,
     "metadata": {},
     "output_type": "execute_result"
    },
    {
     "data": {
      "image/png": "[encoded data removed]",
      "text/plain": [
       "<Figure size 432x288 with 1 Axes>"
      ]
     },
     "metadata": {
      "needs_background": "light"
     },
     "output_type": "display_data"
    }
   ],
   "source": [
    "plt.plot(ks, Cs/ks**gamma)"
   ]
  },
  {
   "cell_type": "code",
   "execution_count": 5,
   "metadata": {},
   "outputs": [
    {
     "data": {
      "text/plain": [
       "[<matplotlib.lines.Line2D at 0x7f1ab72f5c90>]"
      ]
     },
     "execution_count": 5,
     "metadata": {},
     "output_type": "execute_result"
    },
    {
     "data": {
      "image/png": "[encoded data removed]",
      "text/plain": [
       "<Figure size 432x288 with 1 Axes>"
      ]
     },
     "metadata": {
      "needs_background": "light"
     },
     "output_type": "display_data"
    }
   ],
   "source": [
    "plt.plot(ks,Cs)"
   ]
  },
  {
   "cell_type": "code",
   "execution_count": null,
   "metadata": {},
   "outputs": [],
   "source": []
  },
  {
   "cell_type": "markdown",
   "metadata": {},
   "source": [
    "### policy gradient\n",
    "Assume the policy form $\\theta = (a,b, \\sigma = 0.1)$, then $\\pi_\\theta$ ~ $N(\\frac{1}{1+e^{a w^2 +b w + c}}, \\sigma)$\n",
    "\n",
    "\n",
    "Assume the initial value $a = 0$, $b = 0$, $\\sigma = 0.1$     \n",
    "\n",
    "\n",
    "$$\\theta_{k+1} = \\theta_{k} + \\alpha  \\nabla_\\theta V(\\pi_\\theta)|\\theta_k$$"
   ]
  },
  {
   "cell_type": "code",
   "execution_count": 41,
   "metadata": {},
   "outputs": [],
   "source": [
    "T = 20\n",
    "# simulation step T = 100\n",
    "def poly(theta, w):\n",
    "    return theta[0] * w^2 + theta[1] * w + theta[2]\n",
    "\n",
    "def mu(theta, w):\n",
    "    return poly(theta, w)\n",
    "\n",
    "\n",
    "def simSinglePath(theta):\n",
    "    kPath = np.zeros(T)\n",
    "    aPath = np.zeros(T)\n",
    "    rPath = np.zeros(T)\n",
    "    k = np.random.uniform(k_low, k_high)\n",
    "    for t in range(T):\n",
    "        c = np.random.normal(mu(theta, k), theta[-1])\n",
    "        c = max(min(c, k**gamma-eps), eps)\n",
    "        kPath[t] = k\n",
    "        aPath[t] = c\n",
    "        rPath[t] = u(c)*(beta**t)\n",
    "        if np.random.uniform(0,1) > 0.5:\n",
    "            k = (1-delta)*k + (k**gamma-c) * (1+r)\n",
    "        else:\n",
    "            k = (1-delta)*k + (k**gamma-c) * (1-r)\n",
    "    return kPath, aPath, rPath\n",
    "\n",
    "\n",
    "\n",
    "def gradientV(theta, D = 100):\n",
    "    '''\n",
    "        D is the sample size\n",
    "    '''\n",
    "    notValid = True\n",
    "    while notValid:\n",
    "        grad = np.zeros(len(theta))\n",
    "        newGrad = np.zeros(len(theta))\n",
    "        for d in range(D):\n",
    "            wp, ap, rp = simSinglePath(theta)\n",
    "            newGrad[0] = np.sum((ap - mu(theta, wp))/(theta[-1]**2)*(wp**2))\n",
    "            newGrad[1] = np.sum((ap - mu(theta, wp))/(theta[-1]**2)*(wp))\n",
    "            newGrad[2] = np.sum((ap - mu(theta, wp))/(theta[-1]**2)*(1))\n",
    "            grad += newGrad * np.sum(rp)\n",
    "        grad /= D\n",
    "        if numpy.isnan(grad).any() == False:\n",
    "            notValid = False\n",
    "\n",
    "    return grad\n",
    "\n",
    "def updateTheta(theta):\n",
    "    theta = theta + alpha * gradientV(theta)\n",
    "    return theta\n",
    "\n",
    "def plot3(theta):\n",
    "    plt.plot(ks, Cs, 'b')\n",
    "    plt.plot(ks, mu(ks), 'r')"
   ]
  },
  {
   "cell_type": "code",
   "execution_count": 42,
   "metadata": {},
   "outputs": [
    {
     "name": "stdout",
     "output_type": "stream",
     "text": [
      "0\n",
      "[0, 0, 0.1]\n",
      "100\n",
      "[-5.59340011e+04 -1.06296406e+04  1.00000000e-01]\n",
      "200\n",
      "[-1.12064396e+05 -2.13504976e+04  1.00000000e-01]\n",
      "300\n",
      "[-1.68810804e+05 -3.21708200e+04  1.00000000e-01]\n",
      "400\n",
      "[-2.25403844e+05 -4.29762318e+04  1.00000000e-01]\n",
      "500\n",
      "[-2.81992644e+05 -5.37475623e+04  1.00000000e-01]\n",
      "600\n",
      "[-3.38583618e+05 -6.45028691e+04  1.00000000e-01]\n",
      "700\n",
      "[-3.96505568e+05 -7.54508159e+04  1.00000000e-01]\n",
      "800\n",
      "[-4.53806026e+05 -8.63076194e+04  1.00000000e-01]\n",
      "900\n",
      "[-5.10231281e+05 -9.70921164e+04  1.00000000e-01]\n"
     ]
    },
    {
     "data": {
      "image/png": "[encoded data removed]",
      "text/plain": [
       "<Figure size 432x288 with 1 Axes>"
      ]
     },
     "metadata": {
      "needs_background": "light"
     },
     "output_type": "display_data"
    }
   ],
   "source": [
    "# initial theta\n",
    "N = 1000\n",
    "theta = [0,0,0.1]\n",
    "# gradient ascend step size \n",
    "alpha = 0.1\n",
    "# store theta\n",
    "THETA3 = np.zeros((len(theta)-1,N))\n",
    "for i in range(N):\n",
    "    if i%100 ==0:\n",
    "        print(i)\n",
    "        print(theta)\n",
    "    theta = updateTheta(theta)\n",
    "    THETA3[:,i] = theta[:len(theta)-1]\n",
    "    plot3(theta)"
   ]
  },
  {
   "cell_type": "code",
   "execution_count": 43,
   "metadata": {},
   "outputs": [
    {
     "data": {
      "text/plain": [
       "[<matplotlib.lines.Line2D at 0x7f1ab626e4d0>]"
      ]
     },
     "execution_count": 43,
     "metadata": {},
     "output_type": "execute_result"
    },
    {
     "data": {
      "image/png": "[encoded data removed]",
      "text/plain": [
       "<Figure size 432x288 with 1 Axes>"
      ]
     },
     "metadata": {
      "needs_background": "light"
     },
     "output_type": "display_data"
    }
   ],
   "source": [
    "plt.plot(THETA3[0,:])"
   ]
  },
  {
   "cell_type": "code",
   "execution_count": 44,
   "metadata": {},
   "outputs": [
    {
     "data": {
      "text/plain": [
       "[<matplotlib.lines.Line2D at 0x7f1ab6358a50>]"
      ]
     },
     "execution_count": 44,
     "metadata": {},
     "output_type": "execute_result"
    },
    {
     "data": {
      "image/png": "[encoded data removed]",
      "text/plain": [
       "<Figure size 432x288 with 1 Axes>"
      ]
     },
     "metadata": {
      "needs_background": "light"
     },
     "output_type": "display_data"
    }
   ],
   "source": [
    "plt.plot(THETA3[1,:])"
   ]
  },
  {
   "cell_type": "code",
   "execution_count": null,
   "metadata": {},
   "outputs": [],
   "source": []
  }
 ],
 "metadata": {
  "kernelspec": {
   "display_name": "Python 3",
   "language": "python",
   "name": "python3"
  },
  "language_info": {
   "codemirror_mode": {
    "name": "ipython",
    "version": 3
   },
   "file_extension": ".py",
   "mimetype": "text/x-python",
   "name": "python",
   "nbconvert_exporter": "python",
   "pygments_lexer": "ipython3",
   "version": "3.7.7"
  }
 },
 "nbformat": 4,
 "nbformat_minor": 4
}
