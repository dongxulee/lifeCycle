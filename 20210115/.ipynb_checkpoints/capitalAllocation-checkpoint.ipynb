{
 "cells": [
  {
   "cell_type": "code",
   "execution_count": 1,
   "metadata": {},
   "outputs": [
    {
     "name": "stdout",
     "output_type": "stream",
     "text": [
      "Populating the interactive namespace from numpy and matplotlib\n"
     ]
    }
   ],
   "source": [
    "# infinite horizon MDP problem\n",
    "%pylab inline\n",
    "import numpy as np\n",
    "from scipy.optimize import minimize\n",
    "import warnings\n",
    "warnings.filterwarnings(\"ignore\")\n",
    "\n",
    "# discounting factor \n",
    "beta = 0.95\n",
    "gamma = 0.7\n",
    "# wealth level\n",
    "eps = 0.01\n",
    "k_low = 1\n",
    "k_high = 10\n",
    "# interest rate\n",
    "r = 0.05\n",
    "# depreciation\n",
    "delta = 0.05\n",
    "# good state and bad state economy with equal probability 0.5\n",
    "# with good investment return 0.02 or bad investment return -0.01\n",
    "ks = np.linspace(k_low, k_high**(0.5),100)**2\n",
    "Vs = np.zeros(100)\n",
    "Cs = np.zeros(100)\n",
    "\n",
    "def u(c):\n",
    "    return np.log(c)"
   ]
  },
  {
   "cell_type": "code",
   "execution_count": 2,
   "metadata": {},
   "outputs": [
    {
     "name": "stdout",
     "output_type": "stream",
     "text": [
      "0\n",
      "10\n",
      "20\n",
      "30\n",
      "40\n",
      "50\n",
      "60\n",
      "70\n",
      "80\n",
      "90\n",
      "converge! \n"
     ]
    }
   ],
   "source": [
    "Vs_new = np.copy(Vs) + 1\n",
    "# Value iteration\n",
    "for j in range(1000):\n",
    "    if j % 10 == 0:\n",
    "        print(j)\n",
    "    if max(abs(Vs_new - Vs)) < eps:\n",
    "        print(\"converge! \")\n",
    "        break \n",
    "    else:\n",
    "        Vs = np.copy(Vs_new)\n",
    "    for i in range(len(ks)):\n",
    "        k = ks[i]\n",
    "        def obj(c):\n",
    "            return -(u(c) + beta*(np.interp((1-delta)*k + (1+r)*(k**gamma - c), ks, Vs) + \n",
    "                     np.interp((1-delta)*k + (1-r)*(k**gamma - c), ks, Vs))/2)\n",
    "        bounds = [(0, k**gamma)]\n",
    "        res = minimize(obj, eps, method='SLSQP', bounds=bounds)\n",
    "        Cs[i] = res.x[0]\n",
    "        Vs_new[i] = -res.fun"
   ]
  },
  {
   "cell_type": "code",
   "execution_count": 3,
   "metadata": {},
   "outputs": [
    {
     "data": {
      "text/plain": [
       "[<matplotlib.lines.Line2D at 0x7f1ac2917490>]"
      ]
     },
     "execution_count": 3,
     "metadata": {},
     "output_type": "execute_result"
    },
    {
     "data": {
      "image/png": "[encoded data removed]",
      "text/plain": [
       "<Figure size 432x288 with 1 Axes>"
      ]
     },
     "metadata": {
      "needs_background": "light"
     },
     "output_type": "display_data"
    }
   ],
   "source": [
    "plt.plot(ks,Vs)"
   ]
  },
  {
   "cell_type": "code",
   "execution_count": 4,
   "metadata": {},
   "outputs": [
    {
     "data": {
      "text/plain": [
       "[<matplotlib.lines.Line2D at 0x7f1ab73894d0>]"
      ]
     },
     "execution_count": 4,
     "metadata": {},
     "output_type": "execute_result"
    },
    {
     "data": {
      "image/png": "[encoded data removed]",
      "text/plain": [
       "<Figure size 432x288 with 1 Axes>"
      ]
     },
     "metadata": {
      "needs_background": "light"
     },
     "output_type": "display_data"
    }
   ],
   "source": [
    "plt.plot(ks, Cs/ks**gamma)"
   ]
  },
  {
   "cell_type": "code",
   "execution_count": 5,
   "metadata": {},
   "outputs": [
    {
     "data": {
      "text/plain": [
       "[<matplotlib.lines.Line2D at 0x7f1ab72f5c90>]"
      ]
     },
     "execution_count": 5,
     "metadata": {},
     "output_type": "execute_result"
    },
    {
     "data": {
      "image/png": "[encoded data removed]",
      "text/plain": [
       "<Figure size 432x288 with 1 Axes>"
      ]
     },
     "metadata": {
      "needs_background": "light"
     },
     "output_type": "display_data"
    }
   ],
   "source": [
    "plt.plot(ks,Cs)"
   ]
  },
  {
   "cell_type": "markdown",
   "metadata": {},
   "source": [
    "### policy gradient\n",
    "Assume the policy form $\\theta = (a,b, \\sigma = 0.1)$, then $\\pi_\\theta$ ~ $N(\\frac{1}{1+e^{a w^2 +b w + c}}, \\sigma)$\n",
    "\n",
    "\n",
    "Assume the initial value $a = 0$, $b = 0$, $\\sigma = 0.1$     \n",
    "\n",
    "\n",
    "$$\\theta_{k+1} = \\theta_{k} + \\alpha  \\nabla_\\theta V(\\pi_\\theta)|\\theta_k$$"
   ]
  },
  {
   "cell_type": "code",
   "execution_count": 96,
   "metadata": {},
   "outputs": [],
   "source": [
    "T = 100\n",
    "# simulation step T = 100\n",
    "def poly(theta, w):\n",
    "    return theta[0] * w**5 + theta[1] * w**4 + theta[2] * w**3 + theta[3] * w**2 + theta[4] * w + theta[5]\n",
    "\n",
    "def mu(theta, w):\n",
    "    return poly(theta, w)\n",
    "\n",
    "\n",
    "def simSinglePath(theta):\n",
    "    kPath = np.zeros(T)\n",
    "    aPath = np.zeros(T)\n",
    "    rPath = np.zeros(T)\n",
    "    k = np.random.uniform(k_low, k_high)\n",
    "    for t in range(T):\n",
    "        c = np.random.normal(mu(theta, k), theta[-1])\n",
    "        c = max(min(c, k**gamma-eps), eps)\n",
    "        kPath[t] = k\n",
    "        aPath[t] = c\n",
    "        rPath[t] = u(c)*(beta**t)\n",
    "        if np.random.uniform(0,1) > 0.5:\n",
    "            k = (1-delta)*k + (k**gamma-c) * (1+r)\n",
    "        else:\n",
    "            k = (1-delta)*k + (k**gamma-c) * (1-r)\n",
    "    return kPath, aPath, rPath\n",
    "\n",
    "\n",
    "\n",
    "def gradientV(theta, D = 100):\n",
    "    '''\n",
    "        D is the sample size\n",
    "    '''\n",
    "    notValid = True\n",
    "    while notValid:\n",
    "        grad = np.zeros(len(theta))\n",
    "        newGrad = np.zeros(len(theta))\n",
    "        for d in range(D):\n",
    "            wp, ap, rp = simSinglePath(theta)\n",
    "            newGrad[0] = np.sum((ap - mu(theta, wp))/(wp**5))\n",
    "            newGrad[1] = np.sum((ap - mu(theta, wp))/(wp**4))\n",
    "            newGrad[2] = np.sum((ap - mu(theta, wp))/(wp**3))\n",
    "            newGrad[3] = np.sum((ap - mu(theta, wp))/(wp**2))\n",
    "            newGrad[4] = np.sum((ap - mu(theta, wp))/(wp))\n",
    "            newGrad[5] = np.sum((ap - mu(theta, wp))/(1))\n",
    "            grad += newGrad * np.sum(rp)\n",
    "        grad /= D\n",
    "        if numpy.isnan(grad).any() == False:\n",
    "            notValid = False\n",
    "\n",
    "    return grad\n",
    "\n",
    "def updateTheta(theta):\n",
    "    theta = theta + alpha * gradientV(theta)\n",
    "    return theta\n",
    "\n",
    "def plot3(theta):\n",
    "    plt.plot(ks, Cs, 'b')\n",
    "    plt.plot(ks, mu(theta, ks), 'r')"
   ]
  },
  {
   "cell_type": "code",
   "execution_count": 97,
   "metadata": {},
   "outputs": [
    {
     "name": "stdout",
     "output_type": "stream",
     "text": [
      "0\n",
      "[0, 0, 0, 0, 0, 0, 1]\n",
      "1\n",
      "[-2.80961377e-07 -4.94084053e-07 -9.95854899e-07 -2.76313286e-06\n",
      " -1.66333885e-05 -2.08339355e-03  1.00000000e+00]\n",
      "2\n",
      "[-9.34331513e-07 -1.01153617e-05 -5.34914173e-02 -3.88123627e+02\n",
      " -3.02650614e+06 -2.46478132e+10  1.00000000e+00]\n",
      "3\n",
      "[-9.40690896e+04 -1.17944102e+05 -1.72302777e+05 -3.65059204e+05\n",
      " -1.61949090e+07 -1.17502937e+11  1.00000000e+00]\n",
      "4\n",
      "[-2.80945824e+05 -3.52938950e+06 -1.97694716e+10 -1.44378009e+14\n",
      " -1.13268821e+18 -9.27812728e+21  1.00000000e+00]\n",
      "5\n",
      "[-3.75660682e+16 -4.96541417e+16 -7.56889109e+16 -1.59465131e+17\n",
      " -5.25554338e+18 -3.69119906e+22  1.00000000e+00]\n",
      "6\n",
      "[-1.60807013e+17 -1.45771506e+18 -7.88071015e+21 -5.75899440e+25\n",
      " -4.52202677e+29 -3.70778080e+33  1.00000000e+00]\n",
      "7\n",
      "[-1.33731254e+28 -1.76268456e+28 -2.70460134e+28 -5.84326446e+28\n",
      " -2.67330405e+30 -1.95407897e+34  1.00000000e+00]\n",
      "8\n",
      "[-8.80136283e+28 -5.59087938e+29 -2.78965451e+33 -2.03139426e+37\n",
      " -1.58955562e+41 -1.29889648e+45  1.00000000e+00]\n",
      "9\n",
      "[-3.70115662e+39 -5.23077322e+39 -8.68260937e+39 -2.02027912e+40\n",
      " -1.30057891e+42 -9.77922847e+45  1.00000000e+00]\n",
      "10\n",
      "[-2.15192082e+40 -1.56221755e+41 -7.76771463e+44 -5.67004089e+48\n",
      " -4.44715675e+52 -3.64247803e+56  1.00000000e+00]\n",
      "11\n",
      "[-1.30504104e+51 -1.67317799e+51 -2.53233107e+51 -5.58471468e+51\n",
      " -3.30518803e+53 -2.47263411e+57  1.00000000e+00]\n",
      "12\n",
      "[-1.18662220e+52 -5.81569068e+52 -2.74374237e+56 -2.00285848e+60\n",
      " -1.57009039e+64 -1.28485431e+68  1.00000000e+00]\n",
      "13\n",
      "[-1.86086782e+62 -2.93625968e+62 -5.68548646e+62 -1.60840723e+63\n",
      " -1.69323756e+65 -1.31111418e+69  1.00000000e+00]\n",
      "14\n",
      "[-2.70299466e+63 -1.03657188e+64 -3.90363303e+67 -2.84997534e+71\n",
      " -2.23547857e+75 -1.83068348e+79  1.00000000e+00]\n",
      "15\n",
      "[-2.99610718e+73 -4.28817019e+73 -7.60315386e+73 -2.08159302e+74\n",
      " -3.64731304e+76 -2.88984948e+80  1.00000000e+00]\n",
      "16\n",
      "[-5.86908808e+74 -1.84325168e+75 -6.29594009e+78 -4.59282957e+82\n",
      " -3.59996465e+86 -2.94638986e+90  1.00000000e+00]\n",
      "17\n",
      "[-1.12229722e+85 -1.50778830e+85 -2.31269078e+85 -4.94990308e+85\n",
      " -7.54941153e+87 -5.97445657e+91  1.00000000e+00]\n",
      "18\n",
      "[-1.13966398e+086 -5.47357994e+086 -2.34002544e+090 -1.70434943e+094\n",
      " -1.33402193e+098 -1.09040502e+102  1.00000000e+000]\n",
      "19\n",
      "[-2.02980288e+096 -2.85065072e+096 -4.85341433e+096 -1.26613639e+097\n",
      " -1.60199362e+099 -1.25367352e+103  1.00000000e+000]\n",
      "20\n",
      "[-3.39338081e+097 -1.15159737e+098 -4.28805501e+101 -3.13718736e+105\n",
      " -2.46596000e+109 -2.02399082e+113  1.00000000e+000]\n",
      "21\n",
      "[-3.85962856e+107 -5.84014371e+107 -1.04851412e+108 -2.72685123e+108\n",
      " -4.46424603e+110 -3.53132853e+114  1.00000000e+000]\n",
      "22\n",
      "[-1.61533696e+109 -3.48415869e+109 -8.02523657e+112 -5.84056389e+116\n",
      " -4.56985097e+120 -3.73447037e+124  1.00000000e+000]\n",
      "23\n",
      "[-6.69679045e+118 -9.77378269e+118 -1.69636487e+119 -4.58027945e+119\n",
      " -2.03262042e+122 -1.64628726e+126  1.00000000e+000]\n",
      "24\n",
      "[-5.33928961e+120 -9.60384758e+120 -1.40718796e+124 -1.02716068e+128\n",
      " -8.06152641e+131 -6.60645567e+135  1.00000000e+000]\n",
      "25\n",
      "[-2.47855485e+130 -3.34712775e+130 -5.32635782e+130 -1.25973414e+131\n",
      " -6.49426079e+133 -5.26825298e+137  1.00000000e+000]\n",
      "26\n",
      "[-3.06373043e+132 -4.60418482e+132 -5.12900928e+135 -3.71331430e+139\n",
      " -2.89084016e+143 -2.34992068e+147  1.00000000e+000]\n"
     ]
    },
    {
     "ename": "KeyboardInterrupt",
     "evalue": "",
     "output_type": "error",
     "traceback": [
      "\u001b[0;31m---------------------------------------------------------------------------\u001b[0m",
      "\u001b[0;31mKeyboardInterrupt\u001b[0m                         Traceback (most recent call last)",
      "\u001b[0;32m<ipython-input-97-a4ebeb5c7e1d>\u001b[0m in \u001b[0;36m<module>\u001b[0;34m\u001b[0m\n\u001b[1;32m     10\u001b[0m         \u001b[0mprint\u001b[0m\u001b[0;34m(\u001b[0m\u001b[0mi\u001b[0m\u001b[0;34m)\u001b[0m\u001b[0;34m\u001b[0m\u001b[0;34m\u001b[0m\u001b[0m\n\u001b[1;32m     11\u001b[0m         \u001b[0mprint\u001b[0m\u001b[0;34m(\u001b[0m\u001b[0mtheta\u001b[0m\u001b[0;34m)\u001b[0m\u001b[0;34m\u001b[0m\u001b[0;34m\u001b[0m\u001b[0m\n\u001b[0;32m---> 12\u001b[0;31m     \u001b[0mtheta\u001b[0m \u001b[0;34m=\u001b[0m \u001b[0mupdateTheta\u001b[0m\u001b[0;34m(\u001b[0m\u001b[0mtheta\u001b[0m\u001b[0;34m)\u001b[0m\u001b[0;34m\u001b[0m\u001b[0;34m\u001b[0m\u001b[0m\n\u001b[0m\u001b[1;32m     13\u001b[0m     \u001b[0mTHETA3\u001b[0m\u001b[0;34m[\u001b[0m\u001b[0;34m:\u001b[0m\u001b[0;34m,\u001b[0m\u001b[0mi\u001b[0m\u001b[0;34m]\u001b[0m \u001b[0;34m=\u001b[0m \u001b[0mtheta\u001b[0m\u001b[0;34m[\u001b[0m\u001b[0;34m:\u001b[0m\u001b[0mlen\u001b[0m\u001b[0;34m(\u001b[0m\u001b[0mtheta\u001b[0m\u001b[0;34m)\u001b[0m\u001b[0;34m-\u001b[0m\u001b[0;36m1\u001b[0m\u001b[0;34m]\u001b[0m\u001b[0;34m\u001b[0m\u001b[0;34m\u001b[0m\u001b[0m\n\u001b[1;32m     14\u001b[0m     \u001b[0mplot3\u001b[0m\u001b[0;34m(\u001b[0m\u001b[0mtheta\u001b[0m\u001b[0;34m)\u001b[0m\u001b[0;34m\u001b[0m\u001b[0;34m\u001b[0m\u001b[0m\n",
      "\u001b[0;32m<ipython-input-96-a5cf728d31c4>\u001b[0m in \u001b[0;36mupdateTheta\u001b[0;34m(theta)\u001b[0m\n\u001b[1;32m     51\u001b[0m \u001b[0;34m\u001b[0m\u001b[0m\n\u001b[1;32m     52\u001b[0m \u001b[0;32mdef\u001b[0m \u001b[0mupdateTheta\u001b[0m\u001b[0;34m(\u001b[0m\u001b[0mtheta\u001b[0m\u001b[0;34m)\u001b[0m\u001b[0;34m:\u001b[0m\u001b[0;34m\u001b[0m\u001b[0;34m\u001b[0m\u001b[0m\n\u001b[0;32m---> 53\u001b[0;31m     \u001b[0mtheta\u001b[0m \u001b[0;34m=\u001b[0m \u001b[0mtheta\u001b[0m \u001b[0;34m+\u001b[0m \u001b[0malpha\u001b[0m \u001b[0;34m*\u001b[0m \u001b[0mgradientV\u001b[0m\u001b[0;34m(\u001b[0m\u001b[0mtheta\u001b[0m\u001b[0;34m)\u001b[0m\u001b[0;34m\u001b[0m\u001b[0;34m\u001b[0m\u001b[0m\n\u001b[0m\u001b[1;32m     54\u001b[0m     \u001b[0;32mreturn\u001b[0m \u001b[0mtheta\u001b[0m\u001b[0;34m\u001b[0m\u001b[0;34m\u001b[0m\u001b[0m\n\u001b[1;32m     55\u001b[0m \u001b[0;34m\u001b[0m\u001b[0m\n",
      "\u001b[0;32m<ipython-input-96-a5cf728d31c4>\u001b[0m in \u001b[0;36mgradientV\u001b[0;34m(theta, D)\u001b[0m\n\u001b[1;32m     36\u001b[0m         \u001b[0mnewGrad\u001b[0m \u001b[0;34m=\u001b[0m \u001b[0mnp\u001b[0m\u001b[0;34m.\u001b[0m\u001b[0mzeros\u001b[0m\u001b[0;34m(\u001b[0m\u001b[0mlen\u001b[0m\u001b[0;34m(\u001b[0m\u001b[0mtheta\u001b[0m\u001b[0;34m)\u001b[0m\u001b[0;34m)\u001b[0m\u001b[0;34m\u001b[0m\u001b[0;34m\u001b[0m\u001b[0m\n\u001b[1;32m     37\u001b[0m         \u001b[0;32mfor\u001b[0m \u001b[0md\u001b[0m \u001b[0;32min\u001b[0m \u001b[0mrange\u001b[0m\u001b[0;34m(\u001b[0m\u001b[0mD\u001b[0m\u001b[0;34m)\u001b[0m\u001b[0;34m:\u001b[0m\u001b[0;34m\u001b[0m\u001b[0;34m\u001b[0m\u001b[0m\n\u001b[0;32m---> 38\u001b[0;31m             \u001b[0mwp\u001b[0m\u001b[0;34m,\u001b[0m \u001b[0map\u001b[0m\u001b[0;34m,\u001b[0m \u001b[0mrp\u001b[0m \u001b[0;34m=\u001b[0m \u001b[0msimSinglePath\u001b[0m\u001b[0;34m(\u001b[0m\u001b[0mtheta\u001b[0m\u001b[0;34m)\u001b[0m\u001b[0;34m\u001b[0m\u001b[0;34m\u001b[0m\u001b[0m\n\u001b[0m\u001b[1;32m     39\u001b[0m             \u001b[0mnewGrad\u001b[0m\u001b[0;34m[\u001b[0m\u001b[0;36m0\u001b[0m\u001b[0;34m]\u001b[0m \u001b[0;34m=\u001b[0m \u001b[0mnp\u001b[0m\u001b[0;34m.\u001b[0m\u001b[0msum\u001b[0m\u001b[0;34m(\u001b[0m\u001b[0;34m(\u001b[0m\u001b[0map\u001b[0m \u001b[0;34m-\u001b[0m \u001b[0mmu\u001b[0m\u001b[0;34m(\u001b[0m\u001b[0mtheta\u001b[0m\u001b[0;34m,\u001b[0m \u001b[0mwp\u001b[0m\u001b[0;34m)\u001b[0m\u001b[0;34m)\u001b[0m\u001b[0;34m/\u001b[0m\u001b[0;34m(\u001b[0m\u001b[0mwp\u001b[0m\u001b[0;34m**\u001b[0m\u001b[0;36m5\u001b[0m\u001b[0;34m)\u001b[0m\u001b[0;34m)\u001b[0m\u001b[0;34m\u001b[0m\u001b[0;34m\u001b[0m\u001b[0m\n\u001b[1;32m     40\u001b[0m             \u001b[0mnewGrad\u001b[0m\u001b[0;34m[\u001b[0m\u001b[0;36m1\u001b[0m\u001b[0;34m]\u001b[0m \u001b[0;34m=\u001b[0m \u001b[0mnp\u001b[0m\u001b[0;34m.\u001b[0m\u001b[0msum\u001b[0m\u001b[0;34m(\u001b[0m\u001b[0;34m(\u001b[0m\u001b[0map\u001b[0m \u001b[0;34m-\u001b[0m \u001b[0mmu\u001b[0m\u001b[0;34m(\u001b[0m\u001b[0mtheta\u001b[0m\u001b[0;34m,\u001b[0m \u001b[0mwp\u001b[0m\u001b[0;34m)\u001b[0m\u001b[0;34m)\u001b[0m\u001b[0;34m/\u001b[0m\u001b[0;34m(\u001b[0m\u001b[0mwp\u001b[0m\u001b[0;34m**\u001b[0m\u001b[0;36m4\u001b[0m\u001b[0;34m)\u001b[0m\u001b[0;34m)\u001b[0m\u001b[0;34m\u001b[0m\u001b[0;34m\u001b[0m\u001b[0m\n",
      "\u001b[0;32m<ipython-input-96-a5cf728d31c4>\u001b[0m in \u001b[0;36msimSinglePath\u001b[0;34m(theta)\u001b[0m\n\u001b[1;32m     22\u001b[0m             \u001b[0mk\u001b[0m \u001b[0;34m=\u001b[0m \u001b[0;34m(\u001b[0m\u001b[0;36m1\u001b[0m\u001b[0;34m-\u001b[0m\u001b[0mdelta\u001b[0m\u001b[0;34m)\u001b[0m\u001b[0;34m*\u001b[0m\u001b[0mk\u001b[0m \u001b[0;34m+\u001b[0m \u001b[0;34m(\u001b[0m\u001b[0mk\u001b[0m\u001b[0;34m**\u001b[0m\u001b[0mgamma\u001b[0m\u001b[0;34m-\u001b[0m\u001b[0mc\u001b[0m\u001b[0;34m)\u001b[0m \u001b[0;34m*\u001b[0m \u001b[0;34m(\u001b[0m\u001b[0;36m1\u001b[0m\u001b[0;34m+\u001b[0m\u001b[0mr\u001b[0m\u001b[0;34m)\u001b[0m\u001b[0;34m\u001b[0m\u001b[0;34m\u001b[0m\u001b[0m\n\u001b[1;32m     23\u001b[0m         \u001b[0;32melse\u001b[0m\u001b[0;34m:\u001b[0m\u001b[0;34m\u001b[0m\u001b[0;34m\u001b[0m\u001b[0m\n\u001b[0;32m---> 24\u001b[0;31m             \u001b[0mk\u001b[0m \u001b[0;34m=\u001b[0m \u001b[0;34m(\u001b[0m\u001b[0;36m1\u001b[0m\u001b[0;34m-\u001b[0m\u001b[0mdelta\u001b[0m\u001b[0;34m)\u001b[0m\u001b[0;34m*\u001b[0m\u001b[0mk\u001b[0m \u001b[0;34m+\u001b[0m \u001b[0;34m(\u001b[0m\u001b[0mk\u001b[0m\u001b[0;34m**\u001b[0m\u001b[0mgamma\u001b[0m\u001b[0;34m-\u001b[0m\u001b[0mc\u001b[0m\u001b[0;34m)\u001b[0m \u001b[0;34m*\u001b[0m \u001b[0;34m(\u001b[0m\u001b[0;36m1\u001b[0m\u001b[0;34m-\u001b[0m\u001b[0mr\u001b[0m\u001b[0;34m)\u001b[0m\u001b[0;34m\u001b[0m\u001b[0;34m\u001b[0m\u001b[0m\n\u001b[0m\u001b[1;32m     25\u001b[0m     \u001b[0;32mreturn\u001b[0m \u001b[0mkPath\u001b[0m\u001b[0;34m,\u001b[0m \u001b[0maPath\u001b[0m\u001b[0;34m,\u001b[0m \u001b[0mrPath\u001b[0m\u001b[0;34m\u001b[0m\u001b[0;34m\u001b[0m\u001b[0m\n\u001b[1;32m     26\u001b[0m \u001b[0;34m\u001b[0m\u001b[0m\n",
      "\u001b[0;31mKeyboardInterrupt\u001b[0m: "
     ]
    },
    {
     "data": {
      "image/png": "[encoded data removed]",
      "text/plain": [
       "<Figure size 432x288 with 1 Axes>"
      ]
     },
     "metadata": {
      "needs_background": "light"
     },
     "output_type": "display_data"
    }
   ],
   "source": [
    "# initial theta\n",
    "N = 100\n",
    "theta = [0,0,0,0,0,0,1]\n",
    "# gradient ascend step size \n",
    "alpha = 0.01\n",
    "# store theta\n",
    "THETA3 = np.zeros((len(theta)-1,N))\n",
    "for i in range(N):\n",
    "    if i%1 ==0:\n",
    "        print(i)\n",
    "        print(theta)\n",
    "    theta = updateTheta(theta)\n",
    "    THETA3[:,i] = theta[:len(theta)-1]\n",
    "    plot3(theta)"
   ]
  },
  {
   "cell_type": "code",
   "execution_count": null,
   "metadata": {},
   "outputs": [],
   "source": [
    "plt.plot(THETA3[0,:])"
   ]
  },
  {
   "cell_type": "code",
   "execution_count": null,
   "metadata": {},
   "outputs": [],
   "source": [
    "plt.plot(THETA3[1,:])"
   ]
  },
  {
   "cell_type": "code",
   "execution_count": null,
   "metadata": {},
   "outputs": [],
   "source": []
  }
 ],
 "metadata": {
  "kernelspec": {
   "display_name": "Python 3",
   "language": "python",
   "name": "python3"
  },
  "language_info": {
   "codemirror_mode": {
    "name": "ipython",
    "version": 3
   },
   "file_extension": ".py",
   "mimetype": "text/x-python",
   "name": "python",
   "nbconvert_exporter": "python",
   "pygments_lexer": "ipython3",
   "version": "3.7.7"
  }
 },
 "nbformat": 4,
 "nbformat_minor": 4
}
