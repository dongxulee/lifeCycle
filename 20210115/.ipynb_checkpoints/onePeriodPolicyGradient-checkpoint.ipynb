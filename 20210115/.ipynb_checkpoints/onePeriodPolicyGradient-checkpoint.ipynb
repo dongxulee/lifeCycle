{
 "cells": [
  {
   "cell_type": "markdown",
   "metadata": {},
   "source": [
    "### The model (one step reward)\n",
    "\n",
    "$u(c) = log(c+1)$ utility function    \n",
    "$y = 1$ Deterministic income    \n",
    "$p(r = 0.02) = 0.5$   \n",
    "$p(r = -0.01) = 0.5$ \n",
    "\n",
    "Explicit form of policy is linear:\n",
    "$$ c(w) = \\frac{y+w}{2 \\beta +1} = 0.3448275862068966 + 0.3448275862068966 w$$"
   ]
  },
  {
   "cell_type": "code",
   "execution_count": 4,
   "metadata": {},
   "outputs": [
    {
     "name": "stdout",
     "output_type": "stream",
     "text": [
      "Populating the interactive namespace from numpy and matplotlib\n"
     ]
    }
   ],
   "source": [
    "# infinite horizon MDP problem\n",
    "%pylab inline\n",
    "import numpy as np\n",
    "from scipy.optimize import minimize\n",
    "import warnings\n",
    "warnings.filterwarnings(\"ignore\")\n",
    "\n",
    "# discounting factor \n",
    "beta = 0.95\n",
    "# wealth level\n",
    "eps = 0.001\n",
    "w_low = eps\n",
    "w_high = 10\n",
    "# interest rate\n",
    "r_up = 0.02\n",
    "r_down = 0.01\n",
    "# deterministic income\n",
    "y = 1\n",
    "# good state and bad state economy with equal probability 0.5\n",
    "# with good investment return 0.02 or bad investment return -0.01\n",
    "ws = np.linspace(w_low, w_high**(0.5),100)**2\n",
    "Vs = np.zeros(100)\n",
    "Cs = np.zeros(100)\n",
    "\n",
    "def u(c):\n",
    "    return np.log(c)\n",
    "\n",
    "def uB(b):\n",
    "    B = 2\n",
    "    return B*u(b)"
   ]
  },
  {
   "cell_type": "code",
   "execution_count": 5,
   "metadata": {},
   "outputs": [],
   "source": [
    "for i in range(len(ws)):\n",
    "    w = ws[i]\n",
    "    def obj(c):\n",
    "        return -(u(c) + beta*(uB((y+w-c)*(1+r_up)) + uB(y+w-c)*(1-r_down))/2)\n",
    "    bounds = [(eps, y+w-eps)]\n",
    "    res = minimize(obj, eps, method='SLSQP', bounds=bounds)\n",
    "    Cs[i] = res.x[0]\n",
    "    Vs[i] = -res.fun"
   ]
  },
  {
   "cell_type": "code",
   "execution_count": 6,
   "metadata": {},
   "outputs": [
    {
     "data": {
      "text/plain": [
       "[<matplotlib.lines.Line2D at 0x7f051543c1d0>]"
      ]
     },
     "execution_count": 6,
     "metadata": {},
     "output_type": "execute_result"
    },
    {
     "data": {
      "image/png": "[encoded data removed]",
      "text/plain": [
       "<Figure size 432x288 with 1 Axes>"
      ]
     },
     "metadata": {
      "needs_background": "light"
     },
     "output_type": "display_data"
    }
   ],
   "source": [
    "plt.plot(ws, Cs)"
   ]
  },
  {
   "cell_type": "code",
   "execution_count": 8,
   "metadata": {},
   "outputs": [
    {
     "data": {
      "text/plain": [
       "[<matplotlib.lines.Line2D at 0x7f0513337250>]"
      ]
     },
     "execution_count": 8,
     "metadata": {},
     "output_type": "execute_result"
    },
    {
     "data": {
      "image/png": "[encoded data removed]",
      "text/plain": [
       "<Figure size 432x288 with 1 Axes>"
      ]
     },
     "metadata": {
      "needs_background": "light"
     },
     "output_type": "display_data"
    }
   ],
   "source": [
    "plt.plot(ws,(1+ws)/(2*beta+1))"
   ]
  },
  {
   "cell_type": "code",
   "execution_count": null,
   "metadata": {},
   "outputs": [],
   "source": []
  },
  {
   "cell_type": "code",
   "execution_count": null,
   "metadata": {},
   "outputs": [],
   "source": []
  },
  {
   "cell_type": "code",
   "execution_count": null,
   "metadata": {},
   "outputs": [],
   "source": []
  },
  {
   "cell_type": "markdown",
   "metadata": {},
   "source": [
    "### policy gradient\n",
    "Assume the policy form $\\theta = (a,b, \\sigma = 0.1)$, then $\\pi_\\theta$ ~ $N(ax+b, \\sigma)$\n",
    "\n",
    "Assume the initial value $a = 1$, $b = 1$, $\\sigma = 0.1$     \n",
    "\n",
    "\n",
    "$$\\theta_{k+1} = \\theta_{k} + \\alpha  \\nabla_\\theta V(\\pi_\\theta)|\\theta_k$$"
   ]
  },
  {
   "cell_type": "code",
   "execution_count": null,
   "metadata": {},
   "outputs": [],
   "source": [
    "T = 100\n",
    "# simulation step T = 100\n",
    "def poly(theta, w):\n",
    "    return theta[0] * w + theta[1] \n",
    "\n",
    "def mu(theta, w):\n",
    "    return poly(theta, w)\n",
    "\n",
    "def simSinglePath(theta):\n",
    "    wPath = np.zeros(T)\n",
    "    aPath = np.zeros(T)\n",
    "    rPath = np.zeros(T)\n",
    "    w = np.random.choice(ws)\n",
    "    for t in range(T):\n",
    "        n = np.random.normal(mu(theta, w), theta[-1])\n",
    "        n = max(min(n, 1-eps), eps)\n",
    "        c = (w+y) * n\n",
    "        wPath[t] = w\n",
    "        aPath[t] = n\n",
    "        rPath[t] = u(c)*(beta**t)\n",
    "        if np.random.uniform(0,1) > 0.5:\n",
    "            w = (w+y-c) * (1+r_up)\n",
    "        else:\n",
    "            w = (w+y-c) * (1-r_down)\n",
    "    return wPath, aPath, rPath\n",
    "\n",
    "\n",
    "\n",
    "def gradientV(theta, D = 100):\n",
    "    '''\n",
    "        D is the sample size\n",
    "    '''\n",
    "    notValid = True\n",
    "    while notValid:\n",
    "        grad = np.zeros(len(theta))\n",
    "        newGrad = np.zeros(len(theta))\n",
    "        for d in range(D):\n",
    "            wp, ap, rp = simSinglePath(theta)\n",
    "            newGrad[0] = np.sum((ap - mu(theta, wp))/(theta[-1]**2)*(mu(theta,wp)**2*np.exp(poly(theta, wp)))*(wp**2))\n",
    "            newGrad[1] = np.sum((ap - mu(theta, wp))/(theta[-1]**2)*(mu(theta,wp)**2*np.exp(poly(theta, wp)))*(wp))\n",
    "            newGrad[2] = np.sum((ap - mu(theta, wp))/(theta[-1]**2)*(mu(theta,wp)**2*np.exp(poly(theta, wp)))*(1)) \n",
    "            grad += newGrad * np.sum(rp)\n",
    "        grad /= D\n",
    "        if numpy.isnan(grad).any() == False:\n",
    "            notValid = False\n",
    "    return grad\n",
    "\n",
    "def updateTheta(theta):\n",
    "    theta = theta + alpha * gradientV(theta)\n",
    "    return theta \n",
    "\n",
    "def plot3(theta):\n",
    "    plt.plot(ws, Cs, 'b')\n",
    "    plt.plot(ws, mu(theta,ws)*(ws+1), 'r')"
   ]
  },
  {
   "cell_type": "code",
   "execution_count": null,
   "metadata": {},
   "outputs": [],
   "source": [
    "# initial theta \n",
    "N = 10000\n",
    "theta = [0,0,0,0.1]\n",
    "# gradient ascend step size \n",
    "alpha = 0.001\n",
    "# store theta\n",
    "THETA3 = np.zeros((len(theta)-1,N))\n",
    "for i in range(N):\n",
    "    if i%100 ==0:\n",
    "        print(i)\n",
    "        print(theta)\n",
    "    theta = updateTheta(theta)\n",
    "    THETA3[:,i] = theta[:len(theta)-1]\n",
    "    plot3(theta)"
   ]
  }
 ],
 "metadata": {
  "kernelspec": {
   "display_name": "Python 3",
   "language": "python",
   "name": "python3"
  },
  "language_info": {
   "codemirror_mode": {
    "name": "ipython",
    "version": 3
   },
   "file_extension": ".py",
   "mimetype": "text/x-python",
   "name": "python",
   "nbconvert_exporter": "python",
   "pygments_lexer": "ipython3",
   "version": "3.7.7"
  }
 },
 "nbformat": 4,
 "nbformat_minor": 4
}
