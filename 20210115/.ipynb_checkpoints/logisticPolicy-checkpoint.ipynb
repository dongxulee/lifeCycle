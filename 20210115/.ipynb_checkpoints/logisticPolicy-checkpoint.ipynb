{
 "cells": [
  {
   "cell_type": "markdown",
   "metadata": {},
   "source": [
    "### The model\n",
    "\n",
    "$u(c) = log(c)$ utility function    \n",
    "$y = 1$ Deterministic income    \n",
    "$p(r = 0.02) = 0.5$   \n",
    "$p(r = -0.01) = 0.5$ "
   ]
  },
  {
   "cell_type": "code",
   "execution_count": 3,
   "metadata": {},
   "outputs": [
    {
     "name": "stdout",
     "output_type": "stream",
     "text": [
      "Populating the interactive namespace from numpy and matplotlib\n"
     ]
    }
   ],
   "source": [
    "# infinite horizon MDP problem\n",
    "%pylab inline\n",
    "import numpy as np\n",
    "from scipy.optimize import minimize\n",
    "import warnings\n",
    "warnings.filterwarnings(\"ignore\")\n",
    "\n",
    "# discounting factor \n",
    "beta = 0.95\n",
    "# wealth level\n",
    "eps = 0.001\n",
    "w_low = eps\n",
    "w_high = 10\n",
    "# interest rate\n",
    "r_up = 0.02\n",
    "r_down = 0.01\n",
    "# deterministic income\n",
    "y = 1\n",
    "# good state and bad state economy with equal probability 0.5\n",
    "# with good investment return 0.02 or bad investment return -0.01\n",
    "ws = np.linspace(w_low, w_high**(0.5),100)**2\n",
    "Vs = np.zeros(100)\n",
    "Cs = np.zeros(100)\n",
    "\n",
    "def u(c):\n",
    "    return np.log(c)"
   ]
  },
  {
   "cell_type": "code",
   "execution_count": 4,
   "metadata": {},
   "outputs": [
    {
     "name": "stdout",
     "output_type": "stream",
     "text": [
      "0\n",
      "10\n",
      "20\n"
     ]
    }
   ],
   "source": [
    "# Value iteration\n",
    "for j in range(30):\n",
    "    if j % 10 == 0:\n",
    "        print(j)\n",
    "    for i in range(len(ws)):\n",
    "        w = ws[i]\n",
    "        def obj(c):\n",
    "            return -(u(c) + beta*(np.interp((y+w-c)*(1+r_up), ws, Vs) + np.interp((y+w-c)*(1-r_down), ws, Vs))/2)\n",
    "        bounds = [(eps, y+w-eps)]\n",
    "        res = minimize(obj, eps, method='SLSQP', bounds=bounds)\n",
    "        Cs[i] = res.x[0]\n",
    "        Vs[i] = -res.fun"
   ]
  },
  {
   "cell_type": "code",
   "execution_count": 5,
   "metadata": {},
   "outputs": [
    {
     "data": {
      "text/plain": [
       "[<matplotlib.lines.Line2D at 0x7f07f5206c50>]"
      ]
     },
     "execution_count": 5,
     "metadata": {},
     "output_type": "execute_result"
    },
    {
     "data": {
      "image/png": "[encoded data removed]",
      "text/plain": [
       "<Figure size 432x288 with 1 Axes>"
      ]
     },
     "metadata": {
      "needs_background": "light"
     },
     "output_type": "display_data"
    }
   ],
   "source": [
    "plt.plot(ws,Vs)"
   ]
  },
  {
   "cell_type": "code",
   "execution_count": 6,
   "metadata": {},
   "outputs": [
    {
     "data": {
      "text/plain": [
       "[<matplotlib.lines.Line2D at 0x7f07f3100f90>]"
      ]
     },
     "execution_count": 6,
     "metadata": {},
     "output_type": "execute_result"
    },
    {
     "data": {
      "image/png": "[encoded data removed]",
      "text/plain": [
       "<Figure size 432x288 with 1 Axes>"
      ]
     },
     "metadata": {
      "needs_background": "light"
     },
     "output_type": "display_data"
    }
   ],
   "source": [
    "plt.plot(ws,Cs)"
   ]
  },
  {
   "cell_type": "code",
   "execution_count": 7,
   "metadata": {},
   "outputs": [
    {
     "data": {
      "text/plain": [
       "[<matplotlib.lines.Line2D at 0x7f07f3083290>]"
      ]
     },
     "execution_count": 7,
     "metadata": {},
     "output_type": "execute_result"
    },
    {
     "data": {
      "image/png": "[encoded data removed]",
      "text/plain": [
       "<Figure size 432x288 with 1 Axes>"
      ]
     },
     "metadata": {
      "needs_background": "light"
     },
     "output_type": "display_data"
    }
   ],
   "source": [
    "plt.plot(ws,Cs/(ws+y))"
   ]
  },
  {
   "cell_type": "markdown",
   "metadata": {},
   "source": [
    "### policy gradient\n",
    "Assume the policy form $\\theta = (a,b, \\sigma = 0.1)$, then $\\pi_\\theta$ ~ Beta($\\alpha$, $\\beta$)\n",
    "\n",
    "\n",
    "Assume the initial value $a_1 = 0$, $b_1 = 0$, $c_1 = 0$, $d_1 = 0$, $a_2 = 0$, $b_2 = 0$, $c_2 = 0$, $d_2 = 0$:\n",
    "$$\\alpha = log(1+ e^{a_1 x^3 + b_1 x^2 + c_1 x + d_1}) + 1 $$\n",
    "$$\\beta = log(1+ e^{a_2 x^3 + b_2 x^2 + c_2 x + d_2}) + 1 $$\n",
    "\n",
    "\n",
    "$$\\theta_{k+1} = \\theta_{k} + \\alpha  \\nabla_\\theta V(\\pi_\\theta)|\\theta_k$$"
   ]
  },
  {
   "cell_type": "code",
   "execution_count": 8,
   "metadata": {},
   "outputs": [],
   "source": [
    "T = 100\n",
    "def poly(the, w):\n",
    "    return the[0]*(w**3) + the[1]*(w**2) +the[2]*w + the[3]\n",
    "\n",
    "# simulation step T = 100\n",
    "def a(theta, w):\n",
    "    return np.log(1+np.exp(poly(theta[:4],w))) + 1\n",
    "\n",
    "def b(theta, w):\n",
    "    return np.log(1+np.exp(poly(theta[4:],w))) + 1\n",
    "\n",
    "def simSinglePath(theta):\n",
    "    wPath = np.zeros(T)\n",
    "    aPath = np.zeros(T)\n",
    "    rPath = np.zeros(T)\n",
    "    w = np.random.uniform(w_low, w_high)\n",
    "    for t in range(T):\n",
    "        n = np.random.beta(a(theta, w), b(theta, w))\n",
    "        c = n*(w+y)\n",
    "        wPath[t] = w\n",
    "        aPath[t] = n\n",
    "        rPath[t] = u(c)*(beta**t)\n",
    "        if np.random.uniform(0,1) > 0.5:\n",
    "            w = (w+y-c) * (1+r_up)\n",
    "        else:\n",
    "            w = (w+y-c) * (1-r_down)\n",
    "    return wPath, aPath, rPath\n",
    "\n",
    "def gradientV(theta, D = 100):\n",
    "    '''\n",
    "        D is the sample size\n",
    "    '''\n",
    "    notValid = True\n",
    "    while notValid:\n",
    "        grad = np.zeros(len(theta))\n",
    "        newGrad = np.zeros(len(theta))\n",
    "        for d in range(D):\n",
    "            wp, ap, rp = simSinglePath(theta)\n",
    "            newGrad[0] = np.sum(np.log(ap)*(wp**3)/(1+np.exp(-poly(theta[:4],wp))))\n",
    "            newGrad[1] = np.sum(np.log(ap)*(wp**2)/(1+np.exp(-poly(theta[:4],wp))))\n",
    "            newGrad[2] = np.sum(np.log(ap)*(wp)/(1+np.exp(-poly(theta[:4],wp))))\n",
    "            newGrad[3] = np.sum(np.log(ap)*(1)/(1+np.exp(-poly(theta[:4],wp))))            \n",
    "            \n",
    "            newGrad[4] = np.sum(np.log(1-ap)*(wp**3)/(1+np.exp(-poly(theta[4:],wp))))\n",
    "            newGrad[5] = np.sum(np.log(1-ap)*(wp**2)/(1+np.exp(-poly(theta[4:],wp))))\n",
    "            newGrad[6] = np.sum(np.log(1-ap)*(wp)/(1+np.exp(-poly(theta[4:],wp))))\n",
    "            newGrad[7] = np.sum(np.log(1-ap)*(1)/(1+np.exp(-poly(theta[4:],wp))))\n",
    "                  \n",
    "            grad += newGrad * np.sum(rp)\n",
    "        grad /= D\n",
    "        if numpy.isnan(grad).any() == False:\n",
    "            notValid = False\n",
    "    return grad\n",
    "\n",
    "def updateTheta(theta):\n",
    "    theta = theta + alpha * gradientV(theta)\n",
    "    return theta\n",
    "\n",
    "def plot(theta):\n",
    "    plt.plot(ws, Cs, 'b')\n",
    "    plt.plot(ws, a(theta,ws)/(a(theta,ws) + b(theta,ws))*(ws+y), 'r')"
   ]
  },
  {
   "cell_type": "code",
   "execution_count": null,
   "metadata": {},
   "outputs": [
    {
     "name": "stdout",
     "output_type": "stream",
     "text": [
      "0\n",
      "[0, 0, 0, 0, 0, 0, 0, 0]\n",
      "1\n",
      "[0.20602546 0.12577326 0.09321995 0.09214297 0.21303076 0.12706305\n",
      " 0.09336035 0.09172398]\n",
      "2\n",
      "[0.24799936 0.16453814 0.12356438 0.12021522 0.25517444 0.1655448\n",
      " 0.12350933 0.11974408]\n",
      "3\n",
      "[0.37444195 0.25269286 0.19045103 0.18175    0.37972616 0.25249722\n",
      " 0.18967073 0.18079879]\n",
      "4\n",
      "[0.3831051  0.27704411 0.21217796 0.20255078 0.38908737 0.27687677\n",
      " 0.21143955 0.20165845]\n",
      "5\n",
      "[0.3651318  0.27828045 0.21549739 0.20637217 0.37259506 0.2785327\n",
      " 0.21506551 0.20577894]\n",
      "6\n",
      "[0.327411   0.27031265 0.2121248  0.20394021 0.33528662 0.27070662\n",
      " 0.21182653 0.20326939]\n",
      "7\n",
      "[0.29594637 0.26785054 0.2132045  0.20532994 0.30428885 0.26792025\n",
      " 0.21243282 0.20396378]\n",
      "8\n",
      "[0.29076375 0.28148496 0.22657633 0.21861476 0.30130974 0.28222366\n",
      " 0.22627859 0.21777862]\n",
      "9\n",
      "[0.2973215  0.30422587 0.2467954  0.23774237 0.31095398 0.30520423\n",
      " 0.24630668 0.23661118]\n",
      "10\n",
      "[0.2611131  0.3009159  0.24771903 0.23951518 0.27731197 0.30256593\n",
      " 0.2476193  0.23896048]\n",
      "11\n",
      "[0.24363062 0.30699985 0.25461557 0.24562516 0.25862984 0.30677887\n",
      " 0.25313323 0.24414206]\n",
      "12\n",
      "[0.20051781 0.29594076 0.24864917 0.24058942 0.21684886 0.29569504\n",
      " 0.24722628 0.23935415]\n",
      "13\n",
      "[0.19697443 0.31102531 0.26303486 0.25443473 0.21518372 0.31086553\n",
      " 0.26130885 0.25255903]\n",
      "14\n",
      "[0.19739676 0.32908555 0.27912308 0.26920206 0.21700478 0.32750661\n",
      " 0.27610784 0.26624863]\n",
      "15\n",
      "[0.17258888 0.33216666 0.28471105 0.27500497 0.19728088 0.33125267\n",
      " 0.281571   0.27157872]\n",
      "16\n",
      "[0.15579383 0.33996183 0.29285804 0.28215642 0.18084666 0.33684195\n",
      " 0.28799506 0.27754967]\n",
      "17\n",
      "[0.14805361 0.34918426 0.30174969 0.29048823 0.17391223 0.34505642\n",
      " 0.29625363 0.28564004]\n",
      "18\n",
      "[0.14150585 0.36129656 0.31366976 0.30194638 0.17213447 0.3574157\n",
      " 0.30781111 0.29666229]\n",
      "19\n",
      "[0.07561088 0.34326479 0.30418536 0.29410844 0.11655622 0.34119496\n",
      " 0.2986309  0.28857662]\n",
      "20\n",
      "[0.0925034  0.36972353 0.32689467 0.3157901  0.14138542 0.36859767\n",
      " 0.32146197 0.3103158 ]\n",
      "21\n",
      "[-0.00141303  0.33476397  0.30542711  0.2975705   0.06959706  0.33847818\n",
      "  0.30162502  0.29286314]\n",
      "22\n",
      "[-0.12929415  0.31699098  0.30303079  0.29775887  0.03328965  0.33344237\n",
      "  0.30141653  0.29378726]\n"
     ]
    }
   ],
   "source": [
    "# initial theta\n",
    "N = 100\n",
    "theta = [0]*8\n",
    "# gradient ascend step size \n",
    "alpha = 0.0001\n",
    "# store theta\n",
    "THETA = np.zeros((len(theta),N))\n",
    "for i in range(N):\n",
    "    if i%1 ==0:\n",
    "        print(i)\n",
    "        print(theta)\n",
    "    theta = updateTheta(theta)\n",
    "    THETA[:,i] = theta\n",
    "    plot(theta)"
   ]
  },
  {
   "cell_type": "code",
   "execution_count": null,
   "metadata": {},
   "outputs": [],
   "source": [
    "from scipy.stats import beta as B\n",
    "import matplotlib.pyplot as plt\n",
    "import numpy as np\n",
    "x = np.linspace(0, 1.0, 100)\n",
    "# for i in range(10):\n",
    "#     the = THETA[:,i]\n",
    "y = B.pdf(x, a(theta,10), b(theta,10))\n",
    "plt.plot(x, y)"
   ]
  },
  {
   "cell_type": "code",
   "execution_count": null,
   "metadata": {},
   "outputs": [],
   "source": []
  }
 ],
 "metadata": {
  "kernelspec": {
   "display_name": "Python 3",
   "language": "python",
   "name": "python3"
  },
  "language_info": {
   "codemirror_mode": {
    "name": "ipython",
    "version": 3
   },
   "file_extension": ".py",
   "mimetype": "text/x-python",
   "name": "python",
   "nbconvert_exporter": "python",
   "pygments_lexer": "ipython3",
   "version": "3.7.7"
  }
 },
 "nbformat": 4,
 "nbformat_minor": 4
}
