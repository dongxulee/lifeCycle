{
 "cells": [
  {
   "cell_type": "markdown",
   "metadata": {},
   "source": [
    "### The model\n",
    "\n",
    "$u(c) = log(c)$ utility function    \n",
    "$y = 1$ Deterministic income    \n",
    "$p(r = 0.02) = 0.5$   \n",
    "$p(r = -0.01) = 0.5$ "
   ]
  },
  {
   "cell_type": "markdown",
   "metadata": {},
   "source": [
    "### value iteration "
   ]
  },
  {
   "cell_type": "code",
   "execution_count": 1,
   "metadata": {},
   "outputs": [
    {
     "name": "stdout",
     "output_type": "stream",
     "text": [
      "Populating the interactive namespace from numpy and matplotlib\n"
     ]
    }
   ],
   "source": [
    "# infinite horizon MDP problem\n",
    "%pylab inline\n",
    "import numpy as np\n",
    "from scipy.optimize import minimize\n",
    "import warnings\n",
    "warnings.filterwarnings(\"ignore\")\n",
    "def u(c):\n",
    "    return np.log(c)"
   ]
  },
  {
   "cell_type": "code",
   "execution_count": 2,
   "metadata": {},
   "outputs": [],
   "source": [
    "# discounting factor \n",
    "beta = 0.95\n",
    "# wealth level\n",
    "w_low = 1\n",
    "w_high = 10\n",
    "# interest rate\n",
    "r_up = 0.02\n",
    "r_down = 0.01\n",
    "# deterministic income\n",
    "y = 1\n",
    "# good state and bad state economy with equal probability 0.5\n",
    "# with good investment return 0.02 or bad investment return -0.01\n",
    "ws = np.linspace(0.01,10**(0.5),100)**2\n",
    "Vs = np.zeros(100)\n",
    "Cs = np.zeros(100)"
   ]
  },
  {
   "cell_type": "code",
   "execution_count": 3,
   "metadata": {},
   "outputs": [
    {
     "name": "stdout",
     "output_type": "stream",
     "text": [
      "0\n",
      "10\n",
      "20\n"
     ]
    }
   ],
   "source": [
    "# Value iteration\n",
    "for j in range(30):\n",
    "    if j % 10 == 0:\n",
    "        print(j)\n",
    "    for i in range(len(ws)):\n",
    "        w = ws[i]\n",
    "        def obj(c):\n",
    "            return -(u(c) + beta*(np.interp((y+w-c)*(1+r_up), ws, Vs) + np.interp((y+w-c)*(1-r_down), ws, Vs))/2)\n",
    "        bounds = [(0.0001, y+w-0.0001)]\n",
    "        res = minimize(obj, 0.0001, method='SLSQP', bounds=bounds)\n",
    "        Cs[i] = res.x[0]\n",
    "        Vs[i] = -res.fun"
   ]
  },
  {
   "cell_type": "code",
   "execution_count": 4,
   "metadata": {},
   "outputs": [
    {
     "data": {
      "text/plain": [
       "[<matplotlib.lines.Line2D at 0x7fedcd17e690>]"
      ]
     },
     "execution_count": 4,
     "metadata": {},
     "output_type": "execute_result"
    },
    {
     "data": {
      "image/png": "[encoded data removed]",
      "text/plain": [
       "<Figure size 432x288 with 1 Axes>"
      ]
     },
     "metadata": {
      "needs_background": "light"
     },
     "output_type": "display_data"
    }
   ],
   "source": [
    "plt.plot(ws,Vs)"
   ]
  },
  {
   "cell_type": "code",
   "execution_count": 5,
   "metadata": {},
   "outputs": [
    {
     "data": {
      "text/plain": [
       "[<matplotlib.lines.Line2D at 0x7fedcd171050>]"
      ]
     },
     "execution_count": 5,
     "metadata": {},
     "output_type": "execute_result"
    },
    {
     "data": {
      "image/png": "[encoded data removed]",
      "text/plain": [
       "<Figure size 432x288 with 1 Axes>"
      ]
     },
     "metadata": {
      "needs_background": "light"
     },
     "output_type": "display_data"
    }
   ],
   "source": [
    "plt.plot(ws,Cs)"
   ]
  },
  {
   "cell_type": "markdown",
   "metadata": {},
   "source": [
    "### policy gradient\n",
    "Assume the policy form $\\theta = (a,b,c, \\sigma =0.1)$, then $\\pi_\\theta$ ~ $N(log(ax+b)+c, \\sigma)$\n",
    "\n",
    "Assume the initial value $a = 1$, $b = 1$, $c = 1$, $\\sigma = 0.1$     \n",
    "\n",
    "\n",
    "$$\\theta_{k+1} = \\theta_{k} + \\alpha  \\nabla_\\theta V(\\pi_\\theta)|\\theta_k$$"
   ]
  },
  {
   "cell_type": "code",
   "execution_count": 6,
   "metadata": {},
   "outputs": [],
   "source": [
    "# simulation step T = 20\n",
    "T = 20\n",
    "def mu(theta, w):\n",
    "    return np.log(theta[0] * w + theta[1]) + theta[2] \n",
    "\n",
    "def simSinglePath(theta):\n",
    "    wPath = np.zeros(T)\n",
    "    aPath = np.zeros(T)\n",
    "    rPath = np.zeros(T)\n",
    "    w = np.random.choice(ws)\n",
    "    for t in range(T):\n",
    "        c = np.random.normal(mu(theta, w), theta[3])\n",
    "        while c < 0.001 or c > w+y-0.001:\n",
    "            c = np.random.normal(mu(theta, w), theta[3])\n",
    "        wPath[t] = w\n",
    "        aPath[t] = c\n",
    "        try:\n",
    "            rPath[t] = np.log(c)*(beta**t)\n",
    "        except:\n",
    "            print(c)\n",
    "        if np.random.uniform(0,1) > 0.5:\n",
    "            w = (w+y-c) * (1+r_up)\n",
    "        else:\n",
    "            w = (w+y-c) * (1-r_down)\n",
    "    return wPath, aPath, rPath\n",
    "\n",
    "\n",
    "def gradientV(theta, D = 100):\n",
    "    '''\n",
    "        D is the sample size\n",
    "    '''\n",
    "    grad = np.zeros(len(theta))\n",
    "    newGrad = np.zeros(len(theta))\n",
    "    for d in range(D):\n",
    "        wp, ap, rp = simSinglePath(theta) \n",
    "        newGrad[0] = np.sum((ap - mu(theta, wp))/(theta[3]**2)*(wp/(theta[0]*wp + theta[1])))\n",
    "        newGrad[1] = np.sum((ap - mu(theta, wp))/(theta[3]**2)*(1/(theta[0]*wp + theta[1])))\n",
    "        newGrad[2] = np.sum((ap - mu(theta, wp))/(theta[3]**2))\n",
    "        grad += newGrad * np.sum(rp)\n",
    "    grad /= D\n",
    "    return grad\n",
    "\n",
    "def updateTheta(theta):\n",
    "    theta = theta + alpha * gradientV(theta)\n",
    "    return theta \n",
    "\n",
    "\n",
    "def plot1(theta):\n",
    "    def f(x):\n",
    "        return np.log(theta[0]*x + theta[1]) + theta[2]\n",
    "    plt.plot(ws, Cs, 'b')\n",
    "    plt.plot(ws, f(ws), 'r')"
   ]
  },
  {
   "cell_type": "code",
   "execution_count": 7,
   "metadata": {},
   "outputs": [
    {
     "name": "stdout",
     "output_type": "stream",
     "text": [
      "0\n",
      "100\n",
      "200\n",
      "300\n",
      "400\n",
      "500\n",
      "600\n",
      "700\n",
      "800\n",
      "900\n",
      "1000\n",
      "1100\n",
      "1200\n",
      "1300\n",
      "1400\n",
      "1500\n",
      "1600\n",
      "1700\n",
      "1800\n",
      "1900\n",
      "2000\n",
      "2100\n",
      "2200\n",
      "2300\n",
      "2400\n",
      "2500\n",
      "2600\n",
      "2700\n",
      "2800\n",
      "2900\n",
      "3000\n",
      "3100\n",
      "3200\n",
      "3300\n",
      "3400\n",
      "3500\n",
      "3600\n",
      "3700\n",
      "3800\n",
      "3900\n",
      "4000\n",
      "4100\n",
      "4200\n",
      "4300\n",
      "4400\n",
      "4500\n",
      "4600\n",
      "4700\n",
      "4800\n",
      "4900\n",
      "5000\n",
      "5100\n",
      "5200\n",
      "5300\n",
      "5400\n",
      "5500\n",
      "5600\n",
      "5700\n",
      "5800\n",
      "5900\n",
      "6000\n",
      "6100\n",
      "6200\n",
      "6300\n",
      "6400\n",
      "6500\n",
      "6600\n",
      "6700\n",
      "6800\n",
      "6900\n",
      "7000\n",
      "7100\n",
      "7200\n",
      "7300\n",
      "7400\n",
      "7500\n",
      "7600\n",
      "7700\n",
      "7800\n",
      "7900\n",
      "8000\n",
      "8100\n",
      "8200\n",
      "8300\n",
      "8400\n",
      "8500\n",
      "8600\n",
      "8700\n",
      "8800\n",
      "8900\n",
      "9000\n",
      "9100\n",
      "9200\n",
      "9300\n",
      "9400\n",
      "9500\n",
      "9600\n",
      "9700\n",
      "9800\n",
      "9900\n"
     ]
    },
    {
     "data": {
      "image/png": "[encoded data removed]",
      "text/plain": [
       "<Figure size 432x288 with 1 Axes>"
      ]
     },
     "metadata": {
      "needs_background": "light"
     },
     "output_type": "display_data"
    }
   ],
   "source": [
    "# c < 0 or c > w + 5, then reward -100\n",
    "N = 10000\n",
    "# initial theta\n",
    "theta = [1,1,1,0.2]\n",
    "# gradient ascend step size\n",
    "alpha = 0.001\n",
    "# store theta\n",
    "THETA1 = np.zeros((3,N))\n",
    "for i in range(N):\n",
    "    if i%100 ==0:\n",
    "        print(i)\n",
    "    theta = updateTheta(theta)\n",
    "    THETA1[:,i] = theta[:3]\n",
    "    plot1(theta)"
   ]
  },
  {
   "cell_type": "code",
   "execution_count": 8,
   "metadata": {},
   "outputs": [
    {
     "data": {
      "image/png": "[encoded data removed]",
      "text/plain": [
       "<Figure size 432x288 with 1 Axes>"
      ]
     },
     "metadata": {
      "needs_background": "light"
     },
     "output_type": "display_data"
    }
   ],
   "source": [
    "plot1(theta)"
   ]
  },
  {
   "cell_type": "code",
   "execution_count": 9,
   "metadata": {},
   "outputs": [
    {
     "data": {
      "text/plain": [
       "[<matplotlib.lines.Line2D at 0x7fefa741f990>]"
      ]
     },
     "execution_count": 9,
     "metadata": {},
     "output_type": "execute_result"
    },
    {
     "data": {
      "image/png": "[encoded data removed]",
      "text/plain": [
       "<Figure size 432x288 with 1 Axes>"
      ]
     },
     "metadata": {
      "needs_background": "light"
     },
     "output_type": "display_data"
    }
   ],
   "source": [
    "plt.plot(THETA1[0,:])"
   ]
  },
  {
   "cell_type": "code",
   "execution_count": 10,
   "metadata": {},
   "outputs": [
    {
     "data": {
      "text/plain": [
       "[<matplotlib.lines.Line2D at 0x7fefa740cb10>]"
      ]
     },
     "execution_count": 10,
     "metadata": {},
     "output_type": "execute_result"
    },
    {
     "data": {
      "image/png": "[encoded data removed]",
      "text/plain": [
       "<Figure size 432x288 with 1 Axes>"
      ]
     },
     "metadata": {
      "needs_background": "light"
     },
     "output_type": "display_data"
    }
   ],
   "source": [
    "plt.plot(THETA1[1,:])"
   ]
  },
  {
   "cell_type": "code",
   "execution_count": 11,
   "metadata": {},
   "outputs": [
    {
     "data": {
      "text/plain": [
       "[<matplotlib.lines.Line2D at 0x7fefa73c1ad0>]"
      ]
     },
     "execution_count": 11,
     "metadata": {},
     "output_type": "execute_result"
    },
    {
     "data": {
      "image/png": "[encoded data removed]",
      "text/plain": [
       "<Figure size 432x288 with 1 Axes>"
      ]
     },
     "metadata": {
      "needs_background": "light"
     },
     "output_type": "display_data"
    }
   ],
   "source": [
    "plt.plot(THETA1[2,:])"
   ]
  },
  {
   "cell_type": "markdown",
   "metadata": {},
   "source": [
    "### policy gradient\n",
    "Assume the policy form $\\theta = (a,b,\\sigma = 0.1)$, then $\\pi_\\theta$ ~ $N(ax+b, \\sigma)$\n",
    "\n",
    "Assume the initial value $a = 1$, $b = 1$, $\\sigma = 0.1$     \n",
    "\n",
    "\n",
    "$$\\theta_{k+1} = \\theta_{k} + \\alpha  \\nabla_\\theta V(\\pi_\\theta)|\\theta_k$$"
   ]
  },
  {
   "cell_type": "code",
   "execution_count": 12,
   "metadata": {},
   "outputs": [],
   "source": [
    "# simulation step T = 20\n",
    "def mu(theta, w):\n",
    "    return theta[0] * w + theta[1]\n",
    "\n",
    "def simSinglePath(theta):\n",
    "    wPath = np.zeros(T)\n",
    "    aPath = np.zeros(T)\n",
    "    rPath = np.zeros(T)\n",
    "    w = np.random.choice(ws)\n",
    "    for t in range(T):\n",
    "        c = np.random.normal(mu(theta, w), theta[2])\n",
    "        while c < 0.0001 or c > w+y-0.0001:\n",
    "            c = np.random.normal(mu(theta, w), theta[2])\n",
    "        wPath[t] = w\n",
    "        aPath[t] = c\n",
    "        rPath[t] = np.log(c)*(beta**t)\n",
    "        if np.random.uniform(0,1) > 0.5:\n",
    "            w = (w+y-c) * (1+r_up)\n",
    "        else:\n",
    "            w = (w+y-c) * (1-r_down)\n",
    "    return wPath, aPath, rPath\n",
    "\n",
    "\n",
    "def gradientV(theta, D = 100):\n",
    "    '''\n",
    "        D is the sample size\n",
    "    '''\n",
    "    grad = np.zeros(len(theta))\n",
    "    newGrad = np.zeros(len(theta))\n",
    "    for d in range(D):\n",
    "        wp, ap, rp = simSinglePath(theta) \n",
    "        newGrad[0] = np.sum((ap - mu(theta, wp))/(theta[2]**2)*(wp))\n",
    "        newGrad[1] = np.sum((ap - mu(theta, wp))/(theta[2]**2)*(1))\n",
    "        grad += newGrad * np.sum(rp)\n",
    "    grad /= D\n",
    "    return grad\n",
    "\n",
    "\n",
    "def plot2(theta):\n",
    "    def f(x):\n",
    "        return theta[0] * x + theta[1]\n",
    "    plt.plot(ws, Cs, 'b')\n",
    "    plt.plot(ws, f(ws), 'r')"
   ]
  },
  {
   "cell_type": "code",
   "execution_count": 13,
   "metadata": {},
   "outputs": [
    {
     "name": "stdout",
     "output_type": "stream",
     "text": [
      "0\n",
      "100\n",
      "200\n",
      "300\n",
      "400\n",
      "500\n",
      "600\n",
      "700\n",
      "800\n",
      "900\n",
      "1000\n",
      "1100\n",
      "1200\n",
      "1300\n",
      "1400\n",
      "1500\n",
      "1600\n",
      "1700\n",
      "1800\n",
      "1900\n",
      "2000\n",
      "2100\n",
      "2200\n",
      "2300\n",
      "2400\n",
      "2500\n",
      "2600\n",
      "2700\n",
      "2800\n",
      "2900\n",
      "3000\n",
      "3100\n",
      "3200\n",
      "3300\n",
      "3400\n",
      "3500\n",
      "3600\n",
      "3700\n",
      "3800\n",
      "3900\n",
      "4000\n",
      "4100\n",
      "4200\n",
      "4300\n",
      "4400\n",
      "4500\n",
      "4600\n",
      "4700\n",
      "4800\n",
      "4900\n",
      "5000\n",
      "5100\n",
      "5200\n",
      "5300\n",
      "5400\n",
      "5500\n",
      "5600\n",
      "5700\n",
      "5800\n",
      "5900\n",
      "6000\n",
      "6100\n",
      "6200\n",
      "6300\n",
      "6400\n",
      "6500\n",
      "6600\n",
      "6700\n",
      "6800\n",
      "6900\n",
      "7000\n",
      "7100\n",
      "7200\n",
      "7300\n",
      "7400\n",
      "7500\n",
      "7600\n",
      "7700\n",
      "7800\n",
      "7900\n",
      "8000\n",
      "8100\n",
      "8200\n",
      "8300\n",
      "8400\n",
      "8500\n",
      "8600\n",
      "8700\n",
      "8800\n",
      "8900\n",
      "9000\n",
      "9100\n",
      "9200\n",
      "9300\n",
      "9400\n",
      "9500\n",
      "9600\n",
      "9700\n",
      "9800\n",
      "9900\n"
     ]
    },
    {
     "data": {
      "image/png": "[encoded data removed]",
      "text/plain": [
       "<Figure size 432x288 with 1 Axes>"
      ]
     },
     "metadata": {
      "needs_background": "light"
     },
     "output_type": "display_data"
    }
   ],
   "source": [
    "# c < 0 or c > w + 5, then reward -100\n",
    "# initial theta \n",
    "N = 10000\n",
    "theta = [1,1,0.2]\n",
    "# gradient ascend step size \n",
    "alpha = 0.001\n",
    "# store theta \n",
    "THETA2 = np.zeros((2,N))\n",
    "for i in range(N):\n",
    "    if i%100 ==0:\n",
    "        print(i)\n",
    "    theta = updateTheta(theta)\n",
    "    THETA2[:,i] = theta[:2]\n",
    "    plot2(theta)"
   ]
  },
  {
   "cell_type": "code",
   "execution_count": 14,
   "metadata": {},
   "outputs": [
    {
     "data": {
      "image/png": "[encoded data removed]",
      "text/plain": [
       "<Figure size 432x288 with 1 Axes>"
      ]
     },
     "metadata": {
      "needs_background": "light"
     },
     "output_type": "display_data"
    }
   ],
   "source": [
    "plot2(theta)"
   ]
  },
  {
   "cell_type": "code",
   "execution_count": 15,
   "metadata": {},
   "outputs": [
    {
     "data": {
      "text/plain": [
       "[<matplotlib.lines.Line2D at 0x7fefa8364d90>]"
      ]
     },
     "execution_count": 15,
     "metadata": {},
     "output_type": "execute_result"
    },
    {
     "data": {
      "image/png": "[encoded data removed]",
      "text/plain": [
       "<Figure size 432x288 with 1 Axes>"
      ]
     },
     "metadata": {
      "needs_background": "light"
     },
     "output_type": "display_data"
    }
   ],
   "source": [
    "plt.plot(THETA2[0,:])"
   ]
  },
  {
   "cell_type": "code",
   "execution_count": 16,
   "metadata": {},
   "outputs": [
    {
     "data": {
      "text/plain": [
       "[<matplotlib.lines.Line2D at 0x7fefa82d4890>]"
      ]
     },
     "execution_count": 16,
     "metadata": {},
     "output_type": "execute_result"
    },
    {
     "data": {
      "image/png": "[encoded data removed]",
      "text/plain": [
       "<Figure size 432x288 with 1 Axes>"
      ]
     },
     "metadata": {
      "needs_background": "light"
     },
     "output_type": "display_data"
    }
   ],
   "source": [
    "plt.plot(THETA2[1,:])"
   ]
  },
  {
   "cell_type": "markdown",
   "metadata": {},
   "source": [
    "### policy gradient\n",
    "Assume the policy form $\\theta = (a,b,c,d, \\sigma = 0.1)$, then $\\pi_\\theta$ ~ $N(\\frac{1}{1+e^{a w^3 +b w^2 + c w +d}}), \\sigma)$\n",
    "\n",
    "Assume the initial value $a = 1$, $b = 1$, $c = 1$, $d = 1$, $\\sigma = 0.01$     \n",
    "\n",
    "\n",
    "$$\\theta_{k+1} = \\theta_{k} + \\alpha  \\nabla_\\theta V(\\pi_\\theta)|\\theta_k$$"
   ]
  },
  {
   "cell_type": "code",
   "execution_count": 811,
   "metadata": {},
   "outputs": [],
   "source": [
    "T = 20\n",
    "# simulation step T = 20\n",
    "def poly(theta, w):\n",
    "    return theta[0] * (w**3) + theta[1] * (w**2) + theta[2] * w + theta[3]\n",
    "\n",
    "def mu(theta, w):\n",
    "    return 1 / (1+np.exp(poly(theta, w)))\n",
    "\n",
    "def simSinglePath(theta):\n",
    "    wPath = np.zeros(T)\n",
    "    aPath = np.zeros(T)\n",
    "    rPath = np.zeros(T)\n",
    "    w = np.random.choice(ws)\n",
    "    for t in range(T):\n",
    "        n = np.random.normal(mu(theta, w), theta[4])*(w+1)\n",
    "        while n < 0.01 or n > 0.99:\n",
    "            n = np.random.normal(mu(theta, w), theta[4])\n",
    "        c = (w+y)*n\n",
    "        wPath[t] = w\n",
    "        aPath[t] = n\n",
    "        rPath[t] = np.log(c)*(beta**t)\n",
    "        if np.random.uniform(0,1) > 0.5:\n",
    "            w = (w+y-c) * (1+r_up)\n",
    "        else:\n",
    "            w = (w+y-c) * (1-r_down)\n",
    "    return wPath, aPath, rPath\n",
    "\n",
    "\n",
    "\n",
    "def gradientV(theta, D = 100):\n",
    "    '''\n",
    "        D is the sample size\n",
    "    '''\n",
    "    grad = np.zeros(len(theta))\n",
    "    newGrad = np.zeros(len(theta))\n",
    "    for d in range(D):\n",
    "        wp, ap, rp = simSinglePath(theta) \n",
    "        newGrad[0] = np.sum((ap - mu(theta, wp))*(mu(theta, wp)**2 * np.exp(poly(theta, wp)))*(-wp**3))\n",
    "        newGrad[1] = np.sum((ap - mu(theta, wp))*(mu(theta, wp)**2 * np.exp(poly(theta, wp)))*(-wp**2))\n",
    "        newGrad[2] = np.sum((ap - mu(theta, wp))*(mu(theta, wp)**2 * np.exp(poly(theta, wp)))*(-wp))\n",
    "        newGrad[3] = np.sum((ap - mu(theta, wp))*(mu(theta, wp)**2 * np.exp(poly(theta, wp)))*(-1))\n",
    "        grad += newGrad * np.sum(rp)\n",
    "    grad /= D\n",
    "    return grad\n",
    "\n",
    "def updateTheta(theta):\n",
    "    theta = theta + alpha * gradientV(theta)\n",
    "    return theta \n",
    "\n",
    "def plot3(theta):\n",
    "    def f(x):\n",
    "        return mu(theta, x)\n",
    "    plt.plot(ws, Cs, 'b')\n",
    "    plt.plot(ws, f(ws)*(ws+1), 'r')"
   ]
  },
  {
   "cell_type": "code",
   "execution_count": 812,
   "metadata": {},
   "outputs": [
    {
     "name": "stdout",
     "output_type": "stream",
     "text": [
      "0\n",
      "10\n",
      "20\n",
      "30\n",
      "40\n",
      "50\n",
      "60\n",
      "70\n",
      "80\n",
      "90\n",
      "100\n",
      "110\n",
      "120\n",
      "130\n",
      "140\n",
      "150\n",
      "160\n",
      "170\n",
      "180\n",
      "190\n",
      "200\n",
      "210\n",
      "220\n",
      "230\n",
      "240\n",
      "250\n",
      "260\n",
      "270\n",
      "280\n",
      "290\n",
      "300\n",
      "310\n",
      "320\n",
      "330\n",
      "340\n",
      "350\n",
      "360\n",
      "370\n",
      "380\n",
      "390\n",
      "400\n",
      "410\n",
      "420\n",
      "430\n",
      "440\n",
      "450\n",
      "460\n",
      "470\n",
      "480\n",
      "490\n",
      "500\n",
      "510\n",
      "520\n",
      "530\n",
      "540\n",
      "550\n",
      "560\n",
      "570\n",
      "580\n",
      "590\n",
      "600\n",
      "610\n",
      "620\n",
      "630\n",
      "640\n",
      "650\n",
      "660\n",
      "670\n",
      "680\n",
      "690\n",
      "700\n",
      "710\n",
      "720\n",
      "730\n",
      "740\n",
      "750\n",
      "760\n",
      "770\n",
      "780\n",
      "790\n",
      "800\n",
      "810\n",
      "820\n",
      "830\n",
      "840\n",
      "850\n",
      "860\n",
      "870\n",
      "880\n",
      "890\n",
      "900\n",
      "910\n",
      "920\n",
      "930\n",
      "940\n",
      "950\n",
      "960\n",
      "970\n",
      "980\n",
      "990\n"
     ]
    },
    {
     "data": {
      "image/png": "[encoded data removed]",
      "text/plain": [
       "<Figure size 432x288 with 1 Axes>"
      ]
     },
     "metadata": {
      "needs_background": "light"
     },
     "output_type": "display_data"
    }
   ],
   "source": [
    "# initial theta \n",
    "N = 1000\n",
    "theta = [1,1,1,1, 0.1]\n",
    "# gradient ascend step size \n",
    "alpha = 0.01\n",
    "# store theta \n",
    "THETA3 = np.zeros((4,N))\n",
    "for i in range(N):\n",
    "    if i%10 ==0:\n",
    "        print(i)\n",
    "    theta = updateTheta(theta)\n",
    "    THETA3[:,i] = theta[:4]\n",
    "    plot3(theta)"
   ]
  },
  {
   "cell_type": "code",
   "execution_count": 813,
   "metadata": {},
   "outputs": [
    {
     "data": {
      "text/plain": [
       "[<matplotlib.lines.Line2D at 0x7fee15d22350>]"
      ]
     },
     "execution_count": 813,
     "metadata": {},
     "output_type": "execute_result"
    },
    {
     "data": {
      "image/png": "[encoded data removed]",
      "text/plain": [
       "<Figure size 432x288 with 1 Axes>"
      ]
     },
     "metadata": {
      "needs_background": "light"
     },
     "output_type": "display_data"
    }
   ],
   "source": [
    "plt.plot(THETA3[0,:])"
   ]
  },
  {
   "cell_type": "code",
   "execution_count": 814,
   "metadata": {},
   "outputs": [
    {
     "data": {
      "text/plain": [
       "[<matplotlib.lines.Line2D at 0x7fee0e7a68d0>]"
      ]
     },
     "execution_count": 814,
     "metadata": {},
     "output_type": "execute_result"
    },
    {
     "data": {
      "image/png": "[encoded data removed]",
      "text/plain": [
       "<Figure size 432x288 with 1 Axes>"
      ]
     },
     "metadata": {
      "needs_background": "light"
     },
     "output_type": "display_data"
    }
   ],
   "source": [
    "plt.plot(THETA3[1,:])"
   ]
  },
  {
   "cell_type": "code",
   "execution_count": 815,
   "metadata": {},
   "outputs": [
    {
     "data": {
      "text/plain": [
       "[<matplotlib.lines.Line2D at 0x7fee10857e90>]"
      ]
     },
     "execution_count": 815,
     "metadata": {},
     "output_type": "execute_result"
    },
    {
     "data": {
      "image/png": "[encoded data removed]",
      "text/plain": [
       "<Figure size 432x288 with 1 Axes>"
      ]
     },
     "metadata": {
      "needs_background": "light"
     },
     "output_type": "display_data"
    }
   ],
   "source": [
    "plt.plot(THETA3[2,:])"
   ]
  },
  {
   "cell_type": "code",
   "execution_count": 816,
   "metadata": {},
   "outputs": [
    {
     "data": {
      "text/plain": [
       "[<matplotlib.lines.Line2D at 0x7fee0e7b9c10>]"
      ]
     },
     "execution_count": 816,
     "metadata": {},
     "output_type": "execute_result"
    },
    {
     "data": {
      "image/png": "[encoded data removed]",
      "text/plain": [
       "<Figure size 432x288 with 1 Axes>"
      ]
     },
     "metadata": {
      "needs_background": "light"
     },
     "output_type": "display_data"
    }
   ],
   "source": [
    "plt.plot(THETA3[3,:])"
   ]
  },
  {
   "cell_type": "code",
   "execution_count": 817,
   "metadata": {},
   "outputs": [
    {
     "data": {
      "text/plain": [
       "array([nan, nan, nan, nan, nan])"
      ]
     },
     "execution_count": 817,
     "metadata": {},
     "output_type": "execute_result"
    }
   ],
   "source": [
    "theta"
   ]
  },
  {
   "cell_type": "markdown",
   "metadata": {},
   "source": [
    "### policy gradient\n",
    "Assume the policy form $\\theta = (a,b,c,d, \\sigma = 0.1)$, then $\\pi_\\theta$ ~ $N(\\frac{1}{1+e^{a w^2 +b w + c}}, \\sigma)$\n",
    "\n",
    "Assume the initial value $a = 1$, $b = 1$, $c = 1$, $\\sigma = 0.1$     \n",
    "\n",
    "\n",
    "$$\\theta_{k+1} = \\theta_{k} + \\alpha  \\nabla_\\theta V(\\pi_\\theta)|\\theta_k$$"
   ]
  },
  {
   "cell_type": "code",
   "execution_count": 818,
   "metadata": {},
   "outputs": [],
   "source": [
    "T = 20\n",
    "# simulation step T = 20\n",
    "def poly(theta, w):\n",
    "    return theta[0] * (w**2) + theta[1] * w + theta[2]\n",
    "\n",
    "def mu(theta, w):\n",
    "    return 1 / (1+np.exp(poly(theta, w)))\n",
    "\n",
    "def simSinglePath(theta):\n",
    "    wPath = np.zeros(T)\n",
    "    aPath = np.zeros(T)\n",
    "    rPath = np.zeros(T)\n",
    "    w = np.random.choice(ws)\n",
    "    for t in range(T):\n",
    "        n = np.random.normal(mu(theta, w), theta[-1])*(w+1)\n",
    "        while n < 0.01 or n > 0.99:\n",
    "            n = np.random.normal(mu(theta, w), theta[-1])\n",
    "        c = (w+y)*n\n",
    "        wPath[t] = w\n",
    "        aPath[t] = n\n",
    "        rPath[t] = np.log(c)*(beta**t)\n",
    "        if np.random.uniform(0,1) > 0.5:\n",
    "            w = (w+y-c) * (1+r_up)\n",
    "        else:\n",
    "            w = (w+y-c) * (1-r_down)\n",
    "    return wPath, aPath, rPath\n",
    "\n",
    "\n",
    "\n",
    "def gradientV(theta, D = 100):\n",
    "    '''\n",
    "        D is the sample size\n",
    "    '''\n",
    "    grad = np.zeros(len(theta))\n",
    "    newGrad = np.zeros(len(theta))\n",
    "    for d in range(D):\n",
    "        wp, ap, rp = simSinglePath(theta) \n",
    "        newGrad[0] = np.sum((ap - mu(theta, wp))*(mu(theta, wp)**2 * np.exp(poly(theta, wp)))*(-wp**2))\n",
    "        newGrad[1] = np.sum((ap - mu(theta, wp))*(mu(theta, wp)**2 * np.exp(poly(theta, wp)))*(-wp))\n",
    "        newGrad[2] = np.sum((ap - mu(theta, wp))*(mu(theta, wp)**2 * np.exp(poly(theta, wp)))*(-1))\n",
    "        grad += newGrad * np.sum(rp)\n",
    "    grad /= D\n",
    "    return grad\n",
    "\n",
    "def updateTheta(theta):\n",
    "    theta = theta + alpha * gradientV(theta)\n",
    "    return theta \n",
    "\n",
    "def plot3(theta):\n",
    "    def f(x):\n",
    "        return mu(theta, x)\n",
    "    plt.plot(ws, Cs, 'b')\n",
    "    plt.plot(ws, f(ws)*(ws+1), 'r')"
   ]
  },
  {
   "cell_type": "code",
   "execution_count": 819,
   "metadata": {},
   "outputs": [
    {
     "name": "stdout",
     "output_type": "stream",
     "text": [
      "0\n",
      "10\n",
      "20\n",
      "30\n",
      "40\n",
      "50\n",
      "60\n",
      "70\n",
      "80\n",
      "90\n",
      "100\n",
      "110\n",
      "120\n",
      "130\n",
      "140\n",
      "150\n",
      "160\n",
      "170\n",
      "180\n",
      "190\n",
      "200\n",
      "210\n",
      "220\n",
      "230\n",
      "240\n",
      "250\n",
      "260\n",
      "270\n",
      "280\n",
      "290\n",
      "300\n",
      "310\n",
      "320\n",
      "330\n",
      "340\n",
      "350\n",
      "360\n",
      "370\n",
      "380\n",
      "390\n",
      "400\n",
      "410\n",
      "420\n",
      "430\n",
      "440\n",
      "450\n",
      "460\n",
      "470\n",
      "480\n",
      "490\n",
      "500\n",
      "510\n",
      "520\n",
      "530\n",
      "540\n",
      "550\n",
      "560\n",
      "570\n",
      "580\n",
      "590\n",
      "600\n",
      "610\n",
      "620\n",
      "630\n",
      "640\n",
      "650\n",
      "660\n",
      "670\n",
      "680\n",
      "690\n",
      "700\n",
      "710\n",
      "720\n",
      "730\n",
      "740\n",
      "750\n",
      "760\n",
      "770\n",
      "780\n",
      "790\n",
      "800\n",
      "810\n",
      "820\n",
      "830\n",
      "840\n",
      "850\n",
      "860\n",
      "870\n",
      "880\n",
      "890\n",
      "900\n",
      "910\n",
      "920\n",
      "930\n",
      "940\n",
      "950\n",
      "960\n",
      "970\n",
      "980\n",
      "990\n"
     ]
    },
    {
     "data": {
      "image/png": "[encoded data removed]",
      "text/plain": [
       "<Figure size 432x288 with 1 Axes>"
      ]
     },
     "metadata": {
      "needs_background": "light"
     },
     "output_type": "display_data"
    }
   ],
   "source": [
    "# initial theta \n",
    "N = 1000\n",
    "theta = [1,1,1, 0.1]\n",
    "# gradient ascend step size \n",
    "alpha = 0.01\n",
    "# store theta \n",
    "THETA3 = np.zeros((3,N))\n",
    "for i in range(N):\n",
    "    if i%10 ==0:\n",
    "        print(i)\n",
    "    theta = updateTheta(theta)\n",
    "    THETA3[:,i] = theta[:3]\n",
    "    plot3(theta)"
   ]
  },
  {
   "cell_type": "code",
   "execution_count": 820,
   "metadata": {},
   "outputs": [
    {
     "data": {
      "text/plain": [
       "[<matplotlib.lines.Line2D at 0x7fee10826b10>]"
      ]
     },
     "execution_count": 820,
     "metadata": {},
     "output_type": "execute_result"
    },
    {
     "data": {
      "image/png": "[encoded data removed]",
      "text/plain": [
       "<Figure size 432x288 with 1 Axes>"
      ]
     },
     "metadata": {
      "needs_background": "light"
     },
     "output_type": "display_data"
    }
   ],
   "source": [
    "plt.plot(THETA3[0,:])"
   ]
  },
  {
   "cell_type": "code",
   "execution_count": 821,
   "metadata": {},
   "outputs": [
    {
     "data": {
      "text/plain": [
       "[<matplotlib.lines.Line2D at 0x7fee0e767950>]"
      ]
     },
     "execution_count": 821,
     "metadata": {},
     "output_type": "execute_result"
    },
    {
     "data": {
      "image/png": "[encoded data removed]",
      "text/plain": [
       "<Figure size 432x288 with 1 Axes>"
      ]
     },
     "metadata": {
      "needs_background": "light"
     },
     "output_type": "display_data"
    }
   ],
   "source": [
    "plt.plot(THETA3[1,:])"
   ]
  },
  {
   "cell_type": "code",
   "execution_count": 822,
   "metadata": {},
   "outputs": [
    {
     "data": {
      "text/plain": [
       "[<matplotlib.lines.Line2D at 0x7fee13510f90>]"
      ]
     },
     "execution_count": 822,
     "metadata": {},
     "output_type": "execute_result"
    },
    {
     "data": {
      "image/png": "[encoded data removed]",
      "text/plain": [
       "<Figure size 432x288 with 1 Axes>"
      ]
     },
     "metadata": {
      "needs_background": "light"
     },
     "output_type": "display_data"
    }
   ],
   "source": [
    "plt.plot(THETA3[2,:])"
   ]
  },
  {
   "cell_type": "code",
   "execution_count": 823,
   "metadata": {},
   "outputs": [
    {
     "data": {
      "text/plain": [
       "array([1.39180244, 1.41789652, 1.58735541, 0.1       ])"
      ]
     },
     "execution_count": 823,
     "metadata": {},
     "output_type": "execute_result"
    }
   ],
   "source": [
    "theta"
   ]
  },
  {
   "cell_type": "code",
   "execution_count": null,
   "metadata": {},
   "outputs": [],
   "source": []
  },
  {
   "cell_type": "code",
   "execution_count": 824,
   "metadata": {},
   "outputs": [],
   "source": [
    "T = 20\n",
    "# simulation step T = 20\n",
    "def poly(theta, w):\n",
    "    return theta[0] * w + theta[1]\n",
    "\n",
    "def mu(theta, w):\n",
    "    return 1 / (1+np.exp(poly(theta, w)))\n",
    "\n",
    "def simSinglePath(theta):\n",
    "    wPath = np.zeros(T)\n",
    "    aPath = np.zeros(T)\n",
    "    rPath = np.zeros(T)\n",
    "    w = np.random.choice(ws)\n",
    "    for t in range(T):\n",
    "        n = np.random.normal(mu(theta, w), theta[-1])*(w+1)\n",
    "        while n < 0.01 or n > 0.99:\n",
    "            n = np.random.normal(mu(theta, w), theta[-1])\n",
    "        c = (w+y)*n\n",
    "        wPath[t] = w\n",
    "        aPath[t] = n\n",
    "        rPath[t] = np.log(c)*(beta**t)\n",
    "        if np.random.uniform(0,1) > 0.5:\n",
    "            w = (w+y-c) * (1+r_up)\n",
    "        else:\n",
    "            w = (w+y-c) * (1-r_down)\n",
    "    return wPath, aPath, rPath\n",
    "\n",
    "\n",
    "\n",
    "def gradientV(theta, D = 100):\n",
    "    '''\n",
    "        D is the sample size\n",
    "    '''\n",
    "    grad = np.zeros(len(theta))\n",
    "    newGrad = np.zeros(len(theta))\n",
    "    for d in range(D):\n",
    "        wp, ap, rp = simSinglePath(theta) \n",
    "        newGrad[0] = np.sum((ap - mu(theta, wp))*(mu(theta, wp)**2 * np.exp(poly(theta, wp)))*(-wp))\n",
    "        newGrad[1] = np.sum((ap - mu(theta, wp))*(mu(theta, wp)**2 * np.exp(poly(theta, wp)))*(-1))\n",
    "        grad += newGrad * np.sum(rp)\n",
    "    grad /= D\n",
    "    return grad\n",
    "\n",
    "def updateTheta(theta):\n",
    "    theta = theta + alpha * gradientV(theta)\n",
    "    return theta \n",
    "\n",
    "def plot3(theta):\n",
    "    def f(x):\n",
    "        return mu(theta, x)\n",
    "    plt.plot(ws, Cs, 'b')\n",
    "    plt.plot(ws, f(ws)*(ws+1), 'r')"
   ]
  },
  {
   "cell_type": "code",
   "execution_count": 825,
   "metadata": {},
   "outputs": [
    {
     "name": "stdout",
     "output_type": "stream",
     "text": [
      "0\n",
      "10\n",
      "20\n",
      "30\n",
      "40\n",
      "50\n",
      "60\n",
      "70\n",
      "80\n",
      "90\n",
      "100\n",
      "110\n",
      "120\n",
      "130\n",
      "140\n",
      "150\n",
      "160\n",
      "170\n",
      "180\n",
      "190\n",
      "200\n",
      "210\n",
      "220\n",
      "230\n",
      "240\n",
      "250\n",
      "260\n",
      "270\n",
      "280\n",
      "290\n",
      "300\n",
      "310\n",
      "320\n",
      "330\n",
      "340\n",
      "350\n",
      "360\n",
      "370\n",
      "380\n",
      "390\n",
      "400\n",
      "410\n",
      "420\n",
      "430\n",
      "440\n",
      "450\n",
      "460\n",
      "470\n",
      "480\n",
      "490\n",
      "500\n",
      "510\n",
      "520\n",
      "530\n",
      "540\n",
      "550\n",
      "560\n",
      "570\n",
      "580\n",
      "590\n",
      "600\n",
      "610\n",
      "620\n",
      "630\n",
      "640\n",
      "650\n",
      "660\n",
      "670\n",
      "680\n",
      "690\n",
      "700\n",
      "710\n",
      "720\n",
      "730\n",
      "740\n",
      "750\n",
      "760\n",
      "770\n",
      "780\n",
      "790\n",
      "800\n",
      "810\n",
      "820\n",
      "830\n",
      "840\n",
      "850\n",
      "860\n",
      "870\n",
      "880\n",
      "890\n",
      "900\n",
      "910\n",
      "920\n",
      "930\n",
      "940\n",
      "950\n",
      "960\n",
      "970\n",
      "980\n",
      "990\n"
     ]
    },
    {
     "data": {
      "image/png": "[encoded data removed]",
      "text/plain": [
       "<Figure size 432x288 with 1 Axes>"
      ]
     },
     "metadata": {
      "needs_background": "light"
     },
     "output_type": "display_data"
    }
   ],
   "source": [
    "# initial theta \n",
    "N = 1000\n",
    "theta = [1,1, 0.1]\n",
    "# gradient ascend step size \n",
    "alpha = 0.01\n",
    "# store theta \n",
    "THETA3 = np.zeros((2,N))\n",
    "for i in range(N):\n",
    "    if i%10 ==0:\n",
    "        print(i)\n",
    "    theta = updateTheta(theta)\n",
    "    THETA3[:,i] = theta[:2]\n",
    "    plot3(theta)"
   ]
  },
  {
   "cell_type": "code",
   "execution_count": 826,
   "metadata": {},
   "outputs": [
    {
     "data": {
      "text/plain": [
       "[<matplotlib.lines.Line2D at 0x7fee15b83cd0>]"
      ]
     },
     "execution_count": 826,
     "metadata": {},
     "output_type": "execute_result"
    },
    {
     "data": {
      "image/png": "[encoded data removed]",
      "text/plain": [
       "<Figure size 432x288 with 1 Axes>"
      ]
     },
     "metadata": {
      "needs_background": "light"
     },
     "output_type": "display_data"
    }
   ],
   "source": [
    "plt.plot(THETA3[0,:])"
   ]
  },
  {
   "cell_type": "code",
   "execution_count": 827,
   "metadata": {},
   "outputs": [
    {
     "data": {
      "text/plain": [
       "[<matplotlib.lines.Line2D at 0x7fee1a846bd0>]"
      ]
     },
     "execution_count": 827,
     "metadata": {},
     "output_type": "execute_result"
    },
    {
     "data": {
      "image/png": "[encoded data removed]",
      "text/plain": [
       "<Figure size 432x288 with 1 Axes>"
      ]
     },
     "metadata": {
      "needs_background": "light"
     },
     "output_type": "display_data"
    }
   ],
   "source": [
    "plt.plot(THETA3[1,:])"
   ]
  },
  {
   "cell_type": "code",
   "execution_count": null,
   "metadata": {},
   "outputs": [],
   "source": []
  },
  {
   "cell_type": "code",
   "execution_count": null,
   "metadata": {},
   "outputs": [],
   "source": []
  },
  {
   "cell_type": "code",
   "execution_count": null,
   "metadata": {},
   "outputs": [],
   "source": []
  },
  {
   "cell_type": "code",
   "execution_count": 828,
   "metadata": {},
   "outputs": [],
   "source": [
    "T = 20\n",
    "# simulation step T = 20\n",
    "def poly(theta, w):\n",
    "    return theta[0] * w \n",
    "\n",
    "def mu(theta, w):\n",
    "    return 1 / (1+np.exp(poly(theta, w)))\n",
    "\n",
    "def simSinglePath(theta):\n",
    "    wPath = np.zeros(T)\n",
    "    aPath = np.zeros(T)\n",
    "    rPath = np.zeros(T)\n",
    "    w = np.random.choice(ws)\n",
    "    for t in range(T):\n",
    "        n = np.random.normal(mu(theta, w), theta[-1])*(w+1)\n",
    "        while n < 0.01 or n > 0.99:\n",
    "            n = np.random.normal(mu(theta, w), theta[-1])\n",
    "        c = (w+y)*n\n",
    "        wPath[t] = w\n",
    "        aPath[t] = n\n",
    "        rPath[t] = np.log(c)*(beta**t)\n",
    "        if np.random.uniform(0,1) > 0.5:\n",
    "            w = (w+y-c) * (1+r_up)\n",
    "        else:\n",
    "            w = (w+y-c) * (1-r_down)\n",
    "    return wPath, aPath, rPath\n",
    "\n",
    "\n",
    "\n",
    "def gradientV(theta, D = 100):\n",
    "    '''\n",
    "        D is the sample size\n",
    "    '''\n",
    "    grad = np.zeros(len(theta))\n",
    "    newGrad = np.zeros(len(theta))\n",
    "    for d in range(D):\n",
    "        wp, ap, rp = simSinglePath(theta) \n",
    "        newGrad[0] = np.sum((ap - mu(theta, wp))*(mu(theta, wp)**2 * np.exp(poly(theta, wp)))*(-wp))\n",
    "        grad += newGrad * np.sum(rp)\n",
    "    grad /= D\n",
    "    return grad\n",
    "\n",
    "def updateTheta(theta):\n",
    "    theta = theta + alpha * gradientV(theta)\n",
    "    return theta \n",
    "\n",
    "def plot3(theta):\n",
    "    def f(x):\n",
    "        return mu(theta, x)\n",
    "    plt.plot(ws, Cs, 'b')\n",
    "    plt.plot(ws, f(ws)*(ws+1), 'r')"
   ]
  },
  {
   "cell_type": "code",
   "execution_count": 829,
   "metadata": {},
   "outputs": [
    {
     "name": "stdout",
     "output_type": "stream",
     "text": [
      "0\n",
      "10\n",
      "20\n",
      "30\n",
      "40\n",
      "50\n",
      "60\n",
      "70\n",
      "80\n",
      "90\n",
      "100\n",
      "110\n",
      "120\n",
      "130\n",
      "140\n",
      "150\n",
      "160\n",
      "170\n",
      "180\n",
      "190\n",
      "200\n",
      "210\n",
      "220\n",
      "230\n",
      "240\n",
      "250\n",
      "260\n",
      "270\n",
      "280\n",
      "290\n",
      "300\n",
      "310\n",
      "320\n",
      "330\n",
      "340\n",
      "350\n",
      "360\n",
      "370\n",
      "380\n",
      "390\n",
      "400\n",
      "410\n",
      "420\n",
      "430\n",
      "440\n",
      "450\n",
      "460\n",
      "470\n",
      "480\n",
      "490\n",
      "500\n",
      "510\n",
      "520\n",
      "530\n",
      "540\n",
      "550\n",
      "560\n",
      "570\n",
      "580\n",
      "590\n",
      "600\n",
      "610\n",
      "620\n",
      "630\n",
      "640\n",
      "650\n",
      "660\n",
      "670\n",
      "680\n",
      "690\n",
      "700\n",
      "710\n",
      "720\n",
      "730\n",
      "740\n",
      "750\n",
      "760\n",
      "770\n",
      "780\n",
      "790\n",
      "800\n",
      "810\n",
      "820\n",
      "830\n",
      "840\n",
      "850\n",
      "860\n",
      "870\n",
      "880\n",
      "890\n",
      "900\n",
      "910\n",
      "920\n",
      "930\n",
      "940\n",
      "950\n",
      "960\n",
      "970\n",
      "980\n",
      "990\n"
     ]
    },
    {
     "data": {
      "image/png": "[encoded data removed]",
      "text/plain": [
       "<Figure size 432x288 with 1 Axes>"
      ]
     },
     "metadata": {
      "needs_background": "light"
     },
     "output_type": "display_data"
    }
   ],
   "source": [
    "# initial theta \n",
    "N = 1000\n",
    "theta = [1, 0.1]\n",
    "# gradient ascend step size \n",
    "alpha = 0.01\n",
    "# store theta \n",
    "THETA3 = np.zeros((1,N))\n",
    "for i in range(N):\n",
    "    if i%10 ==0:\n",
    "        print(i)\n",
    "    theta = updateTheta(theta)\n",
    "    THETA3[:,i] = theta[:1]\n",
    "    plot3(theta)"
   ]
  },
  {
   "cell_type": "code",
   "execution_count": 830,
   "metadata": {},
   "outputs": [
    {
     "data": {
      "text/plain": [
       "[<matplotlib.lines.Line2D at 0x7fee1aeb3c10>]"
      ]
     },
     "execution_count": 830,
     "metadata": {},
     "output_type": "execute_result"
    },
    {
     "data": {
      "image/png": "[encoded data removed]",
      "text/plain": [
       "<Figure size 432x288 with 1 Axes>"
      ]
     },
     "metadata": {
      "needs_background": "light"
     },
     "output_type": "display_data"
    }
   ],
   "source": [
    "plt.plot(THETA3[0,:])"
   ]
  },
  {
   "cell_type": "code",
   "execution_count": null,
   "metadata": {},
   "outputs": [],
   "source": []
  },
  {
   "cell_type": "code",
   "execution_count": null,
   "metadata": {},
   "outputs": [],
   "source": []
  },
  {
   "cell_type": "code",
   "execution_count": null,
   "metadata": {},
   "outputs": [],
   "source": []
  },
  {
   "cell_type": "code",
   "execution_count": null,
   "metadata": {},
   "outputs": [],
   "source": []
  },
  {
   "cell_type": "code",
   "execution_count": null,
   "metadata": {},
   "outputs": [],
   "source": []
  },
  {
   "cell_type": "code",
   "execution_count": null,
   "metadata": {},
   "outputs": [],
   "source": []
  },
  {
   "cell_type": "code",
   "execution_count": null,
   "metadata": {},
   "outputs": [],
   "source": []
  },
  {
   "cell_type": "code",
   "execution_count": null,
   "metadata": {},
   "outputs": [],
   "source": []
  },
  {
   "cell_type": "code",
   "execution_count": 98,
   "metadata": {},
   "outputs": [
    {
     "data": {
      "text/html": [
       "<video width=\"432\" height=\"288\" controls autoplay loop>\n",
       "  <source type=\"video/mp4\" src=\"data:video/mp4;base64,AAAAHGZ0eXBNNFYgAAACAGlzb21pc28yYXZjMQAAAAhmcmVlAACmPG1kYXQAAAKuBgX//6rcRem9\n",
       "5tlIt5Ys2CDZI+7veDI2NCAtIGNvcmUgMTUyIHIyODU0IGU5YTU5MDMgLSBILjI2NC9NUEVHLTQg\n",
       "QVZDIGNvZGVjIC0gQ29weWxlZnQgMjAwMy0yMDE3IC0gaHR0cDovL3d3dy52aWRlb2xhbi5vcmcv\n",
       "eDI2NC5odG1sIC0gb3B0aW9uczogY2FiYWM9MSByZWY9MyBkZWJsb2NrPTE6MDowIGFuYWx5c2U9\n",
       "MHgzOjB4MTEzIG1lPWhleCBzdWJtZT03IHBzeT0xIHBzeV9yZD0xLjAwOjAuMDAgbWl4ZWRfcmVm\n",
       "PTEgbWVfcmFuZ2U9MTYgY2hyb21hX21lPTEgdHJlbGxpcz0xIDh4OGRjdD0xIGNxbT0wIGRlYWR6\n",
       "b25lPTIxLDExIGZhc3RfcHNraXA9MSBjaHJvbWFfcXBfb2Zmc2V0PS0yIHRocmVhZHM9OSBsb29r\n",
       "YWhlYWRfdGhyZWFkcz0xIHNsaWNlZF90aHJlYWRzPTAgbnI9MCBkZWNpbWF0ZT0xIGludGVybGFj\n",
       "ZWQ9MCBibHVyYXlfY29tcGF0PTAgY29uc3RyYWluZWRfaW50cmE9MCBiZnJhbWVzPTMgYl9weXJh\n",
       "bWlkPTIgYl9hZGFwdD0xIGJfYmlhcz0wIGRpcmVjdD0xIHdlaWdodGI9MSBvcGVuX2dvcD0wIHdl\n",
       "aWdodHA9MiBrZXlpbnQ9MjUwIGtleWludF9taW49MjUgc2NlbmVjdXQ9NDAgaW50cmFfcmVmcmVz\n",
       "aD0wIHJjX2xvb2thaGVhZD00MCByYz1jcmYgbWJ0cmVlPTEgY3JmPTIzLjAgcWNvbXA9MC42MCBx\n",
       "cG1pbj0wIHFwbWF4PTY5IHFwc3RlcD00IGlwX3JhdGlvPTEuNDAgYXE9MToxLjAwAIAAABARZYiE\n",
       "ACv//vZzfAprRzOVLgV292aj5dCS5fsQYPrQAAADAAGq1jzgYe6qAywKe4A9zPzsU4TwOvo+AWyO\n",
       "7QUH+qnwsE5NutuogYiNIWclUemm3CWGj+XXkAAAAwK9KPYySVIgAJpmXZs0ikTRkZAk7rimgB5A\n",
       "Z+am0prKTpqvTjjWjva9rrJ1qaP/Tg7+e4hrJzw3edHpckhbXDD1IYJcP3WzyMMOBRWW6KMR1+zL\n",
       "ZXKYX0APfsEC3rOgStPKMK6UU7+d7BfeirWW/5Z/xO6aUkjHDT6tYoMyqLRS7mGYOxD4tuQhKQbx\n",
       "w4zLHaVEXbpHB7Cnlucd0W6av55Rp1VdX+sKC5e+dfVgdBZtzeAK6pwqFARdjAL6rS+q2gtvX3+z\n",
       "XQu02lMbQeYUDGtND22/Vw28p8FV3VPv4g/nFmQRWjcGVVs0C0+c588JiTK55iMb4BtEKzj4eHAs\n",
       "Q46KMeZilCw/pPwfroW14ZYBPktADmxYLFuBXLiXzSbx8ahfzH1iBYdBUw0zlV+0/7pSncwzXUM3\n",
       "DmJl4kbVALFHq9Tc72OfQesvz2ypVT7BnDtpQ+ckYIjiAIvWiCjZ6MlTFV/MeDI2kJ4qYYvu4Jvw\n",
       "3GSKvR7vb0phnpVGvaDBqmKkL+jVPVjwwvFt2OiNwmB3g+dzkjeA2LfKJNUu/9rHREkX2FfVlqyy\n",
       "68HzT2KJVlNhrl/nUiAm+4Zknsh4LBqDko5xp6QH0d59KTyeH8owkLiO4jJpVg5XqWIBNgfK/tkI\n",
       "okpDawxBvXeMrJYkzK+356FSWeHppBWDkqoMyDJXOplDlefBh/UI8fZZSa7c7uQBTvywyA/RZmpt\n",
       "G4ImOHdKqH8LrQRDywRf0kRBjb0sTyAlH+5bUCpqpU+9eaB0FUoduB/BnYTUO04ogdKPXSHBfKP6\n",
       "PcawNtHrh9Iz9mXxw20qEvKEWary9LMf9lrC/wdA7uz18tT6Ac46XKYAF9Xb8luleXMkEhicipm1\n",
       "bPOhaArs9nL7OvkUM+Jhui1gJI3igvmYyM4I2sByWRrlKVjPu4gflINGkiAdHiKA7rMU9yzBrHgx\n",
       "Pcsp12mQCrfSRscGK1BbeBpSNf7U61ah8nS+3sOUgoDyzy1lb5EwFOtV10EdmS/vwChWpUty9XIh\n",
       "jeotd/NwLihoI58h+/vu5P65lMOFW0VccWv81wwK7uVTclZn1vvCmXLrGarhB7089Fya/q8f47eG\n",
       "+FG5/7Fyv3kqZZR8ktOUFBFlUFHk13MKMAnFrrdMg88d3rD9/wLfD+aMqkUd9D5ejBSkFHL5tcMt\n",
       "ceRfAAuT0AgY7v26OsL96V97QUosd/JTx52JbKDwIFaPXCJ1axl5psjt3OejW9SUhbUAZZw4Sh8x\n",
       "w3xzlR4fW0Q8kaiutsmfx8O8npEqwQyvg4yfMO9B3/kcHEI8Lhi5sLCoeZVLyh1FcWaiWyMBVxrK\n",
       "9yKoyL/2MJzxgi3EEGBuyZbe/dBBQmigZvU2PhvAMejtgtrnpLHvFZrdpUqS5+2tuNHNsKIMltHN\n",
       "9Q7eVn3PUJmgZCagv2UaXcoZ3AWJEKlsiXNuTE67Gvksf23KDYV7HyguChLFmjdtSDkF83QIX9bz\n",
       "E8/IH7q9RUUOvwVGrSYEDCRF1PfoLxxH3/KavYRryDf0H5OlyStUIMP0fdK6i3LH6LWVvv+P4WjD\n",
       "GTwOzq/2nXlbWV52yo4P8zzcIuJuglGNhAylxg1E6PfA0fX+bqDfzbLDDm6XWiRtHckAuopvUNsF\n",
       "hF5UKF5gcugQl1FbFQUAAHNnuLsfI1DU3IFNV7BMRV9fHBFOjjhG7pP98AVCvVJ2OGr//CaR6nhQ\n",
       "lJ38Naj0sJXkFu3qtSssS87nmtbQAfihQRTzQsSBQ85wtyzP4pmeLFxdxs0UmkPxjPM28tgHADEs\n",
       "VKfqQy/v3/E7/Jvbnq299Fg18shqW49qWi/7ziCnjnHOwDpYgiD3eM9qNVTyMuoQc30ERAeSGD76\n",
       "Z3bOUb9PHgZnriRxhKO3VU4DUpF1sVlmKEVr4tUU7mMPzursUus4cbb1gnd/0E6SmpWqoEIrm2gI\n",
       "Ozf8prVPoeQLagYJY6q5LExDBkGik1cI/i+veIh9JI9uBQ/ZCkwNWHc86egiyg3j/24cF2mpi6sL\n",
       "CcNxeuMC7Yif3l92Lqq/0XZRBBAdlBjuoikNhR0q5f4jVPOH0fzpbYXuIYJP/sUA/xJiAtG/Tb4d\n",
       "hjufUJkWp185RmwnuQJPH5TdzLbk+2s5hZzKmVNh007/q3+8WQzglUbZgkKQ4kPFD9U9vFBe0zeP\n",
       "ywNfivLXSQLTkYSu4V/fUSmTnz5qDdPa/LF7WFZh3VC3A/tS2bsN1PfZ+Sqx5vNPaohmduKRgFmh\n",
       "/4h+LtxVGWKpTpZ9Jrk81yy6zV57u98YYUOaA9UoY7cTOnbHACNp9rdXUIurW+XFbIDzB4oluXJd\n",
       "PspNR6h+dhNj0PWrSG/45Iv5guzcBiX6BU/mOmHjZHynbyqEb0d0waNAn4jOS4EYAc7RQGgnGUiD\n",
       "ghV6rvrzVnYCi8ZiqJaWXj5+DvsHw5lw/pnMrHLMaPkim/6Z0t/fHRVvZ/rKb+U8XeEOoZ0tDhYO\n",
       "mkcYfGGGT425+Mlm9GyDz67DRxOVS4og99GiZaRPIoZa4vgaluBZzvbnBVNL72DbGGZEGQAkBT/h\n",
       "B3KmMnY+ewC60TpmWyY65B6DYoM/on5avEs8eyKOHtLmAmbUIq9fxT7YN5XHFTjNO58ovb7N3ydP\n",
       "9rMZYQQPaseh4FK0+jOQvNG+HNfB2hDKXlHP0zODmU8iedPEUGBkGOXQ+M92ifPCsvNXQDrj1KOB\n",
       "ejVePkqiPAKVR1jyHVyLVIeJUHjfH0yx9013BLdWKuMGv3lgisObYz/VikAR1NewDxoYaTyWfUor\n",
       "6HJTV7OOielCJ+sk9oxzEQ2pTGJOfUlCf9VVMoCUij+ptEg+MF7dC8AynA7E75gqGIBitsaNIcyg\n",
       "toQbkDGR0llMZDBiDKV6s9wSv6KcOcZDdnWgI/4zgchlfQ0XdkfQAnb7Z1sTkO4mNVtP7Ied1LPm\n",
       "mFGvTfz43V5nxuT61wm6qlivDLBX8B125r3PejdJnFE1iRU+7kqEQJS2LD1QzV91dkQoE6H/Pzw7\n",
       "u7oFy/NdFxYnPyj98gEb8GzxXxrkvQerUajyM2m/Qc0xMjxfk5FDjXSzwzUVQoaNJuFPpIv7xEpE\n",
       "DP85FRw53jnFBjQX9o+MI9sviVn9vtM/EHUIZAS3HGFRaQrXZv4f3FPwak+eZkD+p0k7PJfmfimo\n",
       "+bRPpfij2a0X9OashxMDY3UoYos1xxtQo9fXwA60vHH+2skZxMJ5I1pJEjaKGjTXoG+KjrBG2iEu\n",
       "iAkFy3VcqIx8RD9YMWkxT2y7grJeskLGglESEepHgrjKdzz2ICqX83jrE3Im9esA5nQZ/8/1OCxY\n",
       "csrYSrXOC6xI3Hpoy3C9x+esgd+ES08wklVJag3k/TcJnFXetshMLvIiGpKpMRFPJ2thaH3ZjZbh\n",
       "aM93vk/z7lBquw7egetUgWg4KLNbsfMj4VKNEOKvEpynG0SBhM8D7XjmolScLLwZaS16SWsIR5lo\n",
       "jSXLN6zJfTVjbn+7FBq09Zk7PLqT82OgVwTtEBPOkD6ZW+ih+2KzMbwYPK5zGzF0NJBgubFnVLjK\n",
       "hEnMTHcV31BEg0nX/NzqeAno4tP8gKQkYAHyuw9SevXPWOGeEy6Dafhfb2esAkI68TAD1FPu7Eb7\n",
       "hEEUEtwhSn1IPOgXQOReWPQiId7qMEAlBluvgP8P0ME3hIA2q+kp7CCDi5oaw8jodpHf/Owmemkl\n",
       "LrvCg64KhQHEnj7YYwSkdf+lM0l5o8PNEsnr3eeALw2jzUBY0I7wXo9fJgwHTxuPTfZ69PV/8khM\n",
       "/GvIfmIVeoAeJAMAJtNU2xNJ0swmXfL//9F+AlgQ8IQAXsljx1b+9oZEoEiBb9oVTT79DbTS6pSB\n",
       "3JoaOTmDXvSIyC0V9SykteQnP0CWabF7GweSonyjkJvXZDyjjuh7WIV5QJjLySZn98J3A+Ur9dc/\n",
       "2qjLJ0IxhxopRPPskqoHtzm4M/Q58k76IvVwlYlCxpyMSzytybhNMXUrOpqdc7ZP3MeUGRIVUp7m\n",
       "M6HX1EJ1kuYj4LIdcafrsQK65i7HFZ+ZUjJqOSp5E6h0yrFESjBtQMduo3mD4M9hTR0CRg2mwy/t\n",
       "ugWDKvzC4bqAdazOl0fSRV5sBULdmuXD5AHncs9Nf0GZDXy9EuBq0g5LRhmUBxlku8AUmJXf6/bR\n",
       "59l8C7dT5sy+1Z+Mj4onHrWomyhWx/bqo9d3ivoTxHJVt+jd/WQ1zgZytdUq+wW8gDZmLpiw+orK\n",
       "A77/+QjQDO/W7Vjr78EvmHXJCnlFZWyJFG0IlyH0NONf6GDT2t00O7Jdxy1S7egmwKKascYK8EAf\n",
       "whm7JT1D3W3jPxGZ8k3kYtouvB8gVAp2lPCz4LmWq2YpTPcPQg7crHDpU6o6yDXKnpN0BM/CfJVH\n",
       "VQqLSw/9A5mIuuUYRetb80kKXNsIBFwpIK0HD4eJayeUpR9s6ePQ+xwqeaPoQ1ssfNrl3h6Wgkqf\n",
       "3YYa7+E4NZwTBd289ib8n6BzgsZGtVQDlm+Wg6ljYTjwfIF9FdOpk5UMrva+7yAOGVLYvdb6xEqS\n",
       "praD4a9SUBeAY8bXfquZl66NBLOKKfatPqntgfxr0mq1WPjTmj8yd6SJPKLPp5ynPyD/3v6GlVoi\n",
       "Tt6b87KmAHRK6t45Thh7M0nFV61yQhunAjOOkwT5rJkT6TxiMDsi6Q2SV9s2m6BovGAGdBW/Msoj\n",
       "X77NvTHDY6uWvWNaVvq1nfyOi39gRBrgiwEih9uPatoRBozrrOc69m4NDPUfMQtnhPLjhK5Sk6gb\n",
       "DxYVXEvVBLm1yrkrVMDYE7BRp/OqZO5fuY2MPF/FeV+rZWYionQHcfT5d1sEq/a5sP/zNqv5RzQO\n",
       "1qOlelC+syNf28CjkHeGhsE2vCsnTI4kEeQCW7/WD42rC6ute5/0fjtRcC9sHs+sXab+jwOvGs7c\n",
       "/NynUxYSOHRZ7Druj7VLU6dFAUi2gHChzkKXQbVvzRdGlkyhvWMmaCIh1llACpjobw4OtE8S2Vq8\n",
       "QnDL0SL5/8SkC4iS18pLHnpSY98Yhtg/qDj6jRYlfgLFzmZ837Ktp+2WqyHfU/FuGZRocudZ7W9P\n",
       "hqFClW1hX+RoHilZfaHwQ6oeEofJNHAUvSVnd9Aq2dgNjvhE2Dv6JmhB5NY40z5J8k9a0GUp2Lq8\n",
       "klb0cNN2PVaHm93Yy3rM0K/ijkJUpHPGX1m15LKqxX7xOhCEEzJMURdzJesPTvR0NxCOsFTKsr0O\n",
       "ch/xFrqloQ0rUf1f37Tumm42/qkql+H8LrC6JFyHH/yi0b9ZPqRG7iHD9HAF94n68D7QkbRYZKWU\n",
       "68z83DJHkPQUv8VEWKrXLxEP1uGynVRubdmX09n9UAPVk6GxIZUM3u8+Hw2+h/bleeMdelNCZFwA\n",
       "a30QABnRAAABr0GaIWxCv/44QB1qf4APbQifHhLPlM7qHnSVdIu/w0YMgg6ob2ky7yVOaN8nBb/k\n",
       "gUoSJV6hiQi6Rx2fTe0CapaKiSktilsL2LrowXThSOR7GyCakhWNOvAyfq3dcfngxyG0blYG4Kko\n",
       "yf7bapllp/5ELY7kOt7ATpJz0yPnCrAlHCky75N+AJLf/Xi76sj8QqW/3LgYC+f/JvcQiK+xWLVF\n",
       "sUF0QnONkvvc5ezifCG6+a9qHMHJpa9PhqUB0Mb+u1Rfie9vhs4PZgMziCw/Qd8fK2e8s9XKeCXf\n",
       "rPydHtqmWXl23Tc6E64BQws+eN7/u7RXS/cgJVtNZ0+nMvvSwFR66SPhXgBfAU+85hUXyU80vwI4\n",
       "rik5/oM4DsjNtaO5BEc6Q/PEAeDEfCdKFVAE7+17iuKYsEUN/a0XbGJsk7F7FNWKPfFC96aKX6Aq\n",
       "sRPltH2S/4/TIwCxPdR2Mv4xL3JiSJrG+AQ82/U5hCuO/nOTTzAcbnEVqzpE70QAODXkaIYTvCoJ\n",
       "n5HC2T70HIwXp/xPzBpWg6r1krKTxtWxhFzmlB3MOerCsSsbbLSGquaMAAAApkGaQjwhkymEL//+\n",
       "jLCE4nNGs1CPyJItqhATeNy7Lm9RspVaBi3xwscu9TVdoS/SaWcffQ26yRBlkMQZIukFnbu6JG2I\n",
       "OPOocLk/8huY3xfcCnEp/ZV/9pGlmVopEzAJb0LjF4WUEt5Jy+U2fnRkwx87Ve5MegnKuRZNoy8d\n",
       "36DXBZJh6nQIOpwEPKgJ4nOdAp2vHjx5mPCgl5TSpotq1oN6l+7KV0EAAACKQZpjSeEPJlMCGf/+\n",
       "nhAAAZvr24AG1FEByo30lj0WEXhSbvU6J4xLOtZ4XK6xajrRkw6Krw0bZW2fWnoTdmZHsv/+6gGY\n",
       "/WSYea5jhOT1gslOy2JrTfZ9NbKa8e3hTvbO8q2dMmXFwsYUGzTwbpRPwo4vZFBZpHF0D+eXPPpX\n",
       "s9cJGE43dv/IomfSAAAApUGah0nhDyZTAhf//oywAAGeN/3ATvvl4Q0P9ZMJ4KYO9sJbqbZb5iMR\n",
       "IvVc9i2Qr8RtWE1umqCE1gHKU17Uluj32yZ6S4WrV7yWQ+EOvIegR3qC/g0fZIABWOt4ELp4YLEq\n",
       "aU3Sp1vh9NiN/DVOoe9pfAhJJep0EinmjA/LJCFdN+/PwX/EE8ThppKyC0IIC6yzHdpfjVtJrZmv\n",
       "Irop9u7StqGJgQAAAEFBnqVFETwj/wUSwOj1yog2vNTNwaFkwZed+1sVSqAIyBnQ8hT+4yCMaqNl\n",
       "HEKzebACY1w3tUprdvlrRL2ldGeDwwAAABcBnsR0R/8AAGvtgKapcLYFsg7OeVyjPwAAABIBnsZq\n",
       "R/8AAGrAZnQu6CSOqeEAAABiQZrKSahBaJlMCGf//p4QAADTAE+FvXAF3lwkXnBvX6wZe4QeHJAQ\n",
       "PutYbiq2bA1m7hQfdA+husntakryJlFxg0qoO0n4cBMh/rmlGDEYjBHnVHTwpIaEL2Qm/141BLpA\n",
       "Z/AAAAAjQZ7oRREsI/8FFE2eDkeb6eR8wAAAKGqARTLAI1GXxFvYI2AAAAANAZ8Jakf/AAAmvx8S\n",
       "gQAAAFZBmw5JqEFsmUwIZ//+nhAAAZvrikfEQgAXhSidERiPXamA448+YmnRJiNV3/BNPazz8x7D\n",
       "TJ54/LJPrRS9BssRMBpsPoi46J1pW0xKduiByO7sv64h0AAAACNBnyxFFSwj/wUUTZ4OR5vp5HzA\n",
       "AAAoaoBFMsAjUhwJrDIIOAAAAA4Bn0t0R/8AADc4bnvQPwAAAA0Bn01qR/8AACa/HxKBAAAAPEGb\n",
       "UkmoQWyZTAhn//6eEAAA0qSVwAX7X+/KH31YwfJKHujeOYMdlv8RpUX4sqqrg5lq+PbywYSR6ccr\n",
       "+QAAACJBn3BFFSwj/wUUTZ4OR5vp5HzAAAAoaoBFMsAjUXbLuEfAAAAADAGfj3RH/wAAJqxBwQAA\n",
       "AA0Bn5FqR/8AACa/HxKBAAAATkGblkmoQWyZTAhn//6eEAAA14r3PRhS2gCAXfhayb+EL0nwN9Ia\n",
       "3CO1IDspOIODCvtIz2b3DiM3xbtb/EBlpdiTQXES4SDeSZ0RuAIiTAAAACZBn7RFFSwj/wUUTZ4O\n",
       "R5vp5HzAAAAoaoBFMsAjUXbPgflTuYBXwAAAABABn9N0R/8AAG5wt4q02XCtAAAADgGf1WpH/wAA\n",
       "LFnaITiOAAAARUGb2kmoQWyZTAhn//6eEAAA0or228wCZA80Pq+Fn1bdvsNQT6mFuLIS9YxRnoBg\n",
       "LribI3lTudFAmwQNNoMbvVHzLJ6GZwAAACRBn/hFFSwj/wUUTZ4OR5vp5HzAAAAoaoBFMsAjUbCg\n",
       "5wb1B40AAAAOAZ4XdEf/AAAsQxxO/RwAAAANAZ4Zakf/AAAmvx8SgQAAADRBmh5JqEFsmUwIZ//+\n",
       "nhAAANL2Q9jgEyg4g7nmNsI/xFVDcoQPCbR9C4qa6+odeV3NHOV/AAAAIkGePEUVLCP/BRRNng5H\n",
       "m+nkfMAAAChqgEUywCNRdsu4R8EAAAAMAZ5bdEf/AAAmrEHBAAAADQGeXWpH/wAAJr8fEoAAAAAs\n",
       "QZpCSahBbJlMCGf//p4QAADYBZsV3ACg0vMDar8X9xNazimYeOimKEdUUpAAAAAjQZ5gRRUsI/8F\n",
       "FE2eDkeb6eR8wAAAKGqARTLAI1GzYLywCXkAAAAMAZ6fdEf/AAAmrEHBAAAADQGegWpH/wAAJr8f\n",
       "EoEAAAA0QZqGSahBbJlMCGf//p4QAADSvFkATI/d0NB/mT/+6ViV3/Xz6gsi5//MlDmNp+CB8kN5\n",
       "KAAAACJBnqRFFSwj/wUUTZ4OR5vp5HzAAAAoaoBFMsAjUXbLuEfBAAAADAGew3RH/wAAJqxBwQAA\n",
       "AA0BnsVqR/8AACa/HxKBAAAAHUGaykmoQWyZTAhn//6eEAAA0r2NKAQgM2J/SzC9AAAAIkGe6EUV\n",
       "LCP/BRRNng5Hm+nkfMAAAChqgEUywCNRdsu4R8AAAAAMAZ8HdEf/AAAmrEHBAAAADQGfCWpH/wAA\n",
       "Jr8fEoEAAAAwQZsOSahBbJlMCGf//p4QAADSv3fAIPVY9Hfa7VWxufqPc2nTtKJPa5snwWJaJEGw\n",
       "AAAAIkGfLEUVLCP/BRRNng5Hm+nkfMAAAChqgEUywCNRdsu4R8AAAAAMAZ9LdEf/AAAmrEHBAAAA\n",
       "DQGfTWpH/wAAJr8fEoEAAAAYQZtSSahBbJlMCGf//p4QAADXivaeg22BAAAAI0GfcEUVLCP/BRRN\n",
       "ng5Hm+nkfMAAAChqgEUywCNRs2C8sAl4AAAADAGfj3RH/wAAJqxBwQAAAA0Bn5FqR/8AACa/HxKB\n",
       "AAAAJEGblkmoQWyZTAhn//6eEAAA0r1a4A+upVXF0hvYtoxKfnaUoAAAACJBn7RFFSwj/wUUTZ4O\n",
       "R5vp5HzAAAAoaoBFMsAjUXbLuEfAAAAADAGf03RH/wAAJqxBwQAAAA0Bn9VqR/8AACa/HxKAAAAA\n",
       "E0Gb2kmoQWyZTAhn//6eEAAAB00AAAAiQZ/4RRUsI/8FFE2eDkeb6eR8wAAAKGqARTLAI1F2y7hH\n",
       "wQAAAAwBnhd0R/8AACasQcEAAAANAZ4Zakf/AAAmvx8SgQAAAClBmh5JqEFsmUwIZ//+nhAAANK9\n",
       "WuAQT3twzpBXQ5ufdYn5+ttYQb2INgAAACJBnjxFFSwj/wUUTZ4OR5vp5HzAAAAoaoBFMsAjUXbL\n",
       "uEfBAAAADAGeW3RH/wAAJqxBwQAAAA0Bnl1qR/8AACa/HxKAAAAAE0GaQkmoQWyZTAhn//6eEAAA\n",
       "B0wAAAAiQZ5gRRUsI/8FFE2eDkeb6eR8wAAAKGqARTLAI1F2y7hHwQAAAAwBnp90R/8AACasQcEA\n",
       "AAANAZ6Bakf/AAAmvx8SgQAAACBBmoZJqEFsmUwIZ//+nhAAANK8WQBMS4QCa5pS7H0o6QAAACJB\n",
       "nqRFFSwj/wUUTZ4OR5vp5HzAAAAoaoBFMsAjUXbLuEfBAAAADAGew3RH/wAAJqxBwQAAAA0BnsVq\n",
       "R/8AACa/HxKBAAAAE0GaykmoQWyZTAhn//6eEAAAB00AAAAiQZ7oRRUsI/8FFE2eDkeb6eR8wAAA\n",
       "KGqARTLAI1F2y7hHwAAAAAwBnwd0R/8AACasQcEAAAANAZ8Jakf/AAAmvx8SgQAAAChBmw5JqEFs\n",
       "mUwIZ//+nhAAANK/0pQCEDMOwrSH3mTd234XqlaGrEGwAAAAI0GfLEUVLCP/BRRNng5Hm+nkfMAA\n",
       "AChqgEUywCNRsKDmkAl4AAAADAGfS3RH/wAAJqxBwQAAAA0Bn01qR/8AACa/HxKBAAAAE0GbUkmo\n",
       "QWyZTAhn//6eEAAAB00AAAAiQZ9wRRUsI/8FFE2eDkeb6eR8wAAAKGqARTLAI1F2y7hHwAAAAAwB\n",
       "n490R/8AACasQcEAAAANAZ+Rakf/AAAmvx8SgQAAABNBm5ZJqEFsmUwIZ//+nhAAAAdMAAAAIkGf\n",
       "tEUVLCP/BRRNng5Hm+nkfMAAAChqgEUywCNRdsu4R8AAAAAMAZ/TdEf/AAAmrEHBAAAADQGf1WpH\n",
       "/wAAJr8fEoAAAAATQZvaSahBbJlMCGf//p4QAAAHTQAAACJBn/hFFSwj/wUUTZ4OR5vp5HzAAAAo\n",
       "aoBFMsAjUXbLuEfBAAAADAGeF3RH/wAAJqxBwQAAAA0BnhlqR/8AACa/HxKBAAAAHEGaHkmoQWyZ\n",
       "TAhn//6eEAAAa9+CJAHGmiCnppwAAAAiQZ48RRUsI/8FFE2eDkeb6eR8wAAAKGqARTLAI1F2y7hH\n",
       "wQAAAAwBnlt0R/8AACasQcEAAAANAZ5dakf/AAAmvx8SgAAAABhBmkJJqEFsmUwIZ//+nhAAANeK\n",
       "9p6DbYAAAAAjQZ5gRRUsI/8FFE2eDkeb6eR8wAAAKGqARTLAI1GzYLywCXkAAAAMAZ6fdEf/AAAm\n",
       "rEHBAAAADQGegWpH/wAAJr8fEoEAAAATQZqGSahBbJlMCGf//p4QAAAHTAAAACJBnqRFFSwj/wUU\n",
       "TZ4OR5vp5HzAAAAoaoBFMsAjUXbLuEfBAAAADAGew3RH/wAAJqxBwQAAAA0BnsVqR/8AACa/HxKB\n",
       "AAAAE0GaykmoQWyZTAhn//6eEAAAB00AAAAiQZ7oRRUsI/8FFE2eDkeb6eR8wAAAKGqARTLAI1F2\n",
       "y7hHwAAAAAwBnwd0R/8AACasQcEAAAANAZ8Jakf/AAAmvx8SgQAAABNBmw5JqEFsmUwIZ//+nhAA\n",
       "AAdMAAAAIkGfLEUVLCP/BRRNng5Hm+nkfMAAAChqgEUywCNRdsu4R8AAAAAMAZ9LdEf/AAAmrEHB\n",
       "AAAADQGfTWpH/wAAJr8fEoEAAAATQZtSSahBbJlMCGf//p4QAAAHTQAAACJBn3BFFSwj/wUUTZ4O\n",
       "R5vp5HzAAAAoaoBFMsAjUXbLuEfAAAAADAGfj3RH/wAAJqxBwQAAAA0Bn5FqR/8AACa/HxKBAAAA\n",
       "LUGblkmoQWyZTAhn//6eEAAA0r1a4BBwwWn0ycdDmqRnki+9uTiTRoeaJJyv4AAAACJBn7RFFSwj\n",
       "/wUUTZ4OR5vp5HzAAAAoaoBFMsAjUXbLuEfAAAAADAGf03RH/wAAJqxBwQAAAA0Bn9VqR/8AACa/\n",
       "HxKAAAAAE0Gb2kmoQWyZTAhn//6eEAAAB00AAAAiQZ/4RRUsI/8FFE2eDkeb6eR8wAAAKGqARTLA\n",
       "I1F2y7hHwQAAAAwBnhd0R/8AACasQcEAAAANAZ4Zakf/AAAmvx8SgQAAABNBmh5JqEFsmUwIZ//+\n",
       "nhAAAAdMAAAAIkGePEUVLCP/BRRNng5Hm+nkfMAAAChqgEUywCNRdsu4R8EAAAAMAZ5bdEf/AAAm\n",
       "rEHBAAAADQGeXWpH/wAAJr8fEoAAAAATQZpCSahBbJlMCGf//p4QAAAHTAAAACJBnmBFFSwj/wUU\n",
       "TZ4OR5vp5HzAAAAoaoBFMsAjUXbLuEfBAAAADAGen3RH/wAAJqxBwQAAAA0BnoFqR/8AACa/HxKB\n",
       "AAAAG0GahkmoQWyZTAhn//6eEAAA0rsXoBCCXI9R0gAAACJBnqRFFSwj/wUUTZ4OR5vp5HzAAAAo\n",
       "aoBFMsAjUXbLuEfBAAAADAGew3RH/wAAJqxBwQAAAA0BnsVqR/8AACa/HxKBAAAAE0GaykmoQWyZ\n",
       "TAhn//6eEAAAB00AAAAiQZ7oRRUsI/8FFE2eDkeb6eR8wAAAKGqARTLAI1F2y7hHwAAAAAwBnwd0\n",
       "R/8AACasQcEAAAANAZ8Jakf/AAAmvx8SgQAAAB5Bmw5JqEFsmUwIZ//+nhAAANK9ZcgE1CoKritb\n",
       "C8AAAAAiQZ8sRRUsI/8FFE2eDkeb6eR8wAAAKGqARTLAI1F2y7hHwAAAAAwBn0t0R/8AACasQcEA\n",
       "AAANAZ9Nakf/AAAmvx8SgQAAABNBm1JJqEFsmUwIZ//+nhAAAAdNAAAAIkGfcEUVLCP/BRRNng5H\n",
       "m+nkfMAAAChqgEUywCNRdsu4R8AAAAAMAZ+PdEf/AAAmrEHBAAAADQGfkWpH/wAAJr8fEoEAAAAT\n",
       "QZuWSahBbJlMCGf//p4QAAAHTAAAACJBn7RFFSwj/wUUTZ4OR5vp5HzAAAAoaoBFMsAjUXbLuEfA\n",
       "AAAADAGf03RH/wAAJqxBwQAAAA0Bn9VqR/8AACa/HxKAAAAAE0Gb2kmoQWyZTAhn//6eEAAAB00A\n",
       "AAAiQZ/4RRUsI/8FFE2eDkeb6eR8wAAAKGqARTLAI1F2y7hHwQAAAAwBnhd0R/8AACasQcEAAAAN\n",
       "AZ4Zakf/AAAmvx8SgQAAAB9Bmh5JqEFsmUwIZ//+nhAAANK51wCI7DKKvLWKVhBsAAAAIkGePEUV\n",
       "LCP/BRRNng5Hm+nkfMAAAChqgEUywCNRdsu4R8EAAAAMAZ5bdEf/AAAmrEHBAAAADQGeXWpH/wAA\n",
       "Jr8fEoAAAAATQZpCSahBbJlMCGf//p4QAAAHTAAAACJBnmBFFSwj/wUUTZ4OR5vp5HzAAAAoaoBF\n",
       "MsAjUXbLuEfBAAAADAGen3RH/wAAJqxBwQAAAA0BnoFqR/8AACa/HxKBAAAAE0GahkmoQWyZTAhn\n",
       "//6eEAAAB0wAAAAiQZ6kRRUsI/8FFE2eDkeb6eR8wAAAKGqARTLAI1F2y7hHwQAAAAwBnsN0R/8A\n",
       "ACasQcEAAAANAZ7Fakf/AAAmvx8SgQAAABNBmspJqEFsmUwIZ//+nhAAAAdNAAAAIkGe6EUVLCP/\n",
       "BRRNng5Hm+nkfMAAAChqgEUywCNRdsu4R8AAAAAMAZ8HdEf/AAAmrEHBAAAADQGfCWpH/wAAJr8f\n",
       "EoEAAAATQZsOSahBbJlMCGf//p4QAAAHTAAAACJBnyxFFSwj/wUUTZ4OR5vp5HzAAAAoaoBFMsAj\n",
       "UXbLuEfAAAAADAGfS3RH/wAAJqxBwQAAAA0Bn01qR/8AACa/HxKBAAAAE0GbUkmoQWyZTAhn//6e\n",
       "EAAAB00AAAAiQZ9wRRUsI/8FFE2eDkeb6eR8wAAAKGqARTLAI1F2y7hHwAAAAAwBn490R/8AACas\n",
       "QcEAAAANAZ+Rakf/AAAmvx8SgQAAABNBm5ZJqEFsmUwIZ//+nhAAAAdMAAAAIkGftEUVLCP/BRRN\n",
       "ng5Hm+nkfMAAAChqgEUywCNRdsu4R8AAAAAMAZ/TdEf/AAAmrEHBAAAADQGf1WpH/wAAJr8fEoAA\n",
       "AAAdQZvaSahBbJlMCGf//p4QAABr34IkAcNcHg9cqukAAAAiQZ/4RRUsI/8FFE2eDkeb6eR8wAAA\n",
       "KGqARTLAI1F2y7hHwQAAAAwBnhd0R/8AACasQcEAAAANAZ4Zakf/AAAmvx8SgQAAABNBmh5JqEFs\n",
       "mUwIZ//+nhAAAAdMAAAAIkGePEUVLCP/BRRNng5Hm+nkfMAAAChqgEUywCNRdsu4R8EAAAAMAZ5b\n",
       "dEf/AAAmrEHBAAAADQGeXWpH/wAAJr8fEoAAAAATQZpCSahBbJlMCGf//p4QAAAHTAAAACJBnmBF\n",
       "FSwj/wUUTZ4OR5vp5HzAAAAoaoBFMsAjUXbLuEfBAAAADAGen3RH/wAAJqxBwQAAAA0BnoFqR/8A\n",
       "ACa/HxKBAAAAE0GahkmoQWyZTAhn//6eEAAAB0wAAAAiQZ6kRRUsI/8FFE2eDkeb6eR8wAAAKGqA\n",
       "RTLAI1F2y7hHwQAAAAwBnsN0R/8AACasQcEAAAANAZ7Fakf/AAAmvx8SgQAAABNBmspJqEFsmUwI\n",
       "Z//+nhAAAAdNAAAAIkGe6EUVLCP/BRRNng5Hm+nkfMAAAChqgEUywCNRdsu4R8AAAAAMAZ8HdEf/\n",
       "AAAmrEHBAAAADQGfCWpH/wAAJr8fEoEAAAATQZsOSahBbJlMCGf//p4QAAAHTAAAACJBnyxFFSwj\n",
       "/wUUTZ4OR5vp5HzAAAAoaoBFMsAjUXbLuEfAAAAADAGfS3RH/wAAJqxBwQAAAA0Bn01qR/8AACa/\n",
       "HxKBAAAAH0GbUkmoQWyZTAhn//6eEAAA0r4GACe3doTRPXD0o6UAAAAiQZ9wRRUsI/8FFE2eDkeb\n",
       "6eR8wAAAKGqARTLAI1F2y7hHwAAAAAwBn490R/8AACasQcEAAAANAZ+Rakf/AAAmvx8SgQAAABNB\n",
       "m5ZJqEFsmUwIZ//+nhAAAAdMAAAAIkGftEUVLCP/BRRNng5Hm+nkfMAAAChqgEUywCNRdsu4R8AA\n",
       "AAAMAZ/TdEf/AAAmrEHBAAAADQGf1WpH/wAAJr8fEoAAAAAaQZvaSahBbJlMCGf//p4QAADXuxeg\n",
       "EE9NkTkAAAAiQZ/4RRUsI/8FFE2eDkeb6eR8wAAAKGqARTLAI1F2y7hHwQAAAAwBnhd0R/8AACas\n",
       "QcEAAAANAZ4Zakf/AAAmvx8SgQAAABNBmh5JqEFsmUwIZ//+nhAAAAdMAAAAIkGePEUVLCP/BRRN\n",
       "ng5Hm+nkfMAAAChqgEUywCNRdsu4R8EAAAAMAZ5bdEf/AAAmrEHBAAAADQGeXWpH/wAAJr8fEoAA\n",
       "AAATQZpCSahBbJlMCGf//p4QAAAHTAAAACJBnmBFFSwj/wUUTZ4OR5vp5HzAAAAoaoBFMsAjUXbL\n",
       "uEfBAAAADAGen3RH/wAAJqxBwQAAAA0BnoFqR/8AACa/HxKBAAAAE0GahkmoQWyZTAhn//6eEAAA\n",
       "B0wAAAAiQZ6kRRUsI/8FFE2eDkeb6eR8wAAAKGqARTLAI1F2y7hHwQAAAAwBnsN0R/8AACasQcEA\n",
       "AAANAZ7Fakf/AAAmvx8SgQAAABNBmspJqEFsmUwIZ//+nhAAAAdNAAAAIkGe6EUVLCP/BRRNng5H\n",
       "m+nkfMAAAChqgEUywCNRdsu4R8AAAAAMAZ8HdEf/AAAmrEHBAAAADQGfCWpH/wAAJr8fEoEAAAAT\n",
       "QZsOSahBbJlMCGf//p4QAAAHTAAAACJBnyxFFSwj/wUUTZ4OR5vp5HzAAAAoaoBFMsAjUXbLuEfA\n",
       "AAAADAGfS3RH/wAAJqxBwQAAAA0Bn01qR/8AACa/HxKBAAAAE0GbUkmoQWyZTAhn//6eEAAAB00A\n",
       "AAAiQZ9wRRUsI/8FFE2eDkeb6eR8wAAAKGqARTLAI1F2y7hHwAAAAAwBn490R/8AACasQcEAAAAN\n",
       "AZ+Rakf/AAAmvx8SgQAAABNBm5ZJqEFsmUwIZ//+nhAAAAdMAAAAIkGftEUVLCP/BRRNng5Hm+nk\n",
       "fMAAAChqgEUywCNRdsu4R8AAAAAMAZ/TdEf/AAAmrEHBAAAADQGf1WpH/wAAJr8fEoAAAAASQZvZ\n",
       "SahBbJlMCP/8hAAAAwGzAAAAIUGf90UVLH8HkM+6Mf5n7NMK0B3yUS8PDWimWARkBT2YDwAAAA0B\n",
       "nhhqR/8AACa/HxKAAAASt2WIggAP//73aJ8Cm1pDeoDklcUl20+B/6tncHyP6QMAAAMAAK6tMz+E\n",
       "osNQCz5zfog7rH8Y6uGbgUUl+sKKEANQFfSYa+3NUBD/z2nO2X0tstFv7bvvCcPKIuFhLAAE1Epe\n",
       "NvhP+3AHx/Sve3g1VTvmUh6D6a2iKpeVe2dEYlK+8JfRLPZTk/xLngueBxMMY+FHJOgGNa8QSHyM\n",
       "Mi5erznk/5/St9huPc9SdJiKvXjvI0npNvHfVMhT7MCzdcvAdg3vRfMwOD8adJi5+y0tmPWgCR62\n",
       "pJE5R5th/HmB9CqTaEbPDmtjZl6qxpn+4FIzOhzqu9Q/cqRiTRNtVdhWK2rwZs2KuVd0xkHVganA\n",
       "3rurMVRu4mV8xnxewE2dtu7b56bJPKiUeDtfbs3RYajP/muOaefD6viwZyAwnHJTxd+sS6FuZ1ev\n",
       "2tCoGSxRThX/UtsQfd/VoXKjFHgrGUw/vHIbkjJq9OTpM6ZhoS9aNNqkp7RscYij1ubC9Dh7GoVH\n",
       "PzKHDf4Brwp2YjeclJ0XN27aqkaGULqclV3qTA36hXV7c2dgAnb7RGo1VhXwCuoL7G5hon2AYNlt\n",
       "edNbCJgMd5tCAjey8s6DyDga90DK7zHdEmconXN5FSo8CxfOiuoO6lQRnHCoqwB7DvrPeVDD4Bhk\n",
       "ZW5ddwookp20xG/4xGwjHK/yt2HYUTio5BsFlkXelVnX4etAnvKQr3+9do0+bewdrwrNWWKgp1+v\n",
       "v5mG+4mt8nKRAUOufjqiCHxpNqNEzcgGCNCQDEpyw9HT9u984o2EgilBwtoqVeguz+4xPOflSi+z\n",
       "NUKVed0NWIyOzzgqD3fgPVataWfzRNKXV6bbNqnilw7QnQNKQ77LSPSE56lk1nqWOwKtbe3zuxEU\n",
       "MVyqtmCqzZV4SK9KLaGczz9IsNNP0MrdUFlElMXBM5Zsy5+9RWZAYohqjEZ1zniewuOhbM9lF32a\n",
       "BMxYqjSuDnXKQPHewL86puPhB6L5w0bCIiLqQ9OmzDZEfLe5I62kEnTvU6M7itC6jHHClWaqkB5Y\n",
       "aC834fInTdAt72CTUiV5dO3SnYm8EbzIBMpD5dOdeGbS1TMMWg3IAO4FGmhnN8B9ep3WQRxVNGcG\n",
       "kcGc8a1Bn4vXZ6Eyw6W3UI/Z5peWNn7kTIrTTVioU1f99bhINHcDD+CpaHgbitFgZzROKEkT7Pc0\n",
       "VzcMBgxJ6rgAb2cOZc7lWqBY4U+IefH/Wqp9Xp3oqwQfapPwAGrODL7/Ik676UGQ+D5ntbioXXn0\n",
       "1U2LBL6zCl+aklAlCRI0elv4rzqKcgkcWC8Ly3N9e+QYpJJ6CZeCAVNphwMgdRNDjDzrCbDGiQjR\n",
       "oBvJzcGJuw4p4VjBv7j28HB+u2zVvOHaEtuJPht3LBJTZ2kp9tvWQiuvimDRaVu8AL2B0btlambu\n",
       "KKjZgqZ0BjPIKFD3XmEI7VvKNhwEv/bvBr4IOevtzd5QkVQc7t0bbLWf9uLUQmCXL+roo8ir6Ucc\n",
       "VwbYCmGORD3u3HbblXzeMlDfKG8TOZ/DwFh6wapr8thZaVavXkPMg1y7w1VXmcMb6AyngDHPauJL\n",
       "XLx6M8WNksy3h3OOuNxI1YVpkmFxPDZ7+AGBB9hUxMK/4KPnhPSJDyorhqFeL5BVar1G/fc6ZhlG\n",
       "PU0FMRQx/4jrDzlahNEcWnwXNvJAspAPnMwO7FrbC0/MXb/9oQ5yPfJ08GiqylEm1T02M3vKztTN\n",
       "jp6SvTnNnyuZoNHklVP5eHI1MZ9f/SEwbTE8oi2seuoyndtOjrsTXK/ja3rcTAktsjhdaFtV17gn\n",
       "xV22GvSgs4Rj4YHtOhGt/8XjAs6pO9zEmnPEQsqnOMxu+C6QFxXkY/eCbXEnyRsUA+mjEGY4DhJ3\n",
       "cSYKKtE3/2CQK3RuZXhsKhfXpOvW5f/HEEC3HEtSHo7a4gwIyPHJWV6ss4yjg4Dh1pWNTVCtkfd7\n",
       "DOXDRohs6E0zjrBqCJsYcfW7F9iO8GEr5FGjprv+jeQhKdppfFhUJms+jRG5YJ8Sxgw1GNAvQwmv\n",
       "H0BoxS7BifYdBJA40MmZIRtUh++K5weyPivOVAQJ8C4EnTFcQf5SUWOjyKv/ohxOrHzkewJxpC1k\n",
       "wgvneJKyzt82z4fxsfLUp+MKN/jW7vere5QQ40czHZMwCEGXaUHI6VyMcvjQ53gsLqInCBOYqjQv\n",
       "nxxAmmcEPiZrph9m0fr6jbRY/YXAPa3PfNKhkjgd7D+jx50CcTxAVgwGNmgRLCrMvtUn4A7T0qyM\n",
       "XqyDmxYniuMbGE1ummUwmeVgn2OtVUR988rwNWWuI749cewi5UqO/JPLXMnEmkgg0YgY4vceR+Df\n",
       "Au+5VBYjVJ7++CsblNSZ8ZavcPImsxEvd5L3iB0rACQrVgAHEtSMKsficYovLdixKPySQplhBCgr\n",
       "74pdoR4GqdbZV/tlESC/kuc7zbRkvtPjcMBITIuoCF5pp/JjdPrcgxWAysmiN9s0dIy0o7GddFIf\n",
       "wX5Lo+dMP56K3E3VDFnnlHAcN5ST99V8LXPkt2kwoiEeXte90nydg+CJXySfjF0ATZ0uP+evjX4L\n",
       "UqhT37CaTPhYqyrjX7DP8+xRkfyqGW0eeJZbZbWEfPxuD/FJT7ILdItlMWuD0wtmMe2Y/sUmT8Fp\n",
       "d/GibECC2eoEhW3J6GFJhIIIrBCVHB2+hfekZ+cQIeaA20nwPUmcMp7lm+u2VtOsaonROZYwNqLt\n",
       "u94EtO0E/Cyj9tn0fn8l00bQ1ug7TQTPl+EOdx8kEJf/V5vRdGmldJvmC51Co9Lv0ZTS2rXc8we9\n",
       "Ap9e+QaxXQd6Dpz5T3UEd2uhJTfHeK8X/nC139lQONykxrF61nDjzwT+Rw/wxqC9z7u7NuYOUYJA\n",
       "tr+f7pa4VY6oyrR+5mbC/o7XJHrNuqZEnW4Hwd487fu0Z4PzHetmjNonK7uV1/ZVuG/79hNhCbQD\n",
       "p03Tf67R+3WnKbxgLBduomrY/u1JUp8ainV+UN9/1fxNOBikYmVYm9MZj+YlzMC9qsP1gSV7BtPF\n",
       "iH0Wgik0ZsbNRHnIFybRn7EHXAXtVi7OmYvmTekQsJzJsR8LlUERd7VeNCHQvW3nmBST76lOA0R9\n",
       "CzEcvXtdcHzokoMGMackQFMXrV91S+td0M8cVcGslGPmzELWWvGJMDsf8j9C39rvABiT4R9xMnum\n",
       "S7mj5XynBlTcDvL0/g+GN26xS5thA+X8daJjAE8kdyQTyK5EEVf1NlfSFw9TJnaYQNC2s6bZTssd\n",
       "6dVODxukVhsBzV3b0U3UOnPTCsjdoEsTt7szdoLSWih+MiPUkY5eZizOQA5GIjQLwOpcSACVYuIG\n",
       "upl6bjuOJbw98hAXYSCwl3uk2m3ytkfaoLEI2oPFe3ydxOmk/PFpXPNX7+NB94DusAxx6IvTLJXt\n",
       "HqOiSveM6l9vyrPSsLa3yWRgITCiugrLCtKWBnZfITC0bv5uZ1zaEYhuiNA3bvxh0CtYF7aXSACa\n",
       "hZ5nOtsKIoNSqKE+FrJTkz7mNhpuGNAi6UosIuGMO38PmRVMD6fySXL1KQzN2R0T6sDMf0aPp/HT\n",
       "9X6TIBDs72w3v0qQr40Z7PkNjPSpex6YYTp9mwqWfzq5mbnFQFh7MWUyjhd6HhHKL05foLwEG/lE\n",
       "41ubq0IQac7/XjCLTGhrtRNYyokmgCV+0ovY+xI2hQZlyJfV+Lfaodu/u0w6u40OBm2pwz6moT6G\n",
       "2PZcs0tzA7p9NvuwsUbLMURaiFLt/tLMn975O3jBFm9utU/u3riyuc5445R4C/EFX5hanM01pzP3\n",
       "HdangExI8p/lWQZIUkWmYV6tySvZHpubWGmoi9WYKRF+S10IVVPEnlFMUv/doF5Xc8GKIrhA0Uq2\n",
       "jaadeBvdkHYwz3VYygp6Drndv30GZx8qHEEuBtunhxF0NPSceM/pRRqNPPIJsD1uBvkGFY9LqzPk\n",
       "vlhIak6eJdqafiTgwvXmisKfz5inoXGWJ0+RccGf9braN3/uQsAoiH/+P5uN1Ro92FP7CiItFlYm\n",
       "xBEBak8f00CrbI9p29rKcCOB21mzu+dRngO00lPXTLPDhqtJthdHSmHOiLbOL70hBUyACeiXcYnF\n",
       "LGxtyTTzgTjfzrWPEYdCtDdChNozY5LkrgqmHYXAbuxdMBLz9dAhj/oKCcFMXErHwHehrRa30iAw\n",
       "Ij/jrz2ran1wckYmXy2IqlYX12wS4d04MuvPsZtTrcxFObrv7pBGjBd6rGhJRfVwu0bk3LExt9HY\n",
       "xO40UF6sjVOiFWV6VS9bxCtJITpsHRKiwW8e00+IH3DBU+/GwMdIzWTjW+DviIQfSR/pe6RXgJze\n",
       "iTT3cxHQRw5LaA4XCedi8d8UMuj7CJrHvsIrOBsTLhyalEYn39VNXSHGxOzn8UlN3lsVPUsBBeCV\n",
       "x1E7vF87aj1/EHclN3FEI9gFVD5qtLDT1cndXf5lBdve8ABHoFCxF7od+/+WKkOhKU/rpYGRTjKX\n",
       "rHi0NbSF/+V2ng2SSfGRbAklUQEuEc8W3sDrcQb47brt/u3tXzaDBwdnK53i0T0+Daf8t1phNvQu\n",
       "Pn3K1+bnRS2uZ9tn5leRvi3nfzWk3cVBHrHCofi04V91lMiOwsoxRxDKviZ4Xj7/0bq9+GWqN2Vr\n",
       "yu4hzJf+0OPmNGPRgX5lLYgbJCoB136Xb9+LCYwQLoJ2bGDcVEsKWCg/MLU4ovD3YKQxuTG42X2q\n",
       "p5JM44wt773uRPk3pimNQUcAzGUTyONnIU8+KMzdWUKKTJT2SXBEAYujsEGUApeDohODRxwACcHh\n",
       "ofQ0bzW8EtsIbvSoiIltQ4JY18WrngonKXI8Tu1zBQxGPd29KGhRar5v6CJ43rhcCt2k+RnzzFly\n",
       "TkX5uKrQyPu2aKTgX4VTUOx4O3FcjaFTQ65peaBzcHGGftxxZ8PY3QFCKK6571McGxJWyuAXk27A\n",
       "plJLoYCu7402FrjNJFiLLmS3evvNZjK128b+g//0Q/MqosHDKO9pmiHEl4EHZPWk+4N55+uht4F5\n",
       "tyOil3MVdQa41w7mmUUhPgPqxPbmz3E6+q5FXC+TR9tz0QFHaEIL7N+broZo06DkBDSKEUToY9Ho\n",
       "ptYVLxZTk2tTmwKDBfYXohoZaAYgY9XPiwTIONm170GEIZ8G//d6Sg25k/a3FbsE4vDrT+n1d7/M\n",
       "zbnPU3qRRb++QItbc6wqaR6C3VJHahrrAsXp17dIVr7IiByXc76FkwOlO4Yz8SrnWligvQ+TpvAx\n",
       "Dif8c6ecPDhrfE1yuSNdDyz23xi8d7WR1Auwt+qiZCEMpWKZ+9pg+NbOjHtQKUXnIrZwrTqqJVKp\n",
       "c6X9H+s5Rkl4r+63wgPST3ml8xAHg5nQRgd6Nc0u8EljWtenmogFJv5Ueq7pkIY7dZtSwsxzJha/\n",
       "SN6yX6/AG77QaGrLMmK0x8yIjl9IUI7cmcNC1jMnMn9NGhP9w6cNSZ0VvipN635171RYhy6XP5Yq\n",
       "Uenej8OLocXzp3anbrc4LkE4mCeTPnFFZyUvKhBIITVQTL9zULQvySl8PNF74ZaxeOmZxhbuK5P/\n",
       "exrhSbNMc1s5bAZ5ml53xMA1jNlOVUDrpn03I+6K+/bEutGj+pexMxEtC9yB/2ICGyvIxVACZ4Sb\n",
       "EVFHAXPrZlO6oS7JmYPL7LjgOpy4oQ2lr+NWZQ0pmbmD1yNdVxJJ9jY28n7231634wzpy+6Mto7e\n",
       "NfXq1m4TxiMqf1NW4Q5lleq4o6jnhyOdK7H6JIHLbthlUsZ3utfr3nWcHn2Jx6b1r3i0zmxOksH+\n",
       "NRH+snOVBlCUtSc2C9nWFEuqTjKAYQgqpMIx+KYMt+hAO6ZZBi2+Vx5BBKvYm5njLN47nxU/jMOK\n",
       "cI5Q4LO3sT2lHojfqfcpdQ74y07Snf+k0RYH7UnBzXVFj7DBeA9fIu0Bo28yBagsIx7jB+L/OJea\n",
       "HPLQGXOHBMnAMkDeMkXi+LJRi7itAsJCsDrNXdHBo9ajJbY15d6xfab//i9bpgEw4iX4kt1PDKS7\n",
       "QfwhbDQraSDLDx1kJuyvrebccreGLjubPAn1PN5K0hCtQZI/YQwoxv2/uLU0ko9q4MOqI4VPUsXh\n",
       "skKsLkAzKgA4+v4kxeu+UM5EArUKzj70Io6SKYk6aLCgVyfw20o/NF6UQJUMdCv8KG1JawgUFEh7\n",
       "CqBxXF4MePlpFjH90YI8BQKwErMmF4CGUbYYORWFGgzLtT5/f55P8eEOiFBAvFegMY/MdtNb2UAf\n",
       "ZkzzC3/bJyNJt4QknIruYwjjUMPZg/Ds36fuJ1kV1aW0ZQQ+dljNwiz+ua01t+ACV7xMDctwnzTF\n",
       "62s+XLIdITjcxBg3jjPLV4xDLGi4rJQy7hOCHoFIhXwZM+oJ/cWweUxio3rWDvKfe5EDtj5g9A2c\n",
       "jc8eqNHj7AkZNjFk84gAAAhRLwAAANNBmiRsQz/+nhAHb8HdOUqvap4/aZAoxpC3q+a7wWttUy+h\n",
       "fIGL0r+AQj0x2kNCtfbkNEJMJ8HkB0liOIM1F5zrUHcvhjLKqRgvX92dKI2MKRfKzr8cfNQGcD9q\n",
       "Huo/a5joZS/H/CdmuUf5xkijN32gqTw8ltwxJqHlLclEFWhSSWYxf+NgQpM5qrW+bu5b4/geHM+3\n",
       "YIW5I4jk9d6jp4l4LQvb9uB39bpVC9WzE+D1G05DEIWM54mFoBS/WhFUyBfn3yNhqZWIHeqzO5IE\n",
       "2yAJ3M2AAAAAOEGeQniEfwIa/q78m+vDEAHadoy1mcX4hMXissygYhjR1CQl4u06/cIGhRhUzrKj\n",
       "Yx/oM9MHoC5hAAAAJQGeYXRH/wNbgCwpmZ07cQAFn6p4QMY5S0yWjC7vZslgIhr36ecAAAAYAZ5j\n",
       "akf/AACoZssYYNKt85+zFRk86v7sAAAAJEGaaEmoQWiZTAhn//6eEAABSPd/A7foJY0Rlu1F3a30\n",
       "b2yXuAAAABtBnoZFESwj/wAAaYqLsUC//gWAoQx7GB10UsEAAAAYAZ6ldEf/AACoC68VKglwr27V\n",
       "+ENhobrAAAAADAGep2pH/wAAQX49YwAAABNBmqxJqEFsmUwIZ//+nhAAAAdMAAAAEUGeykUVLCP/\n",
       "AAAqIUCGkkejAAAADgGe6XRH/wAAQViEYQ0HAAAADwGe62pH/wAAQX4+seLsgQAAABNBmvBJqEFs\n",
       "mUwIZ//+nhAAAAdNAAAAEUGfDkUVLCP/AAAqIUCImVQwAAAADgGfLXRH/wAAQViEYQ0GAAAADwGf\n",
       "L2pH/wAAQX4+seLsgQAAABNBmzRJqEFsmUwIZ//+nhAAAAdMAAAAEUGfUkUVLCP/AAAqIUCImVQw\n",
       "AAAADgGfcXRH/wAAQViEYQ0HAAAADwGfc2pH/wAAQX4+seLsgQAAABNBm3hJqEFsmUwIZ//+nhAA\n",
       "AAdNAAAAEUGflkUVLCP/AAAqIUCImVQwAAAADgGftXRH/wAAQViEYQ0GAAAADwGft2pH/wAAQX4+\n",
       "seLsgQAAABNBm7xJqEFsmUwIZ//+nhAAAAdMAAAAEUGf2kUVLCP/AAAqIUCImVQwAAAADgGf+XRH\n",
       "/wAAQViEYQ0HAAAADwGf+2pH/wAAQX4+seLsgAAAABNBm+BJqEFsmUwIZ//+nhAAAAdNAAAAEUGe\n",
       "HkUVLCP/AAAqIUCImVQxAAAADgGePXRH/wAAQViEYQ0GAAAADwGeP2pH/wAAQX4+seLsgQAAABNB\n",
       "miRJqEFsmUwIZ//+nhAAAAdMAAAAEUGeQkUVLCP/AAAqIUCImVQxAAAADgGeYXRH/wAAQViEYQ0H\n",
       "AAAADwGeY2pH/wAAQX4+seLsgAAAABNBmmhJqEFsmUwIZ//+nhAAAAdMAAAAEUGehkUVLCP/AAAq\n",
       "IUCImVQxAAAADgGepXRH/wAAQViEYQ0GAAAADwGep2pH/wAAQX4+seLsgQAAABNBmqxJqEFsmUwI\n",
       "Z//+nhAAAAdMAAAAEUGeykUVLCP/AAAqIUCImVQxAAAADgGe6XRH/wAAQViEYQ0HAAAADwGe62pH\n",
       "/wAAQX4+seLsgQAAABNBmvBJqEFsmUwIZ//+nhAAAAdNAAAAEUGfDkUVLCP/AAAqIUCImVQwAAAA\n",
       "DgGfLXRH/wAAQViEYQ0GAAAADwGfL2pH/wAAQX4+seLsgQAAABNBmzRJqEFsmUwIZ//+nhAAAAdM\n",
       "AAAAEUGfUkUVLCP/AAAqIUCImVQwAAAADgGfcXRH/wAAQViEYQ0HAAAADwGfc2pH/wAAQX4+seLs\n",
       "gQAAABNBm3hJqEFsmUwIZ//+nhAAAAdNAAAAEUGflkUVLCP/AAAqIUCImVQwAAAADgGftXRH/wAA\n",
       "QViEYQ0GAAAADwGft2pH/wAAQX4+seLsgQAAABNBm7xJqEFsmUwIZ//+nhAAAAdMAAAAEUGf2kUV\n",
       "LCP/AAAqIUCImVQwAAAADgGf+XRH/wAAQViEYQ0HAAAADwGf+2pH/wAAQX4+seLsgAAAABNBm+BJ\n",
       "qEFsmUwIZ//+nhAAAAdNAAAAEUGeHkUVLCP/AAAqIUCImVQxAAAADgGePXRH/wAAQViEYQ0GAAAA\n",
       "DwGeP2pH/wAAQX4+seLsgQAAABNBmiRJqEFsmUwIZ//+nhAAAAdMAAAAEUGeQkUVLCP/AAAqIUCI\n",
       "mVQxAAAADgGeYXRH/wAAQViEYQ0HAAAADwGeY2pH/wAAQX4+seLsgAAAABNBmmhJqEFsmUwIZ//+\n",
       "nhAAAAdMAAAAEUGehkUVLCP/AAAqIUCImVQxAAAADgGepXRH/wAAQViEYQ0GAAAADwGep2pH/wAA\n",
       "QX4+seLsgQAAABNBmqxJqEFsmUwIZ//+nhAAAAdMAAAAEUGeykUVLCP/AAAqIUCImVQxAAAADgGe\n",
       "6XRH/wAAQViEYQ0HAAAADwGe62pH/wAAQX4+seLsgQAAABNBmvBJqEFsmUwIZ//+nhAAAAdNAAAA\n",
       "EUGfDkUVLCP/AAAqIUCImVQwAAAADgGfLXRH/wAAQViEYQ0GAAAADwGfL2pH/wAAQX4+seLsgQAA\n",
       "ABNBmzRJqEFsmUwIZ//+nhAAAAdMAAAAEUGfUkUVLCP/AAAqIUCImVQwAAAADgGfcXRH/wAAQViE\n",
       "YQ0HAAAADwGfc2pH/wAAQX4+seLsgQAAABNBm3hJqEFsmUwIZ//+nhAAAAdNAAAAEUGflkUVLCP/\n",
       "AAAqIUCImVQwAAAADgGftXRH/wAAQViEYQ0GAAAADwGft2pH/wAAQX4+seLsgQAAABNBm7xJqEFs\n",
       "mUwIZ//+nhAAAAdMAAAAEUGf2kUVLCP/AAAqIUCImVQwAAAADgGf+XRH/wAAQViEYQ0HAAAADwGf\n",
       "+2pH/wAAQX4+seLsgAAAABNBm+BJqEFsmUwIZ//+nhAAAAdNAAAAEUGeHkUVLCP/AAAqIUCImVQx\n",
       "AAAADgGePXRH/wAAQViEYQ0GAAAADwGeP2pH/wAAQX4+seLsgQAAABNBmiRJqEFsmUwIZ//+nhAA\n",
       "AAdMAAAAEUGeQkUVLCP/AAAqIUCImVQxAAAADgGeYXRH/wAAQViEYQ0HAAAADwGeY2pH/wAAQX4+\n",
       "seLsgAAAABNBmmhJqEFsmUwIZ//+nhAAAAdMAAAAEUGehkUVLCP/AAAqIUCImVQxAAAADgGepXRH\n",
       "/wAAQViEYQ0GAAAADwGep2pH/wAAQX4+seLsgQAAABNBmqxJqEFsmUwIZ//+nhAAAAdMAAAAEUGe\n",
       "ykUVLCP/AAAqIUCImVQxAAAADgGe6XRH/wAAQViEYQ0HAAAADwGe62pH/wAAQX4+seLsgQAAABNB\n",
       "mvBJqEFsmUwIZ//+nhAAAAdNAAAAEUGfDkUVLCP/AAAqIUCImVQwAAAADgGfLXRH/wAAQViEYQ0G\n",
       "AAAADwGfL2pH/wAAQX4+seLsgQAAABNBmzRJqEFsmUwIZ//+nhAAAAdMAAAAEUGfUkUVLCP/AAAq\n",
       "IUCImVQwAAAADgGfcXRH/wAAQViEYQ0HAAAADwGfc2pH/wAAQX4+seLsgQAAABNBm3hJqEFsmUwI\n",
       "Z//+nhAAAAdNAAAAEUGflkUVLCP/AAAqIUCImVQwAAAADgGftXRH/wAAQViEYQ0GAAAADwGft2pH\n",
       "/wAAQX4+seLsgQAAABNBm7xJqEFsmUwIZ//+nhAAAAdMAAAAEUGf2kUVLCP/AAAqIUCImVQwAAAA\n",
       "DgGf+XRH/wAAQViEYQ0HAAAADwGf+2pH/wAAQX4+seLsgAAAABNBm+BJqEFsmUwIZ//+nhAAAAdN\n",
       "AAAAEUGeHkUVLCP/AAAqIUCImVQxAAAADgGePXRH/wAAQViEYQ0GAAAADwGeP2pH/wAAQX4+seLs\n",
       "gQAAABNBmiRJqEFsmUwIZ//+nhAAAAdMAAAAEUGeQkUVLCP/AAAqIUCImVQxAAAADgGeYXRH/wAA\n",
       "QViEYQ0HAAAADwGeY2pH/wAAQX4+seLsgAAAABNBmmhJqEFsmUwIZ//+nhAAAAdMAAAAEUGehkUV\n",
       "LCP/AAAqIUCImVQxAAAADgGepXRH/wAAQViEYQ0GAAAADwGep2pH/wAAQX4+seLsgQAAABNBmqxJ\n",
       "qEFsmUwIZ//+nhAAAAdMAAAAEUGeykUVLCP/AAAqIUCImVQxAAAADgGe6XRH/wAAQViEYQ0HAAAA\n",
       "DwGe62pH/wAAQX4+seLsgQAAABNBmvBJqEFsmUwIZ//+nhAAAAdNAAAAEUGfDkUVLCP/AAAqIUCI\n",
       "mVQwAAAADgGfLXRH/wAAQViEYQ0GAAAADwGfL2pH/wAAQX4+seLsgQAAABNBmzRJqEFsmUwIZ//+\n",
       "nhAAAAdMAAAAEUGfUkUVLCP/AAAqIUCImVQwAAAADgGfcXRH/wAAQViEYQ0HAAAADwGfc2pH/wAA\n",
       "QX4+seLsgQAAABNBm3hJqEFsmUwIZ//+nhAAAAdNAAAAEUGflkUVLCP/AAAqIUCImVQwAAAADgGf\n",
       "tXRH/wAAQViEYQ0GAAAADwGft2pH/wAAQX4+seLsgQAAABNBm7xJqEFsmUwIZ//+nhAAAAdMAAAA\n",
       "EUGf2kUVLCP/AAAqIUCImVQwAAAADgGf+XRH/wAAQViEYQ0HAAAADwGf+2pH/wAAQX4+seLsgAAA\n",
       "ABNBm+BJqEFsmUwIZ//+nhAAAAdNAAAAEUGeHkUVLCP/AAAqIUCImVQxAAAADgGePXRH/wAAQViE\n",
       "YQ0GAAAADwGeP2pH/wAAQX4+seLsgQAAABNBmiRJqEFsmUwIZ//+nhAAAAdMAAAAEUGeQkUVLCP/\n",
       "AAAqIUCImVQxAAAADgGeYXRH/wAAQViEYQ0HAAAADwGeY2pH/wAAQX4+seLsgAAAABNBmmhJqEFs\n",
       "mUwIZ//+nhAAAAdMAAAAEUGehkUVLCP/AAAqIUCImVQxAAAADgGepXRH/wAAQViEYQ0GAAAADwGe\n",
       "p2pH/wAAQX4+seLsgQAAABNBmqxJqEFsmUwIZ//+nhAAAAdMAAAAEUGeykUVLCP/AAAqIUCImVQx\n",
       "AAAADgGe6XRH/wAAQViEYQ0HAAAADwGe62pH/wAAQX4+seLsgQAAABNBmvBJqEFsmUwIZ//+nhAA\n",
       "AAdNAAAAEUGfDkUVLCP/AAAqIUCImVQwAAAADgGfLXRH/wAAQViEYQ0GAAAADwGfL2pH/wAAQX4+\n",
       "seLsgQAAABNBmzRJqEFsmUwIZ//+nhAAAAdMAAAAEUGfUkUVLCP/AAAqIUCImVQwAAAADgGfcXRH\n",
       "/wAAQViEYQ0HAAAADwGfc2pH/wAAQX4+seLsgQAAABNBm3hJqEFsmUwIZ//+nhAAAAdNAAAAEUGf\n",
       "lkUVLCP/AAAqIUCImVQwAAAADgGftXRH/wAAQViEYQ0GAAAADwGft2pH/wAAQX4+seLsgQAAABNB\n",
       "m7xJqEFsmUwIZ//+nhAAAAdMAAAAEUGf2kUVLCP/AAAqIUCImVQwAAAADgGf+XRH/wAAQViEYQ0H\n",
       "AAAADwGf+2pH/wAAQX4+seLsgAAAABNBm+BJqEFsmUwIZ//+nhAAAAdNAAAAEUGeHkUVLCP/AAAq\n",
       "IUCImVQxAAAADgGePXRH/wAAQViEYQ0GAAAADwGeP2pH/wAAQX4+seLsgQAAABNBmiRJqEFsmUwI\n",
       "Z//+nhAAAAdMAAAAEUGeQkUVLCP/AAAqIUCImVQxAAAADgGeYXRH/wAAQViEYQ0HAAAADwGeY2pH\n",
       "/wAAQX4+seLsgAAAABNBmmhJqEFsmUwIZ//+nhAAAAdMAAAAEUGehkUVLCP/AAAqIUCImVQxAAAA\n",
       "DgGepXRH/wAAQViEYQ0GAAAADwGep2pH/wAAQX4+seLsgQAAABNBmqxJqEFsmUwIZ//+nhAAAAdM\n",
       "AAAAEUGeykUVLCP/AAAqIUCImVQxAAAADgGe6XRH/wAAQViEYQ0HAAAADwGe62pH/wAAQX4+seLs\n",
       "gQAAABNBmvBJqEFsmUwIZ//+nhAAAAdNAAAAEUGfDkUVLCP/AAAqIUCImVQwAAAADgGfLXRH/wAA\n",
       "QViEYQ0GAAAADwGfL2pH/wAAQX4+seLsgQAAABNBmzRJqEFsmUwIZ//+nhAAAAdMAAAAEUGfUkUV\n",
       "LCP/AAAqIUCImVQwAAAADgGfcXRH/wAAQViEYQ0HAAAADwGfc2pH/wAAQX4+seLsgQAAABNBm3hJ\n",
       "qEFsmUwIZ//+nhAAAAdNAAAAEUGflkUVLCP/AAAqIUCImVQwAAAADgGftXRH/wAAQViEYQ0GAAAA\n",
       "DwGft2pH/wAAQX4+seLsgQAAABNBm7xJqEFsmUwIZ//+nhAAAAdMAAAAEUGf2kUVLCP/AAAqIUCI\n",
       "mVQwAAAADgGf+XRH/wAAQViEYQ0HAAAADwGf+2pH/wAAQX4+seLsgAAAABNBm+BJqEFsmUwIZ//+\n",
       "nhAAAAdNAAAAEUGeHkUVLCP/AAAqIUCImVQxAAAADgGePXRH/wAAQViEYQ0GAAAADwGeP2pH/wAA\n",
       "QX4+seLsgQAAABNBmiRJqEFsmUwIZ//+nhAAAAdMAAAAEUGeQkUVLCP/AAAqIUCImVQxAAAADgGe\n",
       "YXRH/wAAQViEYQ0HAAAADwGeY2pH/wAAQX4+seLsgAAAABNBmmhJqEFsmUwIZ//+nhAAAAdMAAAA\n",
       "EUGehkUVLCP/AAAqIUCImVQxAAAADgGepXRH/wAAQViEYQ0GAAAADwGep2pH/wAAQX4+seLsgQAA\n",
       "ABNBmqxJqEFsmUwIZ//+nhAAAAdMAAAAEUGeykUVLCP/AAAqIUCImVQxAAAADgGe6XRH/wAAQViE\n",
       "YQ0HAAAADwGe62pH/wAAQX4+seLsgQAAABNBmvBJqEFsmUwIZ//+nhAAAAdNAAAAEUGfDkUVLCP/\n",
       "AAAqIUCImVQwAAAADgGfLXRH/wAAQViEYQ0GAAAADwGfL2pH/wAAQX4+seLsgQAAABNBmzRJqEFs\n",
       "mUwIZ//+nhAAAAdMAAAAEUGfUkUVLCP/AAAqIUCImVQwAAAADgGfcXRH/wAAQViEYQ0HAAAADwGf\n",
       "c2pH/wAAQX4+seLsgQAAABNBm3hJqEFsmUwIZ//+nhAAAAdNAAAAEUGflkUVLCP/AAAqIUCImVQw\n",
       "AAAADgGftXRH/wAAQViEYQ0GAAAADwGft2pH/wAAQX4+seLsgQAAABJBm7lJqEFsmUwI//yEAAAD\n",
       "AbMAABLFZYiEAD///vdonwKbWkN6gOSVxSXbT4H/q2dwfI/pAwAAAwAArq0zP4Siw1ALPnN+iDus\n",
       "fxjq4ZuBRSX6wooQA1AV9Jhr7c1QEP/Pac7ZfS2y0W/tu+8Jw8oi4WEsAATUSl42+E/7cAfH9K97\n",
       "eDVVO+ZSHoPpraIql5V7Z0RiUr7wl9Es9lOT/EueC54HEwxj4Uck6AY1rxBIfIwyLl6vOeT/n9K3\n",
       "2G49z1J0mIq9eO8jSek28d9UyFPswLN1y8B2De9F8zA4Pxp0mLn7LS2Y9aAJHrakkTlHm2H8eYH0\n",
       "KpNoRs8Oa2NmXqrGmf7gUjM6HOq71D9ypGJNE21V2FYravBmzYq5V3TGQdWBqcDeu6sxVG7iZXzG\n",
       "fF7ATZ227tvnpsk8qJR4O19uzdFhqM/+a45p58Pq+LBnIDCcclPF36xLoW5nV6/a0KgZLFFOFf9S\n",
       "2xB939WhcqMUeCsZTD+8chuSMmr05OkzpmGhL1o02qSntGxxiKPW5sL0OHsahUc/MocN/gGvCnZi\n",
       "N5yUnRc3btqqRoZQupyVXepMDfqFdXtzZ2ACdvtEajVWFfAK6gvsbmGifYBg2W1501sImAx3m0IC\n",
       "N7LyzoPIOBr3QMrvMd0SZyidc3kVKjwLF86K6g7qVBGccKirAHsO+s95UMPgGGRlbl13CiiSnbTE\n",
       "b/jEbCMcr/K3YdhROKjkGwWWRd6VWdfh60Ce8pCvf712jT5t7B2vCs1ZYqCnX6+/mYb7ia3ycpEB\n",
       "Q65+OqIIfGk2o0TNyAYI0JAMSnLD0dP273zijYSCKUHC2ipV6C7P7jE85+VKL7M1QpV53Q1YjI7P\n",
       "OCoPd+A9Vq1pZ/NE0pdXpts2qeKXDtCdA0pDvstI9ITnqWTWepY7Aq1t7fO7ERQxXKq2YKrNlXhI\n",
       "r0otoZzPP0iw00/Qyt1QWUSUxcEzlmzLn71FZkBiiGqMRnXOeJ7C46Fsz2UXfZoEzFiqNK4OdcpA\n",
       "8d7Avzqm4+EHovnDRsIiIupD06bMNkR8t7kjraQSdO9TozuK0LqMccKVZqqQHlhoLzfh8idN0C3v\n",
       "YJNSJXl07dKdibwRvMgEykPl0514ZtLVMwxaDcgA7gUaaGc3wH16ndZBHFU0ZwaRwZzxrUGfi9dn\n",
       "oTLDpbdQj9nml5Y2fuRMitNNWKhTV/31uEg0dwMP4KloeBuK0WBnNE4oSRPs9zRXNwwGDEnquABv\n",
       "Zw5lzuVaoFjhT4h58f9aqn1eneirBB9qk/AAas4Mvv8iTrvpQZD4Pme1uKhdefTVTYsEvrMKX5qS\n",
       "UCUJEjR6W/ivOopyCRxYLwvLc3175BikknoJl4IBU2mHAyB1E0OMPOsJsMaJCNGgG8nNwYm7Dinh\n",
       "WMG/uPbwcH67bNW84doS24k+G3csElNnaSn229ZCK6+KYNFpW7wAvYHRu2VqZu4oqNmCpnQGM8go\n",
       "UPdeYQjtW8o2HAS/9u8Gvgg56+3N3lCRVBzu3RtstZ/24tRCYJcv6uijyKvpRxxXBtgKYY5EPe7c\n",
       "dtuVfN4yUN8obxM5n8PAWHrBqmvy2FlpVq9eQ8yDXLvDVVeZwxvoDKeAMc9q4ktcvHozxY2SzLeH\n",
       "c4643EjVhWmSYXE8Nnv4AYEH2FTEwr/go+eE9IkPKiuGoV4vkFVqvUb99zpmGUY9TQUxFDH/iOsP\n",
       "OVqE0RxafBc28kCykA+czA7sWtsLT8xdv/2hDnI98nTwaKrKUSbVPTYze8rO1M2OnpK9Oc2fK5mg\n",
       "0eSVU/l4cjUxn1/9ITBtMTyiLax66jKd206OuxNcr+NretxMCS2yOF1oW1XXuCfFXbYa9KCzhGPh\n",
       "ge06Ea3/xeMCzqk73MSac8RCyqc4zG74LpAXFeRj94JtcSfJGxQD6aMQZjgOEndxJgoq0Tf/YJAr\n",
       "dG5leGwqF9ek69bl/8cQQLccS1IejtriDAjI8clZXqyzjKODgOHWlY1NUK2R93sM5cNGiGzoTTOO\n",
       "sGoImxhx9bsX2I7wYSvkUaOmu/6N5CEp2ml8WFQmaz6NEblgnxLGDDUY0C9DCa8fQGjFLsGJ9h0E\n",
       "kDjQyZkhG1SH74rnB7I+K85UBAnwLgSdMVxB/lJRY6PIq/+iHE6sfOR7AnGkLWTCC+d4krLO3zbP\n",
       "h/Gx8tSn4wo3+Nbu96t7lBDjRzMdkzAIQZdpQcjpXIxy+NDneCwuoicIE5iqNC+fHECaZwQ+Jmum\n",
       "H2bR+vqNtFj9hcA9rc980qGSOB3sP6PHnQJxPEBWDAY2aBEsKsy+1SfgDtPSrIxerIObFieK4xsY\n",
       "TW6aZTCZ5WCfY61VRH3zyvA1Za4jvj1x7CLlSo78k8tcycSaSCDRiBji9x5H4N8C77lUFiNUnv74\n",
       "KxuU1Jnxlq9w8iazES93kveIHSsAJCtWAAcS1Iwqx+Jxii8t2LEo/JJCmWEEKCvvil2hHgap1tlX\n",
       "+2URIL+S5zvNtGS+0+NwwEhMi6gIXmmn8mN0+tyDFYDKyaI32zR0jLSjsZ10Uh/Bfkuj50w/norc\n",
       "TdUMWeeUcBw3lJP31Xwtc+S3aTCiIR5e173SfJ2D4IlfJJ+MXQBNnS4/56+NfgtSqFPfsJpM+Fir\n",
       "KuNfsM/z7FGR/KoZbR54lltltYR8/G4P8UlPsgt0i2Uxa4PTC2Yx7Zj+xSZPwWl38aJsQILZ6gSF\n",
       "bcnoYUmEggisEJUcHb6F96Rn5xAh5oDbSfA9SZwynuWb67ZW06xqidE5ljA2ou273gS07QT8LKP2\n",
       "2fR+fyXTRtDW6DtNBM+X4Q53HyQQl/9Xm9F0aaV0m+YLnUKj0u/RlNLatdzzB70Cn175BrFdB3oO\n",
       "nPlPdQR3a6ElN8d4rxf+cLXf2VA43KTGsXrWcOPPBP5HD/DGoL3Pu7s25g5RgkC2v5/ulrhVjqjK\n",
       "tH7mZsL+jtckes26pkSdbgfB3jzt+7Rng/Md62aM2icru5XX9lW4b/v2E2EJtAOnTdN/rtH7dacp\n",
       "vGAsF26iatj+7UlSnxqKdX5Q33/V/E04GKRiZVib0xmP5iXMwL2qw/WBJXsG08WIfRaCKTRmxs1E\n",
       "ecgXJtGfsQdcBe1WLs6Zi+ZN6RCwnMmxHwuVQRF3tV40IdC9beeYFJPvqU4DRH0LMRy9e11wfOiS\n",
       "gwYxpyRAUxetX3VL613QzxxVwayUY+bMQtZa8YkwOx/yP0Lf2u8AGJPhH3Eye6ZLuaPlfKcGVNwO\n",
       "8vE5WXwxu3WKXNsIHy/jrRMYAnkjuSCeRXIgir+kcFRdlPOQ9ShQNC2s6bZTssd6dVODxukVhsBz\n",
       "V3b0U3UOnPTCsjdoEsTt7szdoLSKv+0oTfoKvsQ/+m3BNLC+tUmyGX4rznd1QCnKupYhR4JpNOA5\n",
       "0WU2EgsJd7pNsN8pvbutwiGsUfz/UkncTppPz16VizV+/jQfeA7rAMceiL0yyV7R6joj1MqTRwco\n",
       "Vqi0jtb5LIwRFPVXQVlhWlLBTsvkJhaN383NbYPC8Q3RGgbt34y6BWsC9tLpACZgidzCRsKIoNSq\n",
       "KE+FrJbkz7mNhpueNAi6UosIuGMO38PmRVMD6fySXL1KQzN2R0T6sDMf0aPp/HT9X6TIArz72w3v\n",
       "3qQr40Z7PkNjPSpex6YYTp9mwqWfzq5mbnFQFh7MWUyjhd6HhHKL05foLwEG/lE41ube0IQac7/X\n",
       "jCLTGhrtRNYyokmgCV+0ovY+xNA5BmNa8DL8W+2vrEbjinJw40OBm2pwz6moT6G2PZcs0tzA7p9R\n",
       "vuwsUbrMURaiFPt/tLUn975O3jBFm9utU/u3riy2c5445RLgZpZieQfOZrrTmfuO61PAJiR5T/Ks\n",
       "gyQpItMwr1jkleyPTg2sNNRGOswUiN8lroQqqeJPKKYpf+7QLyu54MkRXCBoxVtG0068De7KOxhn\n",
       "urxlBT0nXO7nvoMzkZUOIJcDbdPDiLoaek48Z/Sij0aeuQTYHrczfILyx6XVofJfLCR1J08a7U0/\n",
       "EnBhevNFYU/nzFPQuMsTp8i48M/63W0bv/chYBREP/8fzcbqjR7sKf2FERaLKxNiCIC1J4/poFW2\n",
       "R7Tt7WU4EcDtrNnd86jPAdppKcumWeHDVaTbC6OlMedEW2cX3pCCpkAE9Eu4xOKWNjbkmnnAnG/n\n",
       "WseIw6FaG6FCbRmxyXJXBVMOwuBc3mWmYIh+yo3JXOWFVGlYRHFfwOucgzSSx2TfcwxYwq2dzSXr\n",
       "QUr2I5PvdMCNaTAzCzojODVpFCEkDBNIo2y9NGMEEqsaElF9W+FzZaMsRG3pE+WDCIfvPliUWi4w\n",
       "4RjpqA6mOW3Tk0qwSSulFd4Gew/P3zlcnZZY6RmsnGt7T6P14LXtYo8Zb3gJzej3U9pbr0EcOS2h\n",
       "fZgTv57i+VgLaH/f13QxPIlbAnuwty4HCbPFokp6TwZqAbgRHqernwGZLuOnvn4ZR0gCeg4lrM/M\n",
       "qmaH5USdogxJ3YXSxduhH4UnORG2lLSzSeLZcn3S8xcSzTPtilQCH4K0FuAym62nubDhtyXg5Xae\n",
       "DZEcOzFsCSVRAS4RzxLewOtxBvjtuu3+8UNgrKrf3qynWhJppZCC4L7BXtBLuqE4j3v+69ZsrHXM\n",
       "+2z8sPI3xXEL5rSbuK6ltjhUP1SMK+6ymRF0YuZczoA3/ssdiKmvJXPfhlqjdlp8ruIcyX/tDj5j\n",
       "feNFmV9weJ0yalsEL1O3/KGPyc0V0Ewcgj+W39aRatf2X/vOZAR3K1OWq14eX2Td6KIdCNUb0Btn\n",
       "8CHK+ub/ZZI0kgLpTWNIU8+KMzdWUKJ8wdZkuB88xd3+IMndS8HRCcGZhzjKd6Ek9/pXUp00z+yd\n",
       "qIDffow88FK5/M/LrUTlLkYR3a5goNB57USGdeoCylK3KHQBHH8KrVpPkaDYuscvwv+8QqtlEbtm\n",
       "ikzGUEwxDieDtxXC+hUa/TiXmP2BRbyn7ccWfcuFKB4vggkM4OVUcwVidxqlNqwKZSj8GAru+PNh\n",
       "a4zSRYii5kt0z7zWYztdsU5df/6IfmVUWDhlHe0zRD4L8CDsnrSfcG88/XQ29a824+xS7mKnoMca\n",
       "4dzTKKQnwH1YntzZ7iw/H503Supo+zp6ICjhk4FYK/N10M0qdByAhpFCKJ0Mej0UksKlzspybMpt\n",
       "YFBgvsL0Q0MtDeH8jrnxYC3JEm17zeEIZ8G//d6Sg25k/btFbsE4vDrT+n0gRd5B3xlMyMlE81h1\n",
       "HcIcEB5rUllx1JFahrnAsXp17dIVr7IiByXc76IIKulO4Yz8QzoA6Kzaexqa26k0N4nk5x0+NSmZ\n",
       "8JYnzp3OMikglZw/rRojnhRIvI84tZ1E7zIhHOweoTIL73iDfQcTIrZwfTqqJVKpc6X9do5QrLbK\n",
       "3Vq3wgPXr06mG1mOzcm8h8Z7Y0EmMFTgOdXW2UYW8wpqj+ZGyjOslG6UOTzWA5tBfQoC2fWjTzSz\n",
       "FJ5rJgSaSbyCBfPrNJBIvNKfFMh1tB0rj+6NObvM6K4RWseHM5ug55HVCrFSzBHfi28Gixa9aUX/\n",
       "2jrAcqv2gycTBPJnziis5KXlQgsEJqoJl+5qFoX5JS+Hmi98MtYvHTM4wt3Fcn/vZaSoRHm2mH26\n",
       "zsS05BRGrvk0P8o5NFRTiRqz03PylZ5NLsEZUQqG0gHh1XA7Iojjux6knSZuET9balh/uFesULm+\n",
       "alZrerb/QCLvymONMmj8WURwhT7u/mhyWtfuICl11JdTSlHuTw4iGvustb3+ED42RgcMtFpxiyjz\n",
       "wjEU8r8LY24ZaLfvAi7qULxKX/dIOZuaZ3LgaNPsqliwsYDpe/Czg8+xOOqwGh96SZ5V3mk/6ui1\n",
       "qYR92Ri54DpIGHZ1hRLsAckQDCEFVJhGPuZ7zXuUq4pukqowlxZQRSr2JuZ4yzkXeQFg2C0ts5zv\n",
       "RbDvTQ2xepIhC/WqMZq68kjv3ex8IhA+bimt9VMrXybzy3bugjt6LewC5t1Ci9iU0bMkLGbxBV9j\n",
       "jeA9FYQ2HQxNRjhN/VgWJD6BlYzboI9ELAMzmy/QXKx7mHtm4EweNOJQuz2+poUvC5lzwMLVVtUL\n",
       "ajN4YBRMT/c23N21me4fpngXpKPhmbv845K7wOstG2+bPB3GZAlDbX5XUqUoX1GAWtDw5EVGbzM1\n",
       "BucMIMZhJb+cGYyB/PD15CDYDbAkUwgi8uNlbccjbRn4PddNiWzUMk46Ff4UNqS1hAoKJDHtUDiu\n",
       "LwY8fLSLGtcmYAem6zWxE9eu3udUlIMcs1G7glW09XlWsjApzLK5aS3+g/mgxj8yYzKRfjc6pIz6\n",
       "357ZORpNbCEk5FcGQAJo5NXpM7EUz9GGFPNoAoCcbg5LKeKa7/Juuo1heQ+gwuTlmsNw+B0qsHZw\n",
       "UmJOFsITcTGC95mPjknQIyptDzrY1hqCfRHsRCT35/kFk39FRXxDCtxBkiNWDnKfe8Scb8JZ4XgK\n",
       "Tsy1Mk7cwJR//oNtiDuiQAevWvOY0HwAAAC0QZokbEM//p4QB2/B3TlKr2qeP2mQKMaQt6vmu8Fr\n",
       "bVMvoXyBi9K/gEI9MdpDQrX25DRCTCfB5AdJYjiDNRec61B3L4YyyqkYL1/dnSiNjCoimdPXP11G\n",
       "f++cbThLkb8HzC1o6Lf9dwSe7/BUH0q5rKWjD8qp35Foh4mP7JdN01zV1CEOKfHy6W/5F3jvaLa+\n",
       "rDxkx8fpUn8bSqZvrGELNB7KipQrXkIiRVr6Aw90JVs1xTAhAAAAM0GeQniEfwIa/q78m+vDEAHa\n",
       "doy1mcX4hMXissygYhoRC8T6lcpOuxw0ih5GSaU4Lj4E3AAAACUBnmF0R/8DW4AsKZmdO3EABZ+q\n",
       "eEDGOUtMlrPqwfGGPVvYu4J/AAAAFwGeY2pH/wAAqGbLGGDSrfNQ/CfsxX3BAAAAIUGaaEmoQWiZ\n",
       "TAhn//6eEAABSPd/A7foJY0PE/Axelp7WAAAABlBnoZFESwj/wAAaYqLsUC//gUQgIMakMHBAAAA\n",
       "FgGepXRH/wAAqAuvFSoJcK40Dn2ftBwAAAAPAZ6nakf/AABBfj/LDCWBAAAAE0GarEmoQWyZTAhn\n",
       "//6eEAAAB00AAAARQZ7KRRUsI/8AACohQMn1TlgAAAAOAZ7pdEf/AABBWIZqd+YAAAAPAZ7rakf/\n",
       "AABBfj/LDCWBAAAAE0Ga8EmoQWyZTAhn//6eEAAAB0wAAAARQZ8ORRUsI/8AACohQMn1TlkAAAAO\n",
       "AZ8tdEf/AABBWIZqd+YAAAAPAZ8vakf/AABBfj/LDCWBAAAAE0GbNEmoQWyZTAhn//6eEAAAB00A\n",
       "AAARQZ9SRRUsI/8AACohQMn1TlkAAAAOAZ9xdEf/AABBWIZqd+cAAAAPAZ9zakf/AABBfj/LDCWA\n",
       "AAAAE0GbeEmoQWyZTAhn//6eEAAAB0wAAAARQZ+WRRUsI/8AACohQMn1TlkAAAAOAZ+1dEf/AABB\n",
       "WIZqd+YAAAAPAZ+3akf/AABBfj/LDCWAAAAAE0GbvEmoQWyZTAhn//6eEAAAB00AAAARQZ/aRRUs\n",
       "I/8AACohQMn1TlkAAAAOAZ/5dEf/AABBWIZqd+cAAAAPAZ/7akf/AABBfj/LDCWAAAAAE0Gb4Emo\n",
       "QWyZTAhn//6eEAAAB0wAAAARQZ4eRRUsI/8AACohQMn1TlkAAAAOAZ49dEf/AABBWIZqd+YAAAAP\n",
       "AZ4/akf/AABBfj/LDCWAAAAAE0GaJEmoQWyZTAhn//6eEAAAB00AAAARQZ5CRRUsI/8AACohQMn1\n",
       "TlgAAAAOAZ5hdEf/AABBWIZqd+cAAAAPAZ5jakf/AABBfj/LDCWBAAAAE0GaaEmoQWyZTAhn//6e\n",
       "EAAAB0wAAAARQZ6GRRUsI/8AACohQMn1TlkAAAAOAZ6ldEf/AABBWIZqd+YAAAAPAZ6nakf/AABB\n",
       "fj/LDCWBAAAAE0GarEmoQWyZTAhn//6eEAAAB00AAAARQZ7KRRUsI/8AACohQMn1TlgAAAAOAZ7p\n",
       "dEf/AABBWIZqd+YAAAAPAZ7rakf/AABBfj/LDCWBAAAAE0Ga8EmoQWyZTAhn//6eEAAAB0wAAAAR\n",
       "QZ8ORRUsI/8AACohQMn1TlkAAAAOAZ8tdEf/AABBWIZqd+YAAAAPAZ8vakf/AABBfj/LDCWBAAAA\n",
       "E0GbNEmoQWyZTAhn//6eEAAAB00AAAARQZ9SRRUsI/8AACohQMn1TlkAAAAOAZ9xdEf/AABBWIZq\n",
       "d+cAAAAPAZ9zakf/AABBfj/LDCWAAAAAE0GbeEmoQWyZTAhn//6eEAAAB0wAAAARQZ+WRRUsI/8A\n",
       "ACohQMn1TlkAAAAOAZ+1dEf/AABBWIZqd+YAAAAPAZ+3akf/AABBfj/LDCWAAAAAE0GbvEmoQWyZ\n",
       "TAhn//6eEAAAB00AAAARQZ/aRRUsI/8AACohQMn1TlkAAAAOAZ/5dEf/AABBWIZqd+cAAAAPAZ/7\n",
       "akf/AABBfj/LDCWAAAAAE0Gb4EmoQWyZTAhn//6eEAAAB0wAAAARQZ4eRRUsI/8AACohQMn1TlkA\n",
       "AAAOAZ49dEf/AABBWIZqd+YAAAAPAZ4/akf/AABBfj/LDCWAAAAAE0GaJEmoQWyZTAhn//6eEAAA\n",
       "B00AAAARQZ5CRRUsI/8AACohQMn1TlgAAAAOAZ5hdEf/AABBWIZqd+cAAAAPAZ5jakf/AABBfj/L\n",
       "DCWBAAAAE0GaaEmoQWyZTAhn//6eEAAAB0wAAAARQZ6GRRUsI/8AACohQMn1TlkAAAAOAZ6ldEf/\n",
       "AABBWIZqd+YAAAAPAZ6nakf/AABBfj/LDCWBAAAAE0GarEmoQWyZTAhn//6eEAAAB00AAAARQZ7K\n",
       "RRUsI/8AACohQMn1TlgAAAAOAZ7pdEf/AABBWIZqd+YAAAAPAZ7rakf/AABBfj/LDCWBAAAAE0Ga\n",
       "8EmoQWyZTAhn//6eEAAAB0wAAAARQZ8ORRUsI/8AACohQMn1TlkAAAAOAZ8tdEf/AABBWIZqd+YA\n",
       "AAAPAZ8vakf/AABBfj/LDCWBAAAAE0GbNEmoQWyZTAhn//6eEAAAB00AAAARQZ9SRRUsI/8AACoh\n",
       "QMn1TlkAAAAOAZ9xdEf/AABBWIZqd+cAAAAPAZ9zakf/AABBfj/LDCWAAAAAE0GbeEmoQWyZTAhn\n",
       "//6eEAAAB0wAAAARQZ+WRRUsI/8AACohQMn1TlkAAAAOAZ+1dEf/AABBWIZqd+YAAAAPAZ+3akf/\n",
       "AABBfj/LDCWAAAAAE0GbvEmoQWyZTAhn//6eEAAAB00AAAARQZ/aRRUsI/8AACohQMn1TlkAAAAO\n",
       "AZ/5dEf/AABBWIZqd+cAAAAPAZ/7akf/AABBfj/LDCWAAAAAE0Gb4EmoQWyZTAhn//6eEAAAB0wA\n",
       "AAARQZ4eRRUsI/8AACohQMn1TlkAAAAOAZ49dEf/AABBWIZqd+YAAAAPAZ4/akf/AABBfj/LDCWA\n",
       "AAAAE0GaJEmoQWyZTAhn//6eEAAAB00AAAARQZ5CRRUsI/8AACohQMn1TlgAAAAOAZ5hdEf/AABB\n",
       "WIZqd+cAAAAPAZ5jakf/AABBfj/LDCWBAAAAE0GaaEmoQWyZTAhn//6eEAAAB0wAAAARQZ6GRRUs\n",
       "I/8AACohQMn1TlkAAAAOAZ6ldEf/AABBWIZqd+YAAAAPAZ6nakf/AABBfj/LDCWBAAAAE0GarEmo\n",
       "QWyZTAhn//6eEAAAB00AAAARQZ7KRRUsI/8AACohQMn1TlgAAAAOAZ7pdEf/AABBWIZqd+YAAAAP\n",
       "AZ7rakf/AABBfj/LDCWBAAAAE0Ga8EmoQWyZTAhn//6eEAAAB0wAAAARQZ8ORRUsI/8AACohQMn1\n",
       "TlkAAAAOAZ8tdEf/AABBWIZqd+YAAAAPAZ8vakf/AABBfj/LDCWBAAAAE0GbNEmoQWyZTAhn//6e\n",
       "EAAAB00AAAARQZ9SRRUsI/8AACohQMn1TlkAAAAOAZ9xdEf/AABBWIZqd+cAAAAPAZ9zakf/AABB\n",
       "fj/LDCWAAAAAE0GbeEmoQWyZTAhn//6eEAAAB0wAAAARQZ+WRRUsI/8AACohQMn1TlkAAAAOAZ+1\n",
       "dEf/AABBWIZqd+YAAAAPAZ+3akf/AABBfj/LDCWAAAAAE0GbvEmoQWyZTAhn//6eEAAAB00AAAAR\n",
       "QZ/aRRUsI/8AACohQMn1TlkAAAAOAZ/5dEf/AABBWIZqd+cAAAAPAZ/7akf/AABBfj/LDCWAAAAA\n",
       "E0Gb4EmoQWyZTAhn//6eEAAAB0wAAAARQZ4eRRUsI/8AACohQMn1TlkAAAAOAZ49dEf/AABBWIZq\n",
       "d+YAAAAPAZ4/akf/AABBfj/LDCWAAAAAE0GaJEmoQWyZTAhn//6eEAAAB00AAAARQZ5CRRUsI/8A\n",
       "ACohQMn1TlgAAAAOAZ5hdEf/AABBWIZqd+cAAAAPAZ5jakf/AABBfj/LDCWBAAAAE0GaaEmoQWyZ\n",
       "TAhn//6eEAAAB0wAAAARQZ6GRRUsI/8AACohQMn1TlkAAAAOAZ6ldEf/AABBWIZqd+YAAAAPAZ6n\n",
       "akf/AABBfj/LDCWBAAAAE0GarEmoQWyZTAhn//6eEAAAB00AAAARQZ7KRRUsI/8AACohQMn1TlgA\n",
       "AAAOAZ7pdEf/AABBWIZqd+YAAAAPAZ7rakf/AABBfj/LDCWBAAAAE0Ga8EmoQWyZTAhn//6eEAAA\n",
       "B0wAAAARQZ8ORRUsI/8AACohQMn1TlkAAAAOAZ8tdEf/AABBWIZqd+YAAAAPAZ8vakf/AABBfj/L\n",
       "DCWBAAAAE0GbNEmoQWyZTAhn//6eEAAAB00AAAARQZ9SRRUsI/8AACohQMn1TlkAAAAOAZ9xdEf/\n",
       "AABBWIZqd+cAAAAPAZ9zakf/AABBfj/LDCWAAAAAE0GbeEmoQWyZTAhn//6eEAAAB0wAAAARQZ+W\n",
       "RRUsI/8AACohQMn1TlkAAAAOAZ+1dEf/AABBWIZqd+YAAAAPAZ+3akf/AABBfj/LDCWAAAAAE0Gb\n",
       "vEmoQWyZTAhn//6eEAAAB00AAAARQZ/aRRUsI/8AACohQMn1TlkAAAAOAZ/5dEf/AABBWIZqd+cA\n",
       "AAAPAZ/7akf/AABBfj/LDCWAAAAAE0Gb4EmoQWyZTAhn//6eEAAAB0wAAAARQZ4eRRUsI/8AACoh\n",
       "QMn1TlkAAAAOAZ49dEf/AABBWIZqd+YAAAAPAZ4/akf/AABBfj/LDCWAAAAAE0GaJEmoQWyZTAhn\n",
       "//6eEAAAB00AAAARQZ5CRRUsI/8AACohQMn1TlgAAAAOAZ5hdEf/AABBWIZqd+cAAAAPAZ5jakf/\n",
       "AABBfj/LDCWBAAAAE0GaaEmoQWyZTAhn//6eEAAAB0wAAAARQZ6GRRUsI/8AACohQMn1TlkAAAAO\n",
       "AZ6ldEf/AABBWIZqd+YAAAAPAZ6nakf/AABBfj/LDCWBAAAAE0GarEmoQWyZTAhn//6eEAAAB00A\n",
       "AAARQZ7KRRUsI/8AACohQMn1TlgAAAAOAZ7pdEf/AABBWIZqd+YAAAAPAZ7rakf/AABBfj/LDCWB\n",
       "AAAAE0Ga8EmoQWyZTAhn//6eEAAAB0wAAAARQZ8ORRUsI/8AACohQMn1TlkAAAAOAZ8tdEf/AABB\n",
       "WIZqd+YAAAAPAZ8vakf/AABBfj/LDCWBAAAAE0GbNEmoQWyZTAhn//6eEAAAB00AAAARQZ9SRRUs\n",
       "I/8AACohQMn1TlkAAAAOAZ9xdEf/AABBWIZqd+cAAAAPAZ9zakf/AABBfj/LDCWAAAAAE0GbeEmo\n",
       "QWyZTAhn//6eEAAAB0wAAAARQZ+WRRUsI/8AACohQMn1TlkAAAAOAZ+1dEf/AABBWIZqd+YAAAAP\n",
       "AZ+3akf/AABBfj/LDCWAAAAAE0GbvEmoQWyZTAhn//6eEAAAB00AAAARQZ/aRRUsI/8AACohQMn1\n",
       "TlkAAAAOAZ/5dEf/AABBWIZqd+cAAAAPAZ/7akf/AABBfj/LDCWAAAAAE0Gb4EmoQWyZTAhn//6e\n",
       "EAAAB0wAAAARQZ4eRRUsI/8AACohQMn1TlkAAAAOAZ49dEf/AABBWIZqd+YAAAAPAZ4/akf/AABB\n",
       "fj/LDCWAAAAAE0GaJEmoQWyZTAhn//6eEAAAB00AAAARQZ5CRRUsI/8AACohQMn1TlgAAAAOAZ5h\n",
       "dEf/AABBWIZqd+cAAAAPAZ5jakf/AABBfj/LDCWBAAAAE0GaaEmoQWyZTAhn//6eEAAAB0wAAAAR\n",
       "QZ6GRRUsI/8AACohQMn1TlkAAAAOAZ6ldEf/AABBWIZqd+YAAAAPAZ6nakf/AABBfj/LDCWBAAAA\n",
       "E0GarEmoQWyZTAhn//6eEAAAB00AAAARQZ7KRRUsI/8AACohQMn1TlgAAAAOAZ7pdEf/AABBWIZq\n",
       "d+YAAAAPAZ7rakf/AABBfj/LDCWBAAAAE0Ga8EmoQWyZTAhn//6eEAAAB0wAAAARQZ8ORRUsI/8A\n",
       "ACohQMn1TlkAAAAOAZ8tdEf/AABBWIZqd+YAAAAPAZ8vakf/AABBfj/LDCWBAAAAE0GbNEmoQWyZ\n",
       "TAhn//6eEAAAB00AAAARQZ9SRRUsI/8AACohQMn1TlkAAAAOAZ9xdEf/AABBWIZqd+cAAAAPAZ9z\n",
       "akf/AABBfj/LDCWAAAAAE0GbeEmoQWyZTAhn//6eEAAAB0wAAAARQZ+WRRUsI/8AACohQMn1TlkA\n",
       "AAAOAZ+1dEf/AABBWIZqd+YAAAAPAZ+3akf/AABBfj/LDCWAAAAAE0GbvEmoQWyZTAhn//6eEAAA\n",
       "B00AAAARQZ/aRRUsI/8AACohQMn1TlkAAAAOAZ/5dEf/AABBWIZqd+cAAAAPAZ/7akf/AABBfj/L\n",
       "DCWAAAAAE0Gb4EmoQWyZTAhn//6eEAAAB0wAAAARQZ4eRRUsI/8AACohQMn1TlkAAAAOAZ49dEf/\n",
       "AABBWIZqd+YAAAAPAZ4/akf/AABBfj/LDCWAAAAAE0GaJEmoQWyZTAhn//6eEAAAB00AAAARQZ5C\n",
       "RRUsI/8AACohQMn1TlgAAAAOAZ5hdEf/AABBWIZqd+cAAAAPAZ5jakf/AABBfj/LDCWBAAAAE0Ga\n",
       "aEmoQWyZTAhn//6eEAAAB0wAAAARQZ6GRRUsI/8AACohQMn1TlkAAAAOAZ6ldEf/AABBWIZqd+YA\n",
       "AAAPAZ6nakf/AABBfj/LDCWBAAAAE0GarEmoQWyZTAhn//6eEAAAB00AAAARQZ7KRRUsI/8AACoh\n",
       "QMn1TlgAAAAOAZ7pdEf/AABBWIZqd+YAAAAPAZ7rakf/AABBfj/LDCWBAAAAE0Ga8EmoQWyZTAhn\n",
       "//6eEAAAB0wAAAARQZ8ORRUsI/8AACohQMn1TlkAAAAOAZ8tdEf/AABBWIZqd+YAAAAPAZ8vakf/\n",
       "AABBfj/LDCWBAAAAE0GbNEmoQWyZTAhn//6eEAAAB00AAAARQZ9SRRUsI/8AACohQMn1TlkAAAAO\n",
       "AZ9xdEf/AABBWIZqd+cAAAAPAZ9zakf/AABBfj/LDCWAAAAAE0GbeEmoQWyZTAhn//6eEAAAB0wA\n",
       "AAARQZ+WRRUsI/8AACohQMn1TlkAAAAOAZ+1dEf/AABBWIZqd+YAAAAPAZ+3akf/AABBfj/LDCWA\n",
       "AAAAEkGbuUmoQWyZTAj//IQAAAMBswAAErdliIIAD//+92ifAptaQ3qA5JXFJdtPgf+rZ3B8j+kD\n",
       "AAADAACurTM/hKLDUAs+c36IO6x/GOrhm4FFJfrCihADUBX0mGvtzVAQ/89pztl9LbLRb+277wnD\n",
       "yiLhYSwABNRKXjb4T/twB8f0r3t4NVU75lIeg+mtoiqXlXtnRGJSvvCX0Sz2U5P8S54LngcTDGPh\n",
       "RyToBjWvEEh8jDIuXq855P+f0rfYbj3PUnSYir147yNJ6Tbx31TIU+zAs3XLwHYN70XzMDg/GnSY\n",
       "ufstLZj1oAketqSROUebYfx5gfQqk2hGzw5rY2ZeqsaZ/uBSMzoc6rvUP3KkYk0TbVXYVitq8GbN\n",
       "irlXdMZB1YGpwN67qzFUbuJlfMZ8XsBNnbbu2+emyTyolHg7X27N0WGoz/5rjmnnw+r4sGcgMJxy\n",
       "U8XfrEuhbmdXr9rQqBksUU4V/1LbEH3f1aFyoxR4KxlMP7xyG5IyavTk6TOmYaEvWjTapKe0bHGI\n",
       "o9bmwvQ4exqFRz8yhw3+Aa8KdmI3nJSdFzdu2qpGhlC6nJVd6kwN+oV1e3NnYAJ2+0RqNVYV8Arq\n",
       "C+xuYaJ9gGDZbXnTWwiYDHebQgI3svLOg8g4GvdAyu8x3RJnKJ1zeRUqPAsXzorqDupUEZxwqKsA\n",
       "ew76z3lQw+AYZGVuXXcKKJKdtMRv+MRsIxyv8rdh2FE4qOQbBZZF3pVZ1+HrQJ7ykK9/vXaNPm3s\n",
       "Ha8KzVlioKdfr7+ZhvuJrfJykQFDrn46ogh8aTajRM3IBgjQkAxKcsPR0/bvfOKNhIIpQcLaKlXo\n",
       "Ls/uMTzn5UovszVClXndDViMjs84Kg934D1WrWln80TSl1em2zap4pcO0J0DSkO+y0j0hOepZNZ6\n",
       "ljsCrW3t87sRFDFcqrZgqs2VeEivSi2hnM8/SLDTT9DK3VBZRJTFwTOWbMufvUVmQGKIaoxGdc54\n",
       "nsLjoWzPZRd9mgTMWKo0rg51ykDx3sC/Oqbj4Qei+cNGwiIi6kPTpsw2RHy3uSOtpBJ071OjO4rQ\n",
       "uoxxwpVmqpAeWGgvN+HyJ03QLe9gk1IleXTt0p2JvBG8yATKQ+XTnXhm0tUzDFoNyADuBRpoZzfA\n",
       "fXqd1kEcVTRnBpHBnPGtQZ+L12ehMsOlt1CP2eaXljZ+5EyK001YqFNX/fW4SDR3Aw/gqWh4G4rR\n",
       "YGc0TihJE+z3NFc3DAYMSeq4AG9nDmXO5VqgWOFPiHnx/1qqfV6d6KsEH2qT8ABqzgy+/yJOu+lB\n",
       "kPg+Z7W4qF159NVNiwS+swpfmpJQJQkSNHpb+K86inIJHFgvC8tzfXvkGKSSegmXggFTaYcDIHUT\n",
       "Q4w86wmwxokI0aAbyc3BibsOKeFYwb+49vBwfrts1bzh2hLbiT4bdywSU2dpKfbb1kIrr4pg0Wlb\n",
       "vAC9gdG7ZWpm7iio2YKmdAYzyChQ915hCO1byjYcBL/27wa+CDnr7c3eUJFUHO7dG2y1n/bi1EJg\n",
       "ly/q6KPIq+lHHFcG2AphjkQ97tx225V83jJQ3yhvEzmfw8BYesGqa/LYWWlWr15DzINcu8NVV5nD\n",
       "G+gMp4Axz2riS1y8ejPFjZLMt4dzjrjcSNWFaZJhcTw2e/gBgQfYVMTCv+Cj54T0iQ8qK4ahXi+Q\n",
       "VWq9Rv33OmYZRj1NBTEUMf+I6w85WoTRHFp8FzbyQLKQD5zMDuxa2wtPzF2//aEOcj3ydPBoqspR\n",
       "JtU9NjN7ys7UzY6ekr05zZ8rmaDR5JVT+XhyNTGfX/0hMG0xPKItrHrqMp3bTo67E1yv42t63EwJ\n",
       "LbI4XWhbVde4J8Vdthr0oLOEY+GB7ToRrf/F4wLOqTvcxJpzxELKpzjMbvgukBcV5GP3gm1xJ8kb\n",
       "FAPpoxBmOA4Sd3EmCirRN/9gkCt0bmV4bCoX16Tr1uX/xxBAtxxLUh6O2uIMCMjxyVlerLOMo4OA\n",
       "4daVjU1QrZH3ewzlw0aIbOhNM46wagibGHH1uxfYjvBhK+RRo6a7/o3kISnaaXxYVCZrPo0RuWCf\n",
       "EsYMNRjQL0MJrx9AaMUuwYn2HQSQONDJmSEbVIfviucHsj4rzlQECfAuBJ0xXEH+UlFjo8ir/6Ic\n",
       "Tqx85HsCcaQtZMIL53iSss7fNs+H8bHy1KfjCjf41u73q3uUEONHMx2TMAhBl2lByOlcjHL40Od4\n",
       "LC6iJwgTmKo0L58cQJpnBD4ma6YfZtH6+o20WP2FwD2tz3zSoZI4Hew/o8edAnE8QFYMBjZoESwq\n",
       "zL7VJ+AO09KsjF6sg5sWJ4rjGxhNbpplMJnlYJ9jrVVEffPK8DVlriO+PXHsIuVKjvyTy1zJxJpI\n",
       "INGIGOL3Hkfg3wLvuVQWI1Se/vgrG5TUmfGWr3DyJrMRL3eS94gdKwAkK1YABxLUjCrH4nGKLy3Y\n",
       "sSj8kkKZYQQoK++KXaEeBqnW2Vf7ZREgv5LnO820ZL7T43DASEyLqAheaafyY3T63IMVgMrJojfb\n",
       "NHSMtKOxnXRSH8F+S6PnTD+eitxN1QxZ55RwHDeUk/fVfC1z5LdpMKIhHl7XvdJ8nYPgiV8kn4xd\n",
       "AE2dLj/nr41+C1KoU9+wmkz4WKsq41+wz/PsUZH8qhltHniWW2W1hHz8bg/xSU+yC3SLZTFrg9ML\n",
       "ZjHtmP7FJk/BaXfxomxAgtnqBIVtyehhSYSCCKwQlRwdvoX3pGfnECHmgNtJ8D1JnDKe5ZvrtlbT\n",
       "rGqJ0TmWMDai7bveBLTtBPwso/bZ9H5/JdNG0NboO00Ez5fhDncfJBCX/1eb0XRppXSb5gudQqPS\n",
       "79GU0tq13PMHvQKfXvkGsV0Heg6c+U91BHdroSU3x3ivF/5wtd/ZUDjcpMaxetZw488E/kcP8Mag\n",
       "vc+7uzbmDlGCQLa/n+6WuFWOqMq0fuZmwv6O1yR6zbqmRJ1uB8HePO37tGeD8x3rZozaJyu7ldf2\n",
       "Vbhv+/YTYQm0A6dN03+u0ft1pym8YCwXbqJq2P7tSVKfGop1flDff9X8TTgYpGJlWJvTGY/mJczA\n",
       "varD9YElewbTxYh9FoIpNGbGzUR5yBcm0Z+xB1wF7VYuzpmL5k3pELCcybEfC5VBEXe1XjQh0L1t\n",
       "55gUk++pTgNEfQsxHL17XXB86JKDBjGnJEBTF61fdUvrXdDPHFXBrJRj5sxC1lrxiTA7H/I/Qt/a\n",
       "7wAYk+EfcTJ7pku5o+V8pwZU3A7y8TlZfDG7dYpc2wgfL+OtExgCeSO5IJ5FciCKv6RwVF2U85D1\n",
       "KFA0LazptlOyx3p1U4PG6RWGwHNXdvRTdQ6c9MKyN2gSxO3uzN2gtIq/7ShN+gq+xD/6bcE0sL61\n",
       "SbIZfivOd3VAKcq6liFHgmk04DnRZTYSCwl3uk2w3ym9u63CIaxR/P9SSdxOmk/PXpWLNX7+NB94\n",
       "DusAxx6IvTLJXtHqOiPUypNHByhWqLSO1vksjBEU9VdBWWFaUsFOy+QmFo3fzc1tg8LxDdEaBu3f\n",
       "jLoFawL20ukAJmCJ3MJGwoig1KooT4WsluTPuY2Gm540CLpSiwi4Yw7fw+ZFUwPp/JJcvUpDM3ZH\n",
       "RPqwMx/Ro+n8dP1fpMgCvPvbDe/epCvjRns+Q2M9Kl7HphhOn2bCpZ/OrmZucVAWHsxZTKOF3oeE\n",
       "covTl+gvAQb+UTjW5t7QhBpzv9eMItMaGu1E1jKiSaAJX7Si9j7E0DkGY1rwMvxb7a+sRuOKcnDj\n",
       "Q4GbanDPqahPobY9lyzS3MDun1G+7CxRusxRFqIU+3+0tSf3vk7eMEWb261T+7euLLZznjjlEuBm\n",
       "lmJ5B85mutOZ+47rU8AmJHlP8qyDJCki0zCvWOSV7I9ODaw01EY6zBSI3yWuhCqp4k8opil/7tAv\n",
       "K7ngyRFcIGjFW0bTTrwN7so7GGe6vGUFPSdc7ue+gzORlQ4glwNt08OIuhp6Tjxn9KKPRp65BNge\n",
       "tzN8gvLHpdWh8l8sJHUnTxrtTT8ScGF680VhT+fMU9C4yxOnyLjwz/rdbRu/9yFgFEQ//x/NxuqN\n",
       "Huwp/YURFosrE2IIgLUnj+mgVbZHtO3tZTgRwO2s2d3zqM8B2mkpy6ZZ4cNVpNsLo6Ux50RbZxfe\n",
       "kIKmQAT0S7jE4pY2NuSaecCcb+dax4jDoVoboUJtGbHJclcFUw7C4FzeZaZgiH7Kjclc5YVUaVhE\n",
       "cV/A65yDNJLHZN9zDFjCrZ3NJetBSvYjk+90tER9wzMLOkiChSjTcBIGJgRRtl6aMYIJVY0JKL6t\n",
       "8Lmy0ZYiNvSJ8sGDZ/sFQZohy+nWJxwKPdQQoU9tnylbmV4J1quGw7p5CH7zPAx0jNZONbtWOuPy\n",
       "CUV3a99hEJCc2UmdzuQHKlprCFc+jA4fz3F8rAW0P+/ruhk4UjSBPdhblwOE2eQBJT0nfTyrnVdo\n",
       "ZkYl4bMTzWrUIyHZMj1Bw/OA2XFMWtlIp54Su2iZLSzNuhH4UnORG2lLSzSeLZcn3TCY/f/LFSHC\n",
       "a+X4yEftQWsSYz3Nhw2kLwcrtPBsiOHZi2BJKogJcI54lvYHW4g3x23Xb/ft4tUWppD1ZTrQk00s\n",
       "hBcO1grv6l3VCcYQ3/des2VjrmfbZ+WHkb4r7h81pN3FdS2xwqH6pGFfdZTIdoKZcwjW3/sqQ2Fh\n",
       "eSue/DLVG7LT5XcQ5kv/aHHzG+8aLN0Bg6Gri1LYMqKBjCMTnMYIF0Ewcgj+W39aRatf2X/vOZAR\n",
       "3K1OWq14eX2Zd6KIdCNUeTXMyGI1DKTxqDRc7HTM0tQc5CnnxRmbqyhRPmDrMlwPnmLu/xBk7qXg\n",
       "6ITgzMOcZTvQknv9ZwvXiBFao/OPq0WHNAzDGr/p/2sj33fIwju1zBQaDz2okM69QFlKVuUiLPsQ\n",
       "uBWvSfI09Qfy5Z/dd4hVbKI3bNFJoMoJhiHE8HbiuF9Co1+nEvM4sCi3ryM8RFDWCKUDxfBBIZwc\n",
       "qo5grE7jVKbVgUylH4MBXd8ebC1xmkixE5zJbsWDelwkeO0mQmf/0Q/MqosHDKO9pmiHwX4EHZPW\n",
       "k+4N55+uxt615ty2Cl3MVDQQ41w7mmUUhPgPqxPbmz3Fh+PzpuilU4uzGHQ8lcbfWpm/N10M0qdB\n",
       "yAhpFCKJ0Me90uFcI7vspybEppYFBgvsL0Q0MtDeH8jrnyOVCWEu17y+EIZ8Af/d6Sg25k/jtFbs\n",
       "E4vDrT/lGc+GInnbppvUUi397aO4Q4HjyWpLu3X3qylqoBYvTr26QrdaRhPkcNHg3zfsvVjvPyUQ\n",
       "HZYoMtT+OpoNOzTY2/Dk8mHaE+CvN22GKR0g4Ss1n6hI6ACiReSBKmNQjvmRCHe1jKiI3wPnPIBa\n",
       "j3Msd6fUSqVS50v4zLAhWW2VurVvhESxYnZ0nASDIWZXvjPbkalPPvUBwnJiR+hvVy1FOF8BUkYZ\n",
       "oEAk+nvVqKvQlbfv5Z9aNYAKJnkosmBJpLEepnX9fQAVICehN+QWN6Tbxg/ySHMYGCYW1g6HhzPP\n",
       "keeR1QrR8+E41f/gssm9C160ov/tHTM6BjGJdNHZ8iDceKBLPg2HC+hLtBMv3NQtC/JHvo4vfDLW\n",
       "Lx0zOMLdxXJ/72F3YhVdCvUsdVFCKKIMd9WtGxQjK9yhTT6bkfYmlKlBUwCkw3zeC6C6MbCSDtil\n",
       "V8uMyX/RUmursh8HvYX/QRUfOjuoF1QOQ/9qKO6vBO8OY3qohDxZlLRt3OlNFQ9aZXhrTN7b69b8\n",
       "YZ05ft5jWPd6rj8xeuE8YjKn9TVt/MfMfxOX5aSb/b/+u0TPxA5bdsMqliw/ZC3HfhZwefYnHajd\n",
       "NnN8aeeNjZj+/Q/6TLcYkxepak5sF7OsKJdUFR9j5upNqYRj8UxRr9UuxkyyDFt8rjyCUZexNzPG\n",
       "Wbx4nZmMnNeKcI2XmLO3sT2lHojf9DRYah3xlp2lO/9Jog8DDG5u+uqLH2F/NB6wfO4DRt5kC3CJ\n",
       "Rj3GD8X+cS80N14YGyzBHS6Uy1E1GclZsWSjF3FZ6KSFYHWau6ODR7MGgCxry71i+03//KZlW3mv\n",
       "lrQ5Jbqeq0k4pwIGGJYK04q9/BEBs+rXXbfANnM1WjTrgT6nm9Y8cmTYJRLlAB6if9v7i1NJKPau\n",
       "DDqiPxk1LF4bJCrC5AMyoAOcba+uxAacaCjY1t5Mc2Y1C+kimIvK2woFcn8NtKPpBelECUjHQr/C\n",
       "htSWsIFBRIepqgcVxeDHj5aRYx/dGCPcUSiBKzJheAhlG2GDYVhRoMy7U+f3ejA/I4FyvF9LcfNB\n",
       "jH5jtprev26xLR+1x7O7y/b0TcyjnwS7MATQ7w1vfw7N+lwJfZFdWltGUEPnZYbwIs/rmtNbfgAl\n",
       "fDTA3LcJ80xetrPlbRIxv/3MQYN44zy5eMQyxouKyUMuUTgh6BSIV8GTP9sP1KUHlMYqN61f5xd3\n",
       "uBA7Y+YPPXjS3PHqjR4+wJGTXu1KjgAAAwEjJeEAAADTQZokbEM//p4QB2/B3TlKr2qeP2mQKMaQ\n",
       "t6vmu8FrbVMvoXyBi9K/gEI9MdpDQrX25DRCTCfB5AdJYjiDNRec61B3L4YyyqkYL1/dnSiNjCkX\n",
       "ys6/HHzUBnA/ah7qP2uY6GUvx/wnZrlH+cZIozd9oKk8PJbcMSah5S3JRBVoUklmMX/jYEKTOaq1\n",
       "vm7uW+P4HhzPt2CFuSOI5PXeo6eJeC0L2/bgd/W6VQvVsxPg9RtOQxCFjOeJhaAUv1oRVMgX598j\n",
       "YamViB3qszuSBNsgCdzNgQAAADhBnkJ4hH8CGv6u/JvrwxAB2naMtZnF+ITF4rLMoGIY0dQkJeLt\n",
       "Ov3CBoUYVM6yo2Mf6DPTB6AuYAAAACUBnmF0R/8DW4AsKZmdO3EABZ+qeEDGOUtMlowu72bJYCIa\n",
       "9+nnAAAAGAGeY2pH/wAAqGbLGGDSrfOfsxUZPOr+7QAAACRBmmhJqEFomUwIZ//+nhAAAUj3fwO3\n",
       "6CWNEZbtRd2t9G9sl7gAAAAbQZ6GRREsI/8AAGmKi7FAv/4FgKEMexgddFLAAAAAGAGepXRH/wAA\n",
       "qAuvFSoJcK9u1fhDYaG6wQAAAAwBnqdqR/8AAEF+PWMAAAATQZqsSahBbJlMCGf//p4QAAAHTQAA\n",
       "ABFBnspFFSwj/wAAKiFAhpJHowAAAA4Bnul0R/8AAEFYhGENBgAAAA8BnutqR/8AAEF+PrHi7IEA\n",
       "AAATQZrwSahBbJlMCGf//p4QAAAHTAAAABFBnw5FFSwj/wAAKiFAiJlUMQAAAA4Bny10R/8AAEFY\n",
       "hGENBwAAAA8Bny9qR/8AAEF+PrHi7IAAAAATQZs0SahBbJlMCGf//p4QAAAHTAAAABFBn1JFFSwj\n",
       "/wAAKiFAiJlUMQAAAA4Bn3F0R/8AAEFYhGENBgAAAA8Bn3NqR/8AAEF+PrHi7IEAAAATQZt4SahB\n",
       "bJlMCGf//p4QAAAHTAAAABFBn5ZFFSwj/wAAKiFAiJlUMQAAAA4Bn7V0R/8AAEFYhGENBwAAAA8B\n",
       "n7dqR/8AAEF+PrHi7IEAAAATQZu8SahBbJlMCGf//p4QAAAHTQAAABFBn9pFFSwj/wAAKiFAiJlU\n",
       "MAAAAA4Bn/l0R/8AAEFYhGENBgAAAA8Bn/tqR/8AAEF+PrHi7IEAAAATQZvgSahBbJlMCGf//p4Q\n",
       "AAAHTAAAABFBnh5FFSwj/wAAKiFAiJlUMAAAAA4Bnj10R/8AAEFYhGENBwAAAA8Bnj9qR/8AAEF+\n",
       "PrHi7IEAAAATQZokSahBbJlMCGf//p4QAAAHTQAAABFBnkJFFSwj/wAAKiFAiJlUMAAAAA4BnmF0\n",
       "R/8AAEFYhGENBgAAAA8BnmNqR/8AAEF+PrHi7IEAAAATQZpoSahBbJlMCGf//p4QAAAHTAAAABFB\n",
       "noZFFSwj/wAAKiFAiJlUMAAAAA4BnqV0R/8AAEFYhGENBwAAAA8BnqdqR/8AAEF+PrHi7IAAAAAT\n",
       "QZqsSahBbJlMCGf//p4QAAAHTQAAABFBnspFFSwj/wAAKiFAiJlUMQAAAA4Bnul0R/8AAEFYhGEN\n",
       "BgAAAA8BnutqR/8AAEF+PrHi7IEAAAATQZrwSahBbJlMCGf//p4QAAAHTAAAABFBnw5FFSwj/wAA\n",
       "KiFAiJlUMQAAAA4Bny10R/8AAEFYhGENBwAAAA8Bny9qR/8AAEF+PrHi7IAAAAATQZs0SahBbJlM\n",
       "CGf//p4QAAAHTAAAABFBn1JFFSwj/wAAKiFAiJlUMQAAAA4Bn3F0R/8AAEFYhGENBgAAAA8Bn3Nq\n",
       "R/8AAEF+PrHi7IEAAAATQZt4SahBbJlMCGf//p4QAAAHTAAAABFBn5ZFFSwj/wAAKiFAiJlUMQAA\n",
       "AA4Bn7V0R/8AAEFYhGENBwAAAA8Bn7dqR/8AAEF+PrHi7IEAAAATQZu8SahBbJlMCGf//p4QAAAH\n",
       "TQAAABFBn9pFFSwj/wAAKiFAiJlUMAAAAA4Bn/l0R/8AAEFYhGENBgAAAA8Bn/tqR/8AAEF+PrHi\n",
       "7IEAAAATQZvgSahBbJlMCGf//p4QAAAHTAAAABFBnh5FFSwj/wAAKiFAiJlUMAAAAA4Bnj10R/8A\n",
       "AEFYhGENBwAAAA8Bnj9qR/8AAEF+PrHi7IEAAAATQZokSahBbJlMCGf//p4QAAAHTQAAABFBnkJF\n",
       "FSwj/wAAKiFAiJlUMAAAAA4BnmF0R/8AAEFYhGENBgAAAA8BnmNqR/8AAEF+PrHi7IEAAAATQZpo\n",
       "SahBbJlMCGf//p4QAAAHTAAAABFBnoZFFSwj/wAAKiFAiJlUMAAAAA4BnqV0R/8AAEFYhGENBwAA\n",
       "AA8BnqdqR/8AAEF+PrHi7IAAAAATQZqsSahBbJlMCGf//p4QAAAHTQAAABFBnspFFSwj/wAAKiFA\n",
       "iJlUMQAAAA4Bnul0R/8AAEFYhGENBgAAAA8BnutqR/8AAEF+PrHi7IEAAAATQZrwSahBbJlMCGf/\n",
       "/p4QAAAHTAAAABFBnw5FFSwj/wAAKiFAiJlUMQAAAA4Bny10R/8AAEFYhGENBwAAAA8Bny9qR/8A\n",
       "AEF+PrHi7IAAAAATQZs0SahBbJlMCGf//p4QAAAHTAAAABFBn1JFFSwj/wAAKiFAiJlUMQAAAA4B\n",
       "n3F0R/8AAEFYhGENBgAAAA8Bn3NqR/8AAEF+PrHi7IEAAAATQZt4SahBbJlMCGf//p4QAAAHTAAA\n",
       "ABFBn5ZFFSwj/wAAKiFAiJlUMQAAAA4Bn7V0R/8AAEFYhGENBwAAAA8Bn7dqR/8AAEF+PrHi7IEA\n",
       "AAATQZu8SahBbJlMCGf//p4QAAAHTQAAABFBn9pFFSwj/wAAKiFAiJlUMAAAAA4Bn/l0R/8AAEFY\n",
       "hGENBgAAAA8Bn/tqR/8AAEF+PrHi7IEAAAATQZvgSahBbJlMCGf//p4QAAAHTAAAABFBnh5FFSwj\n",
       "/wAAKiFAiJlUMAAAAA4Bnj10R/8AAEFYhGENBwAAAA8Bnj9qR/8AAEF+PrHi7IEAAAATQZokSahB\n",
       "bJlMCGf//p4QAAAHTQAAABFBnkJFFSwj/wAAKiFAiJlUMAAAAA4BnmF0R/8AAEFYhGENBgAAAA8B\n",
       "nmNqR/8AAEF+PrHi7IEAAAATQZpoSahBbJlMCGf//p4QAAAHTAAAABFBnoZFFSwj/wAAKiFAiJlU\n",
       "MAAAAA4BnqV0R/8AAEFYhGENBwAAAA8BnqdqR/8AAEF+PrHi7IAAAAATQZqsSahBbJlMCGf//p4Q\n",
       "AAAHTQAAABFBnspFFSwj/wAAKiFAiJlUMQAAAA4Bnul0R/8AAEFYhGENBgAAAA8BnutqR/8AAEF+\n",
       "PrHi7IEAAAATQZrwSahBbJlMCGf//p4QAAAHTAAAABFBnw5FFSwj/wAAKiFAiJlUMQAAAA4Bny10\n",
       "R/8AAEFYhGENBwAAAA8Bny9qR/8AAEF+PrHi7IAAAAATQZs0SahBbJlMCGf//p4QAAAHTAAAABFB\n",
       "n1JFFSwj/wAAKiFAiJlUMQAAAA4Bn3F0R/8AAEFYhGENBgAAAA8Bn3NqR/8AAEF+PrHi7IEAAAAT\n",
       "QZt4SahBbJlMCGf//p4QAAAHTAAAABFBn5ZFFSwj/wAAKiFAiJlUMQAAAA4Bn7V0R/8AAEFYhGEN\n",
       "BwAAAA8Bn7dqR/8AAEF+PrHi7IEAAAATQZu8SahBbJlMCGf//p4QAAAHTQAAABFBn9pFFSwj/wAA\n",
       "KiFAiJlUMAAAAA4Bn/l0R/8AAEFYhGENBgAAAA8Bn/tqR/8AAEF+PrHi7IEAAAATQZvgSahBbJlM\n",
       "CGf//p4QAAAHTAAAABFBnh5FFSwj/wAAKiFAiJlUMAAAAA4Bnj10R/8AAEFYhGENBwAAAA8Bnj9q\n",
       "R/8AAEF+PrHi7IEAAAATQZokSahBbJlMCGf//p4QAAAHTQAAABFBnkJFFSwj/wAAKiFAiJlUMAAA\n",
       "AA4BnmF0R/8AAEFYhGENBgAAAA8BnmNqR/8AAEF+PrHi7IEAAAATQZpoSahBbJlMCGf//p4QAAAH\n",
       "TAAAABFBnoZFFSwj/wAAKiFAiJlUMAAAAA4BnqV0R/8AAEFYhGENBwAAAA8BnqdqR/8AAEF+PrHi\n",
       "7IAAAAATQZqsSahBbJlMCGf//p4QAAAHTQAAABFBnspFFSwj/wAAKiFAiJlUMQAAAA4Bnul0R/8A\n",
       "AEFYhGENBgAAAA8BnutqR/8AAEF+PrHi7IEAAAATQZrwSahBbJlMCGf//p4QAAAHTAAAABFBnw5F\n",
       "FSwj/wAAKiFAiJlUMQAAAA4Bny10R/8AAEFYhGENBwAAAA8Bny9qR/8AAEF+PrHi7IAAAAATQZs0\n",
       "SahBbJlMCGf//p4QAAAHTAAAABFBn1JFFSwj/wAAKiFAiJlUMQAAAA4Bn3F0R/8AAEFYhGENBgAA\n",
       "AA8Bn3NqR/8AAEF+PrHi7IEAAAATQZt4SahBbJlMCGf//p4QAAAHTAAAABFBn5ZFFSwj/wAAKiFA\n",
       "iJlUMQAAAA4Bn7V0R/8AAEFYhGENBwAAAA8Bn7dqR/8AAEF+PrHi7IEAAAATQZu8SahBbJlMCGf/\n",
       "/p4QAAAHTQAAABFBn9pFFSwj/wAAKiFAiJlUMAAAAA4Bn/l0R/8AAEFYhGENBgAAAA8Bn/tqR/8A\n",
       "AEF+PrHi7IEAAAATQZvgSahBbJlMCGf//p4QAAAHTAAAABFBnh5FFSwj/wAAKiFAiJlUMAAAAA4B\n",
       "nj10R/8AAEFYhGENBwAAAA8Bnj9qR/8AAEF+PrHi7IEAAAATQZokSahBbJlMCGf//p4QAAAHTQAA\n",
       "ABFBnkJFFSwj/wAAKiFAiJlUMAAAAA4BnmF0R/8AAEFYhGENBgAAAA8BnmNqR/8AAEF+PrHi7IEA\n",
       "AAATQZpoSahBbJlMCGf//p4QAAAHTAAAABFBnoZFFSwj/wAAKiFAiJlUMAAAAA4BnqV0R/8AAEFY\n",
       "hGENBwAAAA8BnqdqR/8AAEF+PrHi7IAAAAATQZqsSahBbJlMCGf//p4QAAAHTQAAABFBnspFFSwj\n",
       "/wAAKiFAiJlUMQAAAA4Bnul0R/8AAEFYhGENBgAAAA8BnutqR/8AAEF+PrHi7IEAAAATQZrwSahB\n",
       "bJlMCGf//p4QAAAHTAAAABFBnw5FFSwj/wAAKiFAiJlUMQAAAA4Bny10R/8AAEFYhGENBwAAAA8B\n",
       "ny9qR/8AAEF+PrHi7IAAAAATQZs0SahBbJlMCGf//p4QAAAHTAAAABFBn1JFFSwj/wAAKiFAiJlU\n",
       "MQAAAA4Bn3F0R/8AAEFYhGENBgAAAA8Bn3NqR/8AAEF+PrHi7IEAAAATQZt4SahBbJlMCGf//p4Q\n",
       "AAAHTAAAABFBn5ZFFSwj/wAAKiFAiJlUMQAAAA4Bn7V0R/8AAEFYhGENBwAAAA8Bn7dqR/8AAEF+\n",
       "PrHi7IEAAAATQZu8SahBbJlMCGf//p4QAAAHTQAAABFBn9pFFSwj/wAAKiFAiJlUMAAAAA4Bn/l0\n",
       "R/8AAEFYhGENBgAAAA8Bn/tqR/8AAEF+PrHi7IEAAAATQZvgSahBbJlMCGf//p4QAAAHTAAAABFB\n",
       "nh5FFSwj/wAAKiFAiJlUMAAAAA4Bnj10R/8AAEFYhGENBwAAAA8Bnj9qR/8AAEF+PrHi7IEAAAAT\n",
       "QZokSahBbJlMCGf//p4QAAAHTQAAABFBnkJFFSwj/wAAKiFAiJlUMAAAAA4BnmF0R/8AAEFYhGEN\n",
       "BgAAAA8BnmNqR/8AAEF+PrHi7IEAAAATQZpoSahBbJlMCGf//p4QAAAHTAAAABFBnoZFFSwj/wAA\n",
       "KiFAiJlUMAAAAA4BnqV0R/8AAEFYhGENBwAAAA8BnqdqR/8AAEF+PrHi7IAAAAATQZqsSahBbJlM\n",
       "CGf//p4QAAAHTQAAABFBnspFFSwj/wAAKiFAiJlUMQAAAA4Bnul0R/8AAEFYhGENBgAAAA8Bnutq\n",
       "R/8AAEF+PrHi7IEAAAATQZrwSahBbJlMCGf//p4QAAAHTAAAABFBnw5FFSwj/wAAKiFAiJlUMQAA\n",
       "AA4Bny10R/8AAEFYhGENBwAAAA8Bny9qR/8AAEF+PrHi7IAAAAATQZs0SahBbJlMCGf//p4QAAAH\n",
       "TAAAABFBn1JFFSwj/wAAKiFAiJlUMQAAAA4Bn3F0R/8AAEFYhGENBgAAAA8Bn3NqR/8AAEF+PrHi\n",
       "7IEAAAATQZt4SahBbJlMCGf//p4QAAAHTAAAABFBn5ZFFSwj/wAAKiFAiJlUMQAAAA4Bn7V0R/8A\n",
       "AEFYhGENBwAAAA8Bn7dqR/8AAEF+PrHi7IEAAAATQZu8SahBbJlMCGf//p4QAAAHTQAAABFBn9pF\n",
       "FSwj/wAAKiFAiJlUMAAAAA4Bn/l0R/8AAEFYhGENBgAAAA8Bn/tqR/8AAEF+PrHi7IEAAAATQZvg\n",
       "SahBbJlMCGf//p4QAAAHTAAAABFBnh5FFSwj/wAAKiFAiJlUMAAAAA4Bnj10R/8AAEFYhGENBwAA\n",
       "AA8Bnj9qR/8AAEF+PrHi7IEAAAATQZokSahBbJlMCGf//p4QAAAHTQAAABFBnkJFFSwj/wAAKiFA\n",
       "iJlUMAAAAA4BnmF0R/8AAEFYhGENBgAAAA8BnmNqR/8AAEF+PrHi7IEAAAATQZpoSahBbJlMCF//\n",
       "/oywAAAHVAAAABFBnoZFFSwj/wAAKiFAiJlUMAAAAA4BnqV0R/8AAEFYhGENBwAAAA8BnqdqR/8A\n",
       "AEF+PrHi7IAAAAATQZqsSahBbJlMCF///oywAAAHVQAAABFBnspFFSwj/wAAKiFAiJlUMQAAAA4B\n",
       "nul0R/8AAEFYhGENBgAAAA8BnutqR/8AAEF+PrHi7IEAAAATQZrwSahBbJlMCF///oywAAAHVAAA\n",
       "ABFBnw5FFSwj/wAAKiFAiJlUMQAAAA4Bny10R/8AAEFYhGENBwAAAA8Bny9qR/8AAEF+PrHi7IAA\n",
       "AAATQZs0SahBbJlMCFf//jhAAAAccAAAABFBn1JFFSwj/wAAKiFAiJlUMQAAAA4Bn3F0R/8AAEFY\n",
       "hGENBgAAAA8Bn3NqR/8AAEF+PrHi7IEAAAAUQZt4SahBbJlMCEf//eEAAAMAb0AAAAARQZ+WRRUs\n",
       "I/8AACohQIiZVDEAAAAOAZ+1dEf/AABBWIRhDQcAAAAPAZ+3akf/AABBfj6x4uyBAAAAEkGbuUmo\n",
       "QWyZTAj//IQAAAMBswAAMeJtb292AAAAbG12aGQAAAAAAAAAAAAAAAAAAAPoAABOIAABAAABAAAA\n",
       "AAAAAAAAAAAAAQAAAAAAAAAAAAAAAAAAAAEAAAAAAAAAAAAAAAAAAEAAAAAAAAAAAAAAAAAAAAAA\n",
       "AAAAAAAAAAAAAAAAAAACAAAxDHRyYWsAAABcdGtoZAAAAAMAAAAAAAAAAAAAAAEAAAAAAABOIAAA\n",
       "AAAAAAAAAAAAAAAAAAAAAQAAAAAAAAAAAAAAAAAAAAEAAAAAAAAAAAAAAAAAAEAAAAABsAAAASAA\n",
       "AAAAACRlZHRzAAAAHGVsc3QAAAAAAAAAAQAATiAAAAIAAAEAAAAAMIRtZGlhAAAAIG1kaGQAAAAA\n",
       "AAAAAAAAAAAAADIAAAPoAFXEAAAAAAAtaGRscgAAAAAAAAAAdmlkZQAAAAAAAAAAAAAAAFZpZGVv\n",
       "SGFuZGxlcgAAADAvbWluZgAAABR2bWhkAAAAAQAAAAAAAAAAAAAAJGRpbmYAAAAcZHJlZgAAAAAA\n",
       "AAABAAAADHVybCAAAAABAAAv73N0YmwAAACzc3RzZAAAAAAAAAABAAAAo2F2YzEAAAAAAAAAAQAA\n",
       "AAAAAAAAAAAAAAAAAAABsAEgAEgAAABIAAAAAAAAAAEAAAAAAAAAAAAAAAAAAAAAAAAAAAAAAAAA\n",
       "AAAAAAAAAAAY//8AAAAxYXZjQwFkAB7/4QAYZ2QAHqzZQbCWhAAAAwAEAAADAZA8WLZYAQAGaOvj\n",
       "yyLAAAAAHHV1aWRraEDyXyRPxbo5pRvPAyPzAAAAAAAAABhzdHRzAAAAAAAAAAEAAAPoAAABAAAA\n",
       "ACBzdHNzAAAAAAAAAAQAAAABAAAA+wAAAfUAAALvAAAfGGN0dHMAAAAAAAAD4QAAAAQAAAIAAAAA\n",
       "AQAABQAAAAABAAACAAAAAAEAAAAAAAAAAQAAAQAAAAABAAAEAAAAAAIAAAEAAAAAAQAABQAAAAAB\n",
       "AAACAAAAAAEAAAAAAAAAAQAAAQAAAAABAAAFAAAAAAEAAAIAAAAAAQAAAAAAAAABAAABAAAAAAEA\n",
       "AAUAAAAAAQAAAgAAAAABAAAAAAAAAAEAAAEAAAAAAQAABQAAAAABAAACAAAAAAEAAAAAAAAAAQAA\n",
       "AQAAAAABAAAFAAAAAAEAAAIAAAAAAQAAAAAAAAABAAABAAAAAAEAAAUAAAAAAQAAAgAAAAABAAAA\n",
       "AAAAAAEAAAEAAAAAAQAABQAAAAABAAACAAAAAAEAAAAAAAAAAQAAAQAAAAABAAAFAAAAAAEAAAIA\n",
       "AAAAAQAAAAAAAAABAAABAAAAAAEAAAUAAAAAAQAAAgAAAAABAAAAAAAAAAEAAAEAAAAAAQAABQAA\n",
       "AAABAAACAAAAAAEAAAAAAAAAAQAAAQAAAAABAAAFAAAAAAEAAAIAAAAAAQAAAAAAAAABAAABAAAA\n",
       "AAEAAAUAAAAAAQAAAgAAAAABAAAAAAAAAAEAAAEAAAAAAQAABQAAAAABAAACAAAAAAEAAAAAAAAA\n",
       "AQAAAQAAAAABAAAFAAAAAAEAAAIAAAAAAQAAAAAAAAABAAABAAAAAAEAAAUAAAAAAQAAAgAAAAAB\n",
       "AAAAAAAAAAEAAAEAAAAAAQAABQAAAAABAAACAAAAAAEAAAAAAAAAAQAAAQAAAAABAAAFAAAAAAEA\n",
       "AAIAAAAAAQAAAAAAAAABAAABAAAAAAEAAAUAAAAAAQAAAgAAAAABAAAAAAAAAAEAAAEAAAAAAQAA\n",
       "BQAAAAABAAACAAAAAAEAAAAAAAAAAQAAAQAAAAABAAAFAAAAAAEAAAIAAAAAAQAAAAAAAAABAAAB\n",
       "AAAAAAEAAAUAAAAAAQAAAgAAAAABAAAAAAAAAAEAAAEAAAAAAQAABQAAAAABAAACAAAAAAEAAAAA\n",
       "AAAAAQAAAQAAAAABAAAFAAAAAAEAAAIAAAAAAQAAAAAAAAABAAABAAAAAAEAAAUAAAAAAQAAAgAA\n",
       "AAABAAAAAAAAAAEAAAEAAAAAAQAABQAAAAABAAACAAAAAAEAAAAAAAAAAQAAAQAAAAABAAAFAAAA\n",
       "AAEAAAIAAAAAAQAAAAAAAAABAAABAAAAAAEAAAUAAAAAAQAAAgAAAAABAAAAAAAAAAEAAAEAAAAA\n",
       "AQAABQAAAAABAAACAAAAAAEAAAAAAAAAAQAAAQAAAAABAAAFAAAAAAEAAAIAAAAAAQAAAAAAAAAB\n",
       "AAABAAAAAAEAAAUAAAAAAQAAAgAAAAABAAAAAAAAAAEAAAEAAAAAAQAABQAAAAABAAACAAAAAAEA\n",
       "AAAAAAAAAQAAAQAAAAABAAAFAAAAAAEAAAIAAAAAAQAAAAAAAAABAAABAAAAAAEAAAUAAAAAAQAA\n",
       "AgAAAAABAAAAAAAAAAEAAAEAAAAAAQAABQAAAAABAAACAAAAAAEAAAAAAAAAAQAAAQAAAAABAAAF\n",
       "AAAAAAEAAAIAAAAAAQAAAAAAAAABAAABAAAAAAEAAAUAAAAAAQAAAgAAAAABAAAAAAAAAAEAAAEA\n",
       "AAAAAQAABQAAAAABAAACAAAAAAEAAAAAAAAAAQAAAQAAAAABAAAFAAAAAAEAAAIAAAAAAQAAAAAA\n",
       "AAABAAABAAAAAAEAAAUAAAAAAQAAAgAAAAABAAAAAAAAAAEAAAEAAAAAAQAABQAAAAABAAACAAAA\n",
       "AAEAAAAAAAAAAQAAAQAAAAABAAAFAAAAAAEAAAIAAAAAAQAAAAAAAAABAAABAAAAAAEAAAUAAAAA\n",
       "AQAAAgAAAAABAAAAAAAAAAEAAAEAAAAAAQAABQAAAAABAAACAAAAAAEAAAAAAAAAAQAAAQAAAAAB\n",
       "AAAFAAAAAAEAAAIAAAAAAQAAAAAAAAABAAABAAAAAAEAAAUAAAAAAQAAAgAAAAABAAAAAAAAAAEA\n",
       "AAEAAAAAAQAABQAAAAABAAACAAAAAAEAAAAAAAAAAQAAAQAAAAABAAAFAAAAAAEAAAIAAAAAAQAA\n",
       "AAAAAAABAAABAAAAAAEAAAUAAAAAAQAAAgAAAAABAAAAAAAAAAEAAAEAAAAAAQAABQAAAAABAAAC\n",
       "AAAAAAEAAAAAAAAAAQAAAQAAAAABAAAFAAAAAAEAAAIAAAAAAQAAAAAAAAABAAABAAAAAAEAAAUA\n",
       "AAAAAQAAAgAAAAABAAAAAAAAAAEAAAEAAAAAAQAABQAAAAABAAACAAAAAAEAAAAAAAAAAQAAAQAA\n",
       "AAABAAAFAAAAAAEAAAIAAAAAAQAAAAAAAAABAAABAAAAAAEAAAUAAAAAAQAAAgAAAAABAAAAAAAA\n",
       "AAEAAAEAAAAAAQAABQAAAAABAAACAAAAAAEAAAAAAAAAAQAAAQAAAAABAAAFAAAAAAEAAAIAAAAA\n",
       "AQAAAAAAAAABAAABAAAAAAEAAAUAAAAAAQAAAgAAAAABAAAAAAAAAAEAAAEAAAAAAQAABQAAAAAB\n",
       "AAACAAAAAAEAAAAAAAAAAQAAAQAAAAABAAAFAAAAAAEAAAIAAAAAAQAAAAAAAAABAAABAAAAAAEA\n",
       "AAQAAAAAAgAAAQAAAAABAAACAAAAAAEAAAUAAAAAAQAAAgAAAAABAAAAAAAAAAEAAAEAAAAAAQAA\n",
       "BQAAAAABAAACAAAAAAEAAAAAAAAAAQAAAQAAAAABAAAFAAAAAAEAAAIAAAAAAQAAAAAAAAABAAAB\n",
       "AAAAAAEAAAUAAAAAAQAAAgAAAAABAAAAAAAAAAEAAAEAAAAAAQAABQAAAAABAAACAAAAAAEAAAAA\n",
       "AAAAAQAAAQAAAAABAAAFAAAAAAEAAAIAAAAAAQAAAAAAAAABAAABAAAAAAEAAAUAAAAAAQAAAgAA\n",
       "AAABAAAAAAAAAAEAAAEAAAAAAQAABQAAAAABAAACAAAAAAEAAAAAAAAAAQAAAQAAAAABAAAFAAAA\n",
       "AAEAAAIAAAAAAQAAAAAAAAABAAABAAAAAAEAAAUAAAAAAQAAAgAAAAABAAAAAAAAAAEAAAEAAAAA\n",
       "AQAABQAAAAABAAACAAAAAAEAAAAAAAAAAQAAAQAAAAABAAAFAAAAAAEAAAIAAAAAAQAAAAAAAAAB\n",
       "AAABAAAAAAEAAAUAAAAAAQAAAgAAAAABAAAAAAAAAAEAAAEAAAAAAQAABQAAAAABAAACAAAAAAEA\n",
       "AAAAAAAAAQAAAQAAAAABAAAFAAAAAAEAAAIAAAAAAQAAAAAAAAABAAABAAAAAAEAAAUAAAAAAQAA\n",
       "AgAAAAABAAAAAAAAAAEAAAEAAAAAAQAABQAAAAABAAACAAAAAAEAAAAAAAAAAQAAAQAAAAABAAAF\n",
       "AAAAAAEAAAIAAAAAAQAAAAAAAAABAAABAAAAAAEAAAUAAAAAAQAAAgAAAAABAAAAAAAAAAEAAAEA\n",
       "AAAAAQAABQAAAAABAAACAAAAAAEAAAAAAAAAAQAAAQAAAAABAAAFAAAAAAEAAAIAAAAAAQAAAAAA\n",
       "AAABAAABAAAAAAEAAAUAAAAAAQAAAgAAAAABAAAAAAAAAAEAAAEAAAAAAQAABQAAAAABAAACAAAA\n",
       "AAEAAAAAAAAAAQAAAQAAAAABAAAFAAAAAAEAAAIAAAAAAQAAAAAAAAABAAABAAAAAAEAAAUAAAAA\n",
       "AQAAAgAAAAABAAAAAAAAAAEAAAEAAAAAAQAABQAAAAABAAACAAAAAAEAAAAAAAAAAQAAAQAAAAAB\n",
       "AAAFAAAAAAEAAAIAAAAAAQAAAAAAAAABAAABAAAAAAEAAAUAAAAAAQAAAgAAAAABAAAAAAAAAAEA\n",
       "AAEAAAAAAQAABQAAAAABAAACAAAAAAEAAAAAAAAAAQAAAQAAAAABAAAFAAAAAAEAAAIAAAAAAQAA\n",
       "AAAAAAABAAABAAAAAAEAAAUAAAAAAQAAAgAAAAABAAAAAAAAAAEAAAEAAAAAAQAABQAAAAABAAAC\n",
       "AAAAAAEAAAAAAAAAAQAAAQAAAAABAAAFAAAAAAEAAAIAAAAAAQAAAAAAAAABAAABAAAAAAEAAAUA\n",
       "AAAAAQAAAgAAAAABAAAAAAAAAAEAAAEAAAAAAQAABQAAAAABAAACAAAAAAEAAAAAAAAAAQAAAQAA\n",
       "AAABAAAFAAAAAAEAAAIAAAAAAQAAAAAAAAABAAABAAAAAAEAAAUAAAAAAQAAAgAAAAABAAAAAAAA\n",
       "AAEAAAEAAAAAAQAABQAAAAABAAACAAAAAAEAAAAAAAAAAQAAAQAAAAABAAAFAAAAAAEAAAIAAAAA\n",
       "AQAAAAAAAAABAAABAAAAAAEAAAUAAAAAAQAAAgAAAAABAAAAAAAAAAEAAAEAAAAAAQAABQAAAAAB\n",
       "AAACAAAAAAEAAAAAAAAAAQAAAQAAAAABAAAFAAAAAAEAAAIAAAAAAQAAAAAAAAABAAABAAAAAAEA\n",
       "AAUAAAAAAQAAAgAAAAABAAAAAAAAAAEAAAEAAAAAAQAABQAAAAABAAACAAAAAAEAAAAAAAAAAQAA\n",
       "AQAAAAABAAAFAAAAAAEAAAIAAAAAAQAAAAAAAAABAAABAAAAAAEAAAUAAAAAAQAAAgAAAAABAAAA\n",
       "AAAAAAEAAAEAAAAAAQAABQAAAAABAAACAAAAAAEAAAAAAAAAAQAAAQAAAAABAAAFAAAAAAEAAAIA\n",
       "AAAAAQAAAAAAAAABAAABAAAAAAEAAAUAAAAAAQAAAgAAAAABAAAAAAAAAAEAAAEAAAAAAQAABQAA\n",
       "AAABAAACAAAAAAEAAAAAAAAAAQAAAQAAAAABAAAFAAAAAAEAAAIAAAAAAQAAAAAAAAABAAABAAAA\n",
       "AAEAAAUAAAAAAQAAAgAAAAABAAAAAAAAAAEAAAEAAAAAAQAABQAAAAABAAACAAAAAAEAAAAAAAAA\n",
       "AQAAAQAAAAABAAAFAAAAAAEAAAIAAAAAAQAAAAAAAAABAAABAAAAAAEAAAUAAAAAAQAAAgAAAAAB\n",
       "AAAAAAAAAAEAAAEAAAAAAQAABQAAAAABAAACAAAAAAEAAAAAAAAAAQAAAQAAAAABAAAFAAAAAAEA\n",
       "AAIAAAAAAQAAAAAAAAABAAABAAAAAAEAAAUAAAAAAQAAAgAAAAABAAAAAAAAAAEAAAEAAAAAAQAA\n",
       "BQAAAAABAAACAAAAAAEAAAAAAAAAAQAAAQAAAAABAAAFAAAAAAEAAAIAAAAAAQAAAAAAAAABAAAB\n",
       "AAAAAAEAAAUAAAAAAQAAAgAAAAABAAAAAAAAAAEAAAEAAAAAAQAABQAAAAABAAACAAAAAAEAAAAA\n",
       "AAAAAQAAAQAAAAACAAACAAAAAAEAAAUAAAAAAQAAAgAAAAABAAAAAAAAAAEAAAEAAAAAAQAABQAA\n",
       "AAABAAACAAAAAAEAAAAAAAAAAQAAAQAAAAABAAAFAAAAAAEAAAIAAAAAAQAAAAAAAAABAAABAAAA\n",
       "AAEAAAUAAAAAAQAAAgAAAAABAAAAAAAAAAEAAAEAAAAAAQAABQAAAAABAAACAAAAAAEAAAAAAAAA\n",
       "AQAAAQAAAAABAAAFAAAAAAEAAAIAAAAAAQAAAAAAAAABAAABAAAAAAEAAAUAAAAAAQAAAgAAAAAB\n",
       "AAAAAAAAAAEAAAEAAAAAAQAABQAAAAABAAACAAAAAAEAAAAAAAAAAQAAAQAAAAABAAAFAAAAAAEA\n",
       "AAIAAAAAAQAAAAAAAAABAAABAAAAAAEAAAUAAAAAAQAAAgAAAAABAAAAAAAAAAEAAAEAAAAAAQAA\n",
       "BQAAAAABAAACAAAAAAEAAAAAAAAAAQAAAQAAAAABAAAFAAAAAAEAAAIAAAAAAQAAAAAAAAABAAAB\n",
       "AAAAAAEAAAUAAAAAAQAAAgAAAAABAAAAAAAAAAEAAAEAAAAAAQAABQAAAAABAAACAAAAAAEAAAAA\n",
       "AAAAAQAAAQAAAAABAAAFAAAAAAEAAAIAAAAAAQAAAAAAAAABAAABAAAAAAEAAAUAAAAAAQAAAgAA\n",
       "AAABAAAAAAAAAAEAAAEAAAAAAQAABQAAAAABAAACAAAAAAEAAAAAAAAAAQAAAQAAAAABAAAFAAAA\n",
       "AAEAAAIAAAAAAQAAAAAAAAABAAABAAAAAAEAAAUAAAAAAQAAAgAAAAABAAAAAAAAAAEAAAEAAAAA\n",
       "AQAABQAAAAABAAACAAAAAAEAAAAAAAAAAQAAAQAAAAABAAAFAAAAAAEAAAIAAAAAAQAAAAAAAAAB\n",
       "AAABAAAAAAEAAAUAAAAAAQAAAgAAAAABAAAAAAAAAAEAAAEAAAAAAQAABQAAAAABAAACAAAAAAEA\n",
       "AAAAAAAAAQAAAQAAAAABAAAFAAAAAAEAAAIAAAAAAQAAAAAAAAABAAABAAAAAAEAAAUAAAAAAQAA\n",
       "AgAAAAABAAAAAAAAAAEAAAEAAAAAAQAABQAAAAABAAACAAAAAAEAAAAAAAAAAQAAAQAAAAABAAAF\n",
       "AAAAAAEAAAIAAAAAAQAAAAAAAAABAAABAAAAAAEAAAUAAAAAAQAAAgAAAAABAAAAAAAAAAEAAAEA\n",
       "AAAAAQAABQAAAAABAAACAAAAAAEAAAAAAAAAAQAAAQAAAAABAAAFAAAAAAEAAAIAAAAAAQAAAAAA\n",
       "AAABAAABAAAAAAEAAAUAAAAAAQAAAgAAAAABAAAAAAAAAAEAAAEAAAAAAQAABQAAAAABAAACAAAA\n",
       "AAEAAAAAAAAAAQAAAQAAAAABAAAFAAAAAAEAAAIAAAAAAQAAAAAAAAABAAABAAAAAAEAAAUAAAAA\n",
       "AQAAAgAAAAABAAAAAAAAAAEAAAEAAAAAAQAABQAAAAABAAACAAAAAAEAAAAAAAAAAQAAAQAAAAAB\n",
       "AAAFAAAAAAEAAAIAAAAAAQAAAAAAAAABAAABAAAAAAEAAAUAAAAAAQAAAgAAAAABAAAAAAAAAAEA\n",
       "AAEAAAAAAQAABQAAAAABAAACAAAAAAEAAAAAAAAAAQAAAQAAAAABAAAFAAAAAAEAAAIAAAAAAQAA\n",
       "AAAAAAABAAABAAAAAAEAAAUAAAAAAQAAAgAAAAABAAAAAAAAAAEAAAEAAAAAAQAABQAAAAABAAAC\n",
       "AAAAAAEAAAAAAAAAAQAAAQAAAAABAAAFAAAAAAEAAAIAAAAAAQAAAAAAAAABAAABAAAAAAEAAAUA\n",
       "AAAAAQAAAgAAAAABAAAAAAAAAAEAAAEAAAAAAQAABQAAAAABAAACAAAAAAEAAAAAAAAAAQAAAQAA\n",
       "AAABAAAFAAAAAAEAAAIAAAAAAQAAAAAAAAABAAABAAAAAAEAAAUAAAAAAQAAAgAAAAABAAAAAAAA\n",
       "AAEAAAEAAAAAAQAABQAAAAABAAACAAAAAAEAAAAAAAAAAQAAAQAAAAABAAAFAAAAAAEAAAIAAAAA\n",
       "AQAAAAAAAAABAAABAAAAAAEAAAUAAAAAAQAAAgAAAAABAAAAAAAAAAEAAAEAAAAAAQAABQAAAAAB\n",
       "AAACAAAAAAEAAAAAAAAAAQAAAQAAAAABAAAFAAAAAAEAAAIAAAAAAQAAAAAAAAABAAABAAAAAAEA\n",
       "AAUAAAAAAQAAAgAAAAABAAAAAAAAAAEAAAEAAAAAAQAABQAAAAABAAACAAAAAAEAAAAAAAAAAQAA\n",
       "AQAAAAABAAAFAAAAAAEAAAIAAAAAAQAAAAAAAAABAAABAAAAAAEAAAUAAAAAAQAAAgAAAAABAAAA\n",
       "AAAAAAEAAAEAAAAAAQAABQAAAAABAAACAAAAAAEAAAAAAAAAAQAAAQAAAAABAAAFAAAAAAEAAAIA\n",
       "AAAAAQAAAAAAAAABAAABAAAAAAEAAAUAAAAAAQAAAgAAAAABAAAAAAAAAAEAAAEAAAAAAQAABQAA\n",
       "AAABAAACAAAAAAEAAAAAAAAAAQAAAQAAAAABAAAFAAAAAAEAAAIAAAAAAQAAAAAAAAABAAABAAAA\n",
       "AAEAAAUAAAAAAQAAAgAAAAABAAAAAAAAAAEAAAEAAAAAAQAABQAAAAABAAACAAAAAAEAAAAAAAAA\n",
       "AQAAAQAAAAACAAACAAAAAAEAAAUAAAAAAQAAAgAAAAABAAAAAAAAAAEAAAEAAAAAAQAABQAAAAAB\n",
       "AAACAAAAAAEAAAAAAAAAAQAAAQAAAAABAAAFAAAAAAEAAAIAAAAAAQAAAAAAAAABAAABAAAAAAEA\n",
       "AAUAAAAAAQAAAgAAAAABAAAAAAAAAAEAAAEAAAAAAQAABQAAAAABAAACAAAAAAEAAAAAAAAAAQAA\n",
       "AQAAAAABAAAFAAAAAAEAAAIAAAAAAQAAAAAAAAABAAABAAAAAAEAAAUAAAAAAQAAAgAAAAABAAAA\n",
       "AAAAAAEAAAEAAAAAAQAABQAAAAABAAACAAAAAAEAAAAAAAAAAQAAAQAAAAABAAAFAAAAAAEAAAIA\n",
       "AAAAAQAAAAAAAAABAAABAAAAAAEAAAUAAAAAAQAAAgAAAAABAAAAAAAAAAEAAAEAAAAAAQAABQAA\n",
       "AAABAAACAAAAAAEAAAAAAAAAAQAAAQAAAAABAAAFAAAAAAEAAAIAAAAAAQAAAAAAAAABAAABAAAA\n",
       "AAEAAAUAAAAAAQAAAgAAAAABAAAAAAAAAAEAAAEAAAAAAQAABQAAAAABAAACAAAAAAEAAAAAAAAA\n",
       "AQAAAQAAAAABAAAFAAAAAAEAAAIAAAAAAQAAAAAAAAABAAABAAAAAAEAAAUAAAAAAQAAAgAAAAAB\n",
       "AAAAAAAAAAEAAAEAAAAAAQAABQAAAAABAAACAAAAAAEAAAAAAAAAAQAAAQAAAAABAAAFAAAAAAEA\n",
       "AAIAAAAAAQAAAAAAAAABAAABAAAAAAEAAAUAAAAAAQAAAgAAAAABAAAAAAAAAAEAAAEAAAAAAQAA\n",
       "BQAAAAABAAACAAAAAAEAAAAAAAAAAQAAAQAAAAABAAAFAAAAAAEAAAIAAAAAAQAAAAAAAAABAAAB\n",
       "AAAAAAEAAAUAAAAAAQAAAgAAAAABAAAAAAAAAAEAAAEAAAAAAQAABQAAAAABAAACAAAAAAEAAAAA\n",
       "AAAAAQAAAQAAAAABAAAFAAAAAAEAAAIAAAAAAQAAAAAAAAABAAABAAAAAAEAAAUAAAAAAQAAAgAA\n",
       "AAABAAAAAAAAAAEAAAEAAAAAAQAABQAAAAABAAACAAAAAAEAAAAAAAAAAQAAAQAAAAABAAAFAAAA\n",
       "AAEAAAIAAAAAAQAAAAAAAAABAAABAAAAAAEAAAUAAAAAAQAAAgAAAAABAAAAAAAAAAEAAAEAAAAA\n",
       "AQAABQAAAAABAAACAAAAAAEAAAAAAAAAAQAAAQAAAAABAAAFAAAAAAEAAAIAAAAAAQAAAAAAAAAB\n",
       "AAABAAAAAAEAAAUAAAAAAQAAAgAAAAABAAAAAAAAAAEAAAEAAAAAAQAABQAAAAABAAACAAAAAAEA\n",
       "AAAAAAAAAQAAAQAAAAABAAAFAAAAAAEAAAIAAAAAAQAAAAAAAAABAAABAAAAAAEAAAUAAAAAAQAA\n",
       "AgAAAAABAAAAAAAAAAEAAAEAAAAAAQAABQAAAAABAAACAAAAAAEAAAAAAAAAAQAAAQAAAAABAAAF\n",
       "AAAAAAEAAAIAAAAAAQAAAAAAAAABAAABAAAAAAEAAAUAAAAAAQAAAgAAAAABAAAAAAAAAAEAAAEA\n",
       "AAAAAQAABQAAAAABAAACAAAAAAEAAAAAAAAAAQAAAQAAAAABAAAFAAAAAAEAAAIAAAAAAQAAAAAA\n",
       "AAABAAABAAAAAAEAAAUAAAAAAQAAAgAAAAABAAAAAAAAAAEAAAEAAAAAAQAABQAAAAABAAACAAAA\n",
       "AAEAAAAAAAAAAQAAAQAAAAABAAAFAAAAAAEAAAIAAAAAAQAAAAAAAAABAAABAAAAAAEAAAUAAAAA\n",
       "AQAAAgAAAAABAAAAAAAAAAEAAAEAAAAAAQAABQAAAAABAAACAAAAAAEAAAAAAAAAAQAAAQAAAAAB\n",
       "AAAFAAAAAAEAAAIAAAAAAQAAAAAAAAABAAABAAAAAAEAAAUAAAAAAQAAAgAAAAABAAAAAAAAAAEA\n",
       "AAEAAAAAAQAABQAAAAABAAACAAAAAAEAAAAAAAAAAQAAAQAAAAABAAAFAAAAAAEAAAIAAAAAAQAA\n",
       "AAAAAAABAAABAAAAAAEAAAUAAAAAAQAAAgAAAAABAAAAAAAAAAEAAAEAAAAAAQAABQAAAAABAAAC\n",
       "AAAAAAEAAAAAAAAAAQAAAQAAAAABAAAFAAAAAAEAAAIAAAAAAQAAAAAAAAABAAABAAAAAAEAAAUA\n",
       "AAAAAQAAAgAAAAABAAAAAAAAAAEAAAEAAAAAAQAABQAAAAABAAACAAAAAAEAAAAAAAAAAQAAAQAA\n",
       "AAABAAAFAAAAAAEAAAIAAAAAAQAAAAAAAAABAAABAAAAAAEAAAUAAAAAAQAAAgAAAAABAAAAAAAA\n",
       "AAEAAAEAAAAAAQAABQAAAAABAAACAAAAAAEAAAAAAAAAAQAAAQAAAAABAAAFAAAAAAEAAAIAAAAA\n",
       "AQAAAAAAAAABAAABAAAAAAEAAAUAAAAAAQAAAgAAAAABAAAAAAAAAAEAAAEAAAAAAQAABQAAAAAB\n",
       "AAACAAAAAAEAAAAAAAAAAQAAAQAAAAABAAAFAAAAAAEAAAIAAAAAAQAAAAAAAAABAAABAAAAAAEA\n",
       "AAUAAAAAAQAAAgAAAAABAAAAAAAAAAEAAAEAAAAAAQAABQAAAAABAAACAAAAAAEAAAAAAAAAAQAA\n",
       "AQAAAAABAAACAAAAABxzdHNjAAAAAAAAAAEAAAABAAAD6AAAAAEAAA+0c3RzegAAAAAAAAAAAAAD\n",
       "6AAAEscAAAGzAAAAqgAAAI4AAACpAAAARQAAABsAAAAWAAAAZgAAACcAAAARAAAAWgAAACcAAAAS\n",
       "AAAAEQAAAEAAAAAmAAAAEAAAABEAAABSAAAAKgAAABQAAAASAAAASQAAACgAAAASAAAAEQAAADgA\n",
       "AAAmAAAAEAAAABEAAAAwAAAAJwAAABAAAAARAAAAOAAAACYAAAAQAAAAEQAAACEAAAAmAAAAEAAA\n",
       "ABEAAAA0AAAAJgAAABAAAAARAAAAHAAAACcAAAAQAAAAEQAAACgAAAAmAAAAEAAAABEAAAAXAAAA\n",
       "JgAAABAAAAARAAAALQAAACYAAAAQAAAAEQAAABcAAAAmAAAAEAAAABEAAAAkAAAAJgAAABAAAAAR\n",
       "AAAAFwAAACYAAAAQAAAAEQAAACwAAAAnAAAAEAAAABEAAAAXAAAAJgAAABAAAAARAAAAFwAAACYA\n",
       "AAAQAAAAEQAAABcAAAAmAAAAEAAAABEAAAAgAAAAJgAAABAAAAARAAAAHAAAACcAAAAQAAAAEQAA\n",
       "ABcAAAAmAAAAEAAAABEAAAAXAAAAJgAAABAAAAARAAAAFwAAACYAAAAQAAAAEQAAABcAAAAmAAAA\n",
       "EAAAABEAAAAxAAAAJgAAABAAAAARAAAAFwAAACYAAAAQAAAAEQAAABcAAAAmAAAAEAAAABEAAAAX\n",
       "AAAAJgAAABAAAAARAAAAHwAAACYAAAAQAAAAEQAAABcAAAAmAAAAEAAAABEAAAAiAAAAJgAAABAA\n",
       "AAARAAAAFwAAACYAAAAQAAAAEQAAABcAAAAmAAAAEAAAABEAAAAXAAAAJgAAABAAAAARAAAAIwAA\n",
       "ACYAAAAQAAAAEQAAABcAAAAmAAAAEAAAABEAAAAXAAAAJgAAABAAAAARAAAAFwAAACYAAAAQAAAA\n",
       "EQAAABcAAAAmAAAAEAAAABEAAAAXAAAAJgAAABAAAAARAAAAFwAAACYAAAAQAAAAEQAAACEAAAAm\n",
       "AAAAEAAAABEAAAAXAAAAJgAAABAAAAARAAAAFwAAACYAAAAQAAAAEQAAABcAAAAmAAAAEAAAABEA\n",
       "AAAXAAAAJgAAABAAAAARAAAAFwAAACYAAAAQAAAAEQAAACMAAAAmAAAAEAAAABEAAAAXAAAAJgAA\n",
       "ABAAAAARAAAAHgAAACYAAAAQAAAAEQAAABcAAAAmAAAAEAAAABEAAAAXAAAAJgAAABAAAAARAAAA\n",
       "FwAAACYAAAAQAAAAEQAAABcAAAAmAAAAEAAAABEAAAAXAAAAJgAAABAAAAARAAAAFwAAACYAAAAQ\n",
       "AAAAEQAAABcAAAAmAAAAEAAAABEAAAAWAAAAJQAAABEAABK7AAAA1wAAADwAAAApAAAAHAAAACgA\n",
       "AAAfAAAAHAAAABAAAAAXAAAAFQAAABIAAAATAAAAFwAAABUAAAASAAAAEwAAABcAAAAVAAAAEgAA\n",
       "ABMAAAAXAAAAFQAAABIAAAATAAAAFwAAABUAAAASAAAAEwAAABcAAAAVAAAAEgAAABMAAAAXAAAA\n",
       "FQAAABIAAAATAAAAFwAAABUAAAASAAAAEwAAABcAAAAVAAAAEgAAABMAAAAXAAAAFQAAABIAAAAT\n",
       "AAAAFwAAABUAAAASAAAAEwAAABcAAAAVAAAAEgAAABMAAAAXAAAAFQAAABIAAAATAAAAFwAAABUA\n",
       "AAASAAAAEwAAABcAAAAVAAAAEgAAABMAAAAXAAAAFQAAABIAAAATAAAAFwAAABUAAAASAAAAEwAA\n",
       "ABcAAAAVAAAAEgAAABMAAAAXAAAAFQAAABIAAAATAAAAFwAAABUAAAASAAAAEwAAABcAAAAVAAAA\n",
       "EgAAABMAAAAXAAAAFQAAABIAAAATAAAAFwAAABUAAAASAAAAEwAAABcAAAAVAAAAEgAAABMAAAAX\n",
       "AAAAFQAAABIAAAATAAAAFwAAABUAAAASAAAAEwAAABcAAAAVAAAAEgAAABMAAAAXAAAAFQAAABIA\n",
       "AAATAAAAFwAAABUAAAASAAAAEwAAABcAAAAVAAAAEgAAABMAAAAXAAAAFQAAABIAAAATAAAAFwAA\n",
       "ABUAAAASAAAAEwAAABcAAAAVAAAAEgAAABMAAAAXAAAAFQAAABIAAAATAAAAFwAAABUAAAASAAAA\n",
       "EwAAABcAAAAVAAAAEgAAABMAAAAXAAAAFQAAABIAAAATAAAAFwAAABUAAAASAAAAEwAAABcAAAAV\n",
       "AAAAEgAAABMAAAAXAAAAFQAAABIAAAATAAAAFwAAABUAAAASAAAAEwAAABcAAAAVAAAAEgAAABMA\n",
       "AAAXAAAAFQAAABIAAAATAAAAFwAAABUAAAASAAAAEwAAABcAAAAVAAAAEgAAABMAAAAXAAAAFQAA\n",
       "ABIAAAATAAAAFwAAABUAAAASAAAAEwAAABcAAAAVAAAAEgAAABMAAAAXAAAAFQAAABIAAAATAAAA\n",
       "FwAAABUAAAASAAAAEwAAABcAAAAVAAAAEgAAABMAAAAXAAAAFQAAABIAAAATAAAAFwAAABUAAAAS\n",
       "AAAAEwAAABcAAAAVAAAAEgAAABMAAAAXAAAAFQAAABIAAAATAAAAFwAAABUAAAASAAAAEwAAABcA\n",
       "AAAVAAAAEgAAABMAAAAXAAAAFQAAABIAAAATAAAAFwAAABUAAAASAAAAEwAAABcAAAAVAAAAEgAA\n",
       "ABMAAAAWAAASyQAAALgAAAA3AAAAKQAAABsAAAAlAAAAHQAAABoAAAATAAAAFwAAABUAAAASAAAA\n",
       "EwAAABcAAAAVAAAAEgAAABMAAAAXAAAAFQAAABIAAAATAAAAFwAAABUAAAASAAAAEwAAABcAAAAV\n",
       "AAAAEgAAABMAAAAXAAAAFQAAABIAAAATAAAAFwAAABUAAAASAAAAEwAAABcAAAAVAAAAEgAAABMA\n",
       "AAAXAAAAFQAAABIAAAATAAAAFwAAABUAAAASAAAAEwAAABcAAAAVAAAAEgAAABMAAAAXAAAAFQAA\n",
       "ABIAAAATAAAAFwAAABUAAAASAAAAEwAAABcAAAAVAAAAEgAAABMAAAAXAAAAFQAAABIAAAATAAAA\n",
       "FwAAABUAAAASAAAAEwAAABcAAAAVAAAAEgAAABMAAAAXAAAAFQAAABIAAAATAAAAFwAAABUAAAAS\n",
       "AAAAEwAAABcAAAAVAAAAEgAAABMAAAAXAAAAFQAAABIAAAATAAAAFwAAABUAAAASAAAAEwAAABcA\n",
       "AAAVAAAAEgAAABMAAAAXAAAAFQAAABIAAAATAAAAFwAAABUAAAASAAAAEwAAABcAAAAVAAAAEgAA\n",
       "ABMAAAAXAAAAFQAAABIAAAATAAAAFwAAABUAAAASAAAAEwAAABcAAAAVAAAAEgAAABMAAAAXAAAA\n",
       "FQAAABIAAAATAAAAFwAAABUAAAASAAAAEwAAABcAAAAVAAAAEgAAABMAAAAXAAAAFQAAABIAAAAT\n",
       "AAAAFwAAABUAAAASAAAAEwAAABcAAAAVAAAAEgAAABMAAAAXAAAAFQAAABIAAAATAAAAFwAAABUA\n",
       "AAASAAAAEwAAABcAAAAVAAAAEgAAABMAAAAXAAAAFQAAABIAAAATAAAAFwAAABUAAAASAAAAEwAA\n",
       "ABcAAAAVAAAAEgAAABMAAAAXAAAAFQAAABIAAAATAAAAFwAAABUAAAASAAAAEwAAABcAAAAVAAAA\n",
       "EgAAABMAAAAXAAAAFQAAABIAAAATAAAAFwAAABUAAAASAAAAEwAAABcAAAAVAAAAEgAAABMAAAAX\n",
       "AAAAFQAAABIAAAATAAAAFwAAABUAAAASAAAAEwAAABcAAAAVAAAAEgAAABMAAAAXAAAAFQAAABIA\n",
       "AAATAAAAFwAAABUAAAASAAAAEwAAABcAAAAVAAAAEgAAABMAAAAXAAAAFQAAABIAAAATAAAAFwAA\n",
       "ABUAAAASAAAAEwAAABcAAAAVAAAAEgAAABMAAAAXAAAAFQAAABIAAAATAAAAFwAAABUAAAASAAAA\n",
       "EwAAABcAAAAVAAAAEgAAABMAAAAXAAAAFQAAABIAAAATAAAAFgAAErsAAADXAAAAPAAAACkAAAAc\n",
       "AAAAKAAAAB8AAAAcAAAAEAAAABcAAAAVAAAAEgAAABMAAAAXAAAAFQAAABIAAAATAAAAFwAAABUA\n",
       "AAASAAAAEwAAABcAAAAVAAAAEgAAABMAAAAXAAAAFQAAABIAAAATAAAAFwAAABUAAAASAAAAEwAA\n",
       "ABcAAAAVAAAAEgAAABMAAAAXAAAAFQAAABIAAAATAAAAFwAAABUAAAASAAAAEwAAABcAAAAVAAAA\n",
       "EgAAABMAAAAXAAAAFQAAABIAAAATAAAAFwAAABUAAAASAAAAEwAAABcAAAAVAAAAEgAAABMAAAAX\n",
       "AAAAFQAAABIAAAATAAAAFwAAABUAAAASAAAAEwAAABcAAAAVAAAAEgAAABMAAAAXAAAAFQAAABIA\n",
       "AAATAAAAFwAAABUAAAASAAAAEwAAABcAAAAVAAAAEgAAABMAAAAXAAAAFQAAABIAAAATAAAAFwAA\n",
       "ABUAAAASAAAAEwAAABcAAAAVAAAAEgAAABMAAAAXAAAAFQAAABIAAAATAAAAFwAAABUAAAASAAAA\n",
       "EwAAABcAAAAVAAAAEgAAABMAAAAXAAAAFQAAABIAAAATAAAAFwAAABUAAAASAAAAEwAAABcAAAAV\n",
       "AAAAEgAAABMAAAAXAAAAFQAAABIAAAATAAAAFwAAABUAAAASAAAAEwAAABcAAAAVAAAAEgAAABMA\n",
       "AAAXAAAAFQAAABIAAAATAAAAFwAAABUAAAASAAAAEwAAABcAAAAVAAAAEgAAABMAAAAXAAAAFQAA\n",
       "ABIAAAATAAAAFwAAABUAAAASAAAAEwAAABcAAAAVAAAAEgAAABMAAAAXAAAAFQAAABIAAAATAAAA\n",
       "FwAAABUAAAASAAAAEwAAABcAAAAVAAAAEgAAABMAAAAXAAAAFQAAABIAAAATAAAAFwAAABUAAAAS\n",
       "AAAAEwAAABcAAAAVAAAAEgAAABMAAAAXAAAAFQAAABIAAAATAAAAFwAAABUAAAASAAAAEwAAABcA\n",
       "AAAVAAAAEgAAABMAAAAXAAAAFQAAABIAAAATAAAAFwAAABUAAAASAAAAEwAAABcAAAAVAAAAEgAA\n",
       "ABMAAAAXAAAAFQAAABIAAAATAAAAFwAAABUAAAASAAAAEwAAABcAAAAVAAAAEgAAABMAAAAXAAAA\n",
       "FQAAABIAAAATAAAAFwAAABUAAAASAAAAEwAAABcAAAAVAAAAEgAAABMAAAAXAAAAFQAAABIAAAAT\n",
       "AAAAFwAAABUAAAASAAAAEwAAABcAAAAVAAAAEgAAABMAAAAXAAAAFQAAABIAAAATAAAAGAAAABUA\n",
       "AAASAAAAEwAAABYAAAAUc3RjbwAAAAAAAAABAAAALAAAAGJ1ZHRhAAAAWm1ldGEAAAAAAAAAIWhk\n",
       "bHIAAAAAAAAAAG1kaXJhcHBsAAAAAAAAAAAAAAAALWlsc3QAAAAlqXRvbwAAAB1kYXRhAAAAAQAA\n",
       "AABMYXZmNTcuODMuMTAw\n",
       "\">\n",
       "  Your browser does not support the video tag.\n",
       "</video>"
      ],
      "text/plain": [
       "<IPython.core.display.HTML object>"
      ]
     },
     "execution_count": 98,
     "metadata": {},
     "output_type": "execute_result"
    },
    {
     "data": {
      "image/png": "[encoded data removed]",
      "text/plain": [
       "<Figure size 432x288 with 1 Axes>"
      ]
     },
     "metadata": {
      "needs_background": "light"
     },
     "output_type": "display_data"
    }
   ],
   "source": [
    "# First set up the figure, the axis, and the plot element we want to animate\n",
    "from IPython.display import HTML\n",
    "from matplotlib import animation\n",
    "fig = plt.figure()\n",
    "ax = plt.axes(xlim=(0, 10), ylim=(0, 10))\n",
    "line, = ax.plot([], [], lw=2)\n",
    "\n",
    "# initialization function: plot the background of each frame\n",
    "def init():\n",
    "    plt.plot(ws, Cs, 'b')\n",
    "    line.set_data([], [])\n",
    "    return line,\n",
    "\n",
    "# # animation function.  This is called sequentially\n",
    "# def animate1(i):\n",
    "#     def f(theta, x):\n",
    "#         return np.log(theta[0]*x + theta[1]) + theta[2]\n",
    "#     x = ws\n",
    "#     y = f(THETA1[:,i], ws)\n",
    "#     line.set_data(x, y)\n",
    "#     return line,\n",
    "\n",
    "# def animate2(i):\n",
    "#     def f(theta, x):\n",
    "#         return theta[0] * x + theta[1]\n",
    "#     x = ws\n",
    "#     y = f(THETA2[:,i], ws)\n",
    "#     line.set_data(x, y)\n",
    "#     return line,\n",
    "\n",
    "def animate3(i):\n",
    "    def f(theta, x):\n",
    "        return (x+1) / (1+np.exp(-poly(theta, x)))\n",
    "    x = ws\n",
    "    y = f(THETA3[:,i], ws)\n",
    "    line.set_data(x, y)\n",
    "    return line,\n",
    "\n",
    "# call the animator.  blit=True means only re-draw the parts that have changed.\n",
    "anim = animation.FuncAnimation(fig, animate3, init_func=init,\n",
    "           frames=1000, interval=20, blit=True)\n",
    "\n",
    "HTML(anim.to_html5_video())"
   ]
  },
  {
   "cell_type": "code",
   "execution_count": null,
   "metadata": {},
   "outputs": [],
   "source": [
    "# call the animator.  blit=True means only re-draw the parts that have changed.\n",
    "anim = animation.FuncAnimation(fig, animate2, init_func=init,\n",
    "           frames=1000, interval=20, blit=True)\n",
    "\n",
    "HTML(anim.to_html5_video())"
   ]
  },
  {
   "cell_type": "code",
   "execution_count": null,
   "metadata": {},
   "outputs": [],
   "source": [
    "# call the animator.  blit=True means only re-draw the parts that have changed.\n",
    "anim = animation.FuncAnimation(fig, animate3, init_func=init,\n",
    "           frames=1000, interval=20, blit=True)\n",
    "\n",
    "HTML(anim.to_html5_video())"
   ]
  }
 ],
 "metadata": {
  "kernelspec": {
   "display_name": "Python 3",
   "language": "python",
   "name": "python3"
  },
  "language_info": {
   "codemirror_mode": {
    "name": "ipython",
    "version": 3
   },
   "file_extension": ".py",
   "mimetype": "text/x-python",
   "name": "python",
   "nbconvert_exporter": "python",
   "pygments_lexer": "ipython3",
   "version": "3.7.7"
  }
 },
 "nbformat": 4,
 "nbformat_minor": 4
}
