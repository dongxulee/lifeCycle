{
 "cells": [
  {
   "cell_type": "markdown",
   "metadata": {},
   "source": [
    "### The model\n",
    "\n",
    "$u(c) = log(c)$ utility function    \n",
    "$y = 1$ Deterministic income    \n",
    "$p(r = 0.02) = 0.5$   \n",
    "$p(r = -0.01) = 0.5$ "
   ]
  },
  {
   "cell_type": "code",
   "execution_count": 1,
   "metadata": {},
   "outputs": [
    {
     "name": "stdout",
     "output_type": "stream",
     "text": [
      "Populating the interactive namespace from numpy and matplotlib\n"
     ]
    }
   ],
   "source": [
    "# infinite horizon MDP problem\n",
    "%pylab inline\n",
    "import numpy as np\n",
    "from scipy.optimize import minimize\n",
    "import scipy.optimize as optimization\n",
    "import warnings\n",
    "warnings.filterwarnings(\"ignore\")\n",
    "\n",
    "# discounting factor \n",
    "beta = 0.95\n",
    "# wealth level\n",
    "eps = 0.001\n",
    "w_low = eps\n",
    "w_high = 10\n",
    "# interest rate\n",
    "r_up = 0.02\n",
    "r_down = 0.01\n",
    "# deterministic income\n",
    "y = 1\n",
    "# good state and bad state economy with equal probability 0.5\n",
    "# with good investment return 0.02 or bad investment return -0.01\n",
    "ws = np.linspace(w_low, w_high**(0.5),100)**2\n",
    "Vs = np.zeros(100)\n",
    "Cs = np.zeros(100)\n",
    "\n",
    "def u(c):\n",
    "    return np.log(c)"
   ]
  },
  {
   "cell_type": "code",
   "execution_count": 2,
   "metadata": {},
   "outputs": [
    {
     "name": "stdout",
     "output_type": "stream",
     "text": [
      "0\n",
      "10\n",
      "20\n",
      "30\n",
      "40\n",
      "50\n",
      "60\n",
      "70\n",
      "80\n",
      "90\n"
     ]
    }
   ],
   "source": [
    "# Value iteration\n",
    "for j in range(100):\n",
    "    if j % 10 == 0:\n",
    "        print(j)\n",
    "    for i in range(len(ws)):\n",
    "        w = ws[i]\n",
    "        def obj(c):\n",
    "            return -(u(c) + beta*(np.interp((y+w-c)*(1+r_up), ws, Vs) + np.interp((y+w-c)*(1-r_down), ws, Vs))/2)\n",
    "        bounds = [(eps, y+w-eps)]\n",
    "        res = minimize(obj, eps, method='SLSQP', bounds=bounds)\n",
    "        Cs[i] = res.x[0]\n",
    "        Vs[i] = -res.fun"
   ]
  },
  {
   "cell_type": "code",
   "execution_count": 3,
   "metadata": {},
   "outputs": [
    {
     "data": {
      "text/plain": [
       "[<matplotlib.lines.Line2D at 0x7f51dc64c350>]"
      ]
     },
     "execution_count": 3,
     "metadata": {},
     "output_type": "execute_result"
    },
    {
     "data": {
      "image/png": "[encoded data removed]",
      "text/plain": [
       "<Figure size 432x288 with 1 Axes>"
      ]
     },
     "metadata": {
      "needs_background": "light"
     },
     "output_type": "display_data"
    }
   ],
   "source": [
    "plt.plot(ws,Vs)"
   ]
  },
  {
   "cell_type": "code",
   "execution_count": 4,
   "metadata": {},
   "outputs": [
    {
     "data": {
      "text/plain": [
       "[<matplotlib.lines.Line2D at 0x7f5163d4b650>]"
      ]
     },
     "execution_count": 4,
     "metadata": {},
     "output_type": "execute_result"
    },
    {
     "data": {
      "image/png": "[encoded data removed]",
      "text/plain": [
       "<Figure size 432x288 with 1 Axes>"
      ]
     },
     "metadata": {
      "needs_background": "light"
     },
     "output_type": "display_data"
    }
   ],
   "source": [
    "plt.plot(ws,Cs)"
   ]
  },
  {
   "cell_type": "code",
   "execution_count": 5,
   "metadata": {},
   "outputs": [
    {
     "data": {
      "text/plain": [
       "[<matplotlib.lines.Line2D at 0x7f5163cbfcd0>]"
      ]
     },
     "execution_count": 5,
     "metadata": {},
     "output_type": "execute_result"
    },
    {
     "data": {
      "image/png": "[encoded data removed]",
      "text/plain": [
       "<Figure size 432x288 with 1 Axes>"
      ]
     },
     "metadata": {
      "needs_background": "light"
     },
     "output_type": "display_data"
    }
   ],
   "source": [
    "plt.plot(ws,Cs/(ws+y))"
   ]
  },
  {
   "cell_type": "markdown",
   "metadata": {},
   "source": [
    "### policy gradient\n",
    "Assume the policy form $\\theta = (a,b, \\sigma = 0.1)$, then $\\pi_\\theta$ ~ Beta($\\alpha$, $\\beta$)\n",
    "\n",
    "\n",
    "Assume the initial value $a_1 = 0$, $b_1 = 0$, $c_1 = 0$, $d_1 = 0$, $a_2 = 0$, $b_2 = 0$, $c_2 = 0$, $d_2 = 0$:\n",
    "$$\\alpha = log(1+ e^{a_1 x^3 + b_1 x^2 + c_1 x + d_1}) + 1 $$\n",
    "$$\\beta = log(1+ e^{a_2 x^3 + b_2 x^2 + c_2 x + d_2}) + 1 $$\n",
    "\n",
    "\n",
    "$$\\theta_{k+1} = \\theta_{k} + \\alpha  \\nabla_\\theta V(\\pi_\\theta)|\\theta_k$$"
   ]
  },
  {
   "cell_type": "code",
   "execution_count": 35,
   "metadata": {
    "jupyter": {
     "source_hidden": true
    }
   },
   "outputs": [],
   "source": [
    "# T = 100\n",
    "# def poly(the, w):\n",
    "#     return the[0]*(w**3) + the[1]*(w**2) +the[2]*w + the[3]\n",
    "\n",
    "# # simulation step T = 100\n",
    "# def a(theta, w):\n",
    "#     value = np.log(1+np.exp(poly(theta[:4],w))) + 1\n",
    "#     if isscalar(value):\n",
    "#         return max(min(value, 100),1)\n",
    "#     else:\n",
    "#         np.clip(value, 1, 100, out=value)\n",
    "#         return value\n",
    "\n",
    "# def b(theta, w):\n",
    "#     value = np.log(1+np.exp(poly(theta[4:],w))) + 1\n",
    "#     if isscalar(value):\n",
    "#         return max(min(value, 100),1)\n",
    "#     else:\n",
    "#         np.clip(value, 1, 100, out=value)\n",
    "#         return value\n",
    "\n",
    "\n",
    "# def simSinglePath(theta):\n",
    "#     wPath = np.zeros(T)\n",
    "#     aPath = np.zeros(T)\n",
    "#     rPath = np.zeros(T)\n",
    "#     w = np.random.uniform(w_low, w_high)\n",
    "#     for t in range(T):\n",
    "#         n = np.random.beta(a(theta, w), b(theta, w))\n",
    "#         n = max(min(n,1-eps),eps)\n",
    "#         c = n*(w+y)\n",
    "#         wPath[t] = w\n",
    "#         aPath[t] = n\n",
    "#         rPath[t] = u(c)*(beta**t)\n",
    "#         if np.random.uniform(0,1) > 0.5:\n",
    "#             w = (w+y-c) * (1+r_up)\n",
    "#         else:\n",
    "#             w = (w+y-c) * (1-r_down)\n",
    "#     return wPath, aPath, rPath\n",
    "\n",
    "# def gradientV(theta, D = 1000):\n",
    "#     '''\n",
    "#         D is the sample size\n",
    "#     '''\n",
    "#     notValid = True\n",
    "#     while notValid:\n",
    "#         grad = np.zeros(len(theta))\n",
    "#         newGrad = np.zeros(len(theta))\n",
    "#         for d in range(D):\n",
    "#             wp, ap, rp = simSinglePath(theta)\n",
    "#             togoR = np.cumsum(rp[::-1])[::-1]\n",
    "#             newGrad[0] = np.dot(np.log(ap)*(wp**3)/(1+np.exp(-poly(theta[:4],wp))), togoR)\n",
    "#             newGrad[1] = np.dot(np.log(ap)*(wp**2)/(1+np.exp(-poly(theta[:4],wp))), togoR)\n",
    "#             newGrad[2] = np.dot(np.log(ap)*(wp)/(1+np.exp(-poly(theta[:4],wp))), togoR)\n",
    "#             newGrad[3] = np.dot(np.log(ap)*(1)/(1+np.exp(-poly(theta[:4],wp))), togoR)          \n",
    "            \n",
    "#             newGrad[4] = np.dot(np.log(1-ap)*(wp**3)/(1+np.exp(-poly(theta[4:],wp))), togoR)\n",
    "#             newGrad[5] = np.dot(np.log(1-ap)*(wp**2)/(1+np.exp(-poly(theta[4:],wp))), togoR)\n",
    "#             newGrad[6] = np.dot(np.log(1-ap)*(wp)/(1+np.exp(-poly(theta[4:],wp))), togoR)\n",
    "#             newGrad[7] = np.dot(np.log(1-ap)*(1)/(1+np.exp(-poly(theta[4:],wp))), togoR)\n",
    "                  \n",
    "#             grad += newGrad\n",
    "#         grad /= D\n",
    "#         if numpy.isnan(grad).any() == False:\n",
    "#             notValid = False\n",
    "#     return grad\n",
    "\n",
    "# def updateTheta(theta):\n",
    "#     theta = theta + alpha * gradientV(theta)\n",
    "#     return theta\n",
    "\n",
    "# def plot(theta):\n",
    "#     plt.plot(ws, Cs, 'b')\n",
    "#     plt.plot(ws, a(theta,ws)/(a(theta,ws) + b(theta,ws))*(ws+y), 'r')"
   ]
  },
  {
   "cell_type": "code",
   "execution_count": 37,
   "metadata": {
    "collapsed": true,
    "jupyter": {
     "outputs_hidden": true,
     "source_hidden": true
    }
   },
   "outputs": [
    {
     "name": "stdout",
     "output_type": "stream",
     "text": [
      "0\n",
      "[0, 0, 0, 0, 0, 0, 0, 0]\n",
      "1\n",
      "[0.01501555 0.00589801 0.00351782 0.00331654 0.0227919  0.00671703\n",
      " 0.00346748 0.00311061]\n",
      "2\n",
      "[0.02368948 0.01188952 0.00723505 0.00663018 0.03687128 0.01303806\n",
      " 0.00704623 0.00619039]\n",
      "3\n",
      "[0.03193768 0.01800496 0.01104709 0.00998415 0.04828265 0.01910806\n",
      " 0.01066532 0.00934273]\n",
      "4\n",
      "[0.03975826 0.02428697 0.01496127 0.013346   0.0596692  0.02524583\n",
      " 0.01430164 0.01244416]\n",
      "5\n",
      "[0.03912419 0.02944043 0.01871244 0.01667731 0.06558569 0.03069023\n",
      " 0.01787369 0.01556049]\n",
      "6\n",
      "[0.0424693  0.03559296 0.02276163 0.02009882 0.07442466 0.03674546\n",
      " 0.02159484 0.01869493]\n",
      "7\n",
      "[0.03903785 0.04080116 0.02662935 0.02342379 0.07944661 0.04207387\n",
      " 0.02512342 0.02171834]\n",
      "8\n",
      "[0.0293512  0.04556866 0.03051202 0.02672595 0.08248061 0.04716989\n",
      " 0.02860938 0.02470295]\n",
      "9\n",
      "[0.00891499 0.04932265 0.03429439 0.02994919 0.08565525 0.05216364\n",
      " 0.03200176 0.02758896]\n",
      "10\n",
      "[-0.17458618  0.03577736  0.03608284  0.03252256  0.08066837  0.05558362\n",
      "  0.03469857  0.02986897]\n",
      "11\n",
      "[-0.16662495  0.04013283  0.03885629  0.03478788  8.19357323  0.30746206\n",
      "  0.04947102  0.03315283]\n",
      "12\n",
      "[-0.15097399  0.04779656  0.04298932  0.03737663 18.13773188  0.59030276\n",
      "  0.06039646  0.03405268]\n",
      "13\n",
      "[-0.12958741  0.05808746  0.04845912  0.04077241 28.00967992  0.87394297\n",
      "  0.07134768  0.03491853]\n",
      "14\n",
      "[-1.00402494e-01  7.12275110e-02  5.50345732e-02  4.46626838e-02\n",
      "  3.78724861e+01  1.15639074e+00  8.22065192e-02  3.57425663e-02]\n",
      "15\n",
      "[-4.76100843e-02  9.23890242e-02  6.44179099e-02  4.95606569e-02\n",
      "  4.76477225e+01  1.43713910e+00  9.30105372e-02  3.65305062e-02]\n",
      "16\n",
      "[2.33322403e-01 1.73445354e-01 9.03925988e-02 5.94137612e-02\n",
      " 5.76303059e+01 1.72350129e+00 1.04021445e-01 3.73567002e-02]\n",
      "17\n",
      "[2.45050116e-01 1.81560569e-01 9.36328647e-02 6.07646307e-02\n",
      " 5.76073704e+01 1.72123327e+00 1.03869056e-01 3.73923604e-02]\n",
      "18\n",
      "[2.50609441e-01 1.88434072e-01 9.65805039e-02 6.20458292e-02\n",
      " 5.75824486e+01 1.71872327e+00 1.03684721e-01 3.74253183e-02]\n",
      "19\n",
      "[2.56213427e-01 1.95318555e-01 9.95566321e-02 6.33499104e-02\n",
      " 5.75576878e+01 1.71622943e+00 1.03502592e-01 3.74599520e-02]\n",
      "20\n",
      "[2.59994000e-01 2.01795526e-01 1.02405805e-01 6.46026257e-02\n",
      " 5.75321167e+01 1.71360986e+00 1.03302521e-01 3.74864312e-02]\n",
      "21\n",
      "[2.64408698e-01 2.08236955e-01 1.05166291e-01 6.57603655e-02\n",
      " 5.75072081e+01 1.71107695e+00 1.03113550e-01 3.75168851e-02]\n",
      "22\n",
      "[2.66800944e-01 2.14345806e-01 1.07918849e-01 6.69744623e-02\n",
      " 5.74817233e+01 1.70844131e+00 1.02906986e-01 3.75387221e-02]\n",
      "23\n",
      "[2.64073119e-01 2.19587084e-01 1.10437694e-01 6.80847992e-02\n",
      " 5.74522522e+01 1.70537032e+00 1.02651283e-01 3.75563126e-02]\n",
      "24\n",
      "[2.73672647e-01 2.27161737e-01 1.13544577e-01 6.93992975e-02\n",
      " 5.74296362e+01 1.70315147e+00 1.02513779e-01 3.76002291e-02]\n",
      "25\n",
      "[2.73300192e-01 2.32628377e-01 1.16123751e-01 7.05581138e-02\n",
      " 5.74034597e+01 1.70043197e+00 1.02296554e-01 3.76246219e-02]\n",
      "26\n",
      "[2.70950418e-01 2.37800830e-01 1.18642299e-01 7.16960294e-02\n",
      " 5.73754226e+01 1.69750288e+00 1.02055920e-01 3.76543637e-02]\n",
      "27\n",
      "[2.75757268e-01 2.44430356e-01 1.21550107e-01 7.29752297e-02\n",
      " 5.73512864e+01 1.69507428e+00 1.01886505e-01 3.76902353e-02]\n",
      "28\n",
      "[2.77509201e-01 2.50173872e-01 1.24189712e-01 7.41640149e-02\n",
      " 5.73270641e+01 1.69256953e+00 1.01695845e-01 3.77226098e-02]\n",
      "29\n",
      "[2.79174447e-01 2.56136420e-01 1.26918794e-01 7.53914129e-02\n",
      " 5.73014597e+01 1.68996958e+00 1.01506590e-01 3.77609792e-02]\n",
      "30\n",
      "[2.77444004e-01 2.61281758e-01 1.29414337e-01 7.65183674e-02\n",
      " 5.72746924e+01 1.68716763e+00 1.01279928e-01 3.77854756e-02]\n",
      "31\n",
      "[2.78822472e-01 2.67220513e-01 1.32129915e-01 7.77271412e-02\n",
      " 5.72477274e+01 1.68441788e+00 1.01074826e-01 3.78251801e-02]\n",
      "32\n",
      "[2.74769234e-01 2.72047979e-01 1.34575004e-01 7.88496817e-02\n",
      " 5.72190608e+01 1.68142163e+00 1.00826310e-01 3.78494193e-02]\n",
      "33\n",
      "[2.68954628e-01 2.76420382e-01 1.36852001e-01 7.98789533e-02\n",
      " 5.71897434e+01 1.67833621e+00 1.00561115e-01 3.78647356e-02]\n",
      "34\n",
      "[2.65958830e-01 2.81491845e-01 1.39334860e-01 8.09992461e-02\n",
      " 5.71610456e+01 1.67535083e+00 1.00314835e-01 3.78831823e-02]\n",
      "35\n",
      "[2.60871924e-01 2.85940131e-01 1.41702884e-01 8.21373547e-02\n",
      " 5.71339620e+01 1.67248084e+00 1.00070319e-01 3.79094702e-02]\n",
      "36\n",
      "[2.62624523e-01 2.91737468e-01 1.44355585e-01 8.33220299e-02\n",
      " 5.71090466e+01 1.66990850e+00 9.98723389e-02 3.79400949e-02]\n",
      "37\n",
      "[2.58650800e-01 2.96447814e-01 1.46732004e-01 8.44050720e-02\n",
      " 5.70809304e+01 1.66694089e+00 9.96206315e-02 3.79605484e-02]\n",
      "38\n",
      "[2.58863997e-01 3.01860605e-01 1.49252307e-01 8.55127711e-02\n",
      " 5.70554032e+01 1.66427203e+00 9.94054420e-02 3.79788100e-02]\n",
      "39\n",
      "[2.55184236e-01 3.06814340e-01 1.51756865e-01 8.66800396e-02\n",
      " 5.70267071e+01 1.66126957e+00 9.91565635e-02 3.80058389e-02]\n",
      "40\n",
      "[2.54931048e-01 3.12433943e-01 1.54348590e-01 8.78061037e-02\n",
      " 5.69997100e+01 1.65850769e+00 9.89442528e-02 3.80314299e-02]\n",
      "41\n",
      "[2.52961890e-01 3.17703898e-01 1.56862514e-01 8.89182231e-02\n",
      " 5.69718881e+01 1.65562719e+00 9.87131511e-02 3.80546899e-02]\n",
      "42\n",
      "[2.49976297e-01 3.22712729e-01 1.59297226e-01 8.99829506e-02\n",
      " 5.69434134e+01 1.65266283e+00 9.84677919e-02 3.80714581e-02]\n",
      "43\n",
      "[2.48591930e-01 3.28052493e-01 1.61844484e-01 9.11264272e-02\n",
      " 5.69159597e+01 1.64981915e+00 9.82420210e-02 3.81003041e-02]\n",
      "44\n",
      "[2.45150726e-01 3.32902965e-01 1.64240776e-01 9.21987431e-02\n",
      " 5.68879059e+01 1.64686703e+00 9.79944501e-02 3.81223031e-02]\n",
      "45\n",
      "[2.42319505e-01 3.38055541e-01 1.66723834e-01 9.32904433e-02\n",
      " 5.68580352e+01 1.64377689e+00 9.77425467e-02 3.81412528e-02]\n",
      "46\n",
      "[2.43071668e-01 3.43525794e-01 1.69278505e-01 9.44388671e-02\n",
      " 5.68337772e+01 1.64125694e+00 9.75447705e-02 3.81712619e-02]\n",
      "47\n",
      "[2.42490337e-01 3.48687061e-01 1.71778158e-01 9.55956943e-02\n",
      " 5.68087329e+01 1.63860234e+00 9.73259241e-02 3.81992141e-02]\n",
      "48\n",
      "[2.37232616e-01 3.53337202e-01 1.74169847e-01 9.66850624e-02\n",
      " 5.67796634e+01 1.63556074e+00 9.70710564e-02 3.82226075e-02]\n",
      "49\n",
      "[2.41655522e-01 3.59654517e-01 1.76977120e-01 9.79419727e-02\n",
      " 5.67561920e+01 1.63317881e+00 9.69031969e-02 3.82677851e-02]\n",
      "50\n",
      "[2.38639756e-01 3.64367178e-01 1.79329209e-01 9.90172953e-02\n",
      " 5.67294231e+01 1.63034087e+00 9.66624991e-02 3.82847944e-02]\n",
      "51\n",
      "[2.35657348e-01 3.69205817e-01 1.81721467e-01 1.00099472e-01\n",
      " 5.67020701e+01 1.62747139e+00 9.64254634e-02 3.83161225e-02]\n",
      "52\n",
      "[2.31920406e-01 3.74010125e-01 1.84180824e-01 1.01257997e-01\n",
      " 5.66743180e+01 1.62455529e+00 9.61811616e-02 3.83390918e-02]\n",
      "53\n",
      "[2.31068695e-01 3.79219017e-01 1.86689807e-01 1.02407083e-01\n",
      " 5.66486234e+01 1.62187720e+00 9.59653943e-02 3.83672375e-02]\n",
      "54\n",
      "[2.27280540e-01 3.84068865e-01 1.89137390e-01 1.03526980e-01\n",
      " 5.66202850e+01 1.61890579e+00 9.57157130e-02 3.83854680e-02]\n",
      "55\n",
      "[2.22336477e-01 3.88739312e-01 1.91556923e-01 1.04649306e-01\n",
      " 5.65913730e+01 1.61585983e+00 9.54544820e-02 3.84017988e-02]\n",
      "56\n",
      "[2.16435891e-01 3.92985704e-01 1.93815822e-01 1.05706838e-01\n",
      " 5.65628553e+01 1.61282052e+00 9.51865544e-02 3.84192567e-02]\n",
      "57\n",
      "[2.13491547e-01 3.97806479e-01 1.96177988e-01 1.06762138e-01\n",
      " 5.65352522e+01 1.60990917e+00 9.49399373e-02 3.84386790e-02]\n",
      "58\n",
      "[2.05668806e-01 4.01906162e-01 1.98447847e-01 1.07840755e-01\n",
      " 5.65051596e+01 1.60672335e+00 9.46596248e-02 3.84541195e-02]\n",
      "59\n",
      "[2.03545023e-01 4.06831508e-01 2.00849836e-01 1.08922471e-01\n",
      " 5.64789641e+01 1.60396901e+00 9.44307290e-02 3.84815710e-02]\n",
      "60\n",
      "[2.02212939e-01 4.11924149e-01 2.03300631e-01 1.10024069e-01\n",
      " 5.64535983e+01 1.60132071e+00 9.42128950e-02 3.84987541e-02]\n",
      "61\n",
      "[1.99121238e-01 4.16941685e-01 2.05796874e-01 1.11170714e-01\n",
      " 5.64263152e+01 1.59845011e+00 9.39722551e-02 3.85188818e-02]\n",
      "62\n",
      "[1.97463003e-01 4.22150850e-01 2.08309149e-01 1.12302863e-01\n",
      " 5.63997293e+01 1.59567512e+00 9.37444420e-02 3.85435461e-02]\n",
      "63\n",
      "[1.97572692e-01 4.27788193e-01 2.10920676e-01 1.13454719e-01\n",
      " 5.63723879e+01 1.59284791e+00 9.35176007e-02 3.85675736e-02]\n",
      "64\n",
      "[1.96769681e-01 4.33301618e-01 2.13514080e-01 1.14616626e-01\n",
      " 5.63451291e+01 1.59002592e+00 9.32921005e-02 3.86009878e-02]\n",
      "65\n",
      "[1.97898104e-01 4.38871385e-01 2.16065424e-01 1.15743917e-01\n",
      " 5.63205801e+01 1.58748664e+00 9.30935323e-02 3.86283139e-02]\n",
      "66\n",
      "[1.95800414e-01 4.43816093e-01 2.18501472e-01 1.16861341e-01\n",
      " 5.62950074e+01 1.58478672e+00 9.28671931e-02 3.86469165e-02]\n",
      "67\n",
      "[1.93800362e-01 4.48853424e-01 2.20970505e-01 1.17987340e-01\n",
      " 5.62693733e+01 1.58208568e+00 9.26418947e-02 3.86637783e-02]\n",
      "68\n",
      "[1.90582559e-01 4.53671230e-01 2.23352812e-01 1.19060932e-01\n",
      " 5.62421069e+01 1.57922578e+00 9.24033255e-02 3.86856550e-02]\n",
      "69\n",
      "[1.86575016e-01 4.58379091e-01 2.25708588e-01 1.20113360e-01\n",
      " 5.62145536e+01 1.57633933e+00 9.21604826e-02 3.87056243e-02]\n",
      "70\n",
      "[1.80582892e-01 4.62800632e-01 2.28042702e-01 1.21196216e-01\n",
      " 5.61855411e+01 1.57325715e+00 9.18894655e-02 3.87201435e-02]\n",
      "71\n",
      "[1.81637096e-01 4.68308703e-01 2.30571663e-01 1.22332955e-01\n",
      " 5.61611932e+01 1.57071981e+00 9.16894435e-02 3.87551697e-02]\n",
      "72\n",
      "[1.80754521e-01 4.73356344e-01 2.33022192e-01 1.23465153e-01\n",
      " 5.61372617e+01 1.56818559e+00 9.14799360e-02 3.87877771e-02]\n",
      "73\n",
      "[1.81287659e-01 4.78963455e-01 2.35640018e-01 1.24638570e-01\n",
      " 5.61124961e+01 1.56561795e+00 9.12801222e-02 3.88230865e-02]\n",
      "74\n",
      "[1.76181612e-01 4.83547782e-01 2.38046218e-01 1.25770002e-01\n",
      " 5.60849789e+01 1.56271051e+00 9.10303318e-02 3.88412397e-02]\n",
      "75\n",
      "[1.78829220e-01 4.89236907e-01 2.40643718e-01 1.26936112e-01\n",
      " 5.60629876e+01 1.56041199e+00 9.08508839e-02 3.88684851e-02]\n",
      "76\n",
      "[1.75087065e-01 4.93854538e-01 2.42987666e-01 1.28016117e-01\n",
      " 5.60367457e+01 1.55764655e+00 9.06180488e-02 3.88953629e-02]\n",
      "77\n",
      "[1.70846352e-01 4.98587358e-01 2.45388190e-01 1.29120949e-01\n",
      " 5.60088601e+01 1.55473671e+00 9.03732573e-02 3.89156047e-02]\n",
      "78\n",
      "[1.67117761e-01 5.03342808e-01 2.47814554e-01 1.30248469e-01\n",
      " 5.59820406e+01 1.55189969e+00 9.01287351e-02 3.89308189e-02]\n",
      "79\n",
      "[1.65292521e-01 5.08365971e-01 2.50257842e-01 1.31360255e-01\n",
      " 5.59565791e+01 1.54922295e+00 8.99073875e-02 3.89556531e-02]\n",
      "80\n",
      "[1.58679548e-01 5.12250294e-01 2.52400677e-01 1.32377287e-01\n",
      " 5.59296308e+01 1.54630288e+00 8.96409906e-02 3.89679645e-02]\n",
      "81\n",
      "[1.53514600e-01 5.16626657e-01 2.54718347e-01 1.33471637e-01\n",
      " 5.59033597e+01 1.54350454e+00 8.93949710e-02 3.89842508e-02]\n",
      "82\n",
      "[1.46067843e-01 5.20912022e-01 2.57039810e-01 1.34546236e-01\n",
      " 5.58737175e+01 1.54038107e+00 8.91216916e-02 3.90006320e-02]\n",
      "83\n",
      "[1.46744371e-01 5.26384365e-01 2.59580229e-01 1.35688511e-01\n",
      " 5.58498233e+01 1.53789727e+00 8.89237521e-02 3.90270197e-02]\n",
      "84\n",
      "[1.43202404e-01 5.30995414e-01 2.61904451e-01 1.36761440e-01\n",
      " 5.58232662e+01 1.53508975e+00 8.86802055e-02 3.90436921e-02]\n",
      "85\n",
      "[1.40618534e-01 5.36164061e-01 2.64428938e-01 1.37894280e-01\n",
      " 5.57963251e+01 1.53228635e+00 8.84472516e-02 3.90624715e-02]\n",
      "86\n",
      "[1.38629265e-01 5.41452557e-01 2.67026578e-01 1.39101293e-01\n",
      " 5.57704428e+01 1.52960026e+00 8.82286199e-02 3.90928601e-02]\n",
      "87\n",
      "[1.33335062e-01 5.45896887e-01 2.69350736e-01 1.40186464e-01\n",
      " 5.57430599e+01 1.52669492e+00 8.79735314e-02 3.91084412e-02]\n",
      "88\n",
      "[1.30371689e-01 5.50933346e-01 2.71872530e-01 1.41353898e-01\n",
      " 5.57167493e+01 1.52393446e+00 8.77401691e-02 3.91280091e-02]\n",
      "89\n",
      "[1.31229808e-01 5.56478480e-01 2.74438890e-01 1.42495274e-01\n",
      " 5.56920172e+01 1.52135469e+00 8.75296346e-02 3.91515205e-02]\n",
      "90\n",
      "[1.27514221e-01 5.61113651e-01 2.76795658e-01 1.43587538e-01\n",
      " 5.56666491e+01 1.51866301e+00 8.72985811e-02 3.91715371e-02]\n",
      "91\n",
      "[1.22357229e-01 5.65836829e-01 2.79248978e-01 1.44741165e-01\n",
      " 5.56385628e+01 1.51571336e+00 8.70465268e-02 3.91933513e-02]\n",
      "92\n",
      "[1.23541617e-01 5.71390425e-01 2.81840226e-01 1.45921255e-01\n",
      " 5.56159072e+01 1.51333624e+00 8.68561784e-02 3.92294732e-02]\n",
      "93\n",
      "[1.20787181e-01 5.76315803e-01 2.84253203e-01 1.47011702e-01\n",
      " 5.55899595e+01 1.51062471e+00 8.66302645e-02 3.92563973e-02]\n",
      "94\n",
      "[1.23307242e-01 5.82365012e-01 2.86979016e-01 1.48225262e-01\n",
      " 5.55662468e+01 1.50820204e+00 8.64471731e-02 3.92890009e-02]\n",
      "95\n",
      "[1.19348717e-01 5.87178563e-01 2.89435306e-01 1.49372384e-01\n",
      " 5.55402603e+01 1.50547208e+00 8.62163561e-02 3.93110666e-02]\n",
      "96\n",
      "[1.19717961e-01 5.92672216e-01 2.92060542e-01 1.50585031e-01\n",
      " 5.55173925e+01 1.50308534e+00 8.60248941e-02 3.93370859e-02]\n",
      "97\n",
      "[1.13001257e-01 5.96882109e-01 2.94351090e-01 1.51669128e-01\n",
      " 5.54901690e+01 1.50019379e+00 8.57711494e-02 3.93625081e-02]\n",
      "98\n",
      "[1.08684158e-01 6.01547861e-01 2.96736950e-01 1.52772253e-01\n",
      " 5.54641088e+01 1.49743237e+00 8.55348759e-02 3.93877149e-02]\n",
      "99\n",
      "[1.05618269e-01 6.06533018e-01 2.99224718e-01 1.53928667e-01\n",
      " 5.54379857e+01 1.49469960e+00 8.53073675e-02 3.94188793e-02]\n"
     ]
    },
    {
     "data": {
      "image/png": "[encoded data removed]",
      "text/plain": [
       "<Figure size 432x288 with 1 Axes>"
      ]
     },
     "metadata": {
      "needs_background": "light"
     },
     "output_type": "display_data"
    }
   ],
   "source": [
    "# # initial theta\n",
    "# N = 100\n",
    "# theta = [0]*8\n",
    "# # gradient ascend step size \n",
    "# alpha = 0.0001\n",
    "# # store theta\n",
    "# THETA = np.zeros((len(theta),N))\n",
    "# for i in range(N):\n",
    "#     if i%1 ==0:\n",
    "#         print(i)\n",
    "#         print(theta)\n",
    "#     theta = updateTheta(theta)\n",
    "#     THETA[:,i] = theta\n",
    "#     plot(theta)"
   ]
  },
  {
   "cell_type": "code",
   "execution_count": 8,
   "metadata": {},
   "outputs": [
    {
     "name": "stdout",
     "output_type": "stream",
     "text": [
      "approximate theta:  [0.83381087 0.5263778  1.72872177 0.60162327]\n"
     ]
    },
    {
     "data": {
      "image/png": "[encoded data removed]",
      "text/plain": [
       "<Figure size 432x288 with 1 Axes>"
      ]
     },
     "metadata": {
      "needs_background": "light"
     },
     "output_type": "display_data"
    }
   ],
   "source": [
    "def func(x, a, b, c, d):\n",
    "    return a * np.log(b*x+c) + d\n",
    "\n",
    "theta, cov = optimization.curve_fit(func, ws, Cs)\n",
    "\n",
    "def fun(x, theta):\n",
    "    a,b,c,d = theta\n",
    "    return func(x,a,b,c,d)\n",
    "plt.plot(ws, Cs, 'b')\n",
    "plt.plot(ws, fun(ws,theta), 'r')\n",
    "\n",
    "print(\"approximate theta: \", theta)"
   ]
  },
  {
   "cell_type": "code",
   "execution_count": 44,
   "metadata": {},
   "outputs": [],
   "source": [
    "T = 100\n",
    "sigma = 0.2\n",
    "\n",
    "def mu(w, theta):\n",
    "    a,b,c,d = theta\n",
    "    return a * np.log(b*w+c) + d\n",
    "\n",
    "\n",
    "def simSinglePath(theta):\n",
    "    wPath = np.zeros(T)\n",
    "    aPath = np.zeros(T)\n",
    "    rPath = np.zeros(T)\n",
    "    w = np.random.uniform(w_low, w_high)\n",
    "    for t in range(T):\n",
    "        c = np.random.normal(mu(w, theta), sigma)\n",
    "        c = max(min(c,w+y-eps),eps)\n",
    "        wPath[t] = w\n",
    "        aPath[t] = c\n",
    "        rPath[t] = u(c)*(beta**t)\n",
    "        if np.random.uniform(0,1) > 0.5:\n",
    "            w = (w+y-c) * (1+r_up)\n",
    "        else:\n",
    "            w = (w+y-c) * (1-r_down)\n",
    "    return wPath, aPath, rPath\n",
    "\n",
    "def gradientV(theta, D = 10000):\n",
    "    '''\n",
    "        D is the sample size\n",
    "    '''\n",
    "    notValid = True\n",
    "    while notValid:\n",
    "        grad = np.zeros(len(theta))\n",
    "        newGrad = np.zeros(len(theta))\n",
    "        w = np.random.uniform(w_low, w_high)\n",
    "        for d in range(D):\n",
    "            wp, ap, rp = simSinglePath(theta)\n",
    "            togoR = np.cumsum(rp[::-1])[::-1]\n",
    "            newGrad[0] = np.dot((ap-mu(wp,theta)/(sigma**2))*np.log(theta[1]*wp+theta[2]), togoR)\n",
    "            newGrad[1] = np.dot((ap-mu(wp,theta)/(sigma**2))*(theta[0]*wp)/(theta[1]*wp+theta[2]), togoR)\n",
    "            newGrad[2] = np.dot((ap-mu(wp,theta)/(sigma**2))*theta[0]/(theta[1]*wp+theta[2]), togoR)\n",
    "            newGrad[3] = np.dot((ap-mu(wp,theta)/(sigma**2))*1, togoR)            \n",
    "            grad += newGrad\n",
    "        grad /= D\n",
    "        if numpy.isnan(grad).any() == False:\n",
    "            notValid = False\n",
    "    return grad\n",
    "\n",
    "def V(theta,w):\n",
    "    value = 0\n",
    "    D = 1000\n",
    "    for d in range(D):\n",
    "        _, _, rp = simSinglePath(theta)\n",
    "        value += np.sum(rp)\n",
    "    value /= D\n",
    "    return value\n",
    "\n",
    "def updateTheta(theta):\n",
    "    theta = theta + alpha * gradientV(theta)\n",
    "    return theta\n",
    "\n",
    "def plot(theta):\n",
    "    plt.plot(ws, Cs, 'b')\n",
    "    plt.plot(ws, mu(ws,theta), 'r')"
   ]
  },
  {
   "cell_type": "code",
   "execution_count": 45,
   "metadata": {},
   "outputs": [
    {
     "name": "stdout",
     "output_type": "stream",
     "text": [
      "0\n",
      "[1, 1, 1, 1]\n",
      "1\n",
      "[0.92932344 0.96803546 1.0029881  0.97102356]\n",
      "2\n",
      "[0.85675575 0.93634725 1.00618421 0.9414648 ]\n",
      "3\n",
      "[0.78325286 0.90553729 1.00928626 0.91143572]\n",
      "4\n",
      "[0.71040609 0.8764858  1.01203901 0.88139575]\n",
      "5\n",
      "[0.63616985 0.84862677 1.01402741 0.84985645]\n",
      "6\n",
      "[0.56053636 0.82227484 1.0148823  0.81606661]\n",
      "7\n",
      "[0.48349713 0.79773152 1.01432368 0.77905156]\n",
      "8\n",
      "[0.40491595 0.77536172 1.01252324 0.73836606]\n",
      "9\n",
      "[0.32732936 0.75631102 1.01025813 0.69622235]\n",
      "10\n",
      "[0.25833762 0.74254048 1.00867417 0.65951613]\n",
      "11\n",
      "[0.22006511 0.73713042 1.00876895 0.64433604]\n",
      "12\n",
      "[0.21873308 0.73798207 1.00994589 0.65258381]\n",
      "13\n",
      "[0.21449787 0.73840975 1.01105059 0.65912738]\n",
      "14\n",
      "[0.20984362 0.73876998 1.01213067 0.66545858]\n",
      "15\n",
      "[0.20625825 0.73927648 1.01321791 0.67248578]\n",
      "16\n",
      "[0.20130584 0.73957641 1.01423212 0.67854296]\n",
      "17\n",
      "[0.19762096 0.74003416 1.01525535 0.68537995]\n",
      "18\n",
      "[0.19572367 0.7407124  1.01632817 0.6934313 ]\n",
      "19\n",
      "[0.18982828 0.74086382 1.01728128 0.69895349]\n",
      "20\n",
      "[0.18688761 0.7413762  1.01826707 0.70623601]\n",
      "21\n",
      "[0.18259601 0.74172235 1.01922413 0.71282377]\n",
      "22\n",
      "[0.1786507  0.74208879 1.02015749 0.7195222 ]\n",
      "23\n",
      "[0.17439743 0.74241737 1.02107472 0.72612481]\n",
      "24\n",
      "[0.17097615 0.74282324 1.02198969 0.73320956]\n",
      "25\n",
      "[0.16682678 0.74312701 1.02284707 0.73965425]\n",
      "26\n",
      "[0.16313108 0.74348919 1.02372849 0.74667169]\n",
      "27\n",
      "[0.15870391 0.74376257 1.02457165 0.75320893]\n",
      "28\n",
      "[0.15382573 0.74397023 1.02536732 0.75931886]\n",
      "29\n",
      "[0.1513387  0.7444057  1.02618982 0.76690762]\n",
      "30\n",
      "[0.14691373 0.74464779 1.02697576 0.77342768]\n",
      "31\n",
      "[0.14361006 0.74497895 1.02774329 0.7804715 ]\n",
      "32\n",
      "[0.13859906 0.74513806 1.0284716  0.78650902]\n",
      "33\n",
      "[0.1366768  0.74557053 1.02923942 0.79453165]\n",
      "34\n",
      "[0.13072835 0.74563588 1.02992694 0.80006548]\n",
      "35\n",
      "[0.12855718 0.74601889 1.03064902 0.8079388 ]\n",
      "36\n",
      "[0.12261765 0.74607374 1.03128402 0.813348  ]\n",
      "37\n",
      "[0.12076589 0.74643896 1.0319452  0.82113108]\n",
      "38\n",
      "[0.11473047 0.74647515 1.0325463  0.82649116]\n",
      "39\n",
      "[0.11332581 0.74684122 1.03317048 0.8344904 ]\n",
      "40\n",
      "[0.10710461 0.74684689 1.03371926 0.83953084]\n",
      "41\n",
      "[0.10609705 0.74721339 1.03432304 0.84791392]\n",
      "42\n",
      "[0.09839184 0.74711775 1.0348372  0.85225279]\n",
      "43\n",
      "[0.09805544 0.74748233 1.03538743 0.86080827]\n",
      "44\n",
      "[0.09078055 0.7474061  1.03584797 0.8650901 ]\n",
      "45\n",
      "[0.092091   0.74781981 1.03635301 0.87425883]\n",
      "46\n",
      "[0.08187723 0.7475578  1.03673944 0.87647996]\n",
      "47\n",
      "[0.08739705 0.74813996 1.03723356 0.88805187]\n",
      "48\n",
      "[0.0725187  0.74761592 1.03754004 0.88720328]\n",
      "49\n",
      "[0.08282569 0.74834068 1.0380188  0.90152475]\n",
      "50\n",
      "[0.06265595 0.74754603 1.03824985 0.89724068]\n",
      "51\n",
      "[0.08165763 0.74850026 1.03870798 0.916217  ]\n",
      "52\n",
      "[0.0496506  0.74707435 1.03880255 0.9043496 ]\n",
      "53\n",
      "[0.08859633 0.74843834 1.03927804 0.93482147]\n",
      "54\n",
      "[0.03400003 0.74553653 1.03906884 0.90785366]\n",
      "55\n",
      "[0.10651477 0.74715729 1.03949846 0.95652266]\n",
      "56\n",
      "[0.02441922 0.74163164 1.03876191 0.91057437]\n",
      "57\n",
      "[0.12042279 0.74314094 1.03911882 0.97159518]\n",
      "58\n",
      "[0.02751766 0.73588602 1.038016   0.91730827]\n",
      "59\n",
      "[0.10492397 0.73729095 1.03837211 0.96831206]\n",
      "60\n",
      "[0.01917186 0.73146648 1.03754253 0.91917428]\n",
      "61\n",
      "[0.11722488 0.73269177 1.03783162 0.98156776]\n",
      "62\n",
      "[0.02410712 0.72546318 1.03671109 0.92646637]\n",
      "63\n",
      "[0.09713847 0.72664866 1.03701796 0.9753383 ]\n",
      "64\n",
      "[0.01297726 0.72125803 1.03625761 0.92689618]\n",
      "65\n",
      "[0.11609356 0.72214077 1.03646152 0.99224043]\n",
      "66\n",
      "[0.02134537 0.71466749 1.03525074 0.93494454]\n",
      "67\n",
      "[0.08989178 0.71567074 1.03551388 0.98129632]\n",
      "68\n",
      "[0.01025513 0.71084925 1.03483466 0.93508598]\n",
      "69\n",
      "[0.10863168 0.71152715 1.03499125 0.9978763 ]\n",
      "70\n",
      "[0.01384983 0.70442831 1.0338571  0.94057391]\n",
      "71\n",
      "[0.09443807 0.70519472 1.03404287 0.99342255]\n",
      "72\n",
      "[0.00632793 0.69943334 1.03315664 0.94069701]\n",
      "73\n",
      "[0.10765504 0.69987093 1.03325514 1.00514543]\n",
      "74\n",
      "[0.01063168 0.692485   1.03202061 0.94528038]\n",
      "75\n",
      "[0.09260085 0.69309616 1.03216878 0.99947017]\n",
      "76\n",
      "[0.00502839 0.68732893 1.03125715 0.9461424 ]\n",
      "77\n",
      "[0.10065681 0.68766585 1.03133487 1.00813544]\n",
      "78\n",
      "[0.00749427 0.68088978 1.03021371 0.95035532]\n",
      "79\n",
      "[0.08961124 0.68133036 1.03031985 1.00497451]\n",
      "80\n",
      "[0.00111002 0.67556996 1.02940536 0.95066269]\n",
      "81\n",
      "[0.10097166 0.67564881 1.02942301 1.01501672]\n",
      "82\n",
      "[0.00666064 0.66858696 1.02822538 0.95555251]\n",
      "83\n",
      "[0.08313883 0.66895983 1.02831497 1.00681081]\n",
      "84\n",
      "[6.80774191e-04 6.63845362e-01 1.02750025e+00 9.55581329e-01]\n",
      "85\n",
      "[0.09300903 0.66389116 1.02751048 1.01569233]\n",
      "86\n",
      "[7.44310679e-04 6.57403088e-01 1.02642415e+00 9.57379786e-01]\n",
      "87\n",
      "[0.08925253 0.65745192 1.02643537 1.01596974]\n",
      "88\n",
      "[7.38211536e-04 6.51399640e-01 1.02542889e+00 9.59812682e-01]\n",
      "89\n",
      "[0.0852851  0.65144655 1.02543982 1.01638994]\n",
      "90\n",
      "[-0.00171965  0.64570868  1.0244998   0.96125888]\n",
      "91\n",
      "[0.08773132 0.64559252 1.02447359 1.02049098]\n",
      "92\n",
      "[-0.00151819  0.63944128  1.02342763  0.96301158]\n",
      "93\n",
      "[0.08371132 0.63934208 1.02340494 1.0200898 ]\n",
      "94\n",
      "[-0.00334759  0.63355928  1.0224363   0.96408187]\n",
      "95\n",
      "[0.08419632 0.63333233 1.02238482 1.0227585 ]\n",
      "96\n",
      "[-0.00380395  0.62737311  1.02137545  0.96567609]\n",
      "97\n",
      "[0.08123536 0.62711936 1.02131757 1.02306703]\n",
      "98\n",
      "[-0.00278314  0.62154905  1.02037451  0.96820898]\n",
      "99\n",
      "[0.07557179 0.62137533 1.02033422 1.0217784 ]\n"
     ]
    },
    {
     "data": {
      "image/png": "[encoded data removed]",
      "text/plain": [
       "<Figure size 432x288 with 1 Axes>"
      ]
     },
     "metadata": {
      "needs_background": "light"
     },
     "output_type": "display_data"
    }
   ],
   "source": [
    "# initial theta\n",
    "N = 100\n",
    "theta = [1]*4\n",
    "# gradient ascend step size \n",
    "alpha = 0.0001\n",
    "# store theta\n",
    "THETA = np.zeros((len(theta),N))\n",
    "for i in range(N):\n",
    "    if i%1 ==0:\n",
    "        print(i)\n",
    "        print(theta)\n",
    "    theta = updateTheta(theta)\n",
    "    THETA[:,i] = theta\n",
    "    plot(theta)"
   ]
  },
  {
   "cell_type": "code",
   "execution_count": 46,
   "metadata": {},
   "outputs": [
    {
     "data": {
      "text/plain": [
       "2.954236137136398"
      ]
     },
     "execution_count": 46,
     "metadata": {},
     "output_type": "execute_result"
    }
   ],
   "source": [
    "thetaStar = [0.83381087, 0.5263778,  1.72872177, 0.60162327]\n",
    "V(thetaStar,5)"
   ]
  },
  {
   "cell_type": "code",
   "execution_count": 47,
   "metadata": {},
   "outputs": [
    {
     "data": {
      "text/plain": [
       "2.7368933690314106"
      ]
     },
     "execution_count": 47,
     "metadata": {},
     "output_type": "execute_result"
    }
   ],
   "source": [
    "V(THETA[:,1],5)"
   ]
  },
  {
   "cell_type": "code",
   "execution_count": 48,
   "metadata": {},
   "outputs": [
    {
     "data": {
      "text/plain": [
       "1.5481538314715222"
      ]
     },
     "execution_count": 48,
     "metadata": {},
     "output_type": "execute_result"
    }
   ],
   "source": [
    "V(THETA[:,90],5)"
   ]
  },
  {
   "cell_type": "code",
   "execution_count": 49,
   "metadata": {},
   "outputs": [
    {
     "data": {
      "text/plain": [
       "3.392088809767944"
      ]
     },
     "execution_count": 49,
     "metadata": {},
     "output_type": "execute_result"
    }
   ],
   "source": [
    "np.interp(5, ws, Vs)"
   ]
  },
  {
   "cell_type": "code",
   "execution_count": null,
   "metadata": {},
   "outputs": [],
   "source": []
  },
  {
   "cell_type": "code",
   "execution_count": null,
   "metadata": {},
   "outputs": [],
   "source": []
  }
 ],
 "metadata": {
  "kernelspec": {
   "display_name": "Python 3",
   "language": "python",
   "name": "python3"
  },
  "language_info": {
   "codemirror_mode": {
    "name": "ipython",
    "version": 3
   },
   "file_extension": ".py",
   "mimetype": "text/x-python",
   "name": "python",
   "nbconvert_exporter": "python",
   "pygments_lexer": "ipython3",
   "version": "3.7.7"
  }
 },
 "nbformat": 4,
 "nbformat_minor": 4
}
