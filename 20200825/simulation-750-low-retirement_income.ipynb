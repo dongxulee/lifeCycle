{
 "cells": [
  {
   "cell_type": "code",
   "execution_count": 1,
   "metadata": {},
   "outputs": [
    {
     "name": "stdout",
     "output_type": "stream",
     "text": [
      "Populating the interactive namespace from numpy and matplotlib\n"
     ]
    },
    {
     "data": {
      "text/plain": [
       "<contextlib._GeneratorContextManager at 0x7f4c84502c50>"
      ]
     },
     "execution_count": 1,
     "metadata": {},
     "output_type": "execute_result"
    }
   ],
   "source": [
    "%pylab inline\n",
    "from scipy.interpolate import interpn\n",
    "from helpFunctions import surfacePlot\n",
    "import numpy as np\n",
    "from multiprocessing import Pool\n",
    "from functools import partial\n",
    "import warnings\n",
    "import math\n",
    "warnings.filterwarnings(\"ignore\")\n",
    "np.printoptions(precision=2)"
   ]
  },
  {
   "cell_type": "code",
   "execution_count": 2,
   "metadata": {},
   "outputs": [],
   "source": [
    "# time line\n",
    "T_min = 0\n",
    "T_max = 70\n",
    "T_R = 45\n",
    "# discounting factor\n",
    "beta = 1/(1+0.02)\n",
    "# utility function parameter \n",
    "gamma = 2\n",
    "# relative importance of housing consumption and non durable consumption \n",
    "alpha = 0.8\n",
    "# parameter used to calculate the housing consumption \n",
    "kappa = 0.3\n",
    "# depreciation parameter \n",
    "delta = 0.025\n",
    "# housing parameter \n",
    "chi = 0.3\n",
    "# uB associated parameter\n",
    "B = 2\n",
    "# # minimum consumption \n",
    "# c_bar = 3\n",
    "# constant cost \n",
    "c_h = 0.5\n",
    "# All the money amount are denoted in thousand dollars\n",
    "earningShock = [0.8,1.2]\n",
    "# Define transition matrix of economical states\n",
    "# GOOD -> GOOD 0.8, BAD -> BAD 0.6\n",
    "Ps = np.array([[0.6, 0.4],[0.2, 0.8]])\n",
    "# current risk free interest rate\n",
    "# r_b = np.array([0.01 ,0.03]) modify the risk free return \n",
    "r_b = np.array([0.03, 0.05])\n",
    "# stock return depends on current and future econ states\n",
    "# r_k = np.array([[-0.2, 0.15],[-0.15, 0.2]])\n",
    "r_k = np.array([[-0.15, 0.20],[-0.15, 0.20]])\n",
    "# expected return on stock market\n",
    "# r_bar = 0.0667\n",
    "r_bar = 0.02\n",
    "# probability of survival\n",
    "Pa = np.load(\"prob.npy\")\n",
    "# deterministic income\n",
    "detEarning = np.load(\"detEarning.npy\")\n",
    "# probability of employment transition Pe[s, s_next, e, e_next]\n",
    "Pe = np.array([[[[0.3, 0.7], [0.1, 0.9]], [[0.25, 0.75], [0.05, 0.95]]],\n",
    "               [[[0.25, 0.75], [0.05, 0.95]], [[0.2, 0.8], [0.01, 0.99]]]])\n",
    "# tax rate before and after retirement\n",
    "tau_L = 0.2\n",
    "tau_R = 0.1\n",
    "# constant state variables: Purchase value 250k, down payment 50k, mortgage 200k, interest rate 3.6%,\n",
    "# 55 payment period, 8.4k per period. One housing unit is roughly 1 square feet. Housing price 0.25k/sf \n",
    "\n",
    "# some variables associate with 401k amount\n",
    "Nt = [np.sum(Pa[t:]) for t in range(T_max-T_min)]\n",
    "Dt = [np.ceil(((1+r_bar)**N - 1)/(r_bar*(1+r_bar)**N)) for N in Nt]\n",
    "# mortgate rate \n",
    "rh = 0.036\n",
    "D = [((1+rh)**N - 1)/(rh*(1+rh)**N) for N in range(T_max-T_min)]\n",
    "# income fraction goes into 401k \n",
    "yi = 0.005\n",
    "# housing unit\n",
    "H = 750\n",
    "# housing price constant \n",
    "pt = 250/1000\n",
    "# 30k rent 1000 sf\n",
    "pr = 30/1000\n",
    "\n",
    "# wealth discretization \n",
    "ws = np.array([10,25,50,75,100,125,150,175,200,250,500,750,1000,1500,3000])\n",
    "w_grid_size = len(ws)\n",
    "# 401k amount discretization \n",
    "ns = np.array([1, 5, 10, 15, 25, 40, 65, 100, 150, 300, 400,1000])\n",
    "n_grid_size = len(ns)\n",
    "# Mortgage amount, * 0.25 is the housing price per unit\n",
    "Ms = np.array([0.01*H,0.05*H,0.1*H,0.2*H,0.3*H,0.4*H,0.5*H,0.6*H,0.7*H,0.8*H]) * pt\n",
    "M_grid_size = len(Ms)\n",
    "# Improvement amount \n",
    "gs = np.array([0,25,50,75,100])\n",
    "g_grid_size = len(gs)\n",
    "\n",
    "points = (ws,ns,Ms,gs)"
   ]
  },
  {
   "cell_type": "code",
   "execution_count": 3,
   "metadata": {},
   "outputs": [
    {
     "data": {
      "text/plain": [
       "array([3.5, 3.5, 3.5, 3.5, 3.5, 3.5, 3.5, 3.5, 3.5, 3.5, 3.5, 3.5, 3.5,\n",
       "       3.5, 3.5, 3.5, 3.5, 3.5, 3.5, 3.5, 3.5, 3.5, 3.5, 3.5, 3.5, 3.5])"
      ]
     },
     "execution_count": 3,
     "metadata": {},
     "output_type": "execute_result"
    }
   ],
   "source": [
    "# Decrease the retirement income by 90%\n",
    "detEarning[T_R:] = detEarning[T_R:] * (1-0.9)\n",
    "detEarning[T_R:]"
   ]
  },
  {
   "cell_type": "code",
   "execution_count": 4,
   "metadata": {},
   "outputs": [],
   "source": [
    "import quantecon as qe\n",
    "import timeit\n",
    "mc = qe.MarkovChain(Ps)\n",
    "\n",
    "#Vgrid = np.load(\"Vgrid_i.npy\")\n",
    "cgrid = np.load(\"cgrid\" + str(H)+ \".npy\")\n",
    "bgrid = np.load(\"bgrid\" + str(H)+ \".npy\")\n",
    "kgrid = np.load(\"kgrid\" + str(H)+ \".npy\")\n",
    "igrid = np.load(\"igrid\" + str(H)+ \".npy\")\n",
    "qgrid = np.load(\"qgrid\" + str(H)+ \".npy\")\n",
    "\n",
    "def action(t, x):\n",
    "    w, n, M, g_lag, e, s = x\n",
    "    c = interpn(points, cgrid[:,:,:,:,e,s,t], x[:4], method = \"nearest\", bounds_error = False, fill_value = None)[0]\n",
    "    b = interpn(points, bgrid[:,:,:,:,e,s,t], x[:4], method = \"nearest\", bounds_error = False, fill_value = None)[0]\n",
    "    k = interpn(points, kgrid[:,:,:,:,e,s,t], x[:4], method = \"nearest\", bounds_error = False, fill_value = None)[0]\n",
    "    i = interpn(points, igrid[:,:,:,:,e,s,t], x[:4], method = \"nearest\", bounds_error = False, fill_value = None)[0]\n",
    "    q = interpn(points, qgrid[:,:,:,:,e,s,t], x[:4], method = \"nearest\", bounds_error = False, fill_value = None)[0]\n",
    "    return (c,b,k,i,q)\n",
    "\n",
    "#Define the earning function, which applies for both employment and unemployment, good econ state and bad econ state \n",
    "def y(t, x):\n",
    "    w, n, M, g_lag, e, s = x\n",
    "    if t <= T_R:\n",
    "        welfare = 5\n",
    "        return detEarning[t] * earningShock[int(s)] * e + (1-e) * welfare\n",
    "    else:\n",
    "        return detEarning[t]\n",
    "\n",
    "#Define the evolution of the amount in 401k account \n",
    "def gn(t, n, x, s_next):\n",
    "    w, n, M, g_lag, e, s = x\n",
    "    if t <= T_R and e == 1:\n",
    "        # if the person is employed, then 5 percent of his income goes into 401k \n",
    "        # i = 0.05\n",
    "        n_cur = n + y(t, x) * yi\n",
    "    elif t <= T_R and e == 0:\n",
    "        # if the perons is unemployed, then n does not change \n",
    "        n_cur = n\n",
    "    else:\n",
    "        # t > T_R, n/discounting amount will be withdraw from the 401k \n",
    "        n_cur = n - n/Dt[t]\n",
    "    return (1+r_k[int(s), s_next])*n_cur \n",
    "\n",
    "\n",
    "def transition(x, a, t, s_next):\n",
    "    '''\n",
    "    Input: state and action and time\n",
    "    Output: possible future states and corresponding probability \n",
    "    '''\n",
    "    w, n, M, g_lag, e, s = x\n",
    "    c,b,k,i,q = a\n",
    "    # variables used to collect possible states and probabilities\n",
    "    x_next = []\n",
    "    prob_next = []\n",
    "    m = M/D[T_max-t]\n",
    "    M_next = M*(1+rh) - m\n",
    "    if q == 1:\n",
    "        g = (1-delta)*g_lag + i\n",
    "    else:\n",
    "        g = (1-delta)*g_lag\n",
    "        \n",
    "    w_next =  b*(1+r_b[int(s)]) + k*(1+r_k[int(s), s_next])\n",
    "    n_next = gn(t, n, x, s_next)\n",
    "    if t >= T_R:\n",
    "        e_next = 0\n",
    "        return [w_next, n_next, M_next, g, s_next, e_next]\n",
    "    else:\n",
    "        for e_next in [0,1]:\n",
    "            x_next.append([w_next, n_next, M_next, g, s_next, e_next])\n",
    "            prob_next.append(Pe[int(s),s_next,int(e),e_next])\n",
    "    return x_next[np.random.choice(2, 1, p = prob_next)[0]]"
   ]
  },
  {
   "cell_type": "code",
   "execution_count": 5,
   "metadata": {},
   "outputs": [],
   "source": [
    "'''\n",
    "    Start with: \n",
    "    Ms = H * 0.8 * 0.25\n",
    "    w = 20\n",
    "    n  = 0\n",
    "    g_lag = 0\n",
    "    e = 1\n",
    "    s = 1\n",
    "    1000 agents for 1 economy, 100 economies. \n",
    "    \n",
    "    use numpy array to contain the variable change:\n",
    "    \n",
    "    wealth, rFund, Mortgage, hImprov, employment, sState, salary, consumption, hConsumption, bond, stock, improve, hPercentage, life. Shape: (T_max-T_min, numAgents*numEcons)\n",
    "'''\n",
    "x0 = [20, 0, H * 0.8 * pt, 0, 1, 1]\n",
    "\n",
    "numAgents = 1000\n",
    "numEcons = 500"
   ]
  },
  {
   "cell_type": "code",
   "execution_count": 6,
   "metadata": {},
   "outputs": [],
   "source": [
    "import random as rd\n",
    "EconStates = [mc.simulate(ts_length=T_max - T_min, init=0) for _ in range(numEcons)]\n",
    "def simulation(i):\n",
    "    track = np.zeros((T_max - T_min,14))\n",
    "    econState = EconStates[i//numAgents]\n",
    "    alive = True\n",
    "    x = x0\n",
    "    for t in range(1,len(econState)-1):\n",
    "        if rd.random() > Pa[t]:\n",
    "            alive = False\n",
    "        if alive:\n",
    "            track[t, 0] = x[0]\n",
    "            track[t, 1] = x[1]\n",
    "            track[t, 2] = x[2]\n",
    "            track[t, 3] = x[3]\n",
    "            track[t, 4] = x[4]\n",
    "            track[t, 5] = x[5]\n",
    "            track[t, 6] = y(t,x)\n",
    "            a = action(t, x)\n",
    "            track[t, 7] = a[0]\n",
    "            track[t, 9] = a[1]\n",
    "            track[t, 10] = a[2]\n",
    "            track[t, 11] = a[3]\n",
    "            track[t, 12] = a[4]\n",
    "            track[t, 13] = 1\n",
    "            # calculate housing consumption\n",
    "            if a[4] == 1:\n",
    "                h = H + (1-delta)*x[3] + a[3]\n",
    "                Vh = (1+kappa)*h\n",
    "            else:\n",
    "                h = H + (1-delta)*x[3]\n",
    "                Vh = (1-kappa)*(h-(1-a[4])*H)\n",
    "            track[t, 8] = Vh\n",
    "            s_next = econState[t+1]\n",
    "            x = transition(x, a, t, s_next) \n",
    "    return track"
   ]
  },
  {
   "cell_type": "code",
   "execution_count": 7,
   "metadata": {},
   "outputs": [
    {
     "name": "stdout",
     "output_type": "stream",
     "text": [
      "CPU times: user 5.83 s, sys: 5.51 s, total: 11.3 s\n",
      "Wall time: 15min 46s\n"
     ]
    }
   ],
   "source": [
    "%%time\n",
    "pool = Pool()\n",
    "agentsHistory = pool.map(simulation, list(range(numAgents*numEcons)))\n",
    "pool.close()"
   ]
  },
  {
   "cell_type": "code",
   "execution_count": 8,
   "metadata": {},
   "outputs": [
    {
     "data": {
      "text/plain": [
       "500000"
      ]
     },
     "execution_count": 8,
     "metadata": {},
     "output_type": "execute_result"
    }
   ],
   "source": [
    "len(agentsHistory)"
   ]
  },
  {
   "cell_type": "code",
   "execution_count": null,
   "metadata": {},
   "outputs": [],
   "source": [
    "np.save(\"agents\", np.array(agentsHistory))"
   ]
  },
  {
   "cell_type": "code",
   "execution_count": null,
   "metadata": {},
   "outputs": [],
   "source": [
    "agents = np.load(\"agents.npy\")"
   ]
  },
  {
   "cell_type": "code",
   "execution_count": null,
   "metadata": {},
   "outputs": [],
   "source": [
    "wealth = np.zeros((T_max-T_min, numAgents*numEcons))\n",
    "rFund = np.zeros((T_max-T_min, numAgents*numEcons))\n",
    "Mortgage = np.zeros((T_max-T_min, numAgents*numEcons))\n",
    "hImprove = np.zeros((T_max-T_min, numAgents*numEcons))\n",
    "employment = np.zeros((T_max-T_min, numAgents*numEcons))\n",
    "sState = np.zeros((T_max-T_min, numAgents*numEcons))\n",
    "salary = np.zeros((T_max-T_min, numAgents*numEcons))\n",
    "consumption = np.zeros((T_max-T_min, numAgents*numEcons))\n",
    "hConsumption = np.zeros((T_max-T_min, numAgents*numEcons))\n",
    "bond = np.zeros((T_max-T_min, numAgents*numEcons))\n",
    "stock = np.zeros((T_max-T_min, numAgents*numEcons))\n",
    "improve = np.zeros((T_max-T_min, numAgents*numEcons))\n",
    "hPer = np.zeros((T_max-T_min, numAgents*numEcons))\n",
    "life = np.zeros((T_max-T_min, numAgents*numEcons))"
   ]
  },
  {
   "cell_type": "code",
   "execution_count": null,
   "metadata": {},
   "outputs": [],
   "source": [
    "def separateAttributes(agents):\n",
    "    for i in range(numAgents*numEcons):\n",
    "        wealth[:,i] = agents[i][:,0]\n",
    "        rFund[:,i] = agents[i][:,1]\n",
    "        Mortgage[:,i] = agents[i][:,2]\n",
    "        hImprove[:,i] = agents[i][:,3]\n",
    "        employment[:,i] = agents[i][:,4]\n",
    "        sState[:,i] = agents[i][:,5]\n",
    "        salary[:,i] = agents[i][:,6]\n",
    "        consumption[:,i] = agents[i][:,7]\n",
    "        hConsumption[:,i] = agents[i][:,8]\n",
    "        bond[:,i] = agents[i][:,9]\n",
    "        stock[:,i] = agents[i][:,10]\n",
    "        improve[:,i] = agents[i][:,11]\n",
    "        hPer[:,i] = agents[i][:,12]\n",
    "        life[:,i] = agents[i][:,13]\n",
    "separateAttributes(agents)"
   ]
  },
  {
   "cell_type": "code",
   "execution_count": null,
   "metadata": {},
   "outputs": [],
   "source": [
    "np.save(\"wealth\", wealth)\n",
    "np.save(\"rFund\", rFund)\n",
    "np.save(\"Mortgage\", Mortgage)\n",
    "np.save(\"hImprov\", hImprove)\n",
    "np.save(\"employment\", employment)\n",
    "np.save(\"sState\", sState)\n",
    "np.save(\"salary\", salary)\n",
    "np.save(\"consumption\", consumption)\n",
    "np.save(\"hConsumption\", hConsumption)\n",
    "np.save(\"bond\", bond)\n",
    "np.save(\"stock\", stock)\n",
    "np.save(\"improve\", improve)\n",
    "np.save(\"hPer\", hPer)\n",
    "np.save(\"life\", life)"
   ]
  },
  {
   "cell_type": "code",
   "execution_count": null,
   "metadata": {},
   "outputs": [],
   "source": [
    "wealth = np.load(\"wealth.npy\")\n",
    "rFund = np.load(\"rFund.npy\")\n",
    "Mortgage = np.load(\"Mortgage.npy\")\n",
    "hImprove = np.load(\"hImprov.npy\")\n",
    "employment = np.load(\"employment.npy\")\n",
    "sState = np.load(\"sState.npy\")\n",
    "salary = np.load(\"salary.npy\")\n",
    "consumption = np.load(\"consumption.npy\")\n",
    "hConsumption = np.load(\"hConsumption.npy\")\n",
    "bond = np.load(\"bond.npy\")\n",
    "stock = np.load(\"stock.npy\")\n",
    "improve = np.load(\"improve.npy\")\n",
    "hPer = np.load(\"hPer.npy\")\n",
    "life = np.load(\"life.npy\")"
   ]
  },
  {
   "cell_type": "code",
   "execution_count": null,
   "metadata": {
    "scrolled": true
   },
   "outputs": [],
   "source": [
    "# Population during the entire simulation period\n",
    "plt.plot(np.mean(life, axis = 1))"
   ]
  },
  {
   "cell_type": "code",
   "execution_count": null,
   "metadata": {},
   "outputs": [],
   "source": [
    "def quantileForPeopleWholive(attribute, quantiles = [0.25, 0.5, 0.75]):\n",
    "    qList = []\n",
    "    for i in range(69):\n",
    "        if len(np.where(life[i,:] == 1)[0]) == 0:\n",
    "            qList.append(np.array([0] * len(quantiles)))\n",
    "        else:\n",
    "            qList.append(np.quantile(attribute[i, np.where(life[i,:] == 1)], q = quantiles))\n",
    "    return np.array(qList)\n",
    "        \n",
    "def meanForPeopleWholive(attribute):\n",
    "    means = []\n",
    "    for i in range(69):\n",
    "        if len(np.where(life[i,:] == 1)[0]) == 0:\n",
    "            means.append(np.array([0]))\n",
    "        else:\n",
    "            means.append(np.mean(attribute[i, np.where(life[i,:] == 1)]))\n",
    "    return np.array(means)"
   ]
  },
  {
   "cell_type": "code",
   "execution_count": null,
   "metadata": {},
   "outputs": [],
   "source": [
    "# plot the 0.25, 0.5, 0.75 quantiles of hConsumption\n",
    "plt.plot(quantileForPeopleWholive(hConsumption))"
   ]
  },
  {
   "cell_type": "code",
   "execution_count": null,
   "metadata": {},
   "outputs": [],
   "source": [
    "# plot the 0.25, 0.5, 0.75 quantiles of wealth\n",
    "plt.plot(quantileForPeopleWholive(wealth))"
   ]
  },
  {
   "cell_type": "code",
   "execution_count": null,
   "metadata": {},
   "outputs": [],
   "source": [
    "# plot the 0.25, 0.5, 0.75 quantiles of wealth\n",
    "plt.plot(quantileForPeopleWholive(rFund))"
   ]
  },
  {
   "cell_type": "code",
   "execution_count": null,
   "metadata": {},
   "outputs": [],
   "source": [
    "# plot the 0.25, 0.5, 0.75 quantiles of wealth\n",
    "plt.plot(quantileForPeopleWholive(Mortgage))"
   ]
  },
  {
   "cell_type": "code",
   "execution_count": null,
   "metadata": {},
   "outputs": [],
   "source": [
    "# plot the 0.25, 0.5, 0.75 quantiles of wealth\n",
    "plt.plot(quantileForPeopleWholive(consumption))"
   ]
  },
  {
   "cell_type": "code",
   "execution_count": null,
   "metadata": {},
   "outputs": [],
   "source": [
    "# plot the 0.25, 0.5, 0.75 quantiles of wealth\n",
    "plt.plot(quantileForPeopleWholive(bond))"
   ]
  },
  {
   "cell_type": "code",
   "execution_count": null,
   "metadata": {},
   "outputs": [],
   "source": [
    "# plot the 0.25, 0.5, 0.75 quantiles of wealth\n",
    "plt.plot(quantileForPeopleWholive(stock))"
   ]
  },
  {
   "cell_type": "code",
   "execution_count": null,
   "metadata": {},
   "outputs": [],
   "source": [
    "plt.plot(quantileForPeopleWholive(improve))"
   ]
  },
  {
   "cell_type": "code",
   "execution_count": null,
   "metadata": {},
   "outputs": [],
   "source": [
    "plt.plot(quantileForPeopleWholive(hImprove))"
   ]
  },
  {
   "cell_type": "code",
   "execution_count": null,
   "metadata": {},
   "outputs": [],
   "source": [
    "# plot the 0.25, 0.5, 0.75 quantiles of wealth\n",
    "plt.plot(quantileForPeopleWholive(hPer))"
   ]
  },
  {
   "cell_type": "code",
   "execution_count": null,
   "metadata": {},
   "outputs": [],
   "source": [
    "# plot the 0.25, 0.5, 0.75 quantiles of wealth\n",
    "plt.figure(figsize = [14,8])\n",
    "plt.plot(meanForPeopleWholive(wealth), label = \"wealth\")\n",
    "plt.plot(meanForPeopleWholive(consumption), label = \"Consumption\")\n",
    "plt.plot(meanForPeopleWholive(bond), label = \"Bond\")\n",
    "plt.plot(meanForPeopleWholive(stock), label = \"Stock\")\n",
    "plt.plot(meanForPeopleWholive(rFund), label = \"401k\")\n",
    "plt.legend()"
   ]
  },
  {
   "cell_type": "code",
   "execution_count": null,
   "metadata": {},
   "outputs": [],
   "source": []
  }
 ],
 "metadata": {
  "kernelspec": {
   "display_name": "Python 3",
   "language": "python",
   "name": "python3"
  },
  "language_info": {
   "codemirror_mode": {
    "name": "ipython",
    "version": 3
   },
   "file_extension": ".py",
   "mimetype": "text/x-python",
   "name": "python",
   "nbconvert_exporter": "python",
   "pygments_lexer": "ipython3",
   "version": "3.7.6"
  }
 },
 "nbformat": 4,
 "nbformat_minor": 4
}
