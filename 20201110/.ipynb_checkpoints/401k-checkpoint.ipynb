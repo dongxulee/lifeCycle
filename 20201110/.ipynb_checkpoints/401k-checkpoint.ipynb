{
 "cells": [
  {
   "cell_type": "code",
   "execution_count": null,
   "metadata": {},
   "outputs": [],
   "source": [
    "%pylab inline\n",
    "from scipy.interpolate import interpn\n",
    "from helpFunctions import surfacePlot\n",
    "from constant import *\n",
    "from multiprocessing import Pool\n",
    "from functools import partial\n",
    "import warnings\n",
    "import math\n",
    "warnings.filterwarnings(\"ignore\")\n",
    "np.printoptions(precision=2)"
   ]
  },
  {
   "cell_type": "code",
   "execution_count": null,
   "metadata": {},
   "outputs": [],
   "source": [
    "#Define the evolution of the amount in 401k account \n",
    "def y(t, x):\n",
    "    n, e, s = x\n",
    "    if t <= T_R:\n",
    "        return detEarning[t] * (1+gGDP[int(s)]) * e + (1-e) * welfare\n",
    "    else:\n",
    "        return detEarning[t]\n",
    "\n",
    "def gn(t, x, r):\n",
    "    n,e,s = x\n",
    "    if t <= T_R and e == 1:\n",
    "        # if the person is employed, then yi portion of his income goes into 401k \n",
    "        n_cur = n + y(t, x) * yi\n",
    "    elif t <= T_R and e == 0:\n",
    "        # if the perons is unemployed, then n does not change \n",
    "        n_cur = n\n",
    "    else:\n",
    "        # t > T_R, n/discounting amount will be withdraw from the 401k \n",
    "        n_cur = n - n/Dt[t]\n",
    "        # the 401 grow as the same rate as the stock \n",
    "    return (1+r)*n_cur \n",
    "\n",
    "def transition(x,t,s_next):\n",
    "    n, e, s = x\n",
    "    n_next = gn(t, x, (r_b[s]+r_k[s_next])/2)\n",
    "    x_next = []\n",
    "    p_next = []\n",
    "    if t >= T_R:\n",
    "        return [n_next, 0, s_next]\n",
    "    else:\n",
    "        if e == 1:\n",
    "            for e_next in [0,1]:\n",
    "                x_next.append([n_next,e_next, s_next])\n",
    "            prob_next = [Pe[s,e], 1 - Pe[s,e]]\n",
    "        else:\n",
    "            for e_next in [0,1]:\n",
    "                x_next.append([n_next,e_next, s_next])\n",
    "            prob_next = [1-Pe[s,e], Pe[s,e]]\n",
    "        return x_next[np.random.choice(len(prob_next), 1, p = prob_next)[0]]"
   ]
  },
  {
   "cell_type": "code",
   "execution_count": null,
   "metadata": {},
   "outputs": [],
   "source": [
    "x0 = [0,1,1] # n,e,s\n",
    "numAgents = 1000\n",
    "numEcons = 500"
   ]
  },
  {
   "cell_type": "code",
   "execution_count": null,
   "metadata": {},
   "outputs": [],
   "source": [
    "import quantecon as qe\n",
    "import random as rd\n",
    "mc = qe.MarkovChain(Ps)\n",
    "EconStates = [mc.simulate(ts_length=T_max - T_min, init=0) for _ in range(numEcons)]\n",
    "\n",
    "def simulation(i):\n",
    "    track = np.zeros((T_max - T_min,4))\n",
    "    econState = EconStates[i//numAgents]\n",
    "    alive = True\n",
    "    x = x0\n",
    "    for t in range(1,len(econState)-1):\n",
    "        if rd.random() > Pa[t]:\n",
    "            alive = False\n",
    "        if alive:\n",
    "            track[t, 3] = 1\n",
    "            s_next = econState[t+1]\n",
    "            track[t,0] = x[0]\n",
    "            track[t,1] = x[1]\n",
    "            track[t,2] = x[2]\n",
    "            x = transition(x,t,s_next)\n",
    "    return track"
   ]
  },
  {
   "cell_type": "code",
   "execution_count": null,
   "metadata": {},
   "outputs": [],
   "source": [
    "# %%time\n",
    "# pool = Pool()\n",
    "# agents = pool.map(simulation, list(range(numAgents*numEcons)))\n",
    "# pool.close()"
   ]
  },
  {
   "cell_type": "code",
   "execution_count": null,
   "metadata": {},
   "outputs": [],
   "source": [
    "nn = np.zeros((T_max-T_min, numAgents*numEcons))\n",
    "ee = np.zeros((T_max-T_min, numAgents*numEcons))\n",
    "ss = np.zeros((T_max-T_min, numAgents*numEcons))\n",
    "live = np.zeros((T_max-T_min, numAgents*numEcons))\n",
    "def separateAttributes(agents):\n",
    "    for i in range(numAgents*numEcons):\n",
    "        nn[:,i] = agents[i][:,0]\n",
    "        ee[:,i] = agents[i][:,1]\n",
    "        ss[:,i] = agents[i][:,2]\n",
    "        live[:,i] = agents[i][:,3]"
   ]
  },
  {
   "cell_type": "code",
   "execution_count": null,
   "metadata": {},
   "outputs": [],
   "source": [
    "def quantileForPeopleWholive(attribute, quantiles = [0.25, 0.5, 0.75]):\n",
    "    qList = []\n",
    "    for i in range(T_max):\n",
    "        if len(np.where(live[i,:] == 1)[0]) == 0:\n",
    "            qList.append(np.array([0] * len(quantiles)))\n",
    "        else:\n",
    "            qList.append(np.quantile(attribute[i, np.where(live[i,:] == 1)], q = quantiles))\n",
    "    return np.array(qList)\n",
    "        \n",
    "def meanForPeopleWholive(attribute):\n",
    "    means = []\n",
    "    for i in range(T_max):\n",
    "        if len(np.where(live[i,:] == 1)[0]) == 0:\n",
    "            means.append(np.array([0]))\n",
    "        else:\n",
    "            means.append(np.mean(attribute[i, np.where(live[i,:] == 1)]))\n",
    "    return np.array(means)"
   ]
  },
  {
   "cell_type": "code",
   "execution_count": null,
   "metadata": {},
   "outputs": [],
   "source": [
    "NNmean = np.load(\"empirical/nnMean.npy\")\n",
    "NN85 = np.load(\"empirical/nn85.npy\")\n",
    "NN90 = np.load(\"empirical/nn90.npy\")"
   ]
  },
  {
   "cell_type": "code",
   "execution_count": null,
   "metadata": {},
   "outputs": [],
   "source": [
    "for yi in np.linspace(0,0.05,20):\n",
    "    pool = Pool()\n",
    "    agents = pool.map(simulation, list(range(numAgents*numEcons)))\n",
    "    pool.close()\n",
    "    separateAttributes(agents)\n",
    "    print(yi)\n",
    "    plt.figure()\n",
    "    plt.plot(meanForPeopleWholive(nn), label = \"simulation\")\n",
    "    plt.plot(NNmean, label = \"mean\")\n",
    "    plt.plot(nn85, label = \"85%\")\n",
    "    plt.plot(nn90, label = \"90%\")\n",
    "    plt.legend()\n",
    "    plt.show()\n",
    "    "
   ]
  }
 ],
 "metadata": {
  "kernelspec": {
   "display_name": "Python 3",
   "language": "python",
   "name": "python3"
  },
  "language_info": {
   "codemirror_mode": {
    "name": "ipython",
    "version": 3
   },
   "file_extension": ".py",
   "mimetype": "text/x-python",
   "name": "python",
   "nbconvert_exporter": "python",
   "pygments_lexer": "ipython3",
   "version": "3.8.3"
  }
 },
 "nbformat": 4,
 "nbformat_minor": 4
}
