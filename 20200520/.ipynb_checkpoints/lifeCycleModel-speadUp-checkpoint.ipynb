{
 "cells": [
  {
   "cell_type": "code",
   "execution_count": 1,
   "metadata": {},
   "outputs": [
    {
     "name": "stdout",
     "output_type": "stream",
     "text": [
      "Populating the interactive namespace from numpy and matplotlib\n"
     ]
    }
   ],
   "source": [
    "%pylab inline\n",
    "import numpy as np\n",
    "import pandas as pd\n",
    "from scipy.interpolate import interp1d\n",
    "from multiprocessing import Pool\n",
    "from functools import partial \n",
    "import warnings\n",
    "warnings.filterwarnings(\"ignore\")\n",
    "np.printoptions(precision=2)\n",
    "\n",
    "# time line\n",
    "T_min = 20\n",
    "T_max = 80\n",
    "T_y = 65\n",
    "beta = 1/(1+0.02)\n",
    "# States of the economy, GOOD or BAD, {1 : GOOD}, {0 : BAD}\n",
    "S = [0,1]\n",
    "# All the money amount are denoted in thousand dollars\n",
    "earningShock = [0.8,1.2]\n",
    "# Define transition matrix of economical states\n",
    "# GOOD -> GOOD 0.8, BAD -> BAD 0.6 \n",
    "P = np.array([[0.6, 0.4],[0.2, 0.8]])\n",
    "# current risk free interest rate \n",
    "r_f = [0.01 ,0.03]\n",
    "\n",
    "# stock return depends on current and future econ states\n",
    "def r_m(current_state, next_state):\n",
    "    if (current_state == 1 and next_state == 1):\n",
    "        return 0.20\n",
    "    elif (current_state == 1 and next_state == 0):\n",
    "        return -0.15\n",
    "    elif (current_state == 0 and next_state == 1):\n",
    "        return 0.15\n",
    "    else:\n",
    "        return -0.20\n",
    "    \n",
    "#Define the utility function\n",
    "def u(c):\n",
    "    return np.log(c)\n",
    "        \n",
    "\n",
    "# Define deterministic function to captures the hump shape of life-cycle earnings.\n",
    "ageTick = [20, 50, 60, 65, 80]\n",
    "earning = [35, 100, 70, 35, 35]\n",
    "linearFit = interp1d(ageTick, earning, kind = \"linear\")\n",
    "detEarning = np.array(linearFit(np.linspace(T_min, T_max, T_max - T_min + 1)))\n",
    "\n",
    "def y(age, s):\n",
    "    if age <= T_y:\n",
    "        return detEarning[age-T_min-1] * earningShock[s]\n",
    "    else:\n",
    "        return detEarning[age-T_min-1]\n",
    "\n",
    "# Define the transtiion of state \n",
    "def transition(Z, a):\n",
    "    '''\n",
    "        Input: Z is a tuple containing states variables: (w, s) which is the current wealth and econ state\n",
    "               a is the action taken with contains variables: (c, b, k) which is the combination of consumption, bond and stock\n",
    "        Output: the next possible states with corresponding probabilities\n",
    "    '''\n",
    "    w, s = Z\n",
    "    c, b, k = a\n",
    "    # collect possible next state (w_next, s_next) with probability prob\n",
    "    Z_next = []\n",
    "    prob = []\n",
    "    # depend on the current econ state s and future state s_next we have the following return on bond and stock \n",
    "    for s_next in S:\n",
    "        r_bond = r_f[s]\n",
    "        r_stock = r_m(s,s_next)\n",
    "        w_next = b*(1+r_bond) + k*(1+r_stock)\n",
    "        Z_next.append([w_next, s_next])\n",
    "        prob.append(P[s, s_next])\n",
    "    return Z_next, prob"
   ]
  },
  {
   "cell_type": "code",
   "execution_count": 2,
   "metadata": {},
   "outputs": [
    {
     "name": "stdout",
     "output_type": "stream",
     "text": [
      "Shape of grid w grid:  (1000,)\n",
      "Shape of Value matrix:  (1000, 2, 60)\n"
     ]
    }
   ],
   "source": [
    "# timeline is from age 15 - 80, use approximation for value function from age 15 - 79 by discretizing the state space\n",
    "# since we know the terminal condition. Here XX is the grid point collection. Initiate the grid and corresponding value.\n",
    "\n",
    "# This function is used to generate power grid \n",
    "def powspace(start, stop, power, num):\n",
    "    start = np.power(start, 1/float(power))\n",
    "    stop = np.power(stop, 1/float(power))\n",
    "    return np.power(np.linspace(start, stop, num=num), power) \n",
    "\n",
    "w_grid_size = 1000\n",
    "w_lower = 0\n",
    "w_upper = 120000\n",
    "T = T_max - T_min\n",
    "wgrid = powspace(w_lower, w_upper, 3, num = w_grid_size)\n",
    "# wgrid = np.linspace(w_lower, w_upper, num = w_grid_size)\n",
    "\n",
    "print(\"Shape of grid w grid: \", wgrid.shape)\n",
    "# V use to store the value \n",
    "V_t = np.zeros((w_grid_size,len(S),T))\n",
    "C_t = np.zeros((w_grid_size,len(S),T))\n",
    "B_t = np.zeros((w_grid_size,len(S),T))\n",
    "K_t = np.zeros((w_grid_size,len(S),T))\n",
    "print(\"Shape of Value matrix: \", V_t.shape)\n",
    "\n",
    "# Calculate terminal value function \n",
    "V_t[:, 0, T-1] = u(y(T_max,0) + wgrid)\n",
    "V_t[:, 1, T-1] = u(y(T_max,1) + wgrid)\n",
    "C_t[:, 0, T-1] = y(T_max,0) + wgrid\n",
    "C_t[:, 1, T-1] = y(T_max,1) + wgrid\n",
    "B_t[:, 0, T-1] = 0\n",
    "B_t[:, 1, T-1] = 0\n",
    "K_t[:, 0, T-1] = 0\n",
    "K_t[:, 1, T-1] = 0"
   ]
  },
  {
   "cell_type": "code",
   "execution_count": 3,
   "metadata": {},
   "outputs": [],
   "source": [
    "from scipy.optimize import minimize, minimize_scalar\n",
    "# Definition of the value function, return of the funciton is the value of the function and the coresponding policy\n",
    "theta_grid_size = 101\n",
    "theta_grid = np.linspace(start = 0, stop = 1, num = 101)\n",
    "vals = np.zeros(theta_grid_size)\n",
    "bks = np.zeros(theta_grid_size)\n",
    "\n",
    "def V(w, s, t, model):\n",
    "    def obj(bk, theta):\n",
    "        b = bk * theta\n",
    "        k = bk * (1 - theta)\n",
    "        c = y(t,s) + w - bk\n",
    "        if c <= 0 or bk <= 0:\n",
    "            return 9999999999999999 \n",
    "        Z_next, prob = transition([w,s], (c, b, k))\n",
    "        V_next = np.array([model[z[1]](z[0]) for z in Z_next])\n",
    "        return -(u(c) + beta * np.dot(V_next, prob))\n",
    "    \n",
    "    def f(the):\n",
    "        res = minimize_scalar(obj, args = (the))\n",
    "        return [-res.fun, res.x]\n",
    "    results = np.array(list(map(f, theta_grid)))\n",
    "    vals = results[:,0]\n",
    "    bks = results[:,1]                    \n",
    "    index = np.argmax(vals)\n",
    "    max_val = vals[index]\n",
    "    max_the = theta_grid[index]\n",
    "    max_bk = bks[index]\n",
    "    return np.array([max_val, [max_bk*max_the, max_bk*(1-max_the)]])\n"
   ]
  },
  {
   "cell_type": "code",
   "execution_count": 4,
   "metadata": {},
   "outputs": [
    {
     "name": "stdout",
     "output_type": "stream",
     "text": [
      "79\n",
      "78\n",
      "77\n",
      "76\n",
      "75\n",
      "74\n",
      "73\n",
      "72\n",
      "71\n",
      "70\n",
      "69\n",
      "68\n",
      "67\n",
      "66\n",
      "65\n",
      "64\n",
      "63\n",
      "62\n",
      "61\n",
      "60\n",
      "59\n",
      "58\n",
      "57\n",
      "56\n",
      "55\n",
      "54\n",
      "53\n",
      "52\n",
      "51\n",
      "50\n",
      "49\n",
      "48\n",
      "47\n",
      "46\n",
      "45\n",
      "44\n",
      "43\n",
      "42\n",
      "41\n",
      "40\n",
      "39\n",
      "38\n",
      "37\n",
      "36\n",
      "35\n",
      "34\n",
      "33\n",
      "32\n",
      "31\n",
      "30\n",
      "29\n",
      "28\n",
      "27\n",
      "26\n",
      "25\n",
      "24\n",
      "23\n",
      "22\n",
      "21\n",
      "20\n"
     ]
    }
   ],
   "source": [
    "pool = Pool()\n",
    "# Set value to the grid by backward induction \n",
    "for t in range(T_max - 1, T_min - 1, -1):\n",
    "    print(t)\n",
    "    tt = t-T_min-1\n",
    "    cs = [interp1d(wgrid, V_t[:,0,tt+1], kind = \"cubic\", fill_value=\"extrapolate\"),\n",
    "          interp1d(wgrid, V_t[:,1,tt+1], kind = \"cubic\", fill_value=\"extrapolate\")]    \n",
    "    for s in S:                                               \n",
    "        f = partial(V, s = s, t = t, model = cs)\n",
    "        results = np.array(pool.map(f, wgrid))\n",
    "        V_t[:,s,tt] = results[:,0]\n",
    "#        B_t[:,s,tt] = np.array([b for b in results[:,1]])\n",
    "        B_t[:,s,tt] = np.array([b[0] for b in results[:,1]])\n",
    "        K_t[:,s,tt] = np.array([k[1] for k in results[:,1]])\n",
    "        C_t[:,s,tt] = wgrid + y(t,s) - B_t[:,s,tt] - K_t[:,s,tt]\n",
    "pool.close()"
   ]
  },
  {
   "cell_type": "code",
   "execution_count": 5,
   "metadata": {},
   "outputs": [
    {
     "data": {
      "text/plain": [
       "[<matplotlib.lines.Line2D at 0x7f399837c3d0>]"
      ]
     },
     "execution_count": 5,
     "metadata": {},
     "output_type": "execute_result"
    },
    {
     "data": {
      "image/png": "[encoded data removed]",
      "text/plain": [
       "<Figure size 432x288 with 1 Axes>"
      ]
     },
     "metadata": {
      "needs_background": "light"
     },
     "output_type": "display_data"
    }
   ],
   "source": [
    "from matplotlib import pyplot as plt\n",
    "plt.plot(C_t[100,1,:])\n",
    "plt.plot(C_t[200,1,:])\n",
    "plt.plot(C_t[300,1,:])\n",
    "plt.plot(C_t[400,1,:])\n",
    "plt.plot(C_t[500,1,:])\n",
    "plt.plot(C_t[600,1,:])"
   ]
  },
  {
   "cell_type": "code",
   "execution_count": 6,
   "metadata": {},
   "outputs": [
    {
     "data": {
      "text/plain": [
       "[<matplotlib.lines.Line2D at 0x7f3998296150>]"
      ]
     },
     "execution_count": 6,
     "metadata": {},
     "output_type": "execute_result"
    },
    {
     "data": {
      "image/png": "[encoded data removed]",
      "text/plain": [
       "<Figure size 432x288 with 1 Axes>"
      ]
     },
     "metadata": {
      "needs_background": "light"
     },
     "output_type": "display_data"
    }
   ],
   "source": [
    "plt.plot(B_t[100,1,:])\n",
    "plt.plot(B_t[200,1,:])\n",
    "plt.plot(B_t[300,1,:])\n",
    "plt.plot(B_t[400,1,:])\n",
    "plt.plot(B_t[500,1,:])\n",
    "plt.plot(B_t[900,1,:])"
   ]
  },
  {
   "cell_type": "code",
   "execution_count": 7,
   "metadata": {},
   "outputs": [
    {
     "data": {
      "text/plain": [
       "[<matplotlib.lines.Line2D at 0x7f3998214150>]"
      ]
     },
     "execution_count": 7,
     "metadata": {},
     "output_type": "execute_result"
    },
    {
     "data": {
      "image/png": "[encoded data removed]",
      "text/plain": [
       "<Figure size 432x288 with 1 Axes>"
      ]
     },
     "metadata": {
      "needs_background": "light"
     },
     "output_type": "display_data"
    }
   ],
   "source": [
    "plt.plot(K_t[100,1,:])\n",
    "plt.plot(K_t[200,1,:])\n",
    "plt.plot(K_t[300,1,:])\n",
    "plt.plot(K_t[400,1,:])\n",
    "plt.plot(K_t[500,1,:])\n",
    "plt.plot(K_t[600,1,:])"
   ]
  },
  {
   "cell_type": "markdown",
   "metadata": {},
   "source": [
    "### Simulation Part"
   ]
  },
  {
   "cell_type": "code",
   "execution_count": 8,
   "metadata": {},
   "outputs": [],
   "source": [
    "import quantecon as qe\n",
    "def mc_sample_path(P, x0=None, sample_size=1000):\n",
    "\n",
    "    # set up\n",
    "    P = np.asarray(P)\n",
    "    X = np.empty(sample_size, dtype=int)\n",
    "\n",
    "    # Convert each row of P into a cdf\n",
    "    n = len(P)\n",
    "    P_dist = [np.cumsum(P[i, :]) for i in range(n)]\n",
    "\n",
    "    # draw initial state, defaulting to 0\n",
    "    if x0 is not None:\n",
    "        X_0 = qe.random.draw(np.cumsum(x0))\n",
    "    else:\n",
    "        X_0 = 0\n",
    "\n",
    "    # simulate\n",
    "    X[0] = X_0\n",
    "    for t in range(sample_size - 1):\n",
    "        X[t+1] = qe.random.draw(P_dist[X[t]])\n",
    "\n",
    "    return X\n",
    "\n",
    "def action(t, w, s):\n",
    "    c = interp1d(wgrid, C_t[:,s,t], kind = \"linear\", fill_value = \"extrapolate\")(w)\n",
    "    b = interp1d(wgrid, B_t[:,s,t], kind = \"linear\", fill_value = \"extrapolate\")(w)\n",
    "    k = interp1d(wgrid, K_t[:,s,t], kind = \"linear\", fill_value = \"extrapolate\")(w)\n",
    "    return (c,b,k)\n",
    "    \n",
    "# Define the transtiion of state \n",
    "def fixTransition(w, s, s_next, a):\n",
    "    c, b, k = a\n",
    "    # collect possible next state (w_next, s_next) with probability prob\n",
    "    Z_next = []\n",
    "    prob = []\n",
    "    # depend on the current econ state s and future state s_next we have the following return on bond and stock \n",
    "    r_bond = r_f[int(s)]\n",
    "    r_stock = r_m(s,s_next)\n",
    "    w_next = b*(1+r_bond) + k*(1+r_stock)\n",
    "    return w_next"
   ]
  },
  {
   "cell_type": "code",
   "execution_count": 12,
   "metadata": {},
   "outputs": [],
   "source": [
    "def simulation(simulations = 1000):\n",
    "    for sim in range(simulations):\n",
    "        if sim%100 == 0:\n",
    "            print(sim)\n",
    "        # simulate an agent age 15 starting with wealth of 10\n",
    "        w = 20\n",
    "        wealth = []\n",
    "        Consumption = []\n",
    "        Bond = []\n",
    "        Stock = []\n",
    "        econState = mc_sample_path(P, sample_size=60)\n",
    "        for t in range(len(econState)-1):\n",
    "            wealth.append(w)\n",
    "            s = econState[t]\n",
    "            s_next = econState[t+1]\n",
    "            a = action(t, w, s)\n",
    "            Consumption.append(a[0])\n",
    "            Bond.append(a[1])\n",
    "            Stock.append(a[2])\n",
    "            w = fixTransition(w,s,s_next, a)\n",
    "        # dictionary of lists  \n",
    "        dictionary = {'wealth': wealth,\n",
    "                      'Consumption': Consumption, \n",
    "                      'Bond': Bond, \n",
    "                      'Stock': Stock}  \n",
    "        if sim == 0:\n",
    "            df = pd.DataFrame(dictionary) \n",
    "        else:\n",
    "            df = df + pd.DataFrame(dictionary) \n",
    "            \n",
    "    return df "
   ]
  },
  {
   "cell_type": "code",
   "execution_count": 13,
   "metadata": {},
   "outputs": [
    {
     "name": "stdout",
     "output_type": "stream",
     "text": [
      "0\n",
      "100\n",
      "200\n",
      "300\n",
      "400\n",
      "500\n",
      "600\n",
      "700\n",
      "800\n",
      "900\n"
     ]
    }
   ],
   "source": [
    "df = simulation(simulations = 1000)"
   ]
  },
  {
   "cell_type": "code",
   "execution_count": 14,
   "metadata": {},
   "outputs": [
    {
     "data": {
      "text/plain": [
       "<matplotlib.axes._subplots.AxesSubplot at 0x7f39743dc850>"
      ]
     },
     "execution_count": 14,
     "metadata": {},
     "output_type": "execute_result"
    },
    {
     "data": {
      "image/png": "[encoded data removed]",
      "text/plain": [
       "<Figure size 432x288 with 1 Axes>"
      ]
     },
     "metadata": {
      "needs_background": "light"
     },
     "output_type": "display_data"
    }
   ],
   "source": [
    "(df/1000).plot()"
   ]
  },
  {
   "cell_type": "code",
   "execution_count": null,
   "metadata": {},
   "outputs": [],
   "source": []
  }
 ],
 "metadata": {
  "kernelspec": {
   "display_name": "Python 3",
   "language": "python",
   "name": "python3"
  },
  "language_info": {
   "codemirror_mode": {
    "name": "ipython",
    "version": 3
   },
   "file_extension": ".py",
   "mimetype": "text/x-python",
   "name": "python",
   "nbconvert_exporter": "python",
   "pygments_lexer": "ipython3",
   "version": "3.7.4"
  }
 },
 "nbformat": 4,
 "nbformat_minor": 2
}
