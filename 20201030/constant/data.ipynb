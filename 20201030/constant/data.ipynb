{
 "cells": [
  {
   "cell_type": "code",
   "execution_count": 1,
   "metadata": {},
   "outputs": [],
   "source": [
    "import numpy as np\n",
    "earning = np.load(\"detEarning.npy\")"
   ]
  },
  {
   "cell_type": "code",
   "execution_count": null,
   "metadata": {},
   "outputs": [],
   "source": [
    "earning"
   ]
  },
  {
   "cell_type": "code",
   "execution_count": 2,
   "metadata": {},
   "outputs": [
    {
     "data": {
      "text/plain": [
       "array([ 35.        ,  37.16666667,  39.33333333,  41.5       ,\n",
       "        43.66666667,  45.83333333,  48.        ,  50.16666667,\n",
       "        52.33333333,  54.5       ,  56.66666667,  58.83333333,\n",
       "        61.        ,  63.16666667,  65.33333333,  67.5       ,\n",
       "        69.66666667,  71.83333333,  74.        ,  76.16666667,\n",
       "        78.33333333,  80.5       ,  82.66666667,  84.83333333,\n",
       "        87.        ,  89.16666667,  91.33333333,  93.5       ,\n",
       "        95.66666667,  97.83333333, 100.        ,  97.        ,\n",
       "        94.        ,  91.        ,  88.        ,  85.        ,\n",
       "        82.        ,  79.        ,  76.        ,  73.        ,\n",
       "        70.        ,  63.        ,  56.        ,  49.        ,\n",
       "        42.        ,  35.        ,  35.        ,  35.        ,\n",
       "        35.        ,  35.        ,  35.        ,  35.        ,\n",
       "        35.        ,  35.        ,  35.        ,  35.        ,\n",
       "        35.        ,  35.        ,  35.        ,  35.        ,\n",
       "        35.        ,  35.        ,  35.        ,  35.        ,\n",
       "        35.        ,  35.        ,  35.        ,  35.        ,\n",
       "        35.        ,  35.        ,  35.        ])"
      ]
     },
     "execution_count": 2,
     "metadata": {},
     "output_type": "execute_result"
    }
   ],
   "source": [
    "earning"
   ]
  },
  {
   "cell_type": "code",
   "execution_count": 6,
   "metadata": {},
   "outputs": [
    {
     "data": {
      "text/plain": [
       "(array([30]),)"
      ]
     },
     "execution_count": 6,
     "metadata": {},
     "output_type": "execute_result"
    }
   ],
   "source": [
    "np.where(earning == 100)"
   ]
  },
  {
   "cell_type": "code",
   "execution_count": 7,
   "metadata": {},
   "outputs": [
    {
     "data": {
      "text/plain": [
       "(array([40]),)"
      ]
     },
     "execution_count": 7,
     "metadata": {},
     "output_type": "execute_result"
    }
   ],
   "source": [
    "np.where(earning == 70)"
   ]
  },
  {
   "cell_type": "code",
   "execution_count": null,
   "metadata": {},
   "outputs": [],
   "source": []
  }
 ],
 "metadata": {
  "kernelspec": {
   "display_name": "Python 3",
   "language": "python",
   "name": "python3"
  },
  "language_info": {
   "codemirror_mode": {
    "name": "ipython",
    "version": 3
   },
   "file_extension": ".py",
   "mimetype": "text/x-python",
   "name": "python",
   "nbconvert_exporter": "python",
   "pygments_lexer": "ipython3",
   "version": "3.8.3"
  }
 },
 "nbformat": 4,
 "nbformat_minor": 4
}
