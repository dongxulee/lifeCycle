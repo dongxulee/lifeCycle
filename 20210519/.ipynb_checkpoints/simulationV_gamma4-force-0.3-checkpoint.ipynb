{
 "cells": [
  {
   "cell_type": "code",
   "execution_count": 1,
   "metadata": {},
   "outputs": [
    {
     "name": "stdout",
     "output_type": "stream",
     "text": [
      "Populating the interactive namespace from numpy and matplotlib\n"
     ]
    },
    {
     "name": "stderr",
     "output_type": "stream",
     "text": [
      "WARNING:absl:No GPU/TPU found, falling back to CPU. (Set TF_CPP_MIN_LOG_LEVEL=0 and rerun for more info.)\n"
     ]
    }
   ],
   "source": [
    "%pylab inline\n",
    "from constant import * "
   ]
  },
  {
   "cell_type": "code",
   "execution_count": 2,
   "metadata": {},
   "outputs": [],
   "source": [
    "Vgrid = np.load(\"Value03.npy\")"
   ]
  },
  {
   "cell_type": "markdown",
   "metadata": {},
   "source": [
    "Probability of transition between employment and unemployment states is know: $P(0, 1 | S)$, $P(1, 0 | S)$, $P(1, 1 | S)$, $P(0, 0 | S)$   \n",
    "   \n",
    "   \n",
    "The unconditional probability is:    \n",
    "$$P(0,1) = \\Sigma_{s = 1}^{s = 8}P(0, 1 | S = s)P(S=s)$$"
   ]
  },
  {
   "cell_type": "code",
   "execution_count": 3,
   "metadata": {
    "jupyter": {
     "source_hidden": true
    }
   },
   "outputs": [
    {
     "data": {
      "text/plain": [
       "DeviceArray([0.08723426, 0.12654275, 0.11381963, 0.17240335, 0.17240335,\n",
       "             0.11381961, 0.12654276, 0.08723425], dtype=float32)"
      ]
     },
     "execution_count": 3,
     "metadata": {},
     "output_type": "execute_result"
    }
   ],
   "source": [
    "S_distribution = jnp.ones(nS)/nS\n",
    "for i in range(100):\n",
    "    S_distribution = jnp.matmul(S_distribution, Ps)\n",
    "S_distribution"
   ]
  },
  {
   "cell_type": "code",
   "execution_count": 4,
   "metadata": {
    "jupyter": {
     "source_hidden": true
    }
   },
   "outputs": [
    {
     "data": {
      "text/plain": [
       "DeviceArray([[0.23330271, 0.7666973 ],\n",
       "             [0.06959809, 0.9304019 ]], dtype=float32)"
      ]
     },
     "execution_count": 4,
     "metadata": {},
     "output_type": "execute_result"
    }
   ],
   "source": [
    "#P(0,1)\n",
    "P01 = jnp.dot(Pe[:,0],S_distribution)\n",
    "#P(1,0)\n",
    "P10 = jnp.dot(Pe[:,1],S_distribution)\n",
    "jnp.array([[1-P01, P01],[P10, 1-P10]])"
   ]
  },
  {
   "cell_type": "code",
   "execution_count": 5,
   "metadata": {
    "jupyter": {
     "source_hidden": true
    }
   },
   "outputs": [
    {
     "data": {
      "text/plain": [
       "DeviceArray([0.08322192, 0.91677827], dtype=float32)"
      ]
     },
     "execution_count": 5,
     "metadata": {},
     "output_type": "execute_result"
    }
   ],
   "source": [
    "E_distribution = jnp.ones(2)/2\n",
    "for i in range(100):\n",
    "    E_distribution = jnp.matmul(E_distribution, jnp.array([[1-P01, P01],[P10, 1-P10]]))\n",
    "E_distribution"
   ]
  },
  {
   "cell_type": "code",
   "execution_count": 6,
   "metadata": {},
   "outputs": [],
   "source": [
    "num = 100\n",
    "'''\n",
    "    x = [w,n,m,s,e,o]\n",
    "    x = [5,0,0,0,0,0]\n",
    "'''\n",
    "from jax import random\n",
    "\n",
    "def simulation(key):\n",
    "    initE = random.choice(a = nE, p=E_distribution, key = key)\n",
    "    initS = random.choice(a = nS, p=S_distribution, key = key)\n",
    "    x = [5, 0, 0, initS, initE, 0]\n",
    "    path = []\n",
    "    move = []\n",
    "    for t in range(T_min, T_max-1):\n",
    "        _, key = random.split(key)\n",
    "        _,a = V(t,Vgrid[:,:,:,:,:,:,t+1],x)\n",
    "        xp = transition(t,a.reshape((1,-1)),x)\n",
    "        p = xp[:,-1]\n",
    "        x_next = xp[:,:-1]\n",
    "        path.append(x)\n",
    "        move.append(a)\n",
    "        x = x_next[random.choice(a = nS*nE, p=p, key = key)]\n",
    "    return jnp.array(path), jnp.array(move)"
   ]
  },
  {
   "cell_type": "code",
   "execution_count": null,
   "metadata": {},
   "outputs": [],
   "source": [
    "%%time\n",
    "# simulation part \n",
    "keys = vmap(random.PRNGKey)(jnp.arange(num))\n",
    "Paths, Moves = vmap(simulation)(keys)"
   ]
  },
  {
   "cell_type": "code",
   "execution_count": null,
   "metadata": {},
   "outputs": [],
   "source": [
    "# x = [w,n,m,s,e,o]\n",
    "# x = [0,1,2,3,4,5]\n",
    "ws = Paths[:,:,0].T\n",
    "ns = Paths[:,:,1].T\n",
    "ms = Paths[:,:,2].T\n",
    "ss = Paths[:,:,3].T\n",
    "es = Paths[:,:,4].T\n",
    "os = Paths[:,:,5].T\n",
    "cs = Moves[:,:,0].T\n",
    "bs = Moves[:,:,1].T\n",
    "ks = Moves[:,:,2].T\n",
    "hs = Moves[:,:,3].T\n",
    "actions = Moves[:,:,4].T"
   ]
  },
  {
   "cell_type": "code",
   "execution_count": null,
   "metadata": {},
   "outputs": [],
   "source": [
    "plt.figure(figsize = [16,8])\n",
    "plt.title(\"The mean values of simulation\")\n",
    "plt.plot(range(21, T_max-1 + 20),jnp.mean(ws + H*pt*os - ms,axis = 1)[:-1], label = \"wealth + home equity\")\n",
    "plt.plot(range(21, T_max-1 + 20),jnp.mean(ws,axis = 1)[:-1], label = \"wealth\")\n",
    "plt.plot(range(21, T_max-1 + 20),jnp.mean(cs,axis = 1)[:-1], label = \"consumption\")\n",
    "plt.plot(range(21, T_max-1 + 20),jnp.mean(bs,axis = 1)[:-1], label = \"bond\")\n",
    "plt.plot(range(21, T_max-1 + 20),jnp.mean(ks,axis = 1)[:-1], label = \"stock\")\n",
    "# plt.plot((hs*pr).mean(axis = 1)[:-1], label = \"housing\")\n",
    "plt.legend()"
   ]
  },
  {
   "cell_type": "code",
   "execution_count": null,
   "metadata": {},
   "outputs": [],
   "source": [
    "plt.title(\"housing consumption\")\n",
    "plt.plot(range(21, T_max-1 + 20),(hs).mean(axis = 1)[:-1], label = \"housing\")"
   ]
  },
  {
   "cell_type": "code",
   "execution_count": null,
   "metadata": {},
   "outputs": [],
   "source": [
    "(os).mean(axis = 1)[:-1]"
   ]
  },
  {
   "cell_type": "code",
   "execution_count": null,
   "metadata": {},
   "outputs": [],
   "source": [
    "plt.title(\"house owner percentage in the population\")\n",
    "plt.plot(range(21, T_max-1 + 20),(os).mean(axis = 1)[:-1], label = \"owning\")"
   ]
  },
  {
   "cell_type": "code",
   "execution_count": null,
   "metadata": {},
   "outputs": [],
   "source": [
    "plt.title(\"401k\")\n",
    "plt.plot(range(21, T_max-1 + 20),(ns).mean(axis = 1)[:-1], label = \"housing\")"
   ]
  },
  {
   "cell_type": "code",
   "execution_count": null,
   "metadata": {},
   "outputs": [],
   "source": [
    "# agent number, x = [w,n,m,s,e,o]\n",
    "agentNum = 11\n",
    "plt.figure(figsize = [16,8])\n",
    "plt.plot(range(21, T_max-1 + 20),ws[:,agentNum][:-1], label = \"wealth\")\n",
    "plt.plot(range(21, T_max-1 + 20),ns[:,agentNum][:-1], label = \"401k\")\n",
    "plt.plot(range(21, T_max-1 + 20),ms[:,agentNum][:-1], label = \"mortgage\")\n",
    "plt.plot(range(21, T_max-1 + 20),cs[:,agentNum][:-1], label = \"consumption\")\n",
    "plt.plot(range(21, T_max-1 + 20),bs[:,agentNum][:-1], label = \"bond\")\n",
    "plt.plot(range(21, T_max-1 + 20),ks[:,agentNum][:-1], label = \"stock\")\n",
    "plt.legend()"
   ]
  },
  {
   "cell_type": "code",
   "execution_count": null,
   "metadata": {},
   "outputs": [],
   "source": [
    "plt.plot(os[:,agentNum][:-1])"
   ]
  },
  {
   "cell_type": "code",
   "execution_count": null,
   "metadata": {},
   "outputs": [],
   "source": [
    "plt.plot(range(21, T_max-1 + 20),hs[:,agentNum][:-1], label = \"stock\")"
   ]
  }
 ],
 "metadata": {
  "kernelspec": {
   "display_name": "Python 3",
   "language": "python",
   "name": "python3"
  },
  "language_info": {
   "codemirror_mode": {
    "name": "ipython",
    "version": 3
   },
   "file_extension": ".py",
   "mimetype": "text/x-python",
   "name": "python",
   "nbconvert_exporter": "python",
   "pygments_lexer": "ipython3",
   "version": "3.7.6"
  }
 },
 "nbformat": 4,
 "nbformat_minor": 4
}
