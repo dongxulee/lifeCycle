{
 "cells": [
  {
   "cell_type": "code",
   "execution_count": 1,
   "metadata": {},
   "outputs": [
    {
     "name": "stdout",
     "output_type": "stream",
     "text": [
      "Populating the interactive namespace from numpy and matplotlib\n"
     ]
    },
    {
     "name": "stderr",
     "output_type": "stream",
     "text": [
      "WARNING:absl:No GPU/TPU found, falling back to CPU. (Set TF_CPP_MIN_LOG_LEVEL=0 and rerun for more info.)\n"
     ]
    }
   ],
   "source": [
    "%pylab inline\n",
    "from jax.scipy.ndimage import map_coordinates\n",
    "from constant import *\n",
    "import warnings\n",
    "from jax import jit, partial, vmap\n",
    "from tqdm import tqdm\n",
    "warnings.filterwarnings(\"ignore\")"
   ]
  },
  {
   "cell_type": "markdown",
   "metadata": {},
   "source": [
    "### State \n",
    "$$x = [w,n,m,s,e,o]$$   \n",
    "$w$: wealth level    size: 20   \n",
    "$n$: 401k level      size: 10   \n",
    "$m$: mortgage level  size: 10   \n",
    "$s$: economic state  size: 8   \n",
    "$e$: employment state size: 2   \n",
    "$o$: housing state:  size: 2   \n",
    "\n",
    "### Action\n",
    "$c$: consumption amount size: 20   \n",
    "$b$: bond investment size: 20   \n",
    "$k$: stock investment derived from budget constrain once $c$ and $b$ are determined.    \n",
    "$h$: housing consumption size, related to housing status and consumption level   \n",
    "\n",
    "If $O = 1$, the agent owns a house:    \n",
    "$A = [c, b, k, h=H, action = 1]$ sold the house    \n",
    "$A = [c, b, k, h=H, action = 0]$ keep the house   \n",
    "\n",
    "If $O = 0$, the agent do not own a house:   \n",
    "$A = [c, b, k, h= \\frac{c}{\\alpha} \\frac{1-\\alpha}{pr}, action = 0]$ keep renting the house   \n",
    "$A = [c, b, k, h= \\frac{c}{\\alpha} \\frac{1-\\alpha}{pr}, action = 1]$ buy a housing with H unit     \n",
    "\n",
    "### Housing\n",
    "20% down payment of mortgage, fix mortgage rate, single housing unit available, from age between 20 and 50, agents could choose to buy a house, and could choose to sell the house at any moment.  $H = 1000$ "
   ]
  },
  {
   "cell_type": "code",
   "execution_count": 2,
   "metadata": {},
   "outputs": [
    {
     "data": {
      "text/plain": [
       "((64000, 6), (800, 3))"
      ]
     },
     "execution_count": 2,
     "metadata": {},
     "output_type": "execute_result"
    }
   ],
   "source": [
    "nX = Xs.shape[0]\n",
    "nA = As.shape[0]\n",
    "Xs.shape, As.shape"
   ]
  },
  {
   "cell_type": "markdown",
   "metadata": {},
   "source": [
    "### Earning function part "
   ]
  },
  {
   "cell_type": "code",
   "execution_count": 3,
   "metadata": {},
   "outputs": [],
   "source": [
    "#Define the earning function, which applies for both employment status and 8 econ states\n",
    "@partial(jit, static_argnums=(0,))\n",
    "def y(t, x):\n",
    "    '''\n",
    "        x = [w,n,m,s,e,o]\n",
    "        x = [0,1,2,3,4,5]\n",
    "    '''\n",
    "    if t <= T_R:\n",
    "        return detEarning[t] * (1+gGDP[jnp.array(x[3], dtype = jnp.int8)]) * x[4] + (1-x[4]) * welfare\n",
    "    else:\n",
    "        return detEarning[-1]\n",
    "    \n",
    "#Earning after tax and fixed by transaction in and out from 401k account \n",
    "@partial(jit, static_argnums=(0,))\n",
    "def yAT(t,x):\n",
    "    yt = y(t, x)\n",
    "    if t <= T_R:\n",
    "        # yi portion of the income will be put into the 401k if employed\n",
    "        return (1-tau_L)*(yt * (1-yi))*x[4] + (1-x[4])*yt\n",
    "    else:\n",
    "        # t > T_R, n/discounting amount will be withdraw from the 401k \n",
    "        return (1-tau_R)*yt + x[1]*Dn[t]\n",
    "    \n",
    "#Define the evolution of the amount in 401k account \n",
    "@partial(jit, static_argnums=(0,))\n",
    "def gn(t, x, r = r_bar):\n",
    "    if t <= T_R:\n",
    "        # if the person is employed, then yi portion of his income goes into 401k \n",
    "        n_cur = x[1] + y(t, x) * yi * x[4]\n",
    "    else:\n",
    "        # t > T_R, n*Dn amount will be withdraw from the 401k \n",
    "        n_cur = x[1] - x[1]*Dn[t]\n",
    "        # the 401 grow with the rate r \n",
    "    return (1+r)*n_cur"
   ]
  },
  {
   "cell_type": "code",
   "execution_count": 4,
   "metadata": {},
   "outputs": [],
   "source": [
    "#Define the utility function\n",
    "@jit\n",
    "def u(c):\n",
    "    return (jnp.power(c, 1-gamma) - 1)/(1 - gamma)\n",
    "\n",
    "#Define the bequeath function, which is a function of bequeath wealth\n",
    "@jit\n",
    "def uB(tb):\n",
    "    return B*u(tb)\n",
    "\n",
    "#Reward function depends on the housing and non-housing consumption\n",
    "@jit\n",
    "def R(x,a):\n",
    "    '''\n",
    "    Input:\n",
    "        x = [w,n,m,s,e,o]\n",
    "        x = [0,1,2,3,4,5]\n",
    "        a = [c,b,k,h,action]\n",
    "        a = [0,1,2,3,4]\n",
    "    '''\n",
    "    c = a[:,0]\n",
    "    h = a[:,3]\n",
    "    C = jnp.power(c, alpha) * jnp.power(h, 1-alpha)\n",
    "    return u(C)\n",
    "\n",
    "\n",
    "# pc*qc / (ph*qh) = alpha/(1-alpha)\n",
    "@partial(jit, static_argnums=(0,))\n",
    "def feasibleActions(t, x):\n",
    "    # owner\n",
    "    sell = As[:,2]\n",
    "    budget1 = yAT(t,x) + x[0] + sell*(H*pt - x[2] - c_s) + (1-sell)*(x[2] > 0)*(((t<=T_R)*tau_L + (t>T_R)*tau_R)*x[2]*rh - m)\n",
    "    # last term is the tax deduction of the interest portion of mortgage payment    \n",
    "    h = jnp.ones(nA)*H*(1+kappa)*(1-sell) + sell*jnp.clip(budget1*As[:,0]*(1-alpha)/pr, a_max = 500)\n",
    "    c = budget1*As[:,0]*(1-sell) + sell*(budget1*As[:,0] - h*pr)\n",
    "    budget2 = budget1*(1-As[:,0])\n",
    "    k = budget2*As[:,1]*(1-Kc)\n",
    "    b = budget2*(1-As[:,1])\n",
    "    owner_action = jnp.column_stack((c,b,k,h,sell))   \n",
    "    # renter\n",
    "    buy = As[:,2]*(t < 25)\n",
    "    budget1 = yAT(t,x) + x[0] - buy*(H*pt*0.2 + c_h)\n",
    "    h = jnp.clip(budget1*As[:,0]*(1-alpha)/pr, a_max = 500)*(1-buy) + buy*jnp.ones(nA)*H*(1+kappa)\n",
    "    c = (budget1*As[:,0] - h*pr)*(1-buy) + buy*budget1*As[:,0]\n",
    "    budget2 = budget1*(1-As[:,0])\n",
    "    k = budget2*As[:,1]*(1-Kc)\n",
    "    b = budget2*(1-As[:,1])\n",
    "    renter_action = jnp.column_stack((c,b,k,h,buy))\n",
    "    \n",
    "    actions = x[5]*owner_action + (1-x[5])*renter_action\n",
    "    return actions\n",
    "\n",
    "@partial(jit, static_argnums=(0,))\n",
    "def transition(t,a,x):\n",
    "    '''\n",
    "        Input:\n",
    "            x = [w,n,m,s,e,o]\n",
    "            x = [0,1,2,3,4,5]\n",
    "            a = [c,b,k,h,action]\n",
    "            a = [0,1,2,3,4]\n",
    "        Output:\n",
    "            w_next\n",
    "            n_next\n",
    "            m_next\n",
    "            s_next\n",
    "            e_next\n",
    "            o_next\n",
    "            \n",
    "            prob_next\n",
    "    '''\n",
    "    nA = a.shape[0]\n",
    "    s = jnp.array(x[3], dtype = jnp.int8)\n",
    "    e = jnp.array(x[4], dtype = jnp.int8)\n",
    "    # actions taken\n",
    "    b = a[:,1]\n",
    "    k = a[:,2]\n",
    "    action = a[:,4]\n",
    "    w_next = ((1+r_b[s])*b + jnp.outer(k,(1+r_k)).T).T.flatten().repeat(nE)\n",
    "    n_next = gn(t, x)*jnp.ones(w_next.size)\n",
    "    s_next = jnp.tile(jnp.arange(nS),nA).repeat(nE)\n",
    "    e_next = jnp.column_stack((e.repeat(nA*nS),(1-e).repeat(nA*nS))).flatten()\n",
    "    # job status changing probability and econ state transition probability\n",
    "    pe = Pe[s, e]\n",
    "    ps = jnp.tile(Ps[s], nA)\n",
    "    prob_next = jnp.column_stack(((1-pe)*ps,pe*ps)).flatten()\n",
    "    \n",
    "    # owner\n",
    "    m_next_own = ((1-action)*jnp.clip(x[2]*(1+rh) - m, a_min = 0)).repeat(nS*nE)\n",
    "    o_next_own = (x[5] - action).repeat(nS*nE)\n",
    "    # renter\n",
    "    m_next_rent = (action*H*pt*0.8*(1+rh)).repeat(nS*nE)\n",
    "    o_next_rent = action.repeat(nS*nE)\n",
    "    \n",
    "    m_next = x[5] * m_next_own + (1-x[5]) * m_next_rent\n",
    "    o_next = x[5] * o_next_own + (1-x[5]) * o_next_rent   \n",
    "    return jnp.column_stack((w_next,n_next,m_next,s_next,e_next,o_next,prob_next))\n",
    "\n",
    "# used to calculate dot product\n",
    "@jit\n",
    "def dotProduct(p_next, uBTB):\n",
    "    return (p_next*uBTB).reshape((p_next.shape[0]//(nS*nE), (nS*nE))).sum(axis = 1)\n",
    "\n",
    "# define approximation of fit\n",
    "@jit\n",
    "def fit(v, xp):\n",
    "    return map_coordinates(v,jnp.vstack((xp[:,0]/scaleW,\n",
    "                                                      xp[:,1]/scaleN,\n",
    "                                                      xp[:,2]/scaleM,\n",
    "                                                      xp[:,3],\n",
    "                                                      xp[:,4],\n",
    "                                                      xp[:,5])),\n",
    "                                                     order = 1, mode = 'nearest')\n",
    "\n",
    "@partial(jit, static_argnums=(0,))\n",
    "def V(t,V_next,x):\n",
    "    '''\n",
    "    x = [w,n,m,s,e,o]\n",
    "    x = [0,1,2,3,4,5]\n",
    "    xp:\n",
    "        w_next    0\n",
    "        n_next    1\n",
    "        m_next    2\n",
    "        s_next    3\n",
    "        e_next    4\n",
    "        o_next    5\n",
    "        prob_next 6\n",
    "    '''\n",
    "    actions = feasibleActions(t,x)\n",
    "    xp = transition(t,actions,x)\n",
    "    # bequeath utility\n",
    "    TB = xp[:,0]+x[1]*(1+r_bar)+xp[:,5]*(H*pt-x[2]*(1+rh)-c_s)\n",
    "    bequeathU = uB(TB)\n",
    "    if t == T_max-1:\n",
    "        Q = R(x,actions) + beta * dotProduct(xp[:,6], bequeathU)\n",
    "    else:\n",
    "        Q = R(x,actions) + beta * dotProduct(xp[:,6], Pa[t]*fit(V_next, xp) + (1-Pa[t])*bequeathU)\n",
    "    Q = jnp.nan_to_num(Q, nan = -100)\n",
    "    v = Q.max()\n",
    "    cbkha = actions[Q.argmax()]\n",
    "    return v, cbkha"
   ]
  },
  {
   "cell_type": "code",
   "execution_count": 5,
   "metadata": {},
   "outputs": [
    {
     "name": "stderr",
     "output_type": "stream",
     "text": [
      "100%|██████████| 60/60 [55:08<00:00, 55.15s/it]"
     ]
    },
    {
     "name": "stdout",
     "output_type": "stream",
     "text": [
      "CPU times: user 1d 3h 53min 13s, sys: 3h 3min 51s, total: 1d 6h 57min 5s\n",
      "Wall time: 55min 9s\n"
     ]
    },
    {
     "name": "stderr",
     "output_type": "stream",
     "text": [
      "\n"
     ]
    }
   ],
   "source": [
    "%%time\n",
    "for t in tqdm(range(T_max-1,T_min-1, -1)):\n",
    "    if t == T_max-1:\n",
    "        v,cbkha = vmap(partial(V,t,Vgrid[:,:,:,:,:,:,t]))(Xs)\n",
    "    else:\n",
    "        v,cbkha = vmap(partial(V,t,Vgrid[:,:,:,:,:,:,t+1]))(Xs)\n",
    "    Vgrid[:,:,:,:,:,:,t] = v.reshape(dim)\n",
    "    cgrid[:,:,:,:,:,:,t] = cbkha[:,0].reshape(dim)\n",
    "    bgrid[:,:,:,:,:,:,t] = cbkha[:,1].reshape(dim)\n",
    "    kgrid[:,:,:,:,:,:,t] = cbkha[:,2].reshape(dim)\n",
    "    hgrid[:,:,:,:,:,:,t] = cbkha[:,3].reshape(dim)\n",
    "    agrid[:,:,:,:,:,:,t] = cbkha[:,4].reshape(dim)"
   ]
  },
  {
   "cell_type": "code",
   "execution_count": 6,
   "metadata": {},
   "outputs": [
    {
     "data": {
      "text/plain": [
       "<matplotlib.legend.Legend at 0x7fccf49b7e10>"
      ]
     },
     "execution_count": 6,
     "metadata": {},
     "output_type": "execute_result"
    },
    {
     "data": {
      "image/png": "[encoded data removed]",
      "text/plain": [
       "<Figure size 432x288 with 1 Axes>"
      ]
     },
     "metadata": {
      "needs_background": "light"
     },
     "output_type": "display_data"
    }
   ],
   "source": [
    "'''\n",
    "    x = [w,n,m,s,e,o]\n",
    "'''\n",
    "wealthLevel = 6\n",
    "retirement = 4\n",
    "mortgage = 0\n",
    "econState = 4\n",
    "employ = 1\n",
    "house = 0\n",
    "\n",
    "# plt.figure(figsize = [12,6])\n",
    "# plt.plot(cgrid[wealthLevel,retirement,mortgage,econState,employ,house,:], label = \"consumption\")\n",
    "# plt.plot(bgrid[wealthLevel,retirement,mortgage,econState,employ,house,:], label = \"bond\")\n",
    "# plt.plot(kgrid[wealthLevel,retirement,mortgage,econState,employ,house,:], label = \"stock\")\n",
    "# plt.plot(hgrid[wealthLevel,retirement,mortgage,econState,employ,house,:], label = \"housing\")\n",
    "plt.plot(agrid[wealthLevel,retirement,mortgage,econState,1,house,:], label = \"action_employed\")\n",
    "plt.plot(agrid[wealthLevel,retirement,mortgage,econState,0,house,:], label = \"action_unemployed\")\n",
    "legend()"
   ]
  },
  {
   "cell_type": "code",
   "execution_count": 7,
   "metadata": {},
   "outputs": [],
   "source": [
    "np.save(\"Value\",Vgrid)\n",
    "np.save(\"cgrid\",cgrid)\n",
    "np.save(\"bgrid\",bgrid)\n",
    "np.save(\"kgrid\",kgrid)\n",
    "np.save(\"hgrid\",hgrid)\n",
    "np.save(\"agrid\",agrid)"
   ]
  }
 ],
 "metadata": {
  "kernelspec": {
   "display_name": "Python 3",
   "language": "python",
   "name": "python3"
  },
  "language_info": {
   "codemirror_mode": {
    "name": "ipython",
    "version": 3
   },
   "file_extension": ".py",
   "mimetype": "text/x-python",
   "name": "python",
   "nbconvert_exporter": "python",
   "pygments_lexer": "ipython3",
   "version": "3.7.6"
  }
 },
 "nbformat": 4,
 "nbformat_minor": 4
}
