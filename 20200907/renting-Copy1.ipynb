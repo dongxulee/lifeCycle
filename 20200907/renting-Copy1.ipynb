{
 "cells": [
  {
   "cell_type": "code",
   "execution_count": 1,
   "metadata": {},
   "outputs": [
    {
     "name": "stdout",
     "output_type": "stream",
     "text": [
      "Populating the interactive namespace from numpy and matplotlib\n"
     ]
    },
    {
     "data": {
      "text/plain": [
       "<contextlib._GeneratorContextManager at 0x7f40600fbe50>"
      ]
     },
     "execution_count": 1,
     "metadata": {},
     "output_type": "execute_result"
    }
   ],
   "source": [
    "%pylab inline\n",
    "from scipy.interpolate import interpn\n",
    "from helpFunctions import surfacePlot\n",
    "import numpy as np\n",
    "from multiprocessing import Pool\n",
    "from functools import partial\n",
    "import warnings\n",
    "import math\n",
    "warnings.filterwarnings(\"ignore\")\n",
    "np.printoptions(precision=2)"
   ]
  },
  {
   "cell_type": "markdown",
   "metadata": {},
   "source": [
    "### The value of renting\n",
    "Assuming we obtain the value: $\\tilde{V}_{t+1}(x_{t+1})$ where:   \n",
    "$x_{t+1} = [w_{t+1}, n_{t+1}, M_{t+1}, g_{t+1} = 0, e_{t+1}, s_{t+1}, (H)]$  from interpolation. We know $H$ and $M_t$ from the action taken and we could calculate mortgage payment $m$ and $rh$ (now treated as constant) is observed from the market. "
   ]
  },
  {
   "cell_type": "markdown",
   "metadata": {},
   "source": [
    "* To start with we have state variable: $x_t = [w_t, n_t, e_t, s_t]$\n",
    "* Housing choice is limited: $H_{\\text{choice}} = \\{750, 1000, 1500, 2000\\}$ \n",
    "* Mortgage choice is also limitted to discrete values $M_{t} = [0.2H, 0.4H, 0.6H, 0.8H]$ \n",
    "* Action: continue to rent: $a = (c, b, k, h)$ switch to owning a house: $a = (c, b, k, M, H)$\n",
    "* Buying house activities can only happend during the age of 10 and 25."
   ]
  },
  {
   "cell_type": "code",
   "execution_count": 2,
   "metadata": {},
   "outputs": [],
   "source": [
    "# time line\n",
    "T_min = 0\n",
    "T_max = 70\n",
    "T_R = 45\n",
    "# discounting factor\n",
    "beta = 1/(1+0.02)\n",
    "# utility function parameter \n",
    "gamma = 2\n",
    "# relative importance of housing consumption and non durable consumption \n",
    "alpha = 0.8\n",
    "# parameter used to calculate the housing consumption \n",
    "kappa = 0.3\n",
    "# depreciation parameter \n",
    "delta = 0.025\n",
    "# housing parameter \n",
    "chi = 0.3\n",
    "# uB associated parameter\n",
    "B = 2\n",
    "# constant cost \n",
    "c_h = 0.5\n",
    "# All the money amount are denoted in thousand dollars\n",
    "earningShock = [0.8,1.2]\n",
    "# Define transition matrix of economical states\n",
    "# GOOD -> GOOD 0.8, BAD -> BAD 0.6\n",
    "Ps = np.array([[0.6, 0.4],[0.2, 0.8]])\n",
    "# current risk free interest rate\n",
    "r_b = np.array([0.03 ,0.05])\n",
    "# stock return depends on current and future econ states\n",
    "# r_k = np.array([[-0.2, 0.15],[-0.15, 0.2]])\n",
    "r_k = np.array([[-0.15, 0.20],[-0.15, 0.20]])\n",
    "# expected return on stock market\n",
    "# r_bar = 0.0667\n",
    "r_bar = 0.02\n",
    "# probability of survival\n",
    "Pa = np.load(\"prob.npy\")\n",
    "# deterministic income\n",
    "detEarning = np.load(\"detEarning.npy\")\n",
    "# probability of employment transition Pe[s, s_next, e, e_next]\n",
    "Pe = np.array([[[[0.3, 0.7], [0.1, 0.9]], [[0.25, 0.75], [0.05, 0.95]]],\n",
    "               [[[0.25, 0.75], [0.05, 0.95]], [[0.2, 0.8], [0.01, 0.99]]]])\n",
    "# tax rate before and after retirement\n",
    "tau_L = 0.2\n",
    "tau_R = 0.1\n",
    "\n",
    "# some variables associate with 401k amount\n",
    "Nt = [np.sum(Pa[t:]) for t in range(T_max-T_min)]\n",
    "Dt = [np.ceil(((1+r_bar)**N - 1)/(r_bar*(1+r_bar)**N)) for N in Nt]\n",
    "# income fraction goes into 401k \n",
    "yi = 0.005\n",
    "# mortgate rate \n",
    "rh = 0.036\n",
    "# this discount is used to calculate mortgage payment m \n",
    "D = [((1+rh)**N - 1)/(rh*(1+rh)**N) for N in range(T_max-T_min)]\n",
    "# housing price constant \n",
    "pt = 250/1000\n",
    "# renting price constant \n",
    "pr = 30/1000"
   ]
  },
  {
   "cell_type": "code",
   "execution_count": 3,
   "metadata": {},
   "outputs": [],
   "source": [
    "#Define the utility function\n",
    "def u(c):\n",
    "    # shift utility function to the left, so it only takes positive value\n",
    "    return (np.float_power(c, 1-gamma) - 1)/(1 - gamma)\n",
    "\n",
    "#Define the bequeath function, which is a function of wealth\n",
    "def uB(tb):\n",
    "    return B*u(tb)\n",
    "\n",
    "#Calculate TB_rent\n",
    "def calTB_rent(x):\n",
    "    # change input x as numpy array\n",
    "    # w, n, e, s = x\n",
    "    TB = x[:,0] + x[:,1]\n",
    "    return TB\n",
    "\n",
    "#Calculate TB_own \n",
    "def calTB_own(x):\n",
    "    # change input x as numpy array\n",
    "    # transiton from (w, n, e, s) -> (w, n, M, 0, e, s, H)\n",
    "    TB = x[:,0] + x[:,1] + x[:,6]*pt - x[:,2]\n",
    "    return TB\n",
    "\n",
    "def u_rent(a):\n",
    "    '''\n",
    "    Input:\n",
    "        action a: c, b, k, h = a \n",
    "    Output: \n",
    "        reward value: the length of return should be equal to the length of a\n",
    "    '''\n",
    "    c = a[:,0]\n",
    "    h = a[:,3]\n",
    "    C = np.float_power(c, alpha) * np.float_power(h, 1-alpha)\n",
    "    return u(C)\n",
    "\n",
    "def u_own(a):\n",
    "    '''\n",
    "    Input:\n",
    "        action a: c, b, k, M, H = a\n",
    "    Output: \n",
    "        reward value: the length of return should be equal to the length of a\n",
    "    '''\n",
    "    c = a[:,0]\n",
    "    H = a[:,4]\n",
    "    C = np.float_power(c, alpha) * np.float_power((1+kappa)*H, 1-alpha)\n",
    "    return u(C)\n",
    "\n",
    "#Define the earning function, which applies for both employment and unemployment, good econ state and bad econ state \n",
    "def y(t, x):\n",
    "    w, n, e, s = x\n",
    "    if t <= T_R:\n",
    "        welfare = 5\n",
    "        return detEarning[t] * earningShock[int(s)] * e + (1-e) * welfare\n",
    "    else:\n",
    "        return detEarning[t]\n",
    "    \n",
    "#Earning after tax and fixed by transaction in and out from 401k account \n",
    "def yAT(t,x):\n",
    "    yt = y(t, x)\n",
    "    w, n, e, s = x\n",
    "    if t <= T_R and e == 1:\n",
    "        # 5% of the income will be put into the 401k \n",
    "        return (1-tau_L)*(yt * (1-yi))\n",
    "    if t <= T_R and e == 0:\n",
    "        return yt\n",
    "    else:\n",
    "        # t > T_R, n/discounting amount will be withdraw from the 401k \n",
    "        return (1-tau_R)*yt + n/Dt[t]\n",
    "\n",
    "#Define the evolution of the amount in 401k account \n",
    "def gn(t, n, x, s_next):\n",
    "    w, n, e, s = x\n",
    "    if t <= T_R and e == 1:\n",
    "        # if the person is employed, then 5 percent of his income goes into 401k \n",
    "        n_cur = n + y(t, x) * yi\n",
    "    elif t <= T_R and e == 0:\n",
    "        # if the perons is unemployed, then n does not change \n",
    "        n_cur = n\n",
    "    else:\n",
    "        # t > T_R, n/discounting amount will be withdraw from the 401k \n",
    "        n_cur = n - n/Dt[t]\n",
    "    return (1+r_k[int(s), s_next])*n_cur "
   ]
  },
  {
   "cell_type": "code",
   "execution_count": 4,
   "metadata": {},
   "outputs": [],
   "source": [
    "def transition_to_rent(x,a,t):\n",
    "    '''\n",
    "        imput a is np array constains all possible actions \n",
    "        from x = [w, n, e, s] to x = [w, n, e, s]\n",
    "    '''\n",
    "    w, n, e, s = x\n",
    "    # variables used to collect possible states and probabilities\n",
    "    x_next = []\n",
    "    prob_next = []\n",
    "    for aa in a:\n",
    "        c, b, k, h = aa\n",
    "        for s_next in [0,1]:\n",
    "                w_next =  b*(1+r_b[int(s)]) + k*(1+r_k[int(s), s_next])\n",
    "                n_next = gn(t, n, x, s_next)\n",
    "                if t >= T_R:\n",
    "                    e_next = 0\n",
    "                    x_next.append([w_next, n_next, e_next, s_next])\n",
    "                    prob_next.append(Ps[int(s),s_next])\n",
    "                else:\n",
    "                    for e_next in [0,1]:\n",
    "                        x_next.append([w_next, n_next, e_next, s_next])\n",
    "                        prob_next.append(Ps[int(s),s_next] * Pe[int(s),s_next,int(e),e_next])\n",
    "    return np.array(x_next), np.array(prob_next)    \n",
    "  \n",
    "\n",
    "def transition_to_own(x,a,t):\n",
    "    '''\n",
    "        imput a is np array constains all possible actions \n",
    "        from x = [w, n, e, s] to x = [w, n, M, g=0, e, s, H]\n",
    "    '''\n",
    "    w, n, e, s = x\n",
    "    # variables used to collect possible states and probabilities\n",
    "    x_next = []\n",
    "    prob_next = []\n",
    "    for aa in a:\n",
    "        c, b, k, M, H = aa\n",
    "        M_next = M*(1+rh)\n",
    "        for s_next in [0,1]:\n",
    "                w_next =  b*(1+r_b[int(s)]) + k*(1+r_k[int(s), s_next])\n",
    "                n_next = gn(t, n, x, s_next)\n",
    "                if t >= T_R:\n",
    "                    e_next = 0\n",
    "                    x_next.append([w_next, n_next, M_next, 0, e_next, s_next, H])\n",
    "                    prob_next.append(Ps[int(s),s_next])\n",
    "                else:\n",
    "                    for e_next in [0,1]:\n",
    "                        x_next.append([w_next, n_next, M_next, 0, e_next, s_next, H])\n",
    "                        prob_next.append(Ps[int(s),s_next] * Pe[int(s),s_next,int(e),e_next])\n",
    "    return np.array(x_next), np.array(prob_next)"
   ]
  },
  {
   "cell_type": "code",
   "execution_count": 5,
   "metadata": {},
   "outputs": [],
   "source": [
    "# used to calculate dot product\n",
    "def dotProduct(p_next, uBTB, t):\n",
    "    if t >= T_R:\n",
    "        return (p_next*uBTB).reshape((len(p_next)//2,2)).sum(axis = 1)\n",
    "    else:\n",
    "        return (p_next*uBTB).reshape((len(p_next)//4,4)).sum(axis = 1)\n",
    "    \n",
    "# Value function is a function of state and time, according to the restriction transfer from renting to ownning can only happen\n",
    "# between the age: 10 - 25\n",
    "def V(x, t, NN):\n",
    "    w, n, e, s = x\n",
    "    yat = yAT(t,x)\n",
    "    \n",
    "    # first define the objective function solver and then the objective function\n",
    "    def obj_solver_rent(obj_rent):\n",
    "    # a = [c, b, k, h] \n",
    "    # Constrain: yat + w = c + b + k + pr*h\n",
    "    # h_portion takes [0:0.05:0.95]\n",
    "    # c_portion takes remaining [0:0.05:0.95]\n",
    "    # b_portion takes reamining [0:0.05:0.95]\n",
    "    # k is the remainder \n",
    "        actions = []\n",
    "        for hp in np.linspace(0,0.99,20):\n",
    "            budget1 = yat + w\n",
    "            h = budget1 * hp/pr\n",
    "            budget2 = budget1 * (1-hp)\n",
    "            for cp in np.linspace(0,1,11):\n",
    "                c = budget2*cp\n",
    "                budget3 = budget2 * (1-cp)\n",
    "                for bp in np.linspace(0,1,11):\n",
    "                    b = budget3* bp\n",
    "                    k = budget3 * (1-bp)\n",
    "                    # q = 1 not renting in this case \n",
    "                    actions.append([c,b,k,h])\n",
    "                    \n",
    "        actions = np.array(actions)\n",
    "        values = obj_rent(actions)\n",
    "        fun = np.max(values)\n",
    "        ma = actions[np.argmax(values)]\n",
    "        return fun, ma            \n",
    "                    \n",
    "    def obj_solver_own(obj_own):\n",
    "    # a = [c, b, k, M, H]\n",
    "    # possible value of H = {750, 1000, 1500, 2000} possible value of [0.2H, 0.4H, 0.6H, 0.8H]]*pt\n",
    "    # (M, t, rh) --> m \n",
    "    # Constrain: yat + w = c + b + k + (H*pt - M) + ch\n",
    "#         H_options = [750, 1000, 1500, 2000]\n",
    "#         M_options = [0.1, 0.2, 0.3]\n",
    "        H_options = [1000,2000]\n",
    "        M_options = [0.5, 0.8]\n",
    "        actions = []\n",
    "        for H in H_options:\n",
    "            for mp in M_options:\n",
    "                M = mp*H*pt\n",
    "                m = M/D[T_max - t - 1]\n",
    "                # 5 is the welfare income which is also the minimum income\n",
    "                if (H*pt - M) + c_h <= yat + w and m < pr*H + 5:\n",
    "                    budget1 = yat + w - (H*pt - M) - c_h\n",
    "                    # c_portion takes remaining [0:0.05:0.95]\n",
    "                    # b_portion takes reamining [0:0.05:0.95]\n",
    "                    # k is the remainder\n",
    "                    for cp in np.linspace(0,1,11):\n",
    "                        c = budget1*cp\n",
    "                        budget2 = budget1 * (1-cp)\n",
    "                        for bp in np.linspace(0,1,11):\n",
    "                            b = budget2* bp\n",
    "                            k = budget2 * (1-bp)\n",
    "                            actions.append([c,b,k,M,H])            \n",
    "            if len(actions) == 0:\n",
    "                return -np.inf, [0,0,0,0,0]\n",
    "            else:\n",
    "                actions = np.array(actions)\n",
    "                values = obj_own(actions)\n",
    "                fun = np.max(values)\n",
    "                ma = actions[np.argmax(values)]\n",
    "                return fun, ma\n",
    "    \n",
    "    if t == T_max-1:\n",
    "        # The objective function of renting\n",
    "        def obj_rent(actions): \n",
    "            # a = [c, b, k, h]\n",
    "            x_next, p_next  = transition_to_rent(x, actions, t)\n",
    "            uBTB = uB(calTB_rent(x_next)) \n",
    "            return u_rent(actions) + beta * dotProduct(uBTB, p_next, t) \n",
    "\n",
    "        fun, action = obj_solver_rent(obj_rent)\n",
    "        return np.array([fun, action])\n",
    "\n",
    "    elif t < 10 or t > 40:\n",
    "        # The objective function of renting\n",
    "        def obj_rent(actions):\n",
    "            # a = [c, b, k, h]\n",
    "            x_next, p_next  = transition_to_rent(x, actions, t)\n",
    "            V_tilda = NN.predict(x_next) # V_rent_{t+1} used to approximate, shape of x is [w,n,e,s]\n",
    "            uBTB = uB(calTB_rent(x_next))\n",
    "            return u_rent(actions) + beta * (Pa[t] * dotProduct(V_tilda, p_next, t) + (1 - Pa[t]) * dotProduct(uBTB, p_next, t))\n",
    "\n",
    "        fun, action = obj_solver_rent(obj_rent)\n",
    "        return np.array([fun, action])\n",
    "\n",
    "    else:\n",
    "        # The objective function of renting\n",
    "        def obj_rent(actions):\n",
    "            # a = [c, b, k, h]\n",
    "            x_next, p_next  = transition_to_rent(x, actions, t)\n",
    "            V_tilda = NN.predict(x_next) # V_rent_{t+1} used to approximate, shape of x is [w,n,e,s]\n",
    "            uBTB = uB(calTB_rent(x_next))\n",
    "            return u_rent(actions) + beta * (Pa[t] * dotProduct(V_tilda, p_next, t) + (1 - Pa[t]) * dotProduct(uBTB, p_next, t))\n",
    "        # The objective function of owning\n",
    "        def obj_own(actions):\n",
    "            # a = [c, b, k, M, H]\n",
    "            x_next, p_next  = transition_to_own(x, actions, t)\n",
    "            V_tilda = NN.predict(x_next) # V_own_{t+1} used to approximate, shape of x is [w,n,0,e,s,H,M]\n",
    "            uBTB = uB(calTB_own(x_next))\n",
    "            return u_own(actions) + beta * (Pa[t] * dotProduct(V_tilda, p_next, t) + (1 - Pa[t]) * dotProduct(uBTB, p_next, t))\n",
    "\n",
    "        fun1, action1 = obj_solver_rent(obj_rent)\n",
    "        fun2, action2 = obj_solver_own(obj_own)\n",
    "        if fun1 > fun2:\n",
    "            return np.array([fun1, action1])\n",
    "        else:\n",
    "            return np.array([fun2, action2])"
   ]
  },
  {
   "cell_type": "code",
   "execution_count": 6,
   "metadata": {},
   "outputs": [],
   "source": [
    "# wealth discretization \n",
    "ws = np.array([10,25,50,75,100,125,150,175,200,250,500,750,1000,1500,3000])\n",
    "w_grid_size = len(ws)\n",
    "# 401k amount discretization \n",
    "ns = np.array([1, 5, 10, 15, 25, 40, 65, 100, 150, 300, 400,1000])\n",
    "n_grid_size = len(ns)\n",
    "\n",
    "xgrid = np.array([[w, n, e, s]\n",
    "                            for w in ws\n",
    "                            for n in ns\n",
    "                            for e in [0,1]\n",
    "                            for s in [0,1]\n",
    "                            ]).reshape((w_grid_size, n_grid_size,2,2,4))\n",
    "\n",
    "Vgrid = np.zeros((w_grid_size, n_grid_size,2,2, T_max-T_min))\n",
    "cgrid = np.zeros((w_grid_size, n_grid_size,2,2, T_max-T_min))\n",
    "bgrid = np.zeros((w_grid_size, n_grid_size,2,2, T_max-T_min))\n",
    "kgrid = np.zeros((w_grid_size, n_grid_size,2,2, T_max-T_min))\n",
    "hgrid = np.zeros((w_grid_size, n_grid_size,2,2, T_max-T_min))\n",
    "# Policy function of buying a house \n",
    "Mgrid = np.zeros((w_grid_size, n_grid_size,2,2, T_max-T_min))\n",
    "Hgrid = np.zeros((w_grid_size, n_grid_size,2,2, T_max-T_min))"
   ]
  },
  {
   "cell_type": "code",
   "execution_count": 7,
   "metadata": {},
   "outputs": [],
   "source": [
    "V1000 = np.load(\"Vgrid1000.npy\")\n",
    "V1500 = np.load(\"Vgrid1500.npy\")\n",
    "V2000 = np.load(\"Vgrid2000.npy\")\n",
    "V750 = np.load(\"Vgrid750.npy\")\n",
    "# Vown = [V750, V1000, V1500, V2000]\n",
    "# Hs = [750, 1000, 1500, 2000]\n",
    "\n",
    "Vown = [V1000, V2000]\n",
    "Hs = [1000, 2000]"
   ]
  },
  {
   "cell_type": "code",
   "execution_count": 37,
   "metadata": {},
   "outputs": [
    {
     "data": {
      "text/plain": [
       "array([45.33333333, 47.06666667, 48.8       , 50.53333333, 52.26666667,\n",
       "       54.        , 55.73333333, 57.46666667, 59.2       , 60.93333333,\n",
       "       62.66666667, 64.4       , 66.13333333, 67.86666667, 69.6       ])"
      ]
     },
     "execution_count": 37,
     "metadata": {},
     "output_type": "execute_result"
    }
   ],
   "source": [
    "detEarning[10:25] * 0.8"
   ]
  },
  {
   "cell_type": "code",
   "execution_count": 38,
   "metadata": {},
   "outputs": [
    {
     "data": {
      "text/plain": [
       "50.0"
      ]
     },
     "execution_count": 38,
     "metadata": {},
     "output_type": "execute_result"
    }
   ],
   "source": [
    "H = 1000\n",
    "0.2*H*pt"
   ]
  },
  {
   "cell_type": "code",
   "execution_count": null,
   "metadata": {},
   "outputs": [],
   "source": []
  },
  {
   "cell_type": "code",
   "execution_count": 8,
   "metadata": {},
   "outputs": [],
   "source": [
    "class iApproxy(object):\n",
    "    def __init__(self, pointsRent, Vrent, Vown, t):\n",
    "        self.Vrent = Vrent \n",
    "        self.Vown = Vown\n",
    "        self.Prent = pointsRent\n",
    "        self.t = t\n",
    "    def predict(self, xx):\n",
    "        if xx.shape[1] == 4:\n",
    "            # x = [w, n, e, s]\n",
    "            pvalues = np.zeros(xx.shape[0])\n",
    "            index00 = (xx[:,2] == 0) & (xx[:,3] == 0) \n",
    "            index01 = (xx[:,2] == 0) & (xx[:,3] == 1)\n",
    "            index10 = (xx[:,2] == 1) & (xx[:,3] == 0)\n",
    "            index11 = (xx[:,2] == 1) & (xx[:,3] == 1)\n",
    "            pvalues[index00]=interpn(self.Prent, self.Vrent[:,:,0,0], xx[index00][:,:2], bounds_error = False, fill_value = None)\n",
    "            pvalues[index01]=interpn(self.Prent, self.Vrent[:,:,0,1], xx[index01][:,:2], bounds_error = False, fill_value = None)\n",
    "            pvalues[index10]=interpn(self.Prent, self.Vrent[:,:,1,0], xx[index10][:,:2], bounds_error = False, fill_value = None)\n",
    "            pvalues[index11]=interpn(self.Prent, self.Vrent[:,:,1,1], xx[index11][:,:2], bounds_error = False, fill_value = None)\n",
    "            return pvalues\n",
    "        else: \n",
    "            # x = w, n, M, g=0, e, s, H\n",
    "            pvalues = np.zeros(xx.shape[0])\n",
    "            for i in range(len(Hs)):\n",
    "                H = Hs[i]\n",
    "                # Mortgage amount, * 0.25 is the housing price per unit\n",
    "                Ms = np.array([0.01*H,0.05*H,0.1*H,0.2*H,0.3*H,0.4*H,0.5*H,0.6*H,0.7*H,0.8*H]) * pt\n",
    "                points = (ws,ns,Ms)\n",
    "                index00 = (xx[:,4] == 0) & (xx[:,5] == 0) & (xx[:,6] == H) \n",
    "                index01 = (xx[:,4] == 0) & (xx[:,5] == 1) & (xx[:,6] == H)\n",
    "                index10 = (xx[:,4] == 1) & (xx[:,5] == 0) & (xx[:,6] == H)\n",
    "                index11 = (xx[:,4] == 1) & (xx[:,5] == 1) & (xx[:,6] == H)\n",
    "                pvalues[index00]=interpn(points, self.Vown[i][:,:,:,0,0,0,self.t], xx[index00][:,:3], method = \"nearest\",bounds_error = False, fill_value = None)\n",
    "                pvalues[index01]=interpn(points, self.Vown[i][:,:,:,0,0,1,self.t], xx[index01][:,:3], method = \"nearest\",bounds_error = False, fill_value = None)\n",
    "                pvalues[index10]=interpn(points, self.Vown[i][:,:,:,0,1,0,self.t], xx[index10][:,:3], method = \"nearest\",bounds_error = False, fill_value = None)\n",
    "                pvalues[index11]=interpn(points, self.Vown[i][:,:,:,0,1,1,self.t], xx[index11][:,:3], method = \"nearest\",bounds_error = False, fill_value = None)\n",
    "            return pvalues"
   ]
  },
  {
   "cell_type": "code",
   "execution_count": 9,
   "metadata": {},
   "outputs": [
    {
     "name": "stdout",
     "output_type": "stream",
     "text": [
      "69\n",
      "68\n",
      "67\n",
      "66\n",
      "65\n",
      "64\n",
      "63\n",
      "62\n",
      "61\n",
      "60\n",
      "59\n",
      "58\n",
      "57\n",
      "56\n",
      "55\n",
      "54\n",
      "53\n",
      "52\n",
      "51\n",
      "50\n",
      "49\n",
      "48\n",
      "47\n",
      "46\n",
      "45\n",
      "44\n",
      "43\n",
      "42\n",
      "41\n",
      "40\n",
      "39\n",
      "38\n",
      "37\n",
      "36\n",
      "35\n",
      "34\n",
      "33\n",
      "32\n",
      "31\n",
      "30\n",
      "29\n",
      "28\n",
      "27\n",
      "26\n",
      "25\n",
      "24\n",
      "23\n",
      "22\n",
      "21\n",
      "20\n",
      "19\n",
      "18\n",
      "17\n",
      "16\n",
      "15\n",
      "14\n",
      "13\n",
      "12\n",
      "11\n",
      "10\n",
      "9\n",
      "8\n",
      "7\n",
      "6\n",
      "5\n",
      "4\n",
      "3\n",
      "2\n",
      "1\n",
      "CPU times: user 12min 16s, sys: 17min 19s, total: 29min 35s\n",
      "Wall time: 38min 4s\n"
     ]
    }
   ],
   "source": [
    "%%time\n",
    "# value iteration part \n",
    "xs = xgrid.reshape((w_grid_size*n_grid_size*2*2,4))\n",
    "pool = Pool()\n",
    "pointsRent = (ws, ns)\n",
    "for t in range(T_max-1,T_min, -1):\n",
    "    print(t)\n",
    "    if t == T_max - 1:\n",
    "        f = partial(V, t = t, NN = None)\n",
    "        results = np.array(pool.map(f, xs))\n",
    "    else:\n",
    "        approx = iApproxy(pointsRent,Vgrid[:,:,:,:,t+1], Vown, t+1)\n",
    "        f = partial(V, t = t, NN = approx)\n",
    "        results = np.array(pool.map(f, xs))\n",
    "        \n",
    "    # here results need some clean up due to different length of the actions taken.\n",
    "    # a = [c,b,k,h] or a = [c,b,k,M,H]\n",
    "    Vgrid[:,:,:,:,t] = results[:,0].reshape((w_grid_size,n_grid_size,2,2))\n",
    "    cgrid[:,:,:,:,t] = np.array([r[0] for r in results[:,1]]).reshape((w_grid_size,n_grid_size,2,2))\n",
    "    bgrid[:,:,:,:,t] = np.array([r[1] for r in results[:,1]]).reshape((w_grid_size,n_grid_size,2,2))\n",
    "    kgrid[:,:,:,:,t] = np.array([r[2] for r in results[:,1]]).reshape((w_grid_size,n_grid_size,2,2))\n",
    "    # if a = [c, b, k, h]\n",
    "    hgrid[:,:,:,:,t] = np.array([r[3] if len(r) == 4 else r[4] for r in results[:,1]]).reshape((w_grid_size,n_grid_size,2,2))\n",
    "    # if a = [c, b, k, M, H]\n",
    "    Mgrid[:,:,:,:,t] = np.array([r[3] if len(r) == 5 else 0 for r in results[:,1]]).reshape((w_grid_size,n_grid_size,2,2))\n",
    "    Hgrid[:,:,:,:,t] = np.array([r[4] if len(r) == 5 else 0 for r in results[:,1]]).reshape((w_grid_size,n_grid_size,2,2))\n",
    "pool.close()\n",
    "\n",
    "# np.save(\"Vgrid_renting\",Vgrid) \n",
    "# np.save(\"cgrid_renting\",cgrid) \n",
    "# np.save(\"bgrid_renting\",bgrid) \n",
    "# np.save(\"kgrid_renting\",kgrid) \n",
    "# np.save(\"hgrid_renting\",hgrid) \n",
    "# np.save(\"Mgrid_renting\",Mgrid) \n",
    "# np.save(\"Hgrid_renting\",Hgrid) "
   ]
  },
  {
   "cell_type": "code",
   "execution_count": 20,
   "metadata": {},
   "outputs": [
    {
     "data": {
      "text/plain": [
       "array([  10,   25,   50,   75,  100,  125,  150,  175,  200,  250,  500,\n",
       "        750, 1000, 1500, 3000])"
      ]
     },
     "execution_count": 20,
     "metadata": {},
     "output_type": "execute_result"
    }
   ],
   "source": [
    "ws"
   ]
  },
  {
   "cell_type": "code",
   "execution_count": 10,
   "metadata": {},
   "outputs": [
    {
     "name": "stdout",
     "output_type": "stream",
     "text": [
      "[  0.   0.   0.   0. 750. 750. 750. 750. 750. 750. 750. 750. 750. 750.\n",
      " 750.]\n",
      "[  0.   0.   0.   0. 750. 750. 750. 750. 750. 750. 750. 750. 750. 750.\n",
      " 750.]\n",
      "[  0.   0.   0.   0. 750. 750. 750. 750. 750. 750. 750. 750. 750. 750.\n",
      " 750.]\n",
      "[  0.   0.   0.   0. 750. 750. 750. 750. 750. 750. 750. 750. 750. 750.\n",
      " 750.]\n",
      "[  0.   0.   0.   0. 750. 750. 750. 750. 750. 750. 750. 750. 750. 750.\n",
      " 750.]\n",
      "[  0.   0.   0.   0. 750. 750. 750. 750. 750. 750. 750. 750. 750. 750.\n",
      " 750.]\n",
      "[  0.   0.   0.   0. 750. 750. 750. 750. 750. 750. 750. 750. 750. 750.\n",
      " 750.]\n",
      "[  0.   0.   0.   0. 750. 750. 750. 750. 750. 750. 750. 750. 750. 750.\n",
      " 750.]\n",
      "[  0.   0.   0.   0. 750. 750. 750. 750. 750. 750. 750. 750. 750. 750.\n",
      " 750.]\n",
      "[  0.   0.   0.   0. 750. 750. 750. 750. 750. 750. 750. 750. 750. 750.\n",
      " 750.]\n",
      "[  0.   0.   0.   0. 750. 750. 750. 750. 750. 750. 750. 750. 750. 750.\n",
      " 750.]\n",
      "[  0.   0.   0.   0. 750. 750. 750. 750. 750. 750. 750. 750. 750. 750.\n",
      " 750.]\n",
      "[  0.   0.   0.   0. 750. 750. 750. 750. 750. 750. 750. 750. 750. 750.\n",
      " 750.]\n",
      "[  0.   0.   0.   0. 750. 750. 750. 750. 750. 750. 750. 750. 750. 750.\n",
      " 750.]\n",
      "[  0.   0.   0.   0. 750. 750. 750. 750. 750. 750. 750. 750. 750. 750.\n",
      " 750.]\n",
      "[  0.   0.   0. 750. 750. 750. 750. 750. 750. 750. 750. 750. 750. 750.\n",
      " 750.]\n",
      "[  0.   0.   0. 750. 750. 750. 750. 750. 750. 750. 750. 750. 750. 750.\n",
      " 750.]\n",
      "[  0.   0.   0. 750. 750. 750. 750. 750. 750. 750. 750. 750. 750. 750.\n",
      " 750.]\n",
      "[  0.   0.   0. 750. 750. 750. 750. 750. 750. 750. 750. 750. 750. 750.\n",
      " 750.]\n",
      "[  0.   0.   0. 750. 750. 750. 750. 750. 750. 750. 750. 750. 750. 750.\n",
      " 750.]\n",
      "[  0.   0.   0. 750. 750. 750. 750. 750. 750. 750. 750. 750. 750. 750.\n",
      " 750.]\n",
      "[  0.   0.   0. 750. 750. 750. 750. 750. 750. 750. 750. 750. 750. 750.\n",
      " 750.]\n",
      "[  0.   0.   0. 750. 750. 750. 750. 750. 750. 750. 750. 750. 750. 750.\n",
      " 750.]\n",
      "[  0.   0.   0. 750. 750. 750. 750. 750. 750. 750. 750. 750. 750. 750.\n",
      " 750.]\n",
      "[  0.   0.   0. 750. 750. 750. 750. 750. 750. 750. 750. 750. 750. 750.\n",
      " 750.]\n",
      "[  0.   0.   0. 750. 750. 750. 750. 750. 750. 750. 750. 750. 750. 750.\n",
      " 750.]\n",
      "[  0.   0.   0.   0. 750. 750. 750. 750. 750. 750. 750. 750. 750. 750.\n",
      " 750.]\n",
      "[  0.   0.   0.   0. 750. 750. 750. 750. 750. 750. 750. 750. 750. 750.\n",
      " 750.]\n",
      "[  0.   0.   0.   0. 750. 750. 750. 750. 750. 750. 750. 750. 750. 750.\n",
      " 750.]\n",
      "[  0.   0.   0.   0. 750. 750. 750. 750. 750. 750. 750. 750. 750. 750.\n",
      " 750.]\n"
     ]
    }
   ],
   "source": [
    "for tt in range(10,40):\n",
    "    print(Hgrid[:,1,1,1,tt])"
   ]
  },
  {
   "cell_type": "code",
   "execution_count": 11,
   "metadata": {},
   "outputs": [
    {
     "name": "stdout",
     "output_type": "stream",
     "text": [
      "[  0.   0.   0.   0.   0.   0. 750. 750. 750. 750. 750. 750. 750. 750.\n",
      " 750.]\n",
      "[  0.   0.   0.   0.   0.   0. 750. 750. 750. 750. 750. 750. 750. 750.\n",
      " 750.]\n",
      "[  0.   0.   0.   0.   0.   0. 750. 750. 750. 750. 750. 750. 750. 750.\n",
      " 750.]\n",
      "[  0.   0.   0.   0.   0.   0. 750. 750. 750. 750. 750. 750. 750. 750.\n",
      " 750.]\n",
      "[  0.   0.   0.   0.   0.   0. 750. 750. 750. 750. 750. 750. 750. 750.\n",
      " 750.]\n",
      "[  0.   0.   0.   0.   0.   0. 750. 750. 750. 750. 750. 750. 750. 750.\n",
      " 750.]\n",
      "[  0.   0.   0.   0.   0.   0. 750. 750. 750. 750. 750. 750. 750. 750.\n",
      " 750.]\n",
      "[  0.   0.   0.   0.   0.   0. 750. 750. 750. 750. 750. 750. 750. 750.\n",
      " 750.]\n",
      "[  0.   0.   0.   0.   0.   0. 750. 750. 750. 750. 750. 750. 750. 750.\n",
      " 750.]\n",
      "[  0.   0.   0.   0.   0.   0. 750. 750. 750. 750. 750. 750. 750. 750.\n",
      " 750.]\n",
      "[  0.   0.   0.   0.   0.   0.   0. 750. 750. 750. 750. 750. 750. 750.\n",
      " 750.]\n",
      "[  0.   0.   0.   0.   0.   0.   0. 750. 750. 750. 750. 750. 750. 750.\n",
      " 750.]\n",
      "[  0.   0.   0.   0.   0.   0.   0. 750. 750. 750. 750. 750. 750. 750.\n",
      " 750.]\n",
      "[  0.   0.   0.   0.   0.   0.   0. 750. 750. 750. 750. 750. 750. 750.\n",
      " 750.]\n",
      "[  0.   0.   0.   0.   0.   0.   0. 750. 750. 750. 750. 750. 750. 750.\n",
      " 750.]\n",
      "[  0.   0.   0.   0.   0.   0.   0. 750. 750. 750. 750. 750. 750. 750.\n",
      " 750.]\n",
      "[  0.   0.   0.   0.   0.   0.   0. 750. 750. 750. 750. 750. 750. 750.\n",
      " 750.]\n",
      "[  0.   0.   0.   0.   0.   0.   0. 750. 750. 750. 750. 750. 750. 750.\n",
      " 750.]\n",
      "[  0.   0.   0.   0.   0.   0.   0. 750. 750. 750. 750. 750. 750. 750.\n",
      " 750.]\n",
      "[  0.   0.   0.   0.   0.   0.   0. 750. 750. 750. 750. 750. 750. 750.\n",
      " 750.]\n",
      "[  0.   0.   0.   0.   0.   0.   0. 750. 750. 750.   0. 750. 750. 750.\n",
      " 750.]\n",
      "[  0.   0.   0.   0.   0.   0.   0. 750. 750. 750.   0. 750. 750. 750.\n",
      " 750.]\n",
      "[  0.   0.   0.   0.   0.   0.   0. 750. 750. 750.   0. 750. 750. 750.\n",
      " 750.]\n",
      "[  0.   0.   0.   0.   0.   0. 750. 750. 750. 750.   0. 750. 750. 750.\n",
      " 750.]\n",
      "[  0.   0.   0.   0.   0.   0. 750. 750. 750. 750.   0. 750. 750. 750.\n",
      " 750.]\n",
      "[  0.   0.   0.   0.   0.   0. 750. 750. 750. 750.   0. 750. 750. 750.\n",
      " 750.]\n",
      "[  0.   0.   0.   0.   0.   0. 750. 750. 750. 750.   0. 750. 750. 750.\n",
      " 750.]\n",
      "[  0.   0.   0.   0.   0.   0. 750. 750. 750. 750.   0. 750. 750. 750.\n",
      " 750.]\n",
      "[  0.   0.   0.   0.   0.   0. 750. 750. 750. 750.   0. 750. 750. 750.\n",
      " 750.]\n",
      "[  0.   0.   0.   0.   0.   0. 750. 750. 750. 750.   0. 750. 750. 750.\n",
      " 750.]\n"
     ]
    }
   ],
   "source": [
    "for tt in range(10,40):\n",
    "    print(Hgrid[:,1,0,1,tt])"
   ]
  },
  {
   "cell_type": "code",
   "execution_count": 12,
   "metadata": {},
   "outputs": [
    {
     "name": "stdout",
     "output_type": "stream",
     "text": [
      "[  0.   0.   0.   0.   0. 750. 750. 750. 750. 750.   0. 750. 750. 750.\n",
      " 750.]\n",
      "[  0.   0.   0.   0.   0. 750. 750. 750. 750. 750. 750. 750. 750. 750.\n",
      " 750.]\n",
      "[  0.   0.   0.   0.   0. 750. 750. 750. 750. 750. 750. 750. 750. 750.\n",
      " 750.]\n",
      "[  0.   0.   0.   0.   0. 750. 750. 750. 750. 750. 750. 750. 750. 750.\n",
      " 750.]\n",
      "[  0.   0.   0.   0.   0. 750. 750. 750. 750. 750. 750. 750. 750. 750.\n",
      " 750.]\n",
      "[  0.   0.   0.   0.   0. 750. 750. 750. 750. 750. 750. 750. 750. 750.\n",
      " 750.]\n",
      "[  0.   0.   0.   0.   0. 750. 750. 750. 750. 750. 750. 750. 750. 750.\n",
      " 750.]\n",
      "[  0.   0.   0.   0.   0. 750. 750. 750. 750. 750. 750. 750. 750. 750.\n",
      " 750.]\n",
      "[  0.   0.   0.   0.   0. 750. 750. 750. 750. 750. 750. 750. 750. 750.\n",
      " 750.]\n",
      "[  0.   0.   0.   0.   0. 750. 750. 750. 750. 750. 750. 750. 750. 750.\n",
      " 750.]\n",
      "[  0.   0.   0.   0.   0. 750. 750. 750. 750. 750. 750. 750. 750. 750.\n",
      " 750.]\n",
      "[  0.   0.   0.   0. 750. 750. 750. 750. 750. 750. 750. 750. 750. 750.\n",
      " 750.]\n",
      "[  0.   0.   0.   0. 750. 750. 750. 750. 750. 750. 750. 750. 750. 750.\n",
      " 750.]\n",
      "[  0.   0.   0.   0. 750. 750. 750. 750. 750. 750. 750. 750. 750. 750.\n",
      " 750.]\n",
      "[  0.   0.   0.   0. 750. 750. 750. 750. 750. 750. 750.   0. 750. 750.\n",
      " 750.]\n",
      "[  0.   0.   0.   0. 750. 750. 750. 750. 750. 750. 750. 750. 750. 750.\n",
      " 750.]\n",
      "[  0.   0.   0.   0. 750. 750. 750. 750. 750. 750. 750. 750. 750. 750.\n",
      " 750.]\n",
      "[  0.   0.   0.   0. 750. 750. 750. 750. 750. 750. 750. 750. 750. 750.\n",
      " 750.]\n",
      "[  0.   0.   0.   0. 750. 750. 750. 750. 750. 750. 750. 750. 750. 750.\n",
      " 750.]\n",
      "[  0.   0.   0.   0. 750. 750. 750. 750. 750. 750. 750. 750. 750. 750.\n",
      " 750.]\n",
      "[  0.   0.   0.   0. 750. 750. 750. 750. 750. 750. 750. 750. 750. 750.\n",
      " 750.]\n",
      "[  0.   0.   0.   0. 750. 750. 750. 750. 750. 750. 750. 750. 750. 750.\n",
      " 750.]\n",
      "[  0.   0.   0.   0. 750. 750. 750. 750. 750. 750. 750. 750. 750. 750.\n",
      " 750.]\n",
      "[  0.   0.   0.   0. 750. 750. 750. 750. 750. 750. 750. 750. 750. 750.\n",
      " 750.]\n",
      "[  0.   0.   0.   0. 750. 750. 750. 750. 750. 750. 750. 750. 750. 750.\n",
      " 750.]\n",
      "[  0.   0.   0.   0. 750. 750. 750. 750. 750. 750. 750. 750. 750. 750.\n",
      " 750.]\n",
      "[  0.   0.   0.   0. 750. 750. 750. 750. 750. 750. 750. 750. 750. 750.\n",
      " 750.]\n",
      "[  0.   0.   0.   0. 750. 750. 750. 750. 750. 750. 750. 750. 750. 750.\n",
      " 750.]\n",
      "[  0.   0.   0.   0. 750. 750. 750. 750. 750. 750. 750. 750. 750. 750.\n",
      " 750.]\n",
      "[  0.   0.   0.   0. 750. 750. 750. 750. 750. 750. 750. 750. 750. 750.\n",
      " 750.]\n"
     ]
    }
   ],
   "source": [
    "for tt in range(10,40):\n",
    "    print(Hgrid[:,1,1,0,tt])"
   ]
  },
  {
   "cell_type": "code",
   "execution_count": 13,
   "metadata": {},
   "outputs": [
    {
     "name": "stdout",
     "output_type": "stream",
     "text": [
      "[ 0.    0.    0.    0.    0.    0.   56.25 56.25 56.25 56.25  0.   56.25\n",
      " 56.25 56.25 56.25]\n",
      "[ 0.    0.    0.    0.    0.    0.   56.25 56.25 56.25 56.25  0.   56.25\n",
      " 56.25 56.25 56.25]\n",
      "[ 0.    0.    0.    0.    0.    0.   56.25 56.25 56.25 56.25  0.   56.25\n",
      " 56.25 56.25 56.25]\n",
      "[ 0.    0.    0.    0.    0.    0.   56.25 56.25 56.25 56.25  0.   56.25\n",
      " 56.25 56.25 56.25]\n",
      "[ 0.    0.    0.    0.    0.    0.   56.25 56.25 56.25 56.25  0.   56.25\n",
      " 56.25 56.25 56.25]\n",
      "[ 0.    0.    0.    0.    0.    0.   56.25 56.25 56.25 56.25  0.   56.25\n",
      " 56.25 56.25 56.25]\n",
      "[ 0.    0.    0.    0.    0.    0.   56.25 56.25 56.25 56.25  0.   56.25\n",
      " 56.25 56.25 56.25]\n",
      "[ 0.    0.    0.    0.    0.    0.   56.25 56.25 56.25 56.25  0.   56.25\n",
      " 56.25 56.25 56.25]\n",
      "[ 0.    0.    0.    0.    0.    0.   56.25 56.25 56.25 56.25  0.   56.25\n",
      " 56.25 56.25 56.25]\n",
      "[ 0.    0.    0.    0.    0.    0.   56.25 56.25 56.25 56.25  0.   56.25\n",
      " 56.25 56.25 56.25]\n",
      "[ 0.    0.    0.    0.    0.    0.   56.25 56.25 56.25 56.25  0.   56.25\n",
      " 56.25 56.25 56.25]\n",
      "[ 0.    0.    0.    0.    0.    0.   56.25 56.25 56.25 56.25  0.   56.25\n",
      " 56.25 56.25 56.25]\n",
      "[ 0.    0.    0.    0.    0.    0.   56.25 56.25 56.25 56.25  0.   56.25\n",
      " 56.25 56.25 56.25]\n",
      "[ 0.    0.    0.    0.    0.    0.   56.25 56.25 56.25 56.25  0.    0.\n",
      " 56.25 56.25 56.25]\n",
      "[ 0.    0.    0.    0.    0.    0.   56.25 56.25 56.25 56.25  0.    0.\n",
      " 56.25 56.25 56.25]\n",
      "[ 0.    0.    0.    0.    0.    0.   56.25 56.25 56.25 56.25  0.    0.\n",
      " 56.25 56.25 56.25]\n",
      "[ 0.    0.    0.    0.    0.    0.   56.25 56.25 56.25 56.25  0.    0.\n",
      " 56.25 56.25 56.25]\n",
      "[ 0.    0.    0.    0.    0.    0.   56.25 56.25 56.25 56.25  0.    0.\n",
      " 56.25 56.25 56.25]\n",
      "[ 0.    0.    0.    0.    0.    0.   56.25 56.25 56.25 56.25  0.    0.\n",
      " 56.25 56.25 56.25]\n",
      "[ 0.    0.    0.    0.    0.    0.   56.25 56.25 56.25 56.25 56.25  0.\n",
      " 56.25 56.25 56.25]\n",
      "[ 0.    0.    0.    0.    0.    0.   56.25 56.25 56.25 56.25 56.25  0.\n",
      " 56.25 56.25 56.25]\n",
      "[ 0.    0.    0.    0.    0.    0.   56.25 56.25 56.25 56.25 56.25  0.\n",
      " 56.25 56.25 56.25]\n",
      "[ 0.    0.    0.    0.    0.    0.   56.25 56.25 56.25 56.25 56.25  0.\n",
      " 56.25 56.25 56.25]\n",
      "[ 0.    0.    0.    0.    0.    0.   56.25 56.25 56.25 56.25 18.75  0.\n",
      " 56.25 56.25 56.25]\n",
      "[ 0.    0.    0.    0.    0.    0.   56.25 56.25 56.25 56.25 18.75 56.25\n",
      " 56.25 56.25 56.25]\n",
      "[ 0.    0.    0.    0.    0.    0.   56.25 56.25 56.25 56.25 18.75 56.25\n",
      " 56.25 56.25 56.25]\n",
      "[ 0.    0.    0.    0.    0.    0.   56.25 56.25 56.25 56.25 18.75 56.25\n",
      " 56.25 56.25 56.25]\n",
      "[ 0.    0.    0.    0.    0.    0.   56.25 56.25 56.25 56.25 18.75 56.25\n",
      " 56.25 56.25 56.25]\n",
      "[ 0.    0.    0.    0.    0.    0.   56.25 56.25 56.25 56.25 18.75 56.25\n",
      " 56.25 56.25 56.25]\n",
      "[ 0.    0.    0.    0.    0.    0.   56.25 56.25 56.25 56.25 18.75 56.25\n",
      " 56.25 56.25 56.25]\n"
     ]
    }
   ],
   "source": [
    "for tt in range(10,40):\n",
    "    print(Mgrid[:,1,0,0,tt])"
   ]
  },
  {
   "cell_type": "code",
   "execution_count": 14,
   "metadata": {},
   "outputs": [
    {
     "name": "stdout",
     "output_type": "stream",
     "text": [
      "[ 0.    0.    0.    0.   56.25 56.25 56.25 56.25 56.25 56.25 56.25 56.25\n",
      " 56.25 56.25 56.25]\n",
      "[ 0.    0.    0.    0.   56.25 56.25 56.25 56.25 56.25 56.25 56.25 56.25\n",
      " 56.25 56.25 56.25]\n",
      "[ 0.    0.    0.    0.   56.25 56.25 56.25 56.25 56.25 56.25 56.25 56.25\n",
      " 56.25 56.25 56.25]\n",
      "[ 0.    0.    0.    0.   56.25 56.25 56.25 56.25 56.25 56.25 56.25 56.25\n",
      " 56.25 56.25 56.25]\n",
      "[ 0.    0.    0.    0.   56.25 56.25 56.25 56.25 56.25 56.25 56.25 56.25\n",
      " 56.25 56.25 56.25]\n",
      "[ 0.    0.    0.    0.   56.25 56.25 56.25 56.25 56.25 56.25 56.25 56.25\n",
      " 56.25 56.25 56.25]\n",
      "[ 0.    0.    0.    0.   56.25 56.25 56.25 56.25 56.25 56.25 56.25 56.25\n",
      " 56.25 56.25 56.25]\n",
      "[ 0.    0.    0.    0.   56.25 56.25 56.25 56.25 56.25 56.25 56.25 56.25\n",
      " 56.25 56.25 56.25]\n",
      "[ 0.    0.    0.    0.   56.25 56.25 56.25 56.25 56.25 56.25 56.25 56.25\n",
      " 56.25 56.25 56.25]\n",
      "[ 0.    0.    0.    0.   56.25 56.25 56.25 56.25 56.25 56.25 56.25 56.25\n",
      " 56.25 56.25 56.25]\n",
      "[ 0.    0.    0.    0.   56.25 56.25 56.25 56.25 56.25 56.25 56.25 56.25\n",
      " 56.25 56.25 56.25]\n",
      "[ 0.    0.    0.    0.   56.25 56.25 56.25 56.25 56.25 56.25 56.25 56.25\n",
      " 56.25 56.25 56.25]\n",
      "[ 0.    0.    0.    0.   56.25 56.25 56.25 56.25 56.25 56.25 56.25 56.25\n",
      " 56.25 56.25 56.25]\n",
      "[ 0.    0.    0.    0.   56.25 56.25 56.25 56.25 56.25 56.25 56.25 56.25\n",
      " 56.25 56.25 56.25]\n",
      "[ 0.    0.    0.    0.   56.25 56.25 56.25 56.25 56.25 56.25 56.25 56.25\n",
      " 56.25 56.25 56.25]\n",
      "[ 0.    0.    0.   56.25 56.25 56.25 56.25 56.25 56.25 56.25 56.25 56.25\n",
      " 56.25 56.25 56.25]\n",
      "[ 0.    0.    0.   56.25 56.25 56.25 56.25 56.25 56.25 56.25 56.25 56.25\n",
      " 56.25 56.25 56.25]\n",
      "[ 0.    0.    0.   56.25 56.25 56.25 56.25 56.25 56.25 56.25 56.25 56.25\n",
      " 56.25 56.25 56.25]\n",
      "[ 0.    0.    0.   56.25 56.25 56.25 56.25 56.25 56.25 56.25 56.25 56.25\n",
      " 56.25 56.25 56.25]\n",
      "[ 0.    0.    0.   56.25 56.25 56.25 56.25 56.25 56.25 56.25 56.25 56.25\n",
      " 56.25 56.25 56.25]\n",
      "[ 0.    0.    0.   56.25 56.25 56.25 56.25 56.25 56.25 56.25 56.25 56.25\n",
      " 56.25 56.25 56.25]\n",
      "[ 0.    0.    0.   56.25 56.25 56.25 56.25 56.25 56.25 56.25 56.25 56.25\n",
      " 56.25 56.25 56.25]\n",
      "[ 0.    0.    0.   56.25 56.25 56.25 56.25 56.25 56.25 56.25 56.25 56.25\n",
      " 56.25 56.25 56.25]\n",
      "[ 0.    0.    0.   56.25 56.25 56.25 56.25 56.25 56.25 56.25 56.25 56.25\n",
      " 56.25 56.25 56.25]\n",
      "[ 0.    0.    0.   56.25 56.25 56.25 56.25 56.25 56.25 56.25 56.25 56.25\n",
      " 56.25 56.25 56.25]\n",
      "[ 0.    0.    0.   56.25 56.25 56.25 56.25 56.25 56.25 56.25 56.25 56.25\n",
      " 56.25 56.25 56.25]\n",
      "[ 0.    0.    0.    0.   56.25 56.25 56.25 56.25 56.25 56.25 56.25 56.25\n",
      " 56.25 56.25 56.25]\n",
      "[ 0.    0.    0.    0.   56.25 56.25 56.25 56.25 56.25 56.25 56.25 56.25\n",
      " 56.25 56.25 56.25]\n",
      "[ 0.    0.    0.    0.   56.25 56.25 56.25 56.25 56.25 56.25 56.25 56.25\n",
      " 56.25 56.25 56.25]\n",
      "[ 0.    0.    0.    0.   56.25 56.25 56.25 56.25 56.25 56.25 18.75 56.25\n",
      " 56.25 56.25 56.25]\n"
     ]
    }
   ],
   "source": [
    "for tt in range(10,40):\n",
    "    print(Mgrid[:,1,1,1,tt])"
   ]
  },
  {
   "cell_type": "code",
   "execution_count": null,
   "metadata": {},
   "outputs": [],
   "source": [
    "# [0.01*H,0.05*H,0.1*H,0.2*H,0.3*H,0.4*H,0.5*H,0.6*H,0.7*H,0.8*H]"
   ]
  },
  {
   "cell_type": "code",
   "execution_count": 31,
   "metadata": {},
   "outputs": [
    {
     "data": {
      "text/plain": [
       "[<matplotlib.lines.Line2D at 0x7f403d85e850>]"
      ]
     },
     "execution_count": 31,
     "metadata": {},
     "output_type": "execute_result"
    },
    {
     "data": {
      "image/png": "[encoded data removed]",
      "text/plain": [
       "<Figure size 432x288 with 1 Axes>"
      ]
     },
     "metadata": {
      "needs_background": "light"
     },
     "output_type": "display_data"
    }
   ],
   "source": [
    "plt.plot(ws,V2000[:,0,9,0,1,1,10], 'g')\n",
    "plt.plot(ws,V1500[:,0,9,0,1,1,10], 'y')\n",
    "plt.plot(ws,V1000[:,0,9,0,1,1,10], 'b')\n",
    "plt.plot(ws,V750[:,0,9,0,1,1,10], 'r')"
   ]
  },
  {
   "cell_type": "code",
   "execution_count": 30,
   "metadata": {},
   "outputs": [
    {
     "data": {
      "text/plain": [
       "[<matplotlib.lines.Line2D at 0x7f403d89ffd0>]"
      ]
     },
     "execution_count": 30,
     "metadata": {},
     "output_type": "execute_result"
    },
    {
     "data": {
      "image/png": "[encoded data removed]",
      "text/plain": [
       "<Figure size 432x288 with 1 Axes>"
      ]
     },
     "metadata": {
      "needs_background": "light"
     },
     "output_type": "display_data"
    }
   ],
   "source": [
    "plt.plot(ws,V2000[:,0,9,0,1,1,20], 'g')\n",
    "plt.plot(ws,V1500[:,0,9,0,1,1,20], 'y')\n",
    "plt.plot(ws,V1000[:,0,9,0,1,1,20], 'b')\n",
    "plt.plot(ws,V750[:,0,9,0,1,1,20], 'r')"
   ]
  },
  {
   "cell_type": "code",
   "execution_count": 33,
   "metadata": {},
   "outputs": [
    {
     "data": {
      "text/plain": [
       "[<matplotlib.lines.Line2D at 0x7f403b7ae790>]"
      ]
     },
     "execution_count": 33,
     "metadata": {},
     "output_type": "execute_result"
    },
    {
     "data": {
      "image/png": "[encoded data removed]",
      "text/plain": [
       "<Figure size 432x288 with 1 Axes>"
      ]
     },
     "metadata": {
      "needs_background": "light"
     },
     "output_type": "display_data"
    }
   ],
   "source": [
    "plt.plot(ws,V2000[:,0,0,0,1,1,10], 'g')\n",
    "plt.plot(ws,V1500[:,0,0,0,1,1,10], 'y')\n",
    "plt.plot(ws,V1000[:,0,0,0,1,1,10], 'b')\n",
    "plt.plot(ws,V750[:,0,0,0,1,1,10], 'r')"
   ]
  },
  {
   "cell_type": "code",
   "execution_count": 32,
   "metadata": {},
   "outputs": [
    {
     "data": {
      "text/plain": [
       "[<matplotlib.lines.Line2D at 0x7f403b7c2350>]"
      ]
     },
     "execution_count": 32,
     "metadata": {},
     "output_type": "execute_result"
    },
    {
     "data": {
      "image/png": "[encoded data removed]",
      "text/plain": [
       "<Figure size 432x288 with 1 Axes>"
      ]
     },
     "metadata": {
      "needs_background": "light"
     },
     "output_type": "display_data"
    }
   ],
   "source": [
    "plt.plot(ws,V2000[:,5,0,0,1,1,10], 'g')\n",
    "plt.plot(ws,V1500[:,5,0,0,1,1,10], 'y')\n",
    "plt.plot(ws,V1000[:,5,0,0,1,1,10], 'b')\n",
    "plt.plot(ws,V750[:,5,0,0,1,1,10], 'r')"
   ]
  },
  {
   "cell_type": "code",
   "execution_count": null,
   "metadata": {},
   "outputs": [],
   "source": []
  }
 ],
 "metadata": {
  "kernelspec": {
   "display_name": "Python 3",
   "language": "python",
   "name": "python3"
  },
  "language_info": {
   "codemirror_mode": {
    "name": "ipython",
    "version": 3
   },
   "file_extension": ".py",
   "mimetype": "text/x-python",
   "name": "python",
   "nbconvert_exporter": "python",
   "pygments_lexer": "ipython3",
   "version": "3.7.4"
  }
 },
 "nbformat": 4,
 "nbformat_minor": 4
}
