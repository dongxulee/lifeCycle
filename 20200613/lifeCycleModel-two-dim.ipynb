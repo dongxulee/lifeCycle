{
 "cells": [
  {
   "cell_type": "markdown",
   "metadata": {},
   "source": [
    "### Calculate the policy of the agent\n",
    "* State Variable: x = [w, n, e, s, A], action variable a = [c, b, k], both of them are numpy array "
   ]
  },
  {
   "cell_type": "code",
   "execution_count": 1,
   "metadata": {},
   "outputs": [
    {
     "name": "stdout",
     "output_type": "stream",
     "text": [
      "Populating the interactive namespace from numpy and matplotlib\n"
     ]
    }
   ],
   "source": [
    "%pylab inline\n",
    "from mpl_toolkits.mplot3d import Axes3D\n",
    "import numpy as np\n",
    "import pandas as pd\n",
    "from scipy.interpolate import interp2d\n",
    "from scipy.interpolate import RectBivariateSpline as RS\n",
    "from multiprocessing import Pool\n",
    "from functools import partial \n",
    "from pyswarm import pso\n",
    "import warnings\n",
    "from scipy import optimize\n",
    "\n",
    "warnings.filterwarnings(\"ignore\")\n",
    "np.printoptions(precision=2)\n",
    "# time line\n",
    "T_min = 0\n",
    "T_max = 70\n",
    "T_R = 45\n",
    "beta = 1/(1+0.02)\n",
    "# All the money amount are denoted in thousand dollars\n",
    "earningShock = [0.8,1.2]\n",
    "# Define transition matrix of economical states\n",
    "# GOOD -> GOOD 0.8, BAD -> BAD 0.6 \n",
    "Ps = np.array([[0.6, 0.4],[0.2, 0.8]])\n",
    "# current risk free interest rate \n",
    "r_f = np.array([0.01 ,0.03])\n",
    "# stock return depends on current and future econ states\n",
    "r_m = np.array([[-0.2, 0.15],[-0.15, 0.2]])\n",
    "# expected return on stock market \n",
    "# r_bar = 0.0667\n",
    "r_bar = 0.02\n",
    "# probability of survival\n",
    "Pa = np.load(\"prob.npy\")\n",
    "# probability of employment transition \n",
    "Pe = np.array([[[[0.3, 0.7], [0.1, 0.9]], [[0.25, 0.75], [0.05, 0.95]]],\n",
    "               [[[0.25, 0.75], [0.05, 0.95]], [[0.2, 0.8], [0.01, 0.99]]]])\n",
    "# deterministic income\n",
    "detEarning = np.load(\"detEarning.npy\")\n",
    "# tax rate \n",
    "tau_L = 0.2\n",
    "tau_R = 0.1\n",
    "# minimum consumption\n",
    "c_bar = 3"
   ]
  },
  {
   "cell_type": "code",
   "execution_count": 2,
   "metadata": {},
   "outputs": [],
   "source": [
    "#Define the utility function\n",
    "def u(c):\n",
    "    gamma = 2\n",
    "    return (np.float_power(max(c-c_bar,0),1-gamma) - 1)/(1 - gamma)\n",
    "\n",
    "#Define the bequeath function, which is a function of wealth \n",
    "def uB(w):\n",
    "    B = 2\n",
    "    return B*u(w)\n",
    "\n",
    "#Define the earning function \n",
    "def y(t, x):\n",
    "    w, n, s, e, A = x\n",
    "    if A == 0:\n",
    "        return 0\n",
    "    else:\n",
    "        if t <= T_R:\n",
    "            return detEarning[t] * earningShock[int(s)] * e + (1-e) * 5\n",
    "        else:\n",
    "            return detEarning[t]\n",
    "\n",
    "# Define the reward funtion\n",
    "def R(x, a):\n",
    "    c, b, k = a\n",
    "    w, n, s, e, A = x\n",
    "    if A == 0:\n",
    "        return uB(w+n)\n",
    "    else:\n",
    "        return u(c)\n",
    "\n",
    "# Define the transition of state (test)\n",
    "def transition(x, a, t, cons):\n",
    "    '''\n",
    "        Input: x current state: (w, n, s, e, A) \n",
    "               a action taken: (c, b, k)\n",
    "        Output: the next possible states with corresponding probabilities\n",
    "    '''\n",
    "    c, b, k = a\n",
    "    w, n, s, e, A = x\n",
    "    \n",
    "    x_next = []\n",
    "    prob_next = []\n",
    "    # Agent is dead \n",
    "    if A == 0:\n",
    "        for s_next in [0, 1]:\n",
    "            x_next.append([0, 0, s_next, 0, 0])\n",
    "        return np.array(x_next), Ps[int(s)]\n",
    "    else:\n",
    "        N, discounting = cons\n",
    "        # A = 1, agent is still alive and for the next period\n",
    "        Pat = [1-Pa[t], Pa[t]]\n",
    "        r_bond = r_f[int(s)]\n",
    "        if t < T_R:\n",
    "            # before retirement agents put 5% of income to 401k\n",
    "            if e == 1:\n",
    "                n_next = (n+0.05*y(t,x))*(1+0.02)\n",
    "            else:\n",
    "                n_next = n*(1+0.02)\n",
    "        else:\n",
    "            n_next = n*(1+0.02)-n/discounting\n",
    "    \n",
    "        for s_next in [0, 1]:\n",
    "            r_stock = r_m[int(s), s_next]\n",
    "            w_next =  b*(1+r_bond) + k*(1+r_stock)\n",
    "                    \n",
    "            for e_next in [0,1]:\n",
    "                for A_next in [0,1]:\n",
    "                    if A_next == 0:\n",
    "                        x_next.append([w_next, n*(1+0.02), s_next, 0, 0])\n",
    "                    else:\n",
    "                        # Age reaches 65 or agent is dead directly results in unemployment\n",
    "                        if t >= T_R:\n",
    "                            x_next.append([w_next, n_next, s_next, 0, 1])\n",
    "                        else:\n",
    "                            x_next.append([w_next, n_next, s_next, e_next, 1])\n",
    "                    prob_next.append(Pat[A_next] * Pe[int(s),s_next,int(e),e_next])\n",
    "        return np.array(x_next), np.array(prob_next) \n",
    "    \n",
    "    \n",
    "# Value function is a function of state and time t\n",
    "def V(x, t, Vmodel, cons):\n",
    "    # Define the objective function as a function of action\n",
    "    w, n, s, e, A = x\n",
    "    if A == 0:\n",
    "        return np.array([R(x,[0,0,0]),[0,0,0]])\n",
    "    else: \n",
    "        N, discounting = cons\n",
    "        n_discount = n/discounting\n",
    "        ytx = y(t, x)\n",
    "        def obj(thetaTheta):\n",
    "            theta1,theta2 = thetaTheta\n",
    "            if t < T_R:\n",
    "                if e == 1:\n",
    "                    bk = ((1-tau_L)*(ytx * 0.95) + w) * theta1\n",
    "                    c = ((1-tau_L)*(ytx * 0.95) + w) *(1-theta1)\n",
    "                else:\n",
    "                    bk = ((1-tau_L)*ytx + w) * theta1\n",
    "                    c = ((1-tau_L)*ytx + w) * (1-theta1)\n",
    "            else:\n",
    "                bk = ((1-tau_R)*ytx + w + n_discount) * theta1\n",
    "                c = ((1-tau_R)*ytx + w + n_discount) * (1-theta1)\n",
    "            b = bk * theta2\n",
    "            k = bk * (1-theta2)\n",
    "            a = (c,b,k)\n",
    "            x_next, prob_next = transition(x, a, t, cons)\n",
    "            return -(R(x, a) + beta * np.dot(Vmodel[int(s)][int(e)][int(A)].ev(x_next[:,0], x_next[:,1]), prob_next))\n",
    "        \n",
    "        xopt, fopt = pso(obj,lb=[0,0], ub=[1,1], swarmsize=40)\n",
    "        max_val = -fopt\n",
    "        theta1_m, theta2_m = xopt\n",
    "        \n",
    "        if t < T_R:\n",
    "            if e == 1:\n",
    "                bk_m = ((1-tau_L)*(ytx * 0.95) + w) * theta1_m\n",
    "                c_m = ((1-tau_L)*(ytx * 0.95) + w) * (1-theta1_m)\n",
    "            else:\n",
    "                bk_m = ((1-tau_L)*ytx + w) * theta1_m\n",
    "                c_m = ((1-tau_L)*ytx + w) * (1-theta1_m)\n",
    "        else:\n",
    "            bk_m = ((1-tau_R)*ytx + w + n_discount) * theta1_m\n",
    "            c_m = ((1-tau_R)*ytx + w + n_discount) * (1-theta1_m)\n",
    "        b_m = bk_m * theta2_m\n",
    "        k_m = bk_m * (1-theta2_m)\n",
    "        return np.array([max_val, [c_m, b_m, k_m]])"
   ]
  },
  {
   "cell_type": "code",
   "execution_count": 10,
   "metadata": {},
   "outputs": [],
   "source": [
    "# wealth discretization \n",
    "w_grid_size = 100\n",
    "w_lower = 3\n",
    "w_upper = 20000\n",
    "# 401k amount discretization \n",
    "n_grid_size = 50\n",
    "n_lower = 3\n",
    "n_upper = 10000\n",
    "\n",
    "def powspace(start, stop, power, num):\n",
    "    start = np.power(start, 1/float(power))\n",
    "    stop = np.power(stop, 1/float(power))\n",
    "    return np.power(np.linspace(start, stop, num=num), power)\n",
    "\n",
    "# initialize the state discretization \n",
    "x_T = np.array([[w,n,e,s,0]   for w in powspace(w_lower, w_upper, 3, w_grid_size)\n",
    "                            for n in powspace(n_lower, n_upper, 3, n_grid_size)\n",
    "                            for s in [0,1]\n",
    "                            for e in [0,1]\n",
    "                            for A in [0,1]]).reshape((w_grid_size, n_grid_size, 2,2,2,5))\n",
    "\n",
    "xgrid = np.array([[w,n,e,s,A] for w in powspace(w_lower, w_upper, 3, w_grid_size)\n",
    "                            for n in powspace(n_lower, n_upper, 3, n_grid_size)\n",
    "                            for s in [0,1]\n",
    "                            for e in [0,1]\n",
    "                            for A in [0,1]]).reshape((w_grid_size, n_grid_size, 2,2,2,5))\n",
    "\n",
    "Vgrid = np.zeros((w_grid_size, n_grid_size, 2, 2, 2, T_max+1))\n",
    "cgrid = np.zeros((w_grid_size, n_grid_size, 2, 2, 2, T_max+1))\n",
    "bgrid = np.zeros((w_grid_size, n_grid_size, 2, 2, 2, T_max+1))\n",
    "kgrid = np.zeros((w_grid_size, n_grid_size, 2, 2, 2, T_max+1))\n",
    "\n",
    "# apply function to state space, need to reshape the matrix and shape it back to the size\n",
    "def applyFunToCalculateValue(fun, x = x_T):\n",
    "    return np.array(list(map(fun, x.reshape((w_grid_size * n_grid_size * 2 * 2 * 2, 5))))).reshape((w_grid_size, n_grid_size, 2,2,2))\n",
    "\n",
    "Vgrid[:,:,:,:,:, T_max] = applyFunToCalculateValue(partial(R, a = [0,0,0]), x = x_T)"
   ]
  },
  {
   "cell_type": "markdown",
   "metadata": {},
   "source": [
    "### Backward Induction Part"
   ]
  },
  {
   "cell_type": "code",
   "execution_count": null,
   "metadata": {
    "scrolled": true
   },
   "outputs": [
    {
     "name": "stdout",
     "output_type": "stream",
     "text": [
      "69\n"
     ]
    }
   ],
   "source": [
    "%%time \n",
    "ws = powspace(w_lower, w_upper, 3, w_grid_size)\n",
    "ns = powspace(n_lower, n_upper, 3, n_grid_size)\n",
    "\n",
    "xs = xgrid.reshape((w_grid_size * n_grid_size * 2 * 2 * 2, 5))\n",
    "\n",
    "pool = Pool()\n",
    "\n",
    "for t in range(T_max-1, 0, -1):\n",
    "    print(t)\n",
    "    # after retirement calculate the annuity payment\n",
    "    N = np.sum(Pa[t:])\n",
    "    discounting = ((1+r_bar)**N - 1)/(r_bar*(1+r_bar)**N)\n",
    "    cons = [N, discounting]\n",
    "    \n",
    "    cs = [[[RS(ws, ns, Vgrid[:,:,s,e,A,t+1]) for A in [0,1]] for e in [0,1]] for s in [0,1]]\n",
    "    f = partial(V, t = t, Vmodel = cs, cons = cons)\n",
    "    results = np.array(pool.map(f, xs))   \n",
    "    Vgrid[:,:,:,:,:,t] = results[:,0].reshape((w_grid_size,n_grid_size, 2,2,2))\n",
    "    #########################################################[test function part] \n",
    "    fig = plt.figure(figsize = [12, 8])\n",
    "    ax = fig.add_subplot(111, projection='3d')\n",
    "    ax.plot_surface(X = xgrid[:,:,1,1,1,0], Y = xgrid[:,:,1,1,1,1], Z=Vgrid[:,:,1,1,1,t])\n",
    "    plt.show()\n",
    "    #########################################################\n",
    "    cgrid[:,:,:,:,:,t] = np.array([r[0] for r in results[:,1]]).reshape((w_grid_size, n_grid_size,2,2,2))\n",
    "    bgrid[:,:,:,:,:,t] = np.array([r[1] for r in results[:,1]]).reshape((w_grid_size, n_grid_size,2,2,2))\n",
    "    kgrid[:,:,:,:,:,t] = np.array([r[2] for r in results[:,1]]).reshape((w_grid_size, n_grid_size,2,2,2))\n",
    "pool.close()"
   ]
  },
  {
   "cell_type": "code",
   "execution_count": null,
   "metadata": {},
   "outputs": [],
   "source": []
  },
  {
   "cell_type": "code",
   "execution_count": null,
   "metadata": {},
   "outputs": [],
   "source": []
  },
  {
   "cell_type": "code",
   "execution_count": null,
   "metadata": {},
   "outputs": [],
   "source": []
  },
  {
   "cell_type": "code",
   "execution_count": null,
   "metadata": {},
   "outputs": [],
   "source": []
  },
  {
   "cell_type": "code",
   "execution_count": null,
   "metadata": {},
   "outputs": [],
   "source": []
  },
  {
   "cell_type": "code",
   "execution_count": null,
   "metadata": {},
   "outputs": [],
   "source": []
  },
  {
   "cell_type": "code",
   "execution_count": null,
   "metadata": {},
   "outputs": [],
   "source": []
  },
  {
   "cell_type": "code",
   "execution_count": null,
   "metadata": {},
   "outputs": [],
   "source": []
  },
  {
   "cell_type": "code",
   "execution_count": null,
   "metadata": {},
   "outputs": [],
   "source": []
  },
  {
   "cell_type": "code",
   "execution_count": null,
   "metadata": {},
   "outputs": [],
   "source": []
  },
  {
   "cell_type": "code",
   "execution_count": null,
   "metadata": {},
   "outputs": [],
   "source": []
  },
  {
   "cell_type": "code",
   "execution_count": null,
   "metadata": {},
   "outputs": [],
   "source": [
    "np.save(\"Vgrid\", Vgrid)\n",
    "np.save(\"cgrid\", cgrid)\n",
    "np.save(\"bgrid\", bgrid)\n",
    "np.save(\"kgrid\", kgrid)"
   ]
  },
  {
   "cell_type": "code",
   "execution_count": 6,
   "metadata": {},
   "outputs": [],
   "source": [
    "ws = powspace(w_lower, w_upper, 3, w_grid_size)\n",
    "ns = powspace(n_lower, n_upper, 3, n_grid_size)\n",
    "Vgrid = np.load(\"Vgrid.npy\")\n",
    "cgrid = np.load(\"cgrid.npy\")\n",
    "bgrid = np.load(\"bgrid.npy\")\n",
    "kgrid = np.load(\"kgrid.npy\")"
   ]
  },
  {
   "cell_type": "markdown",
   "metadata": {},
   "source": [
    "### Summary Plot "
   ]
  },
  {
   "cell_type": "code",
   "execution_count": 7,
   "metadata": {},
   "outputs": [
    {
     "data": {
      "image/png": "[encoded data removed]",
      "text/plain": [
       "<Figure size 864x576 with 1 Axes>"
      ]
     },
     "metadata": {
      "needs_background": "light"
     },
     "output_type": "display_data"
    }
   ],
   "source": [
    "def summaryPlotChoiceVStime(w_level, n_level, s, e, A, C = cgrid, B = bgrid, K = kgrid):\n",
    "    c = []\n",
    "    b = []\n",
    "    k = []\n",
    "    for t in range(1,T_max):\n",
    "        c.append(RS(ws, ns, C[:,:,s,e,A,t])(w_level, n_level)[0])\n",
    "        b.append(RS(ws, ns, B[:,:,s,e,A,t])(w_level, n_level)[0])\n",
    "        k.append(RS(ws, ns, K[:,:,s,e,A,t])(w_level, n_level)[0])\n",
    "    plt.figure(figsize = [12,8])\n",
    "    plt.plot(c, label = \"Consumption\")\n",
    "    plt.plot(b, label= \"Bond Holding\")\n",
    "    plt.plot(k, label=\"Stock Holding\")\n",
    "    plt.legend()\n",
    "    plt.show()\n",
    "summaryPlotChoiceVStime(5, 60, 1, 1, 1)"
   ]
  },
  {
   "cell_type": "code",
   "execution_count": null,
   "metadata": {
    "scrolled": false
   },
   "outputs": [],
   "source": [
    "# %matplotlib notebook\n",
    "def summaryPlot_WandN_VS_Choice(t, s, e, A, C = cgrid, B = bgrid, K = kgrid):\n",
    "    fig = plt.figure(figsize = [12,8])\n",
    "    ax = fig.add_subplot(111, projection='3d')\n",
    "    ax.plot_surface(X = xgrid[:,:,1,1,1,0], Y = xgrid[:,:,1,1,1,1], Z = cgrid[:,:,s,e,A,t], label=\"Consumption\")\n",
    "    ax.plot_surface(X = xgrid[:,:,1,1,1,0], Y = xgrid[:,:,1,1,1,1], Z = bgrid[:,:,s,e,A,t], label=\"Bond Holding\")\n",
    "    ax.plot_surface(X = xgrid[:,:,1,1,1,0], Y = xgrid[:,:,1,1,1,1], Z = kgrid[:,:,s,e,A,t], label=\"Stock Holding\")\n",
    "    plt.show()\n",
    "summaryPlot_WandN_VS_Choice(60, 1, 1, 1)"
   ]
  },
  {
   "cell_type": "markdown",
   "metadata": {},
   "source": [
    "### Simulation Part"
   ]
  },
  {
   "cell_type": "code",
   "execution_count": null,
   "metadata": {},
   "outputs": [],
   "source": [
    "import quantecon as qe\n",
    "mc = qe.MarkovChain(Ps)\n",
    "\n",
    "def action(t, x):\n",
    "    w,n,s,e,A = x\n",
    "    if A == 1:\n",
    "        c = RS(ws, ns, cgrid[:,:,s,e,A,t])(w, n)[0][0]\n",
    "        b = RS(ws, ns, bgrid[:,:,s,e,A,t])(w, n)[0][0]\n",
    "        k = RS(ws, ns, kgrid[:,:,s,e,A,t])(w, n)[0][0]\n",
    "    else:\n",
    "        c = 0\n",
    "        b = 0\n",
    "        k = 0\n",
    "    return (c,b,k)\n",
    "\n",
    "# Define the transition of state (test)\n",
    "def transition(x, a, t, s_next):\n",
    "    '''\n",
    "        Input: x current state: (w, n, s, e, A) \n",
    "               a action taken: (c, b, k)\n",
    "        Output: the next possible states with corresponding probabilities\n",
    "    '''\n",
    "    c, b, k = a\n",
    "    w, n, s, e, A = x\n",
    "    \n",
    "    x_next = []\n",
    "    prob_next = []\n",
    "    # Agent is dead \n",
    "    if A == 0:\n",
    "        return [0,0,s_next,0,0]\n",
    "    else:\n",
    "        # after retirement calculate the annuity payment\n",
    "        N = np.sum(Pa[t:])\n",
    "        discounting = ((1+r_bar)**N - 1)/(r_bar*(1+r_bar)**N)\n",
    "        # A = 1, agent is still alive and for the next period\n",
    "        Pat = [1-Pa[t], Pa[t]]\n",
    "        r_bond = r_f[int(s)]\n",
    "        if t < T_R:\n",
    "            # before retirement agents put 5% of income to 401k\n",
    "            if e == 1:\n",
    "                n_next = (n+0.05*y(t,x))*(1+0.02)\n",
    "            else:\n",
    "                n_next = n*(1+0.02)\n",
    "        else:\n",
    "            n_next = (n-n/discounting)*(1+0.02)\n",
    "        r_stock = r_m[int(s), s_next]\n",
    "        w_next =  b*(1+r_bond) + k*(1+r_stock)\n",
    "        \n",
    "        for e_next in [0,1]:\n",
    "            for A_next in [0,1]:\n",
    "                if A_next == 0:\n",
    "                    x_next.append([w_next, n*(1+0.02), s_next, 0, 0])\n",
    "                else:\n",
    "                    # Age reaches 65 or agent is dead directly results in unemployment\n",
    "                    if t >= T_R:\n",
    "                        x_next.append([w_next, n_next, s_next, 0, 1])\n",
    "                    else:\n",
    "                        x_next.append([w_next, n_next, s_next, e_next, 1])\n",
    "                prob_next.append(Pat[A_next] * Pe[int(s),s_next,int(e),e_next])\n",
    "        return x_next[np.random.choice(4, 1, p = prob_next)[0]]"
   ]
  },
  {
   "cell_type": "code",
   "execution_count": null,
   "metadata": {},
   "outputs": [],
   "source": [
    "numEcon = 500\n",
    "sim = 1000\n",
    "EconStates = [mc.simulate(ts_length=T_max - T_min, init=0) for _ in range(numEcon)]\n",
    "# simulate an agent age 0 starting with wealth of 20 and 20 in rFund.\n",
    "def simulateAgent(i):\n",
    "    # states\n",
    "    wealth = []\n",
    "    rFund = []\n",
    "    employ = []\n",
    "    live = []\n",
    "    Salary = []\n",
    "    # actions \n",
    "    Consumption = []\n",
    "    Bond = []\n",
    "    Stock = []\n",
    "    if np.random.rand() > 0.95:\n",
    "        x = [20, 0, 0, 0, 1]\n",
    "    else:\n",
    "        x = [20, 0, 0, 1, 1]\n",
    "    econState = EconStates[i//sim]\n",
    "    for t in range(len(econState)-1):\n",
    "        s = econState[t]\n",
    "        s_next = econState[t+1]\n",
    "        a = action(t, x)\n",
    "        c, b, k = a\n",
    "        w, n, _, e, A = x\n",
    "        \n",
    "        wealth.append(w)\n",
    "        rFund.append(n)\n",
    "        Consumption.append(c)\n",
    "        Bond.append(b)\n",
    "        Stock.append(k)\n",
    "        Salary.append(y(t, x))\n",
    "        employ.append(e)\n",
    "        live.append(A)\n",
    "        x = transition(x, a, t, s_next)\n",
    "    # list of array \n",
    "    return np.array([wealth, rFund, Consumption, Bond, Stock, Salary, employ, live]).T"
   ]
  },
  {
   "cell_type": "code",
   "execution_count": null,
   "metadata": {},
   "outputs": [],
   "source": [
    "%%time \n",
    "pool = Pool()\n",
    "agents = pool.map(simulateAgent, list(range(sim*numEcon)))\n",
    "pool.close()"
   ]
  },
  {
   "cell_type": "code",
   "execution_count": null,
   "metadata": {},
   "outputs": [],
   "source": [
    "np.save(\"agents\", agents)"
   ]
  },
  {
   "cell_type": "markdown",
   "metadata": {},
   "source": [
    "### Summary statistics of the simulation "
   ]
  },
  {
   "cell_type": "code",
   "execution_count": null,
   "metadata": {},
   "outputs": [],
   "source": [
    "import numpy as np\n",
    "agents = np.load(\"agents.npy\")"
   ]
  },
  {
   "cell_type": "code",
   "execution_count": null,
   "metadata": {},
   "outputs": [],
   "source": [
    "# wealth, rFund, Consumption, Bond, Stock, Salary, employ, live\n",
    "def collect(attribute, agents):\n",
    "    names = [\"wealth\", \"rFund\", \"Consumption\", \"Bond\", \"Stock\", \"Salary\", \"employ\", \"live\"]\n",
    "    index = names.index(attribute)\n",
    "    container = np.zeros((agents[0].shape[0],len(agents)))\n",
    "    for i in range(len(agents)):\n",
    "        container[:, i] = agents[i][:, index]\n",
    "    return container"
   ]
  },
  {
   "cell_type": "code",
   "execution_count": null,
   "metadata": {},
   "outputs": [],
   "source": [
    "wealth = collect(\"wealth\",agents)\n",
    "rFund = collect(\"rFund\",agents)\n",
    "Consumption = collect(\"Consumption\",agents)\n",
    "Bond = collect(\"Bond\",agents)\n",
    "Stock = collect(\"Stock\",agents)\n",
    "Salary = collect(\"Salary\",agents)\n",
    "employ = collect(\"employ\",agents)\n",
    "live = collect(\"live\",agents)"
   ]
  },
  {
   "cell_type": "code",
   "execution_count": null,
   "metadata": {},
   "outputs": [],
   "source": [
    "# Population during the entire simulation period\n",
    "plt.plot(np.mean(live, axis = 1))"
   ]
  },
  {
   "cell_type": "code",
   "execution_count": null,
   "metadata": {},
   "outputs": [],
   "source": [
    "def quantileForPeopleWholive(attribute, quantiles = [0.25, 0.5, 0.75]):\n",
    "    qList = []\n",
    "    for i in range(69):\n",
    "        if len(np.where(live[i,:] == 1)[0]) == 0:\n",
    "            qList.append(np.array([0] * len(quantiles)))\n",
    "        else:\n",
    "            qList.append(np.quantile(attribute[i, np.where(live[i,:] == 1)], q = quantiles))\n",
    "    return np.array(qList)\n",
    "        \n",
    "def meanForPeopleWholive(attribute):\n",
    "    means = []\n",
    "    for i in range(69):\n",
    "        if len(np.where(live[i,:] == 1)[0]) == 0:\n",
    "            means.append(np.array([0]))\n",
    "        else:\n",
    "            means.append(np.mean(attribute[i, np.where(live[i,:] == 1)]))\n",
    "    return np.array(means)"
   ]
  },
  {
   "cell_type": "code",
   "execution_count": null,
   "metadata": {},
   "outputs": [],
   "source": [
    "# plot the 0.25, 0.5, 0.75 quantiles of wealth\n",
    "plt.plot(quantileForPeopleWholive(wealth))"
   ]
  },
  {
   "cell_type": "code",
   "execution_count": null,
   "metadata": {},
   "outputs": [],
   "source": [
    "# plot the 0.25, 0.5, 0.75 quantiles of wealth\n",
    "plt.plot(quantileForPeopleWholive(rFund))"
   ]
  },
  {
   "cell_type": "code",
   "execution_count": null,
   "metadata": {},
   "outputs": [],
   "source": [
    "# plot the 0.25, 0.5, 0.75 quantiles of wealth\n",
    "plt.plot(quantileForPeopleWholive(Consumption))"
   ]
  },
  {
   "cell_type": "code",
   "execution_count": null,
   "metadata": {},
   "outputs": [],
   "source": [
    "# plot the 0.25, 0.5, 0.75 quantiles of wealth\n",
    "plt.plot(quantileForPeopleWholive(Bond))"
   ]
  },
  {
   "cell_type": "code",
   "execution_count": null,
   "metadata": {},
   "outputs": [],
   "source": [
    "# plot the 0.25, 0.5, 0.75 quantiles of wealth\n",
    "plt.plot(quantileForPeopleWholive(Stock))"
   ]
  },
  {
   "cell_type": "code",
   "execution_count": null,
   "metadata": {},
   "outputs": [],
   "source": [
    "# plot the 0.25, 0.5, 0.75 quantiles of wealth\n",
    "plt.plot(quantileForPeopleWholive(Salary))"
   ]
  },
  {
   "cell_type": "code",
   "execution_count": null,
   "metadata": {},
   "outputs": [],
   "source": [
    "# plot the 0.25, 0.5, 0.75 quantiles of wealth\n",
    "plt.figure(figsize = [14,8])\n",
    "plt.plot(meanForPeopleWholive(wealth), label = \"wealth\")\n",
    "plt.plot(meanForPeopleWholive(rFund), label = \"rFund\")\n",
    "plt.plot(meanForPeopleWholive(Consumption), label = \"Consumption\")\n",
    "plt.plot(meanForPeopleWholive(Bond), label = \"Bond\")\n",
    "plt.plot(meanForPeopleWholive(Stock), label = \"Stock\")\n",
    "plt.plot(meanForPeopleWholive(Salary), label = \"Salary\")\n",
    "plt.legend()"
   ]
  },
  {
   "cell_type": "code",
   "execution_count": null,
   "metadata": {},
   "outputs": [],
   "source": [
    "# calculate fraction of consumption, stock investment, bond investment over (wealth + income)\n",
    "plt.figure(figsize = [14,8])\n",
    "plt.plot(meanForPeopleWholive(Consumption)[:65]/meanForPeopleWholive(wealth+Salary)[:65], label = \"Consumption\")\n",
    "plt.plot(meanForPeopleWholive(Bond)[1:66]/meanForPeopleWholive(wealth+Salary)[1:66], label = \"Bond\")\n",
    "plt.plot(meanForPeopleWholive(Stock)[1:66]/meanForPeopleWholive(wealth+Salary)[1:66], label = \"Stock\")\n",
    "plt.legend()"
   ]
  },
  {
   "cell_type": "code",
   "execution_count": null,
   "metadata": {},
   "outputs": [],
   "source": [
    "plt.plot(meanForPeopleWholive(employ)[:45])"
   ]
  },
  {
   "cell_type": "code",
   "execution_count": null,
   "metadata": {},
   "outputs": [],
   "source": []
  }
 ],
 "metadata": {
  "kernelspec": {
   "display_name": "Python 3",
   "language": "python",
   "name": "python3"
  },
  "language_info": {
   "codemirror_mode": {
    "name": "ipython",
    "version": 3
   },
   "file_extension": ".py",
   "mimetype": "text/x-python",
   "name": "python",
   "nbconvert_exporter": "python",
   "pygments_lexer": "ipython3",
   "version": "3.7.4"
  }
 },
 "nbformat": 4,
 "nbformat_minor": 4
}
