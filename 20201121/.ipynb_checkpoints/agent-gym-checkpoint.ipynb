{
 "cells": [
  {
   "cell_type": "code",
   "execution_count": 1,
   "metadata": {},
   "outputs": [
    {
     "name": "stdout",
     "output_type": "stream",
     "text": [
      "Populating the interactive namespace from numpy and matplotlib\n"
     ]
    }
   ],
   "source": [
    "%pylab inline\n",
    "import numpy as np\n",
    "import gym\n",
    "from gym import spaces\n",
    "import warnings\n",
    "warnings.filterwarnings(\"ignore\")"
   ]
  },
  {
   "cell_type": "code",
   "execution_count": 2,
   "metadata": {},
   "outputs": [],
   "source": [
    "class AgentEnv(gym.Env):\n",
    "    metadata = {\n",
    "        'render.modes': ['human']\n",
    "    }\n",
    "    def __init__(self):\n",
    "        self.T_min = 20\n",
    "        self.T_max = 80\n",
    "        self.T = self.T_max - self.T_min\n",
    "        self.reset()\n",
    "        \n",
    "        self.action_space = spaces.Box(\n",
    "            low=0.00001,\n",
    "            high=self.state[1],\n",
    "            shape = (1,),\n",
    "            dtype=np.float32\n",
    "        )\n",
    "        self.observation_space = spaces.Box(\n",
    "            low=0,\n",
    "            high=1000,\n",
    "            shape = (2,),\n",
    "            dtype=np.float32\n",
    "        )\n",
    "        self.reset()\n",
    "     \n",
    "    def u(self,c):\n",
    "        gamma = 2\n",
    "        return (np.float_power(c, 1-gamma) - 1)/(1 - gamma)\n",
    "    \n",
    "    def step(self, action):\n",
    "        c = action\n",
    "        r = 0.02\n",
    "        done = bool(\n",
    "            self.state[0] == self.T_max-1\n",
    "        )\n",
    "        self.state[0] += 1\n",
    "        \n",
    "        c = action\n",
    "        t = self.state[0]\n",
    "        if done:\n",
    "            reward = (2*self.u(self.state[1])) *((1/1.02)**(-t))\n",
    "        else:\n",
    "            reward = (self.u(c)) * ((1/1.02)**(-t))\n",
    "            \n",
    "        self.state[1] = (self.state[1] - c)*(1+r)\n",
    "        \n",
    "        return self.state, float(reward), done, {}\n",
    "    \n",
    "    def reset(self):\n",
    "        self.age = self.T_min\n",
    "        self.state = np.array([self.T_min,np.random.randint(60,80)])\n",
    "        return np.array(self.state)\n",
    "    \n",
    "    def render(self):\n",
    "        plt.plot(self.state[0], self.state[1], 'ro')"
   ]
  },
  {
   "cell_type": "code",
   "execution_count": 3,
   "metadata": {},
   "outputs": [],
   "source": [
    "from stable_baselines3.common.env_checker import check_env\n",
    "env = AgentEnv()\n",
    "# It will check your custom environment and output additional warnings if needed\n",
    "check_env(env)"
   ]
  },
  {
   "cell_type": "code",
   "execution_count": null,
   "metadata": {},
   "outputs": [],
   "source": [
    "from stable_baselines3 import A2C\n",
    "\n",
    "env = AgentEnv()\n",
    "\n",
    "model = A2C('MlpPolicy', env, verbose=0)\n",
    "model.learn(total_timesteps=20000)"
   ]
  },
  {
   "cell_type": "code",
   "execution_count": null,
   "metadata": {},
   "outputs": [],
   "source": [
    "obs = env.reset()\n",
    "total = 0\n",
    "for i in range(1000):\n",
    "    action, _state = model.predict(obs, deterministic=True)\n",
    "    obs, reward, done, info = env.step(action)\n",
    "    total += reward \n",
    "    env.render()\n",
    "    if done:\n",
    "        obs = env.reset()"
   ]
  },
  {
   "cell_type": "code",
   "execution_count": null,
   "metadata": {},
   "outputs": [],
   "source": [
    "states = np.stack((np.linspace(20,80,61), np.ones(61)*100),axis = -1)\n",
    "action, _state = model.predict(states, deterministic=True)\n",
    "action"
   ]
  },
  {
   "cell_type": "code",
   "execution_count": null,
   "metadata": {},
   "outputs": [],
   "source": []
  }
 ],
 "metadata": {
  "kernelspec": {
   "display_name": "Python 3",
   "language": "python",
   "name": "python3"
  },
  "language_info": {
   "codemirror_mode": {
    "name": "ipython",
    "version": 3
   },
   "file_extension": ".py",
   "mimetype": "text/x-python",
   "name": "python",
   "nbconvert_exporter": "python",
   "pygments_lexer": "ipython3",
   "version": "3.7.7"
  }
 },
 "nbformat": 4,
 "nbformat_minor": 4
}
