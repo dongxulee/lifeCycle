{
 "cells": [
  {
   "cell_type": "code",
   "execution_count": 1,
   "metadata": {},
   "outputs": [
    {
     "name": "stdout",
     "output_type": "stream",
     "text": [
      "Populating the interactive namespace from numpy and matplotlib\n"
     ]
    },
    {
     "name": "stderr",
     "output_type": "stream",
     "text": [
      "WARNING:absl:No GPU/TPU found, falling back to CPU. (Set TF_CPP_MIN_LOG_LEVEL=0 and rerun for more info.)\n"
     ]
    }
   ],
   "source": [
    "%pylab inline\n",
    "from constant import *"
   ]
  },
  {
   "cell_type": "markdown",
   "metadata": {},
   "source": [
    "### State \n",
    "$$x = [w,n,m,s,e,o]$$   \n",
    "$w$: wealth level    size: 20   \n",
    "$n$: 401k level      size: 10   \n",
    "$m$: mortgage level  size: 10   \n",
    "$s$: economic state  size: 8   \n",
    "$e$: employment state size: 2   \n",
    "$o$: housing state:  size: 2   \n",
    "\n",
    "### Action\n",
    "$c$: consumption amount size: 20   \n",
    "$b$: bond investment size: 20   \n",
    "$k$: stock investment derived from budget constrain once $c$ and $b$ are determined.    \n",
    "$h$: housing consumption size, related to housing status and consumption level   \n",
    "\n",
    "If $O = 1$, the agent owns a house:    \n",
    "$A = [c, b, k, h=H, action = 1]$ sold the house    \n",
    "$A = [c, b, k, h=H, action = 0]$ keep the house   \n",
    "\n",
    "If $O = 0$, the agent do not own a house:   \n",
    "$A = [c, b, k, h= \\frac{c}{\\alpha} \\frac{1-\\alpha}{pr}, action = 0]$ keep renting the house   \n",
    "$A = [c, b, k, h= \\frac{c}{\\alpha} \\frac{1-\\alpha}{pr}, action = 1]$ buy a housing with H unit     \n",
    "\n",
    "### Housing\n",
    "20% down payment of mortgage, fix mortgage rate, single housing unit available, from age between 20 and 50, agents could choose to buy a house, and could choose to sell the house at any moment.  $H = 1000$ "
   ]
  },
  {
   "cell_type": "code",
   "execution_count": 2,
   "metadata": {},
   "outputs": [
    {
     "data": {
      "text/plain": [
       "3"
      ]
     },
     "execution_count": 2,
     "metadata": {},
     "output_type": "execute_result"
    }
   ],
   "source": [
    "gamma"
   ]
  },
  {
   "cell_type": "code",
   "execution_count": null,
   "metadata": {},
   "outputs": [],
   "source": [
    "welfare"
   ]
  },
  {
   "cell_type": "code",
   "execution_count": 3,
   "metadata": {},
   "outputs": [
    {
     "data": {
      "text/plain": [
       "[<matplotlib.lines.Line2D at 0x7fd754087e90>]"
      ]
     },
     "execution_count": 3,
     "metadata": {},
     "output_type": "execute_result"
    },
    {
     "data": {
      "image/png": "[encoded data removed]",
      "text/plain": [
       "<Figure size 432x288 with 1 Axes>"
      ]
     },
     "metadata": {
      "needs_background": "light"
     },
     "output_type": "display_data"
    }
   ],
   "source": [
    "plt.plot(detEarning)"
   ]
  },
  {
   "cell_type": "code",
   "execution_count": 4,
   "metadata": {},
   "outputs": [
    {
     "name": "stderr",
     "output_type": "stream",
     "text": [
      "100%|██████████| 60/60 [55:39<00:00, 55.66s/it]"
     ]
    },
    {
     "name": "stdout",
     "output_type": "stream",
     "text": [
      "CPU times: user 1d 4h 11min 26s, sys: 2h 58min 13s, total: 1d 7h 9min 39s\n",
      "Wall time: 55min 39s\n"
     ]
    },
    {
     "name": "stderr",
     "output_type": "stream",
     "text": [
      "\n"
     ]
    }
   ],
   "source": [
    "%%time\n",
    "for t in tqdm(range(T_max-1,T_min-1, -1)):\n",
    "    if t == T_max-1:\n",
    "        v,cbkha = vmap(partial(V,t,Vgrid[:,:,:,:,:,:,t]))(Xs)\n",
    "    else:\n",
    "        v,cbkha = vmap(partial(V,t,Vgrid[:,:,:,:,:,:,t+1]))(Xs)\n",
    "    Vgrid[:,:,:,:,:,:,t] = v.reshape(dim)\n",
    "    cgrid[:,:,:,:,:,:,t] = cbkha[:,0].reshape(dim)\n",
    "    bgrid[:,:,:,:,:,:,t] = cbkha[:,1].reshape(dim)\n",
    "    kgrid[:,:,:,:,:,:,t] = cbkha[:,2].reshape(dim)\n",
    "    hgrid[:,:,:,:,:,:,t] = cbkha[:,3].reshape(dim)\n",
    "    agrid[:,:,:,:,:,:,t] = cbkha[:,4].reshape(dim)"
   ]
  },
  {
   "cell_type": "code",
   "execution_count": 5,
   "metadata": {},
   "outputs": [],
   "source": [
    "np.save(\"ValueGamma3FireSell\",Vgrid)"
   ]
  },
  {
   "cell_type": "code",
   "execution_count": null,
   "metadata": {},
   "outputs": [],
   "source": []
  }
 ],
 "metadata": {
  "kernelspec": {
   "display_name": "Python 3",
   "language": "python",
   "name": "python3"
  },
  "language_info": {
   "codemirror_mode": {
    "name": "ipython",
    "version": 3
   },
   "file_extension": ".py",
   "mimetype": "text/x-python",
   "name": "python",
   "nbconvert_exporter": "python",
   "pygments_lexer": "ipython3",
   "version": "3.7.6"
  }
 },
 "nbformat": 4,
 "nbformat_minor": 4
}
