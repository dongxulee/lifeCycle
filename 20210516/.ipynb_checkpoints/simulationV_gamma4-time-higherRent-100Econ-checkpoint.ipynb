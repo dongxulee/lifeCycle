{
 "cells": [
  {
   "cell_type": "code",
   "execution_count": 1,
   "metadata": {},
   "outputs": [
    {
     "name": "stdout",
     "output_type": "stream",
     "text": [
      "Populating the interactive namespace from numpy and matplotlib\n"
     ]
    },
    {
     "name": "stderr",
     "output_type": "stream",
     "text": [
      "WARNING:absl:No GPU/TPU found, falling back to CPU. (Set TF_CPP_MIN_LOG_LEVEL=0 and rerun for more info.)\n"
     ]
    },
    {
     "data": {
      "text/plain": [
       "<contextlib._GeneratorContextManager at 0x7f340407a510>"
      ]
     },
     "execution_count": 1,
     "metadata": {},
     "output_type": "execute_result"
    }
   ],
   "source": [
    "%pylab inline\n",
    "from jax.scipy.ndimage import map_coordinates\n",
    "from constant import * \n",
    "import warnings\n",
    "from jax import jit, partial, random, vmap\n",
    "from tqdm import tqdm\n",
    "warnings.filterwarnings(\"ignore\")\n",
    "np.printoptions(precision=2)"
   ]
  },
  {
   "cell_type": "code",
   "execution_count": 2,
   "metadata": {},
   "outputs": [],
   "source": [
    "nX = Xs.shape[0]\n",
    "nA = As.shape[0]\n",
    "Xs.shape, As.shape\n",
    "Vgrid = np.load(\"Value.npy\")"
   ]
  },
  {
   "cell_type": "code",
   "execution_count": 3,
   "metadata": {},
   "outputs": [],
   "source": [
    "#Define the earning function, which applies for both employment status and 8 econ states\n",
    "@partial(jit, static_argnums=(0,))\n",
    "def y(t, x):\n",
    "    '''\n",
    "        x = [w,n,m,s,e,o]\n",
    "        x = [0,1,2,3,4,5]\n",
    "    '''\n",
    "    if t <= T_R:\n",
    "        return detEarning[t] * (1+gGDP[jnp.array(x[3], dtype = jnp.int8)]) * x[4] + (1-x[4]) * welfare\n",
    "    else:\n",
    "        return detEarning[-1]\n",
    "    \n",
    "#Earning after tax and fixed by transaction in and out from 401k account \n",
    "@partial(jit, static_argnums=(0,))\n",
    "def yAT(t,x):\n",
    "    yt = y(t, x)\n",
    "    if t <= T_R:\n",
    "        # yi portion of the income will be put into the 401k if employed\n",
    "        return (1-tau_L)*(yt * (1-yi))*x[4] + (1-x[4])*yt\n",
    "    else:\n",
    "        # t > T_R, n/discounting amount will be withdraw from the 401k \n",
    "        return (1-tau_R)*yt + x[1]*Dn[t]\n",
    "    \n",
    "#Define the evolution of the amount in 401k account \n",
    "@partial(jit, static_argnums=(0,))\n",
    "def gn(t, x, r = r_bar):\n",
    "    if t <= T_R:\n",
    "        # if the person is employed, then yi portion of his income goes into 401k \n",
    "        n_cur = x[1] + y(t, x) * yi * x[4]\n",
    "    else:\n",
    "        # t > T_R, n*Dn amount will be withdraw from the 401k \n",
    "        n_cur = x[1] - x[1]*Dn[t]\n",
    "        # the 401 grow with the rate r \n",
    "    return (1+r)*n_cur\n",
    "\n",
    "#Define the utility function\n",
    "@jit\n",
    "def u(c):\n",
    "    return (jnp.power(c, 1-gamma) - 1)/(1 - gamma)\n",
    "\n",
    "#Define the bequeath function, which is a function of bequeath wealth\n",
    "@jit\n",
    "def uB(tb):\n",
    "    return B*u(tb)\n",
    "\n",
    "#Reward function depends on the housing and non-housing consumption\n",
    "@jit\n",
    "def R(x,a):\n",
    "    '''\n",
    "    Input:\n",
    "        x = [w,n,m,s,e,o]\n",
    "        x = [0,1,2,3,4,5]\n",
    "        a = [c,b,k,h,action]\n",
    "        a = [0,1,2,3,4]\n",
    "    '''\n",
    "    c = a[:,0]\n",
    "    h = a[:,3]\n",
    "    C = jnp.power(c, alpha) * jnp.power(h, 1-alpha)\n",
    "    return u(C)\n",
    "\n",
    "@partial(jit, static_argnums=(0,))\n",
    "def feasibleActions(t, x):\n",
    "    # owner\n",
    "    sell = As[:,2]\n",
    "    budget1 = yAT(t,x) + x[0] - (1-sell)*(x[2]*(1+rh)-x[2]*Dm[t]) + sell*(H*pt - x[2] - c_s) + (1-sell)*(((t<=T_R)*tau_L + (t>T_R)*tau_R)*x[2]*rh)\n",
    "    # last term is the tax deduction of the interest portion of mortgage payment    \n",
    "    h = jnp.ones(nA)*H*(1+kappa)*(1-sell) + sell*jnp.clip(budget1*As[:,0]*(1-alpha)/pr, a_max = 500)\n",
    "    c = budget1*As[:,0]*(1-sell) + sell*(budget1*As[:,0] - h*pr)\n",
    "    budget2 = budget1*(1-As[:,0])\n",
    "    k = budget2*As[:,1]*(1-Kc)\n",
    "    b = budget2*(1-As[:,1])\n",
    "    owner_action = jnp.column_stack((c,b,k,h,sell))   \n",
    "    # renter\n",
    "    buy = As[:,2]\n",
    "    budget1 = yAT(t,x) + x[0] - buy*(H*pt*0.2 + c_h)\n",
    "    h = jnp.clip(budget1*As[:,0]*(1-alpha)/pr, a_max = 500)*(1-buy) + buy*jnp.ones(nA)*H*(1+kappa)\n",
    "    c = (budget1*As[:,0] - h*pr)*(1-buy) + buy*budget1*As[:,0]\n",
    "    budget2 = budget1*(1-As[:,0])\n",
    "    k = budget2*As[:,1]*(1-Kc)\n",
    "    b = budget2*(1-As[:,1])\n",
    "    renter_action = jnp.column_stack((c,b,k,h,buy))\n",
    "    \n",
    "    actions = x[5]*owner_action + (1-x[5])*renter_action\n",
    "    return actions\n",
    "\n",
    "@partial(jit, static_argnums=(0,))\n",
    "def transition(t,a,x):\n",
    "    '''\n",
    "        Input:\n",
    "            x = [w,n,m,s,e,o]\n",
    "            x = [0,1,2,3,4,5]\n",
    "            a = [c,b,k,h,action]\n",
    "            a = [0,1,2,3,4]\n",
    "        Output:\n",
    "            w_next\n",
    "            n_next\n",
    "            m_next\n",
    "            s_next\n",
    "            e_next\n",
    "            o_next\n",
    "            \n",
    "            prob_next\n",
    "    '''\n",
    "    nA = a.shape[0]\n",
    "    s = jnp.array(x[3], dtype = jnp.int8)\n",
    "    e = jnp.array(x[4], dtype = jnp.int8)\n",
    "    # actions taken\n",
    "    b = a[:,1]\n",
    "    k = a[:,2]\n",
    "    action = a[:,4]\n",
    "    w_next = ((1+r_b[s])*b + jnp.outer(k,(1+r_k)).T).T.flatten().repeat(nE)\n",
    "    n_next = gn(t, x)*jnp.ones(w_next.size)\n",
    "    s_next = jnp.tile(jnp.arange(nS),nA).repeat(nE)\n",
    "    e_next = jnp.column_stack((e.repeat(nA*nS),(1-e).repeat(nA*nS))).flatten()\n",
    "    # job status changing probability and econ state transition probability\n",
    "    pe = Pe[s, e]\n",
    "    ps = jnp.tile(Ps[s], nA)\n",
    "    prob_next = jnp.column_stack(((1-pe)*ps,pe*ps)).flatten()\n",
    "    \n",
    "    # owner\n",
    "    m_next_own = ((1-action)*x[2]*Dm[t]).repeat(nS*nE)\n",
    "    o_next_own = (x[5] - action).repeat(nS*nE)\n",
    "    # renter\n",
    "    m_next_rent = (action*H*pt*0.8*Dm[t]).repeat(nS*nE)\n",
    "    o_next_rent = action.repeat(nS*nE)\n",
    "    \n",
    "    m_next = x[5] * m_next_own + (1-x[5]) * m_next_rent\n",
    "    o_next = x[5] * o_next_own + (1-x[5]) * o_next_rent   \n",
    "    return jnp.column_stack((w_next,n_next,m_next,s_next,e_next,o_next,prob_next))\n",
    "\n",
    "# used to calculate dot product\n",
    "@jit\n",
    "def dotProduct(p_next, uBTB):\n",
    "    return (p_next*uBTB).reshape((p_next.shape[0]//(nS*nE), (nS*nE))).sum(axis = 1)\n",
    "\n",
    "# define approximation of fit\n",
    "@jit\n",
    "def fit(v, xp):\n",
    "    return map_coordinates(v,jnp.vstack((xp[:,0]/scaleW,\n",
    "                                                      xp[:,1]/scaleN,\n",
    "                                                      xp[:,2]/scaleM,\n",
    "                                                      xp[:,3],\n",
    "                                                      xp[:,4],\n",
    "                                                      xp[:,5])),\n",
    "                                                     order = 1, mode = 'nearest')\n",
    "\n",
    "@partial(jit, static_argnums=(0,))\n",
    "def V(t,V_next,x):\n",
    "    '''\n",
    "    x = [w,n,m,s,e,o]\n",
    "    x = [0,1,2,3,4,5]\n",
    "    xp:\n",
    "        w_next    0\n",
    "        n_next    1\n",
    "        m_next    2\n",
    "        s_next    3\n",
    "        e_next    4\n",
    "        o_next    5\n",
    "        prob_next 6\n",
    "    '''\n",
    "    actions = feasibleActions(t,x)\n",
    "    xp = transition(t,actions,x)\n",
    "    # bequeath utility\n",
    "    TB = xp[:,0]+x[1]*(1+r_bar)+xp[:,5]*(H*pt-x[2]*(1+rh)-c_s)\n",
    "    bequeathU = uB(TB)\n",
    "    if t == T_max-1:\n",
    "        Q = R(x,actions) + beta * dotProduct(xp[:,6], bequeathU)\n",
    "    else:\n",
    "        Q = R(x,actions) + beta * dotProduct(xp[:,6], Pa[t]*fit(V_next, xp) + (1-Pa[t])*bequeathU)\n",
    "    Q = jnp.nan_to_num(Q, nan = -100)\n",
    "    v = Q.max()\n",
    "    cbkha = actions[Q.argmax()]\n",
    "    return v, cbkha.reshape((1,-1))"
   ]
  },
  {
   "cell_type": "markdown",
   "metadata": {},
   "source": [
    "Probability of transition between employment and unemployment states is know: $P(0, 1 | S)$, $P(1, 0 | S)$, $P(1, 1 | S)$, $P(0, 0 | S)$   \n",
    "   \n",
    "   \n",
    "The unconditional probability is:    \n",
    "$$P(0,1) = \\Sigma_{s = 1}^{s = 8}P(0, 1 | S = s)P(S=s)$$"
   ]
  },
  {
   "cell_type": "code",
   "execution_count": 4,
   "metadata": {},
   "outputs": [
    {
     "data": {
      "text/plain": [
       "DeviceArray([0.08723426, 0.12654275, 0.11381963, 0.17240335, 0.17240335,\n",
       "             0.11381961, 0.12654276, 0.08723425], dtype=float32)"
      ]
     },
     "execution_count": 4,
     "metadata": {},
     "output_type": "execute_result"
    }
   ],
   "source": [
    "S_distribution = jnp.ones(nS)/nS\n",
    "for i in range(100):\n",
    "    S_distribution = jnp.matmul(S_distribution, Ps)\n",
    "S_distribution"
   ]
  },
  {
   "cell_type": "code",
   "execution_count": 5,
   "metadata": {},
   "outputs": [
    {
     "data": {
      "text/plain": [
       "DeviceArray([[0.23330271, 0.7666973 ],\n",
       "             [0.06959809, 0.9304019 ]], dtype=float32)"
      ]
     },
     "execution_count": 5,
     "metadata": {},
     "output_type": "execute_result"
    }
   ],
   "source": [
    "#P(0,1)\n",
    "P01 = jnp.dot(Pe[:,0],S_distribution)\n",
    "#P(1,0)\n",
    "P10 = jnp.dot(Pe[:,1],S_distribution)\n",
    "jnp.array([[1-P01, P01],[P10, 1-P10]])"
   ]
  },
  {
   "cell_type": "code",
   "execution_count": 7,
   "metadata": {},
   "outputs": [
    {
     "data": {
      "text/plain": [
       "DeviceArray([0.08322192, 0.91677827], dtype=float32)"
      ]
     },
     "execution_count": 7,
     "metadata": {},
     "output_type": "execute_result"
    }
   ],
   "source": [
    "E_distribution = jnp.ones(2)/2\n",
    "for i in range(100):\n",
    "    E_distribution = jnp.matmul(E_distribution, jnp.array([[1-P01, P01],[P10, 1-P10]]))\n",
    "E_distribution"
   ]
  },
  {
   "cell_type": "code",
   "execution_count": 8,
   "metadata": {},
   "outputs": [],
   "source": [
    "# Simulate 1000 economies\n",
    "from quantecon import MarkovChain\n",
    "mc = MarkovChain(Ps)"
   ]
  },
  {
   "cell_type": "code",
   "execution_count": 9,
   "metadata": {},
   "outputs": [],
   "source": [
    "econ = mc.simulate(ts_length=T_max-T_min)"
   ]
  },
  {
   "cell_type": "code",
   "execution_count": 17,
   "metadata": {},
   "outputs": [],
   "source": [
    "num = 10000\n",
    "'''\n",
    "    x = [w,n,m,s,e,o]\n",
    "    x = [5,0,0,0,0,0]\n",
    "'''\n",
    "from jax import random\n",
    "\n",
    "def simulation(key):\n",
    "    initE = random.choice(a = nE, p=E_distribution, key = key)\n",
    "    initS = random.choice(a = nS, p=S_distribution, key = key)\n",
    "    x = [5, 0, 0, econ[0], initE, 0]\n",
    "    path = []\n",
    "    move = []\n",
    "    for t in range(T_min, T_max-1):\n",
    "        _, key = random.split(key)\n",
    "        _,a = V(t,Vgrid[:,:,:,:,:,:,t+1],x)\n",
    "        xp = transition(t,a,x)\n",
    "        valid = (xp[:,3]==econ[t+1])\n",
    "        p = xp[:,-1]\n",
    "        p = p*valid\n",
    "        p = p/jnp.sum(p)\n",
    "        x_next = xp[:,:-1]\n",
    "        x = x_next[random.choice(a = nS*nE, p=p, key = key)]\n",
    "        path.append(x)\n",
    "        move.append(a[0])\n",
    "    return jnp.array(path), jnp.array(move)"
   ]
  },
  {
   "cell_type": "code",
   "execution_count": 18,
   "metadata": {},
   "outputs": [
    {
     "ename": "UnboundLocalError",
     "evalue": "local variable 'p' referenced before assignment",
     "output_type": "error",
     "traceback": [
      "\u001b[0;31m--------------------------------------------------------------------------\u001b[0m",
      "\u001b[0;31mFilteredStackTrace\u001b[0m                       Traceback (most recent call last)",
      "\u001b[0;32m<timed exec>\u001b[0m in \u001b[0;36m<module>\u001b[0;34m\u001b[0m\n",
      "\u001b[0;32m<ipython-input-17-17f4dfe1c655>\u001b[0m in \u001b[0;36msimulation\u001b[0;34m(key)\u001b[0m\n\u001b[1;32m     18\u001b[0m         \u001b[0mvalid\u001b[0m \u001b[0;34m=\u001b[0m \u001b[0;34m(\u001b[0m\u001b[0mxp\u001b[0m\u001b[0;34m[\u001b[0m\u001b[0;34m:\u001b[0m\u001b[0;34m,\u001b[0m\u001b[0;36m3\u001b[0m\u001b[0;34m]\u001b[0m\u001b[0;34m==\u001b[0m\u001b[0mecon\u001b[0m\u001b[0;34m[\u001b[0m\u001b[0mt\u001b[0m\u001b[0;34m+\u001b[0m\u001b[0;36m1\u001b[0m\u001b[0;34m]\u001b[0m\u001b[0;34m)\u001b[0m\u001b[0;34m\u001b[0m\u001b[0;34m\u001b[0m\u001b[0m\n\u001b[0;32m---> 19\u001b[0;31m         \u001b[0mp\u001b[0m \u001b[0;34m=\u001b[0m \u001b[0mp\u001b[0m\u001b[0;34m*\u001b[0m\u001b[0mvalid\u001b[0m\u001b[0;34m\u001b[0m\u001b[0;34m\u001b[0m\u001b[0m\n\u001b[0m\u001b[1;32m     20\u001b[0m         \u001b[0mp\u001b[0m \u001b[0;34m=\u001b[0m \u001b[0mp\u001b[0m\u001b[0;34m/\u001b[0m\u001b[0mjnp\u001b[0m\u001b[0;34m.\u001b[0m\u001b[0msum\u001b[0m\u001b[0;34m(\u001b[0m\u001b[0mp\u001b[0m\u001b[0;34m)\u001b[0m\u001b[0;34m\u001b[0m\u001b[0;34m\u001b[0m\u001b[0m\n",
      "\u001b[0;31mFilteredStackTrace\u001b[0m: UnboundLocalError: local variable 'p' referenced before assignment\n\nThe stack trace above excludes JAX-internal frames.\nThe following is the original exception that occurred, unmodified.\n\n--------------------",
      "\nThe above exception was the direct cause of the following exception:\n",
      "\u001b[0;31mUnboundLocalError\u001b[0m                        Traceback (most recent call last)",
      "\u001b[0;32m<timed exec>\u001b[0m in \u001b[0;36m<module>\u001b[0;34m\u001b[0m\n",
      "\u001b[0;32m~/anaconda3/lib/python3.7/site-packages/jax/_src/traceback_util.py\u001b[0m in \u001b[0;36mreraise_with_filtered_traceback\u001b[0;34m(*args, **kwargs)\u001b[0m\n\u001b[1;32m    137\u001b[0m   \u001b[0;32mdef\u001b[0m \u001b[0mreraise_with_filtered_traceback\u001b[0m\u001b[0;34m(\u001b[0m\u001b[0;34m*\u001b[0m\u001b[0margs\u001b[0m\u001b[0;34m,\u001b[0m \u001b[0;34m**\u001b[0m\u001b[0mkwargs\u001b[0m\u001b[0;34m)\u001b[0m\u001b[0;34m:\u001b[0m\u001b[0;34m\u001b[0m\u001b[0;34m\u001b[0m\u001b[0m\n\u001b[1;32m    138\u001b[0m     \u001b[0;32mtry\u001b[0m\u001b[0;34m:\u001b[0m\u001b[0;34m\u001b[0m\u001b[0;34m\u001b[0m\u001b[0m\n\u001b[0;32m--> 139\u001b[0;31m       \u001b[0;32mreturn\u001b[0m \u001b[0mfun\u001b[0m\u001b[0;34m(\u001b[0m\u001b[0;34m*\u001b[0m\u001b[0margs\u001b[0m\u001b[0;34m,\u001b[0m \u001b[0;34m**\u001b[0m\u001b[0mkwargs\u001b[0m\u001b[0;34m)\u001b[0m\u001b[0;34m\u001b[0m\u001b[0;34m\u001b[0m\u001b[0m\n\u001b[0m\u001b[1;32m    140\u001b[0m     \u001b[0;32mexcept\u001b[0m \u001b[0mException\u001b[0m \u001b[0;32mas\u001b[0m \u001b[0me\u001b[0m\u001b[0;34m:\u001b[0m\u001b[0;34m\u001b[0m\u001b[0;34m\u001b[0m\u001b[0m\n\u001b[1;32m    141\u001b[0m       \u001b[0;32mif\u001b[0m \u001b[0;32mnot\u001b[0m \u001b[0mis_under_reraiser\u001b[0m\u001b[0;34m(\u001b[0m\u001b[0me\u001b[0m\u001b[0;34m)\u001b[0m\u001b[0;34m:\u001b[0m\u001b[0;34m\u001b[0m\u001b[0;34m\u001b[0m\u001b[0m\n",
      "\u001b[0;32m~/anaconda3/lib/python3.7/site-packages/jax/api.py\u001b[0m in \u001b[0;36mbatched_fun\u001b[0;34m(*args, **kwargs)\u001b[0m\n\u001b[1;32m   1223\u001b[0m         \u001b[0mflat_fun\u001b[0m\u001b[0;34m,\u001b[0m \u001b[0maxis_name\u001b[0m\u001b[0;34m,\u001b[0m \u001b[0maxis_size\u001b[0m\u001b[0;34m,\u001b[0m \u001b[0min_axes_flat\u001b[0m\u001b[0;34m,\u001b[0m\u001b[0;34m\u001b[0m\u001b[0;34m\u001b[0m\u001b[0m\n\u001b[1;32m   1224\u001b[0m         \u001b[0;32mlambda\u001b[0m\u001b[0;34m:\u001b[0m \u001b[0mflatten_axes\u001b[0m\u001b[0;34m(\u001b[0m\u001b[0;34m\"vmap out_axes\"\u001b[0m\u001b[0;34m,\u001b[0m \u001b[0mout_tree\u001b[0m\u001b[0;34m(\u001b[0m\u001b[0;34m)\u001b[0m\u001b[0;34m,\u001b[0m \u001b[0mout_axes\u001b[0m\u001b[0;34m)\u001b[0m\u001b[0;34m\u001b[0m\u001b[0;34m\u001b[0m\u001b[0m\n\u001b[0;32m-> 1225\u001b[0;31m     ).call_wrapped(*args_flat)\n\u001b[0m\u001b[1;32m   1226\u001b[0m     \u001b[0;32mreturn\u001b[0m \u001b[0mtree_unflatten\u001b[0m\u001b[0;34m(\u001b[0m\u001b[0mout_tree\u001b[0m\u001b[0;34m(\u001b[0m\u001b[0;34m)\u001b[0m\u001b[0;34m,\u001b[0m \u001b[0mout_flat\u001b[0m\u001b[0;34m)\u001b[0m\u001b[0;34m\u001b[0m\u001b[0;34m\u001b[0m\u001b[0m\n\u001b[1;32m   1227\u001b[0m \u001b[0;34m\u001b[0m\u001b[0m\n",
      "\u001b[0;32m~/anaconda3/lib/python3.7/site-packages/jax/linear_util.py\u001b[0m in \u001b[0;36mcall_wrapped\u001b[0;34m(self, *args, **kwargs)\u001b[0m\n\u001b[1;32m    164\u001b[0m \u001b[0;34m\u001b[0m\u001b[0m\n\u001b[1;32m    165\u001b[0m     \u001b[0;32mtry\u001b[0m\u001b[0;34m:\u001b[0m\u001b[0;34m\u001b[0m\u001b[0;34m\u001b[0m\u001b[0m\n\u001b[0;32m--> 166\u001b[0;31m       \u001b[0mans\u001b[0m \u001b[0;34m=\u001b[0m \u001b[0mself\u001b[0m\u001b[0;34m.\u001b[0m\u001b[0mf\u001b[0m\u001b[0;34m(\u001b[0m\u001b[0;34m*\u001b[0m\u001b[0margs\u001b[0m\u001b[0;34m,\u001b[0m \u001b[0;34m**\u001b[0m\u001b[0mdict\u001b[0m\u001b[0;34m(\u001b[0m\u001b[0mself\u001b[0m\u001b[0;34m.\u001b[0m\u001b[0mparams\u001b[0m\u001b[0;34m,\u001b[0m \u001b[0;34m**\u001b[0m\u001b[0mkwargs\u001b[0m\u001b[0;34m)\u001b[0m\u001b[0;34m)\u001b[0m\u001b[0;34m\u001b[0m\u001b[0;34m\u001b[0m\u001b[0m\n\u001b[0m\u001b[1;32m    167\u001b[0m     \u001b[0;32mexcept\u001b[0m\u001b[0;34m:\u001b[0m\u001b[0;34m\u001b[0m\u001b[0;34m\u001b[0m\u001b[0m\n\u001b[1;32m    168\u001b[0m       \u001b[0;31m# Some transformations yield from inside context managers, so we have to\u001b[0m\u001b[0;34m\u001b[0m\u001b[0;34m\u001b[0m\u001b[0;34m\u001b[0m\u001b[0m\n",
      "\u001b[0;32m<ipython-input-17-17f4dfe1c655>\u001b[0m in \u001b[0;36msimulation\u001b[0;34m(key)\u001b[0m\n\u001b[1;32m     17\u001b[0m         \u001b[0mxp\u001b[0m \u001b[0;34m=\u001b[0m \u001b[0mtransition\u001b[0m\u001b[0;34m(\u001b[0m\u001b[0mt\u001b[0m\u001b[0;34m,\u001b[0m\u001b[0ma\u001b[0m\u001b[0;34m,\u001b[0m\u001b[0mx\u001b[0m\u001b[0;34m)\u001b[0m\u001b[0;34m\u001b[0m\u001b[0;34m\u001b[0m\u001b[0m\n\u001b[1;32m     18\u001b[0m         \u001b[0mvalid\u001b[0m \u001b[0;34m=\u001b[0m \u001b[0;34m(\u001b[0m\u001b[0mxp\u001b[0m\u001b[0;34m[\u001b[0m\u001b[0;34m:\u001b[0m\u001b[0;34m,\u001b[0m\u001b[0;36m3\u001b[0m\u001b[0;34m]\u001b[0m\u001b[0;34m==\u001b[0m\u001b[0mecon\u001b[0m\u001b[0;34m[\u001b[0m\u001b[0mt\u001b[0m\u001b[0;34m+\u001b[0m\u001b[0;36m1\u001b[0m\u001b[0;34m]\u001b[0m\u001b[0;34m)\u001b[0m\u001b[0;34m\u001b[0m\u001b[0;34m\u001b[0m\u001b[0m\n\u001b[0;32m---> 19\u001b[0;31m         \u001b[0mp\u001b[0m \u001b[0;34m=\u001b[0m \u001b[0mp\u001b[0m\u001b[0;34m*\u001b[0m\u001b[0mvalid\u001b[0m\u001b[0;34m\u001b[0m\u001b[0;34m\u001b[0m\u001b[0m\n\u001b[0m\u001b[1;32m     20\u001b[0m         \u001b[0mp\u001b[0m \u001b[0;34m=\u001b[0m \u001b[0mp\u001b[0m\u001b[0;34m/\u001b[0m\u001b[0mjnp\u001b[0m\u001b[0;34m.\u001b[0m\u001b[0msum\u001b[0m\u001b[0;34m(\u001b[0m\u001b[0mp\u001b[0m\u001b[0;34m)\u001b[0m\u001b[0;34m\u001b[0m\u001b[0;34m\u001b[0m\u001b[0m\n\u001b[1;32m     21\u001b[0m         \u001b[0mx_next\u001b[0m \u001b[0;34m=\u001b[0m \u001b[0mxp\u001b[0m\u001b[0;34m[\u001b[0m\u001b[0;34m:\u001b[0m\u001b[0;34m,\u001b[0m\u001b[0;34m:\u001b[0m\u001b[0;34m-\u001b[0m\u001b[0;36m1\u001b[0m\u001b[0;34m]\u001b[0m\u001b[0;34m\u001b[0m\u001b[0;34m\u001b[0m\u001b[0m\n",
      "\u001b[0;31mUnboundLocalError\u001b[0m: local variable 'p' referenced before assignment"
     ]
    }
   ],
   "source": [
    "%%time\n",
    "# simulation part \n",
    "keys = vmap(random.PRNGKey)(jnp.arange(num))\n",
    "Paths, Moves = vmap(simulation)(keys)"
   ]
  },
  {
   "cell_type": "code",
   "execution_count": 19,
   "metadata": {},
   "outputs": [
    {
     "ename": "NameError",
     "evalue": "name 'Paths' is not defined",
     "output_type": "error",
     "traceback": [
      "\u001b[0;31m--------------------------------------------------------------------------\u001b[0m",
      "\u001b[0;31mNameError\u001b[0m                                Traceback (most recent call last)",
      "\u001b[0;32m<ipython-input-19-4d1d90f22e87>\u001b[0m in \u001b[0;36m<module>\u001b[0;34m\u001b[0m\n\u001b[1;32m      1\u001b[0m \u001b[0;31m# x = [w,n,m,s,e,o]\u001b[0m\u001b[0;34m\u001b[0m\u001b[0;34m\u001b[0m\u001b[0;34m\u001b[0m\u001b[0m\n\u001b[1;32m      2\u001b[0m \u001b[0;31m# x = [0,1,2,3,4,5]\u001b[0m\u001b[0;34m\u001b[0m\u001b[0;34m\u001b[0m\u001b[0;34m\u001b[0m\u001b[0m\n\u001b[0;32m----> 3\u001b[0;31m \u001b[0mws\u001b[0m \u001b[0;34m=\u001b[0m \u001b[0mPaths\u001b[0m\u001b[0;34m[\u001b[0m\u001b[0;34m:\u001b[0m\u001b[0;34m,\u001b[0m\u001b[0;34m:\u001b[0m\u001b[0;34m,\u001b[0m\u001b[0;36m0\u001b[0m\u001b[0;34m]\u001b[0m\u001b[0;34m.\u001b[0m\u001b[0mT\u001b[0m\u001b[0;34m\u001b[0m\u001b[0;34m\u001b[0m\u001b[0m\n\u001b[0m\u001b[1;32m      4\u001b[0m \u001b[0mns\u001b[0m \u001b[0;34m=\u001b[0m \u001b[0mPaths\u001b[0m\u001b[0;34m[\u001b[0m\u001b[0;34m:\u001b[0m\u001b[0;34m,\u001b[0m\u001b[0;34m:\u001b[0m\u001b[0;34m,\u001b[0m\u001b[0;36m1\u001b[0m\u001b[0;34m]\u001b[0m\u001b[0;34m.\u001b[0m\u001b[0mT\u001b[0m\u001b[0;34m\u001b[0m\u001b[0;34m\u001b[0m\u001b[0m\n\u001b[1;32m      5\u001b[0m \u001b[0mms\u001b[0m \u001b[0;34m=\u001b[0m \u001b[0mPaths\u001b[0m\u001b[0;34m[\u001b[0m\u001b[0;34m:\u001b[0m\u001b[0;34m,\u001b[0m\u001b[0;34m:\u001b[0m\u001b[0;34m,\u001b[0m\u001b[0;36m2\u001b[0m\u001b[0;34m]\u001b[0m\u001b[0;34m.\u001b[0m\u001b[0mT\u001b[0m\u001b[0;34m\u001b[0m\u001b[0;34m\u001b[0m\u001b[0m\n",
      "\u001b[0;31mNameError\u001b[0m: name 'Paths' is not defined"
     ]
    }
   ],
   "source": [
    "# x = [w,n,m,s,e,o]\n",
    "# x = [0,1,2,3,4,5]\n",
    "ws = Paths[:,:,0].T\n",
    "ns = Paths[:,:,1].T\n",
    "ms = Paths[:,:,2].T\n",
    "ss = Paths[:,:,3].T\n",
    "es = Paths[:,:,4].T\n",
    "os = Paths[:,:,5].T\n",
    "cs = Moves[:,:,0].T\n",
    "bs = Moves[:,:,1].T\n",
    "ks = Moves[:,:,2].T\n",
    "hs = Moves[:,:,3].T"
   ]
  },
  {
   "cell_type": "code",
   "execution_count": null,
   "metadata": {},
   "outputs": [],
   "source": [
    "plt.figure(figsize = [16,8])\n",
    "plt.title(\"The mean values of simulation\")\n",
    "plt.plot(range(21, T_max-1 + 20),jnp.mean(ws + H*pt*os - ms,axis = 1)[:-1], label = \"wealth + home equity\")\n",
    "plt.plot(range(21, T_max-1 + 20),jnp.mean(ws,axis = 1)[:-1], label = \"wealth\")\n",
    "plt.plot(range(21, T_max-1 + 20),jnp.mean(cs,axis = 1)[:-1], label = \"consumption\")\n",
    "plt.plot(range(21, T_max-1 + 20),jnp.mean(bs,axis = 1)[:-1], label = \"bond\")\n",
    "plt.plot(range(21, T_max-1 + 20),jnp.mean(ks,axis = 1)[:-1], label = \"stock\")\n",
    "# plt.plot((hs*pr).mean(axis = 1)[:-1], label = \"housing\")\n",
    "plt.legend()"
   ]
  },
  {
   "cell_type": "code",
   "execution_count": null,
   "metadata": {},
   "outputs": [],
   "source": [
    "plt.title(\"housing consumption\")\n",
    "plt.plot(range(21, T_max-1 + 20),(hs).mean(axis = 1)[:-1], label = \"housing\")"
   ]
  },
  {
   "cell_type": "code",
   "execution_count": null,
   "metadata": {},
   "outputs": [],
   "source": [
    "plt.title(\"house owner percentage in the population\")\n",
    "plt.plot(range(21, T_max-1 + 20),(os).mean(axis = 1)[:-1], label = \"owning\")"
   ]
  },
  {
   "cell_type": "code",
   "execution_count": null,
   "metadata": {},
   "outputs": [],
   "source": [
    "plt.title(\"401k\")\n",
    "plt.plot(range(21, T_max-1 + 20),(ns).mean(axis = 1)[:-1], label = \"housing\")"
   ]
  },
  {
   "cell_type": "code",
   "execution_count": null,
   "metadata": {},
   "outputs": [],
   "source": [
    "# agent number, x = [w,n,m,s,e,o]\n",
    "agentNum = 136\n",
    "plt.figure(figsize = [16,8])\n",
    "plt.plot(range(21, T_max-1 + 20),ws[:,agentNum][:-1], label = \"wealth\")\n",
    "plt.plot(range(21, T_max-1 + 20),ns[:,agentNum][:-1], label = \"401k\")\n",
    "plt.plot(range(21, T_max-1 + 20),ms[:,agentNum][:-1], label = \"mortgage\")\n",
    "plt.plot(range(21, T_max-1 + 20),cs[:,agentNum][:-1], label = \"consumption\")\n",
    "plt.plot(range(21, T_max-1 + 20),bs[:,agentNum][:-1], label = \"bond\")\n",
    "plt.plot(range(21, T_max-1 + 20),ks[:,agentNum][:-1], label = \"stock\")\n",
    "plt.legend()"
   ]
  },
  {
   "cell_type": "code",
   "execution_count": null,
   "metadata": {},
   "outputs": [],
   "source": []
  }
 ],
 "metadata": {
  "kernelspec": {
   "display_name": "Python 3",
   "language": "python",
   "name": "python3"
  },
  "language_info": {
   "codemirror_mode": {
    "name": "ipython",
    "version": 3
   },
   "file_extension": ".py",
   "mimetype": "text/x-python",
   "name": "python",
   "nbconvert_exporter": "python",
   "pygments_lexer": "ipython3",
   "version": "3.7.6"
  }
 },
 "nbformat": 4,
 "nbformat_minor": 4
}
