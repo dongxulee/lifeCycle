{
 "cells": [
  {
   "cell_type": "code",
   "execution_count": 8,
   "metadata": {},
   "outputs": [],
   "source": [
    "import numpy as np\n",
    "import pandas as pd\n",
    "from scipy.optimize import minimize,minimize_scalar\n",
    "# constant variable definition \n",
    "beta = 1/(1+0.02)\n",
    "\n",
    "# States of the economy, GOOD or BAD, {1 : GOOD}, {0 : BAD}\n",
    "S = [0,1]\n",
    "# current risk free interest rate \n",
    "r_f = [0.01 ,0.03]\n",
    "# All the money amount are denoted in thousand dollars\n",
    "earningShock = [0.9,1.1]\n",
    "# Define transition matrix of economical states\n",
    "# GOOD -> GOOD 0.8, BAD -> BAD 0.6 \n",
    "P = np.array([[0.6, 0.4],[0.2, 0.8]])\n",
    "# time line\n",
    "T_min = 20\n",
    "T_max = 80\n",
    "T_y = 65\n",
    "T = T_max - T_min\n",
    "# All the money amount are denoted in thousand dollars\n",
    "earningShock = [0.9,1.1]\n",
    "# Define earning profile \n",
    "start = 4\n",
    "high = 12\n",
    "retire = 4\n",
    "y = np.append(np.linspace(4,12,T_y - T_min), np.linspace(12,4,T_max - T_y + 1)[1:])\n",
    "\n",
    "# Define the utility function \n",
    "def u(c):\n",
    "    return np.log(c)\n",
    "\n",
    "def chi(age, s):\n",
    "    start = 4\n",
    "    high = 12\n",
    "    retire = 4\n",
    "    y = np.append(np.linspace(4,12,T_y - T_min), np.linspace(12,4,T_max - T_y + 1)[1:])\n",
    "    return y[age-T_min-1]*earningShock[int(s)]\n",
    "\n",
    "# Define the transition of state \n",
    "def transition(Z, a):\n",
    "    '''\n",
    "        Input: Z is a tuple containing states variables: (w, s) which is the current wealth and econ state\n",
    "               a is the action taken with contains variables: (c, b) which is the combination of consumption, bond and stock\n",
    "        Output: the next possible states with corresponding probabilities\n",
    "    '''\n",
    "    w, s = Z\n",
    "    c, b = a\n",
    "    # collect possible next state (w_next, s_next) with probability prob\n",
    "    Z_next = []\n",
    "    prob = []\n",
    "    # depend on the current econ state s and future state s_next we have the following return on bond and stock \n",
    "    for s_next in S:\n",
    "        r_bond = r_f[int(s)]\n",
    "        w_next = b*(1+r_bond)\n",
    "        Z_next.append([w_next, s_next])\n",
    "        prob.append(P[int(s), s_next])\n",
    "    return np.array(Z_next), np.array(prob)\n",
    "\n",
    "# Definition of the value function, return of the funciton is the value of the function and the coresponding policy\n",
    "def V(w, s, t, model): \n",
    "    def obj(c):\n",
    "        b = chi(t,s) + w - c\n",
    "        if c <= 0 or b <= 0:\n",
    "            return 9999999999\n",
    "        else:\n",
    "            Z_next, prob = transition([w , s], (c, b))\n",
    "            V_next = np.array([model[int(z[1])](z[0]) for z in Z_next])\n",
    "            return -(u(c) + beta * np.dot(V_next, prob))\n",
    "    res = minimize_scalar(obj)\n",
    "    return [-res.fun, res.x, chi(t,s) + w-res.x]"
   ]
  },
  {
   "cell_type": "code",
   "execution_count": 9,
   "metadata": {},
   "outputs": [],
   "source": [
    "# Define the grid of wealth\n",
    "Nw = 500; \n",
    "w_min =  0; \n",
    "w_max = 200;\n",
    "wgrid = np.linspace(w_min,w_max, Nw)\n",
    "# Place holder for value and policy \n",
    "b_T = np.zeros((Nw, 2));\n",
    "c_T = np.zeros((Nw, 2));\n",
    "c_T[:, 0] = wgrid + chi(T_max,0);\n",
    "c_T[:, 1] = wgrid + chi(T_max,1);\n",
    "V_T = np.log(c_T);\n",
    "\n",
    "V_t = np.zeros((Nw,len(S),T))\n",
    "C_t = np.zeros((Nw,len(S),T))\n",
    "B_t = np.zeros((Nw,len(S),T))\n",
    "\n",
    "V_t[:,:,T-1] = V_T\n",
    "C_t[:,:,T-1] = c_T\n",
    "B_t[:,:,T-1] = b_T"
   ]
  },
  {
   "cell_type": "code",
   "execution_count": 10,
   "metadata": {},
   "outputs": [
    {
     "name": "stdout",
     "output_type": "stream",
     "text": [
      "78\n",
      "77\n",
      "76\n",
      "75\n",
      "74\n",
      "73\n",
      "72\n",
      "71\n"
     ]
    }
   ],
   "source": [
    "# Set value to the grid by backward induction \n",
    "from scipy.interpolate import interp1d\n",
    "from multiprocessing import Pool\n",
    "from functools import partial \n",
    "\n",
    "pool = Pool()\n",
    "\n",
    "for t in range(T_max-2, T_max-10, -1):\n",
    "    print(t)\n",
    "    tt = t-T_min\n",
    "    cs = [interp1d(wgrid, V_t[:,:,tt+1][:,0], kind = \"cubic\", fill_value=\"extrapolate\"),\n",
    "          interp1d(wgrid, V_t[:,:,tt+1][:,1], kind = \"cubic\", fill_value=\"extrapolate\")] \n",
    "    for s in S:\n",
    "        f = partial(V, s = s, t = t, model = cs)\n",
    "        results = np.array(pool.map(f, wgrid))\n",
    "        V_t[:,:,tt][:,s] = results[:,0]\n",
    "        C_t[:,:,tt][:,s] = results[:,1]\n",
    "        B_t[:,:,tt][:,s] = results[:,2]\n",
    "pool.close()"
   ]
  },
  {
   "cell_type": "code",
   "execution_count": 11,
   "metadata": {},
   "outputs": [
    {
     "name": "stdout",
     "output_type": "stream",
     "text": [
      "Populating the interactive namespace from numpy and matplotlib\n"
     ]
    },
    {
     "name": "stderr",
     "output_type": "stream",
     "text": [
      "/home/hfsluser/anaconda3/lib/python3.7/site-packages/IPython/core/magics/pylab.py:160: UserWarning: pylab import has clobbered these variables: ['beta', 'f']\n",
      "`%matplotlib` prevents importing * from pylab and numpy\n",
      "  \"\\n`%matplotlib` prevents importing * from pylab and numpy\"\n"
     ]
    },
    {
     "data": {
      "text/plain": [
       "[<matplotlib.lines.Line2D at 0x7fe77c569150>]"
      ]
     },
     "execution_count": 11,
     "metadata": {},
     "output_type": "execute_result"
    },
    {
     "data": {
      "image/png": "[encoded data removed]",
      "text/plain": [
       "<Figure size 432x288 with 1 Axes>"
      ]
     },
     "metadata": {
      "needs_background": "light"
     },
     "output_type": "display_data"
    }
   ],
   "source": [
    "%pylab inline\n",
    "plt.plot(cs[0](wgrid))"
   ]
  },
  {
   "cell_type": "code",
   "execution_count": 12,
   "metadata": {},
   "outputs": [
    {
     "name": "stdout",
     "output_type": "stream",
     "text": [
      "Populating the interactive namespace from numpy and matplotlib\n"
     ]
    },
    {
     "data": {
      "text/plain": [
       "[<matplotlib.lines.Line2D at 0x7fe77c4c4bd0>]"
      ]
     },
     "execution_count": 12,
     "metadata": {},
     "output_type": "execute_result"
    },
    {
     "data": {
      "image/png": "[encoded data removed]",
      "text/plain": [
       "<Figure size 432x288 with 1 Axes>"
      ]
     },
     "metadata": {
      "needs_background": "light"
     },
     "output_type": "display_data"
    }
   ],
   "source": [
    "%pylab inline\n",
    "plt.plot(cs[1](wgrid))"
   ]
  },
  {
   "cell_type": "code",
   "execution_count": 1,
   "metadata": {},
   "outputs": [
    {
     "name": "stdout",
     "output_type": "stream",
     "text": [
      "[[ 7.   2.   3. ]\n",
      " [ 4.   3.5  6. ]\n",
      " [10.   3.5  9. ]]\n"
     ]
    }
   ],
   "source": [
    "import numpy as np\n",
    "from sklearn.impute import SimpleImputer\n",
    "imp_mean = SimpleImputer(missing_values=np.nan, strategy='mean')\n",
    "imp_mean.fit([[7, 2, 3], [4, np.nan, 6], [10, 5, 9]])\n",
    "\n",
    "X = [[np.nan, 2, 3], [4, np.nan, 6], [10, np.nan, 9]]\n",
    "print(imp_mean.transform(X))"
   ]
  },
  {
   "cell_type": "code",
   "execution_count": 9,
   "metadata": {},
   "outputs": [],
   "source": [
    "X[0][1] = X[0][0]"
   ]
  },
  {
   "cell_type": "code",
   "execution_count": 10,
   "metadata": {},
   "outputs": [
    {
     "data": {
      "text/plain": [
       "[[nan, nan, 3], [4, nan, 6], [10, nan, 9]]"
      ]
     },
     "execution_count": 10,
     "metadata": {},
     "output_type": "execute_result"
    }
   ],
   "source": [
    "X"
   ]
  },
  {
   "cell_type": "code",
   "execution_count": 11,
   "metadata": {},
   "outputs": [
    {
     "name": "stdout",
     "output_type": "stream",
     "text": [
      "[[ 7.   3.5  3. ]\n",
      " [ 4.   3.5  6. ]\n",
      " [10.   3.5  9. ]]\n"
     ]
    }
   ],
   "source": [
    "print(imp_mean.transform(X))"
   ]
  },
  {
   "cell_type": "code",
   "execution_count": null,
   "metadata": {},
   "outputs": [],
   "source": []
  }
 ],
 "metadata": {
  "kernelspec": {
   "display_name": "Python 3",
   "language": "python",
   "name": "python3"
  },
  "language_info": {
   "codemirror_mode": {
    "name": "ipython",
    "version": 3
   },
   "file_extension": ".py",
   "mimetype": "text/x-python",
   "name": "python",
   "nbconvert_exporter": "python",
   "pygments_lexer": "ipython3",
   "version": "3.7.4"
  }
 },
 "nbformat": 4,
 "nbformat_minor": 2
}
