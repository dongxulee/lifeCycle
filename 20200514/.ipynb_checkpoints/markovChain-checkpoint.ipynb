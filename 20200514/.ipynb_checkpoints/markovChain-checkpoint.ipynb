{
 "cells": [
  {
   "cell_type": "code",
   "execution_count": 16,
   "metadata": {},
   "outputs": [],
   "source": [
    "import numpy as np\n",
    "import quantecon as qe\n",
    "def mc_sample_path(P, x0=None, sample_size=1000):\n",
    "\n",
    "    # set up\n",
    "    P = np.asarray(P)\n",
    "    X = np.empty(sample_size, dtype=int)\n",
    "\n",
    "    # Convert each row of P into a cdf\n",
    "    n = len(P)\n",
    "    P_dist = [np.cumsum(P[i, :]) for i in range(n)]\n",
    "\n",
    "    # draw initial state, defaulting to 0\n",
    "    if x0 is not None:\n",
    "        X_0 = qe.random.draw(np.cumsum(x0))\n",
    "    else:\n",
    "        X_0 = 0\n",
    "\n",
    "    # simulate\n",
    "    X[0] = X_0\n",
    "    for t in range(sample_size - 1):\n",
    "        X[t+1] = qe.random.draw(P_dist[X[t]])\n",
    "\n",
    "    return X"
   ]
  },
  {
   "cell_type": "code",
   "execution_count": 33,
   "metadata": {},
   "outputs": [],
   "source": [
    "# time line\n",
    "T_min = 15\n",
    "T_max = 80"
   ]
  },
  {
   "cell_type": "code",
   "execution_count": 38,
   "metadata": {},
   "outputs": [
    {
     "data": {
      "text/plain": [
       "array([0, 1, 1, 1, 1, 1, 1, 1, 0, 0, 1, 1, 1, 1, 1, 1, 1, 0, 1, 0, 0, 1,\n",
       "       1, 1, 1, 1, 1, 0, 1, 1, 1, 0, 1, 1, 1, 1, 1, 1, 0, 1, 1, 1, 0, 0,\n",
       "       1, 1, 0, 1, 1, 1, 1, 1, 1, 1, 1, 1, 0, 1, 1, 1, 1, 1, 1, 1, 1, 0])"
      ]
     },
     "execution_count": 38,
     "metadata": {},
     "output_type": "execute_result"
    }
   ],
   "source": [
    "P = np.array([[0.4, 0.6],[0.2, 0.8]])\n",
    "econState = mc_sample_path(P, sample_size=T_max-T_min+1)\n",
    "econState"
   ]
  },
  {
   "cell_type": "code",
   "execution_count": null,
   "metadata": {},
   "outputs": [],
   "source": [
    "# simulate an agent age 15 starting with wealth of 30\n",
    "wealth = 30\n",
    "Policy = Policy[::-1]"
   ]
  },
  {
   "cell_type": "code",
   "execution_count": null,
   "metadata": {},
   "outputs": [],
   "source": [
    "import numpy as np\n",
    "import matplotlib.pyplot as plt\n",
    "\n",
    "def action(Policy, t, w, s):\n",
    "    w_grid = np.linspace(w_lower, w_upper, num = w_grid_size)\n",
    "    index = np.where(np.isclose(w_grid, w))\n",
    "    if s == 0:\n",
    "        p = Policy[t][:w_grid_size]\n",
    "        return p[index]\n",
    "    else\n",
    "        p = Policy[t][w_grid_size:]\n",
    "        return p[index]\n",
    "    \n",
    "# Define the transtiion of state \n",
    "def fixTransition(w,s,s_next, a):\n",
    "    w, s = Z\n",
    "    c, b, k = a\n",
    "    # collect possible next state (w_next, s_next) with probability prob\n",
    "    Z_next = []\n",
    "    prob = []\n",
    "    # depend on the current econ state s and future state s_next we have the following return on bond and stock \n",
    "    r_bond = r_f[int(s)]\n",
    "    r_stock = r_m(s,s_next)\n",
    "    w_next = b*(1+r_bond) + k*(1+r_stock)\n",
    "    Z_next.append([w_next, s_next])\n",
    "    prob.append(P[int(s), s_next])\n",
    "    return w_next"
   ]
  },
  {
   "cell_type": "code",
   "execution_count": null,
   "metadata": {},
   "outputs": [],
   "source": [
    "w = 30 \n",
    "wealth = []\n",
    "C = []\n",
    "B = []\n",
    "K = []\n",
    "for t in range(len(econState)-1):\n",
    "    wealth.append(w)\n",
    "    s = econState[t]\n",
    "    s_next = econState[t+1]\n",
    "    a = policy(Policy, t, w, s)\n",
    "    \n",
    "    w = fixTransition(w,s,s_next, a)\n",
    "    "
   ]
  },
  {
   "cell_type": "code",
   "execution_count": null,
   "metadata": {},
   "outputs": [],
   "source": []
  }
 ],
 "metadata": {
  "kernelspec": {
   "display_name": "Python 3",
   "language": "python",
   "name": "python3"
  },
  "language_info": {
   "codemirror_mode": {
    "name": "ipython",
    "version": 3
   },
   "file_extension": ".py",
   "mimetype": "text/x-python",
   "name": "python",
   "nbconvert_exporter": "python",
   "pygments_lexer": "ipython3",
   "version": "3.7.4"
  }
 },
 "nbformat": 4,
 "nbformat_minor": 2
}
