{
 "cells": [
  {
   "cell_type": "code",
   "execution_count": 2,
   "metadata": {},
   "outputs": [
    {
     "name": "stdout",
     "output_type": "stream",
     "text": [
      "Populating the interactive namespace from numpy and matplotlib\n"
     ]
    }
   ],
   "source": [
    "%pylab inline \n",
    "import pandas as pd\n",
    "import numpy as np"
   ]
  },
  {
   "cell_type": "code",
   "execution_count": 3,
   "metadata": {
    "scrolled": true
   },
   "outputs": [
    {
     "data": {
      "text/plain": [
       "array([0.98828207, 0.986881  , 0.98568157, 0.98477179, 0.98408444,\n",
       "       0.98346398, 0.98280699, 0.98214304, 0.98144266, 0.98070591,\n",
       "       0.97995497, 0.97921927, 0.97847673, 0.97772003, 0.97696388,\n",
       "       0.97609828, 0.97513816, 0.97418624, 0.97324249, 0.97224116,\n",
       "       0.97106564, 0.96963635, 0.96793982, 0.96591924, 0.96354757,\n",
       "       0.9608778 , 0.95785464, 0.95435201, 0.95031767, 0.94577225,\n",
       "       0.94083612, 0.93553634, 0.9297738 , 0.92353596, 0.91685984,\n",
       "       0.90969997, 0.90218345, 0.89454917, 0.88689476, 0.87906873,\n",
       "       0.87050953, 0.86129715, 0.85202726, 0.84281219, 0.83325994,\n",
       "       0.82248918, 0.8102755 , 0.79702273, 0.78268864, 0.76694275,\n",
       "       0.74895781, 0.72875588, 0.70698773, 0.68374187, 0.6586057 ,\n",
       "       0.6303344 , 0.59924801, 0.56669902, 0.53306456, 0.49787087,\n",
       "       0.45973063, 0.41937498, 0.37879578, 0.33867486, 0.29885913,\n",
       "       0.25929479, 0.22041799, 0.18307063, 0.14827566, 0.11698081,\n",
       "       0.        ])"
      ]
     },
     "execution_count": 3,
     "metadata": {},
     "output_type": "execute_result"
    }
   ],
   "source": [
    "prob = np.load(\"prob.npy\")\n",
    "prob"
   ]
  },
  {
   "cell_type": "code",
   "execution_count": 3,
   "metadata": {},
   "outputs": [
    {
     "data": {
      "text/plain": [
       "array([ 35.        ,  37.16666667,  39.33333333,  41.5       ,\n",
       "        43.66666667,  45.83333333,  48.        ,  50.16666667,\n",
       "        52.33333333,  54.5       ,  56.66666667,  58.83333333,\n",
       "        61.        ,  63.16666667,  65.33333333,  67.5       ,\n",
       "        69.66666667,  71.83333333,  74.        ,  76.16666667,\n",
       "        78.33333333,  80.5       ,  82.66666667,  84.83333333,\n",
       "        87.        ,  89.16666667,  91.33333333,  93.5       ,\n",
       "        95.66666667,  97.83333333, 100.        ,  97.        ,\n",
       "        94.        ,  91.        ,  88.        ,  85.        ,\n",
       "        82.        ,  79.        ,  76.        ,  73.        ,\n",
       "        70.        ,  63.        ,  56.        ,  49.        ,\n",
       "        42.        ,  35.        ,  35.        ,  35.        ,\n",
       "        35.        ,  35.        ,  35.        ,  35.        ,\n",
       "        35.        ,  35.        ,  35.        ,  35.        ,\n",
       "        35.        ,  35.        ,  35.        ,  35.        ,\n",
       "        35.        ,  35.        ,  35.        ,  35.        ,\n",
       "        35.        ,  35.        ,  35.        ,  35.        ,\n",
       "        35.        ,  35.        ,  35.        ])"
      ]
     },
     "execution_count": 3,
     "metadata": {},
     "output_type": "execute_result"
    }
   ],
   "source": [
    "det = np.load(\"detEarning.npy\")\n",
    "det"
   ]
  },
  {
   "cell_type": "code",
   "execution_count": 5,
   "metadata": {},
   "outputs": [
    {
     "data": {
      "text/plain": [
       "2616.0531797955164"
      ]
     },
     "execution_count": 5,
     "metadata": {},
     "output_type": "execute_result"
    }
   ],
   "source": [
    "sum([det[i]*((1+0.02)**(30-i)) for i in range(30)])"
   ]
  },
  {
   "cell_type": "code",
   "execution_count": null,
   "metadata": {},
   "outputs": [],
   "source": []
  },
  {
   "cell_type": "code",
   "execution_count": null,
   "metadata": {},
   "outputs": [],
   "source": []
  },
  {
   "cell_type": "code",
   "execution_count": null,
   "metadata": {},
   "outputs": [],
   "source": []
  },
  {
   "cell_type": "code",
   "execution_count": null,
   "metadata": {},
   "outputs": [],
   "source": []
  },
  {
   "cell_type": "code",
   "execution_count": null,
   "metadata": {},
   "outputs": [],
   "source": []
  },
  {
   "cell_type": "code",
   "execution_count": null,
   "metadata": {},
   "outputs": [],
   "source": []
  },
  {
   "cell_type": "code",
   "execution_count": 1,
   "metadata": {},
   "outputs": [
    {
     "data": {
      "text/plain": [
       "87.09119999999999"
      ]
     },
     "execution_count": 1,
     "metadata": {},
     "output_type": "execute_result"
    }
   ],
   "source": [
    "35*(1.2**5)"
   ]
  },
  {
   "cell_type": "code",
   "execution_count": 7,
   "metadata": {},
   "outputs": [
    {
     "data": {
      "text/plain": [
       "71"
      ]
     },
     "execution_count": 7,
     "metadata": {},
     "output_type": "execute_result"
    }
   ],
   "source": [
    "len(det)"
   ]
  },
  {
   "cell_type": "code",
   "execution_count": 13,
   "metadata": {},
   "outputs": [
    {
     "data": {
      "text/plain": [
       "156.875"
      ]
     },
     "execution_count": 13,
     "metadata": {},
     "output_type": "execute_result"
    }
   ],
   "source": [
    "sum(det[:45])*0.05"
   ]
  },
  {
   "cell_type": "code",
   "execution_count": 12,
   "metadata": {},
   "outputs": [
    {
     "data": {
      "text/plain": [
       "array([ 35.        ,  37.16666667,  39.33333333,  41.5       ,\n",
       "        43.66666667,  45.83333333,  48.        ,  50.16666667,\n",
       "        52.33333333,  54.5       ,  56.66666667,  58.83333333,\n",
       "        61.        ,  63.16666667,  65.33333333,  67.5       ,\n",
       "        69.66666667,  71.83333333,  74.        ,  76.16666667,\n",
       "        78.33333333,  80.5       ,  82.66666667,  84.83333333,\n",
       "        87.        ,  89.16666667,  91.33333333,  93.5       ,\n",
       "        95.66666667,  97.83333333, 100.        ,  97.        ,\n",
       "        94.        ,  91.        ,  88.        ,  85.        ,\n",
       "        82.        ,  79.        ,  76.        ,  73.        ,\n",
       "        70.        ,  63.        ,  56.        ,  49.        ,\n",
       "        42.        ,  35.        ,  35.        ,  35.        ,\n",
       "        35.        ,  35.        ,  35.        ,  35.        ,\n",
       "        35.        ,  35.        ,  35.        ,  35.        ,\n",
       "        35.        ,  35.        ,  35.        ,  35.        ,\n",
       "        35.        ,  35.        ,  35.        ,  35.        ,\n",
       "        35.        ,  35.        ,  35.        ,  35.        ,\n",
       "        35.        ,  35.        ,  35.        ])"
      ]
     },
     "execution_count": 12,
     "metadata": {},
     "output_type": "execute_result"
    }
   ],
   "source": [
    "det"
   ]
  },
  {
   "cell_type": "code",
   "execution_count": 2,
   "metadata": {},
   "outputs": [],
   "source": [
    "import random"
   ]
  },
  {
   "cell_type": "code",
   "execution_count": 10,
   "metadata": {
    "scrolled": true
   },
   "outputs": [
    {
     "name": "stdout",
     "output_type": "stream",
     "text": [
      "Populating the interactive namespace from numpy and matplotlib\n"
     ]
    }
   ],
   "source": [
    "%pylab inline\n",
    "import numpy as np\n",
    "import pandas as pd\n",
    "from scipy.interpolate import interp1d\n",
    "from multiprocessing import Pool\n",
    "from functools import partial \n",
    "from pyswarm import pso\n",
    "import warnings\n",
    "warnings.filterwarnings(\"ignore\")\n",
    "np.printoptions(precision=2)\n",
    "# time line\n",
    "T_min = 0\n",
    "T_max = 70\n",
    "T_R = 45\n",
    "beta = 1/(1+0.02)\n",
    "# All the money amount are denoted in thousand dollars\n",
    "earningShock = [0.8,1.2]\n",
    "# Define transition matrix of economical states\n",
    "# GOOD -> GOOD 0.8, BAD -> BAD 0.6 \n",
    "Ps = np.array([[0.6, 0.4],[0.2, 0.8]])\n",
    "# current risk free interest rate \n",
    "r_f = np.array([0.01 ,0.03])\n",
    "# stock return depends on current and future econ states\n",
    "r_m = np.array([[-0.2, 0.15],[-0.15, 0.2]])\n",
    "# probability of survival\n",
    "Pa = np.load(\"prob.npy\")\n",
    "# probability of employment transition \n",
    "Pe = np.array([[[[0.3, 0.7], [0.1, 0.9]], [[0.25, 0.75], [0.05, 0.95]]],\n",
    "               [[[0.25, 0.75], [0.05, 0.95]], [[0.2, 0.8], [0.01, 0.99]]]])\n",
    "# deterministic income\n",
    "detEarning = np.load(\"detEarning.npy\")\n",
    "# tax rate \n",
    "tau_L = 0.2\n",
    "tau_R = 0.1\n",
    "# minimum consumption\n",
    "c_bar = 3"
   ]
  },
  {
   "cell_type": "code",
   "execution_count": 18,
   "metadata": {},
   "outputs": [
    {
     "data": {
      "text/plain": [
       "13.008380275151591"
      ]
     },
     "execution_count": 18,
     "metadata": {},
     "output_type": "execute_result"
    }
   ],
   "source": [
    "t = 30\n",
    "r_bar = 0.0667\n",
    "N = int(np.sum(Pa[t:]))\n",
    "discouting = ((1+r_bar)**N - 1)/(((1+r_bar)**N - (1+r_bar)**(N-1)))\n",
    "discouting"
   ]
  },
  {
   "cell_type": "code",
   "execution_count": 8,
   "metadata": {},
   "outputs": [],
   "source": [
    "# Define the transtiion of state \n",
    "def transition(x, a, t, s_next):\n",
    "    '''\n",
    "        Input: x current state: (w, n, s, A) \n",
    "               a action taken: (c, b, k)\n",
    "        Output: the next possible states with corresponding probabilities\n",
    "    '''\n",
    "    c, b, k = a\n",
    "    w, s, e, A = x\n",
    "    \n",
    "    x_next = []\n",
    "    prob_next = []\n",
    "    if A == 0:\n",
    "        for s_next in [0, 1]:\n",
    "            x_next.append([0, s_next, 0, 0])\n",
    "        return np.array(x_next), Ps[int(s)]\n",
    "    else:\n",
    "        # A = 1, agent is still alive and for the next period\n",
    "        Pat = [1-Pa[t], Pa[t]]\n",
    "        r_bond = r_f[int(s)]\n",
    "        r_stock = r_m[int(s), s_next]\n",
    "        w_next =  b*(1+r_bond) + k*(1+r_stock)\n",
    "        for e_next in [0,1]:\n",
    "            for A_next in [0,1]:\n",
    "                x_next.append([w_next, s_next, e_next, A_next])\n",
    "                prob_next.append(Pat[A_next] * Pe[int(s),s_next,int(e),e_next])\n",
    "    return x_next[np.random.choice(4, 1, p = prob_next)]"
   ]
  },
  {
   "cell_type": "code",
   "execution_count": 166,
   "metadata": {},
   "outputs": [],
   "source": [
    "x_possible_next, next_prob = transition([100,0,0,1], [10,10,10], 20, 0)"
   ]
  },
  {
   "cell_type": "code",
   "execution_count": 235,
   "metadata": {},
   "outputs": [
    {
     "data": {
      "text/plain": [
       "array([[18.1,  0. ,  1. ,  1. ]])"
      ]
     },
     "execution_count": 235,
     "metadata": {},
     "output_type": "execute_result"
    }
   ],
   "source": [
    "x_possible_next[(np.random.choice(4, 1, p=next_prob))]"
   ]
  },
  {
   "cell_type": "code",
   "execution_count": 3,
   "metadata": {},
   "outputs": [],
   "source": [
    "import numpy as np"
   ]
  },
  {
   "cell_type": "code",
   "execution_count": 14,
   "metadata": {
    "scrolled": true
   },
   "outputs": [
    {
     "data": {
      "text/plain": [
       "array([[[[[1, 0, 0, 0],\n",
       "          [1, 0, 0, 1]],\n",
       "\n",
       "         [[1, 0, 1, 0],\n",
       "          [1, 0, 1, 1]]],\n",
       "\n",
       "\n",
       "        [[[1, 1, 0, 0],\n",
       "          [1, 1, 0, 1]],\n",
       "\n",
       "         [[1, 1, 1, 0],\n",
       "          [1, 1, 1, 1]]]],\n",
       "\n",
       "\n",
       "\n",
       "       [[[[2, 0, 0, 0],\n",
       "          [2, 0, 0, 1]],\n",
       "\n",
       "         [[2, 0, 1, 0],\n",
       "          [2, 0, 1, 1]]],\n",
       "\n",
       "\n",
       "        [[[2, 1, 0, 0],\n",
       "          [2, 1, 0, 1]],\n",
       "\n",
       "         [[2, 1, 1, 0],\n",
       "          [2, 1, 1, 1]]]],\n",
       "\n",
       "\n",
       "\n",
       "       [[[[3, 0, 0, 0],\n",
       "          [3, 0, 0, 1]],\n",
       "\n",
       "         [[3, 0, 1, 0],\n",
       "          [3, 0, 1, 1]]],\n",
       "\n",
       "\n",
       "        [[[3, 1, 0, 0],\n",
       "          [3, 1, 0, 1]],\n",
       "\n",
       "         [[3, 1, 1, 0],\n",
       "          [3, 1, 1, 1]]]],\n",
       "\n",
       "\n",
       "\n",
       "       [[[[4, 0, 0, 0],\n",
       "          [4, 0, 0, 1]],\n",
       "\n",
       "         [[4, 0, 1, 0],\n",
       "          [4, 0, 1, 1]]],\n",
       "\n",
       "\n",
       "        [[[4, 1, 0, 0],\n",
       "          [4, 1, 0, 1]],\n",
       "\n",
       "         [[4, 1, 1, 0],\n",
       "          [4, 1, 1, 1]]]]])"
      ]
     },
     "execution_count": 14,
     "metadata": {},
     "output_type": "execute_result"
    }
   ],
   "source": [
    "ww = [1,2,3,4]\n",
    "a = np.array([[w,s,e,A]for w in ww for s in [0, 1] for e in [0,1] for A in [0,1]])\n",
    "a.reshape((4,2,2,2,4))"
   ]
  },
  {
   "cell_type": "code",
   "execution_count": 15,
   "metadata": {
    "scrolled": false
   },
   "outputs": [
    {
     "data": {
      "text/plain": [
       "array([[[[1, 2],\n",
       "         [2, 3]],\n",
       "\n",
       "        [[2, 3],\n",
       "         [3, 4]]],\n",
       "\n",
       "\n",
       "       [[[2, 3],\n",
       "         [3, 4]],\n",
       "\n",
       "        [[3, 4],\n",
       "         [4, 5]]],\n",
       "\n",
       "\n",
       "       [[[3, 4],\n",
       "         [4, 5]],\n",
       "\n",
       "        [[4, 5],\n",
       "         [5, 6]]],\n",
       "\n",
       "\n",
       "       [[[4, 5],\n",
       "         [5, 6]],\n",
       "\n",
       "        [[5, 6],\n",
       "         [6, 7]]]])"
      ]
     },
     "execution_count": 15,
     "metadata": {},
     "output_type": "execute_result"
    }
   ],
   "source": [
    "a.sum(axis = 1).reshape(4,2,2,2)"
   ]
  },
  {
   "cell_type": "code",
   "execution_count": null,
   "metadata": {},
   "outputs": [],
   "source": [
    "a.sum(axis = 1).reshape((4,2))"
   ]
  },
  {
   "cell_type": "code",
   "execution_count": null,
   "metadata": {},
   "outputs": [],
   "source": []
  },
  {
   "cell_type": "code",
   "execution_count": null,
   "metadata": {},
   "outputs": [],
   "source": []
  },
  {
   "cell_type": "code",
   "execution_count": null,
   "metadata": {},
   "outputs": [],
   "source": []
  },
  {
   "cell_type": "code",
   "execution_count": null,
   "metadata": {},
   "outputs": [],
   "source": []
  },
  {
   "cell_type": "code",
   "execution_count": 15,
   "metadata": {},
   "outputs": [],
   "source": [
    "def demo_func(x):\n",
    "    x1, x2, x3 = x\n",
    "    return x1 ** 2 + (x2 - 0.05) ** 2 + x3 ** 2"
   ]
  },
  {
   "cell_type": "code",
   "execution_count": 24,
   "metadata": {},
   "outputs": [
    {
     "name": "stdout",
     "output_type": "stream",
     "text": [
      "best_x is  [0.   0.05 0.5 ] best_y is 0.25\n"
     ]
    }
   ],
   "source": [
    "from sko.PSO import PSO\n",
    "\n",
    "pso = PSO(func=demo_func, dim=3, pop=40, max_iter=150, lb=[0, -1, 0.5], ub=[1, 1, 1], w=0.8, c1=0.5, c2=0.5)\n",
    "pso.run()\n",
    "print('best_x is ', pso.gbest_x, 'best_y is', pso.gbest_y)"
   ]
  },
  {
   "cell_type": "code",
   "execution_count": 21,
   "metadata": {},
   "outputs": [
    {
     "data": {
      "text/plain": [
       "array([0.  , 0.05, 0.5 ])"
      ]
     },
     "execution_count": 21,
     "metadata": {},
     "output_type": "execute_result"
    }
   ],
   "source": [
    "pso.gbest_x"
   ]
  },
  {
   "cell_type": "code",
   "execution_count": 14,
   "metadata": {},
   "outputs": [
    {
     "data": {
      "text/plain": [
       "0.25"
      ]
     },
     "execution_count": 14,
     "metadata": {},
     "output_type": "execute_result"
    }
   ],
   "source": [
    "pso.gbest_y"
   ]
  },
  {
   "cell_type": "code",
   "execution_count": null,
   "metadata": {},
   "outputs": [],
   "source": []
  },
  {
   "cell_type": "code",
   "execution_count": null,
   "metadata": {},
   "outputs": [],
   "source": []
  },
  {
   "cell_type": "code",
   "execution_count": null,
   "metadata": {},
   "outputs": [],
   "source": []
  },
  {
   "cell_type": "code",
   "execution_count": null,
   "metadata": {},
   "outputs": [],
   "source": []
  },
  {
   "cell_type": "code",
   "execution_count": null,
   "metadata": {},
   "outputs": [],
   "source": []
  },
  {
   "cell_type": "code",
   "execution_count": null,
   "metadata": {},
   "outputs": [],
   "source": []
  },
  {
   "cell_type": "code",
   "execution_count": null,
   "metadata": {},
   "outputs": [],
   "source": []
  }
 ],
 "metadata": {
  "kernelspec": {
   "display_name": "Python 3",
   "language": "python",
   "name": "python3"
  },
  "language_info": {
   "codemirror_mode": {
    "name": "ipython",
    "version": 3
   },
   "file_extension": ".py",
   "mimetype": "text/x-python",
   "name": "python",
   "nbconvert_exporter": "python",
   "pygments_lexer": "ipython3",
   "version": "3.7.4"
  }
 },
 "nbformat": 4,
 "nbformat_minor": 2
}
